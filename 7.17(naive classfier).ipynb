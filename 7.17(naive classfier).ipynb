{
 "cells": [
  {
   "cell_type": "code",
   "execution_count": 4,
   "metadata": {},
   "outputs": [],
   "source": [
    "import pandas as pd\n",
    "import os"
   ]
  },
  {
   "cell_type": "code",
   "execution_count": 5,
   "metadata": {},
   "outputs": [
    {
     "data": {
      "text/plain": [
       "'C:\\\\Users\\\\student\\\\Documents\\\\Daikoku_Python'"
      ]
     },
     "execution_count": 5,
     "metadata": {},
     "output_type": "execute_result"
    }
   ],
   "source": [
    "os.getcwd()"
   ]
  },
  {
   "cell_type": "code",
   "execution_count": 6,
   "metadata": {},
   "outputs": [],
   "source": [
    "df = pd.read_excel('9_spam.xlsx')"
   ]
  },
  {
   "cell_type": "code",
   "execution_count": 7,
   "metadata": {},
   "outputs": [
    {
     "data": {
      "text/html": [
       "<div>\n",
       "<style scoped>\n",
       "    .dataframe tbody tr th:only-of-type {\n",
       "        vertical-align: middle;\n",
       "    }\n",
       "\n",
       "    .dataframe tbody tr th {\n",
       "        vertical-align: top;\n",
       "    }\n",
       "\n",
       "    .dataframe thead th {\n",
       "        text-align: right;\n",
       "    }\n",
       "</style>\n",
       "<table border=\"1\" class=\"dataframe\">\n",
       "  <thead>\n",
       "    <tr style=\"text-align: right;\">\n",
       "      <th></th>\n",
       "      <th>mail</th>\n",
       "      <th>label</th>\n",
       "    </tr>\n",
       "  </thead>\n",
       "  <tbody>\n",
       "    <tr>\n",
       "      <th>0</th>\n",
       "      <td>me free lottery</td>\n",
       "      <td>1</td>\n",
       "    </tr>\n",
       "    <tr>\n",
       "      <th>1</th>\n",
       "      <td>free get free you</td>\n",
       "      <td>1</td>\n",
       "    </tr>\n",
       "    <tr>\n",
       "      <th>2</th>\n",
       "      <td>you free scholarship</td>\n",
       "      <td>0</td>\n",
       "    </tr>\n",
       "    <tr>\n",
       "      <th>3</th>\n",
       "      <td>free to contact me</td>\n",
       "      <td>0</td>\n",
       "    </tr>\n",
       "    <tr>\n",
       "      <th>4</th>\n",
       "      <td>you won award</td>\n",
       "      <td>0</td>\n",
       "    </tr>\n",
       "    <tr>\n",
       "      <th>5</th>\n",
       "      <td>you ticket lottery</td>\n",
       "      <td>1</td>\n",
       "    </tr>\n",
       "  </tbody>\n",
       "</table>\n",
       "</div>"
      ],
      "text/plain": [
       "                   mail  label\n",
       "0       me free lottery      1\n",
       "1     free get free you      1\n",
       "2  you free scholarship      0\n",
       "3    free to contact me      0\n",
       "4         you won award      0\n",
       "5    you ticket lottery      1"
      ]
     },
     "execution_count": 7,
     "metadata": {},
     "output_type": "execute_result"
    }
   ],
   "source": [
    "df"
   ]
  },
  {
   "cell_type": "markdown",
   "metadata": {},
   "source": [
    "# Naive Bayes Classifier"
   ]
  },
  {
   "cell_type": "code",
   "execution_count": 9,
   "metadata": {},
   "outputs": [],
   "source": [
    "from collections import defaultdict\n",
    "import numpy as np\n",
    "import math"
   ]
  },
  {
   "cell_type": "code",
   "execution_count": 10,
   "metadata": {},
   "outputs": [
    {
     "name": "stdout",
     "output_type": "stream",
     "text": [
      "[['me free lottery' 1]\n",
      " ['free get free you' 1]\n",
      " ['you free scholarship' 0]\n",
      " ['free to contact me' 0]\n",
      " ['you won award' 0]\n",
      " ['you ticket lottery' 1]]\n"
     ]
    }
   ],
   "source": [
    "k = 0.5 # for laplace smoothing : 확률이 0인 경우를 곱하여 전체 식이 무너지는 것을 막기위함\n",
    "\n",
    "input_file = df\n",
    "traing_set = np.array(input_file)\n",
    "print(traing_set)"
   ]
  },
  {
   "cell_type": "markdown",
   "metadata": {},
   "source": [
    "### 토큰 빈도수 및 문서별 토큰 수 계산"
   ]
  },
  {
   "cell_type": "code",
   "execution_count": 28,
   "metadata": {},
   "outputs": [
    {
     "name": "stdout",
     "output_type": "stream",
     "text": [
      "defaultdict(<function <lambda> at 0x000000000961B840>, {'me': [1, 1], 'free': [3, 2], 'lottery': [2, 0], 'get': [1, 0], 'you': [2, 2], 'scholarship': [0, 1], 'to': [0, 1], 'contact': [0, 1], 'won': [0, 1], 'award': [0, 1], 'ticket': [1, 0]})\n"
     ]
    }
   ],
   "source": [
    "# 범주에 속하는 토큰 수 세기 1(예, 긍정) 0 (예. 부정)\n",
    "doccnt1 = 0\n",
    "doccnt0 = 0\n",
    "\n",
    "# 토큰별로 문서내 빈도수 카운팅\n",
    "wordfreq = defaultdict(lambda : [0, 0])\n",
    "for doc, point in traing_set:\n",
    "    words = doc.split()\n",
    "    for word in words:\n",
    "        if point == 1:\n",
    "            wordfreq[word][0] += 1\n",
    "        else:\n",
    "            wordfreq[word][1] += 1\n",
    "\n",
    "for key, (cnt1, cnt0) in wordfreq.items():\n",
    "    if cnt1 > 0 :\n",
    "        doccnt1 += 1\n",
    "    if cnt0 > 0 :\n",
    "        doccnt0 += 1\n",
    "        \n",
    "print(wordfreq)"
   ]
  },
  {
   "cell_type": "markdown",
   "metadata": {},
   "source": [
    "## 코드 이해"
   ]
  },
  {
   "cell_type": "markdown",
   "metadata": {},
   "source": [
    "##### numpy의 이용  \n",
    " - 판다스는 데이터를 출력하면 시리즈형식으로 출력\n",
    " - numpy로 바꿔서 for문을 사용하면 원래 형식의 데이터로 출력 가능"
   ]
  },
  {
   "cell_type": "code",
   "execution_count": 22,
   "metadata": {},
   "outputs": [
    {
     "data": {
      "text/plain": [
       "array([[ 0,  1,  2,  3],\n",
       "       [ 4,  5,  6,  7],\n",
       "       [ 8,  9, 10, 11]])"
      ]
     },
     "execution_count": 22,
     "metadata": {},
     "output_type": "execute_result"
    }
   ],
   "source": [
    "b = np.arange(12).reshape(3,-1)\n",
    "b"
   ]
  },
  {
   "cell_type": "code",
   "execution_count": 27,
   "metadata": {},
   "outputs": [
    {
     "name": "stdout",
     "output_type": "stream",
     "text": [
      "0\n",
      "1\n",
      "2\n",
      "3\n",
      "4\n",
      "5\n",
      "6\n",
      "7\n",
      "8\n",
      "9\n",
      "10\n",
      "11\n"
     ]
    }
   ],
   "source": [
    "for x, y, z, w in b:\n",
    "    print(x)\n",
    "    print(y)\n",
    "    print(z)\n",
    "    print(w)"
   ]
  },
  {
   "cell_type": "code",
   "execution_count": 19,
   "metadata": {},
   "outputs": [
    {
     "name": "stdout",
     "output_type": "stream",
     "text": [
      "me free lottery\n",
      "<class 'str'>\n",
      "1\n",
      "<class 'int'>\n",
      "free get free you\n",
      "<class 'str'>\n",
      "1\n",
      "<class 'int'>\n",
      "you free scholarship\n",
      "<class 'str'>\n",
      "0\n",
      "<class 'int'>\n",
      "free to contact me\n",
      "<class 'str'>\n",
      "0\n",
      "<class 'int'>\n",
      "you won award\n",
      "<class 'str'>\n",
      "0\n",
      "<class 'int'>\n",
      "you ticket lottery\n",
      "<class 'str'>\n",
      "1\n",
      "<class 'int'>\n"
     ]
    }
   ],
   "source": [
    "for doc, point in traing_set:\n",
    "    print(doc)\n",
    "    print(type(doc))\n",
    "    print(point)\n",
    "    print(type(point))"
   ]
  },
  {
   "cell_type": "markdown",
   "metadata": {},
   "source": [
    "- defaultdict(lambda : [0, 0])"
   ]
  },
  {
   "cell_type": "markdown",
   "metadata": {},
   "source": [
    "1. defaultdict의 사용"
   ]
  },
  {
   "cell_type": "code",
   "execution_count": 36,
   "metadata": {},
   "outputs": [
    {
     "name": "stdout",
     "output_type": "stream",
     "text": [
      "[1, 0]\n",
      "[0, 1]\n",
      "defaultdict(<function <lambda> at 0x000000000961BD08>, {'b': [1, 0], 'c': [0, 1]})\n"
     ]
    }
   ],
   "source": [
    "a = defaultdict(lambda : [0, 0])\n",
    "a['b'][0] += 1\n",
    "a['c'][1] += 1\n",
    "print(a['b'])\n",
    "print(a['c'])\n",
    "print(a)"
   ]
  },
  {
   "cell_type": "markdown",
   "metadata": {},
   "source": [
    "2. .items"
   ]
  },
  {
   "cell_type": "code",
   "execution_count": 44,
   "metadata": {},
   "outputs": [
    {
     "name": "stdout",
     "output_type": "stream",
     "text": [
      "defaultdict(<function <lambda> at 0x000000000961BD08>, {'b': [1, 0], 'c': [0, 1]})\n",
      "dict_items([('b', [1, 0]), ('c', [0, 1])])\n",
      "b 1 0\n",
      "c 0 1\n"
     ]
    }
   ],
   "source": [
    "print(a)\n",
    "print(a.items())\n",
    "for x, (y, z) in a.items():\n",
    "    print(x, y, z)"
   ]
  },
  {
   "cell_type": "code",
   "execution_count": null,
   "metadata": {},
   "outputs": [],
   "source": []
  },
  {
   "cell_type": "markdown",
   "metadata": {},
   "source": [
    "### Traing : 토큰별 조건부 확률 계산"
   ]
  },
  {
   "cell_type": "code",
   "execution_count": 13,
   "metadata": {},
   "outputs": [
    {
     "name": "stdout",
     "output_type": "stream",
     "text": [
      "defaultdict(<function <lambda> at 0x000000000961B7B8>, {'me': [0.21428571428571427, 0.16666666666666666], 'free': [0.5, 0.2777777777777778], 'lottery': [0.35714285714285715, 0.05555555555555555], 'get': [0.21428571428571427, 0.05555555555555555], 'you': [0.35714285714285715, 0.2777777777777778], 'scholarship': [0.07142857142857142, 0.16666666666666666], 'to': [0.07142857142857142, 0.16666666666666666], 'contact': [0.07142857142857142, 0.16666666666666666], 'won': [0.07142857142857142, 0.16666666666666666], 'award': [0.07142857142857142, 0.16666666666666666], 'ticket': [0.21428571428571427, 0.05555555555555555]})\n"
     ]
    }
   ],
   "source": [
    "wordprobs = defaultdict( lambda : [0, 0])\n",
    "for key, (cnt1, cnt0) in wordfreq.items() :\n",
    "    wordprobs[key][0] = (cnt1 + k) / (doccnt1 + 2*k)\n",
    "    wordprobs[key][1] = (cnt0 + k) / (doccnt0 + 2*k)\n",
    "\n",
    "print(wordprobs)"
   ]
  },
  {
   "cell_type": "code",
   "execution_count": null,
   "metadata": {},
   "outputs": [],
   "source": []
  },
  {
   "cell_type": "markdown",
   "metadata": {},
   "source": [
    "### 신규 텍스트가 주어졌을 때 확률 계산"
   ]
  },
  {
   "cell_type": "code",
   "execution_count": 14,
   "metadata": {},
   "outputs": [
    {
     "name": "stdout",
     "output_type": "stream",
     "text": [
      "free lottery\n",
      "스팸확률 : 89.64758762435878%\n",
      "정상확률 : 10.352412375641222%\n"
     ]
    }
   ],
   "source": [
    "doc = 'free lottery'\n",
    "tokens = doc.split()\n",
    "\n",
    "# 초기값은 모두 0으로 처리\n",
    "log_prob1 = log_prob0 = 0.0\n",
    "\n",
    "# 모든 단어에 대해 반복\n",
    "for word, (prob1, prob0) in wordprobs.items():\n",
    "    if word in tokens:\n",
    "        log_prob1 += math.log(prob1)\n",
    "        log_prob0 += math.log(prob0)\n",
    "        \n",
    "    else:\n",
    "        log_prob1 += math.log(1.0 - prob1)\n",
    "        log_prob0 += math.log(1.0 - prob0)\n",
    "        \n",
    "log_prob1 += math.log(doccnt1/len(wordfreq))\n",
    "log_prob0 += math.log(doccnt0/len(wordfreq))\n",
    "\n",
    "prob1 = math.exp(log_prob1)\n",
    "prob0 = math.exp(log_prob0)\n",
    "\n",
    "print(doc)\n",
    "print('스팸확률 : {}%'.format(prob1 / (prob1 + prob0) * 100))\n",
    "print('정상확률 : {}%'.format(prob0 / (prob1 + prob0) * 100))\n"
   ]
  },
  {
   "cell_type": "code",
   "execution_count": null,
   "metadata": {},
   "outputs": [],
   "source": []
  }
 ],
 "metadata": {
  "kernelspec": {
   "display_name": "Python 3",
   "language": "python",
   "name": "python3"
  },
  "language_info": {
   "codemirror_mode": {
    "name": "ipython",
    "version": 3
   },
   "file_extension": ".py",
   "mimetype": "text/x-python",
   "name": "python",
   "nbconvert_exporter": "python",
   "pygments_lexer": "ipython3",
   "version": "3.7.3"
  }
 },
 "nbformat": 4,
 "nbformat_minor": 2
}
