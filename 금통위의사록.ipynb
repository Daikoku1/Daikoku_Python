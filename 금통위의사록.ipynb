{
 "cells": [
  {
   "cell_type": "code",
   "execution_count": 1,
   "metadata": {},
   "outputs": [],
   "source": [
    "import requests\n",
    "from bs4 import BeautifulSoup\n",
    "from PyPDF2 import PdfFileReader\n",
    "import PyPDF2"
   ]
  },
  {
   "cell_type": "code",
   "execution_count": 2,
   "metadata": {},
   "outputs": [],
   "source": [
    "def getTextPDF(pdfFileName, Password = ''):\n",
    "    pdf_file = open(pdfFileName, 'rb')\n",
    "    read_pdf = PdfFileReader(pdf_file)\n",
    "    if Password !='':\n",
    "        read_pdf.decrypt(Password)\n",
    "    text = []\n",
    "    for i in range(0, read_pdf.getNumPages()):\n",
    "        text.append(read_pdf.getPage(i).extractText())\n",
    "        \n",
    "    return '\\n'.join(text)"
   ]
  },
  {
   "cell_type": "code",
   "execution_count": 3,
   "metadata": {},
   "outputs": [],
   "source": [
    "from urllib import request\n",
    "from PyPDF2 import pdf"
   ]
  },
  {
   "cell_type": "code",
   "execution_count": 26,
   "metadata": {
    "scrolled": false
   },
   "outputs": [
    {
     "name": "stdout",
     "output_type": "stream",
     "text": [
      "1\n",
      "2\n",
      "3\n",
      "4\n",
      "5\n",
      "6\n",
      "7\n",
      "8\n",
      "9\n",
      "10\n",
      "11\n",
      "12\n",
      "13\n",
      "14\n",
      "15\n",
      "16\n",
      "17\n",
      "18\n",
      "19\n",
      "20\n",
      "21\n",
      "22\n",
      "23\n",
      "24\n",
      "25\n",
      "26\n",
      "27\n",
      "28\n",
      "29\n",
      "30\n",
      "31\n",
      "32\n",
      "33\n",
      "34\n",
      "35\n",
      "36\n",
      "37\n",
      "38\n",
      "39\n",
      "40\n",
      "41\n",
      "42\n",
      "43\n",
      "44\n"
     ]
    }
   ],
   "source": [
    "result_list = []\n",
    "for i in range(1, 45):\n",
    "    b_url = 'http://www.bok.or.kr/portal/bbs/B0000245/list.do?menuNo=200761'\n",
    "    params = {\n",
    "    'pageIndex' : i\n",
    "    }\n",
    "    resp = requests.get(b_url, params = params)\n",
    "    soup = BeautifulSoup(resp.content)\n",
    "    li_list = []\n",
    "    li= soup.find('div', class_='bdLine type2').find('ul').find('li')\n",
    "    li_li = li.find_next_siblings('li')\n",
    "    li_list.append(li)\n",
    "    li_list.extend(li_li)\n",
    "    \n",
    "#     print(len(li_list))\n",
    "#     print(li_list)\n",
    "    print(i)\n",
    "    for x in range(0, len(li_list)):\n",
    "\n",
    "        try:\n",
    "            link = li_list[x].find('div', class_='fileGoupBox').find('ul').find('li').find('a').attrs['href']\n",
    "\n",
    "            url2 = 'http://www.bok.or.kr' + link\n",
    "            file_res = requests.get(url2)\n",
    "\n",
    "            with open('file_{}p,{}.pdf'.format(i,x), 'wb') as f:\n",
    "                f.write(file_res.content)\n",
    "        \n",
    "        except:\n",
    "            link2 = li_list[x].find('div').find('div').find('a').attrs['href']\n",
    "#             print(link2)\n",
    "            url3 = 'http://www.bok.or.kr' + link2\n",
    "            file_res2 = requests.get(url3)\n",
    "            \n",
    "            with open('file_{}p,{}.hwp'.format(i,x), 'wb') as f:\n",
    "                f.write(file_res.content)\n"
   ]
  }
 ],
 "metadata": {
  "kernelspec": {
   "display_name": "Python 3",
   "language": "python",
   "name": "python3"
  },
  "language_info": {
   "codemirror_mode": {
    "name": "ipython",
    "version": 3
   },
   "file_extension": ".py",
   "mimetype": "text/x-python",
   "name": "python",
   "nbconvert_exporter": "python",
   "pygments_lexer": "ipython3",
   "version": "3.7.3"
  }
 },
 "nbformat": 4,
 "nbformat_minor": 2
}
