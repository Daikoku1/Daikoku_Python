{
 "cells": [
  {
   "cell_type": "markdown",
   "metadata": {},
   "source": [
    "# GIS (Geographic Information System or Science)\n",
    "\n",
    "* 지리공간데이터를 생성/편집/저장/분석/시각화하기 위한 모든 Science\n",
    "\n",
    "#### Geographic\n",
    "* 지표상에 있는 모든 지리(地理)적 사상(Feature)\n",
    "\n",
    "#### Information\n",
    "* 디지털화된 데이터\n",
    "\n",
    "#### System / Science\n",
    "* 지리공간데이터를 처리하기 위한 모든 기법/방법"
   ]
  },
  {
   "cell_type": "markdown",
   "metadata": {},
   "source": [
    "# GeoPandas\n",
    "\n",
    "* `python`으로 지리공간데이터(Geospatial Data)를 다루기 위한 오픈소스 라이브러리\n",
    "* `pandas`를 확장한 라이브러리\n",
    "* `python`에는 다양한 지리공간데이터를 처리할 수 있는 라이브러리들이 존재 (ex:  `GDAL/OGR`, `shapely`, `fiona`, `descrates`)\n",
    "    * `GeoPandas`는 내부적으로 `shapely`, `fiona`, `descrates`, `matplotlib`에 의존"
   ]
  },
  {
   "cell_type": "code",
   "execution_count": 1,
   "metadata": {},
   "outputs": [],
   "source": [
    "# GeoPandas설치하기\n",
    "# !pip3 install geopandas"
   ]
  },
  {
   "cell_type": "code",
   "execution_count": 2,
   "metadata": {},
   "outputs": [],
   "source": [
    "# _01 라이브러리 추가하기\n",
    "import geopandas as gpd"
   ]
  },
  {
   "cell_type": "markdown",
   "metadata": {},
   "source": [
    "# Reading data\n",
    "- `GeoPandas`는 vector 타입의 대부분 포맷 들을 읽을 수 있습니다.\n",
    "    - `shp`, `geojson`, `GML`, `KML`..."
   ]
  },
  {
   "cell_type": "code",
   "execution_count": 3,
   "metadata": {},
   "outputs": [],
   "source": [
    "# _02 서울시 행정동 .shp파일\n",
    "file_path = './data/seoul_h_dong.shp'\n",
    "\n",
    "# _03 지도 파일을 불러와 GeoDataFrame 생성하기\n",
    "gdf = gpd.read_file(file_path)"
   ]
  },
  {
   "cell_type": "code",
   "execution_count": 4,
   "metadata": {},
   "outputs": [
    {
     "data": {
      "text/html": [
       "<div>\n",
       "<style scoped>\n",
       "    .dataframe tbody tr th:only-of-type {\n",
       "        vertical-align: middle;\n",
       "    }\n",
       "\n",
       "    .dataframe tbody tr th {\n",
       "        vertical-align: top;\n",
       "    }\n",
       "\n",
       "    .dataframe thead th {\n",
       "        text-align: right;\n",
       "    }\n",
       "</style>\n",
       "<table border=\"1\" class=\"dataframe\">\n",
       "  <thead>\n",
       "    <tr style=\"text-align: right;\">\n",
       "      <th></th>\n",
       "      <th>SGG_NM</th>\n",
       "      <th>DONG_NM</th>\n",
       "      <th>SGG_CODE</th>\n",
       "      <th>SEDAE</th>\n",
       "      <th>SEDAE_INGU</th>\n",
       "      <th>TOTAL_POP</th>\n",
       "      <th>MALE_POP</th>\n",
       "      <th>FEMALE_POP</th>\n",
       "      <th>65_OVER</th>\n",
       "      <th>geometry</th>\n",
       "    </tr>\n",
       "  </thead>\n",
       "  <tbody>\n",
       "    <tr>\n",
       "      <th>0</th>\n",
       "      <td>종로구</td>\n",
       "      <td>사직동</td>\n",
       "      <td>11110</td>\n",
       "      <td>4414</td>\n",
       "      <td>2.14</td>\n",
       "      <td>9717</td>\n",
       "      <td>4467</td>\n",
       "      <td>5250</td>\n",
       "      <td>1708</td>\n",
       "      <td>POLYGON ((197958.449 552900.684, 197971.141 55...</td>\n",
       "    </tr>\n",
       "    <tr>\n",
       "      <th>1</th>\n",
       "      <td>종로구</td>\n",
       "      <td>삼청동</td>\n",
       "      <td>11110</td>\n",
       "      <td>1414</td>\n",
       "      <td>2.06</td>\n",
       "      <td>3097</td>\n",
       "      <td>1459</td>\n",
       "      <td>1638</td>\n",
       "      <td>634</td>\n",
       "      <td>POLYGON ((198471.244 555055.390, 198531.565 55...</td>\n",
       "    </tr>\n",
       "    <tr>\n",
       "      <th>2</th>\n",
       "      <td>종로구</td>\n",
       "      <td>부암동</td>\n",
       "      <td>11110</td>\n",
       "      <td>4325</td>\n",
       "      <td>2.39</td>\n",
       "      <td>10726</td>\n",
       "      <td>5160</td>\n",
       "      <td>5566</td>\n",
       "      <td>1748</td>\n",
       "      <td>POLYGON ((197867.379 555221.862, 197667.351 55...</td>\n",
       "    </tr>\n",
       "    <tr>\n",
       "      <th>3</th>\n",
       "      <td>종로구</td>\n",
       "      <td>평창동</td>\n",
       "      <td>11110</td>\n",
       "      <td>7510</td>\n",
       "      <td>2.53</td>\n",
       "      <td>19163</td>\n",
       "      <td>9032</td>\n",
       "      <td>10131</td>\n",
       "      <td>3037</td>\n",
       "      <td>POLYGON ((197799.834 559086.753, 197924.336 55...</td>\n",
       "    </tr>\n",
       "    <tr>\n",
       "      <th>4</th>\n",
       "      <td>종로구</td>\n",
       "      <td>무악동</td>\n",
       "      <td>11110</td>\n",
       "      <td>3024</td>\n",
       "      <td>2.75</td>\n",
       "      <td>8375</td>\n",
       "      <td>3921</td>\n",
       "      <td>4454</td>\n",
       "      <td>1279</td>\n",
       "      <td>POLYGON ((196526.290 553472.425, 196714.981 55...</td>\n",
       "    </tr>\n",
       "  </tbody>\n",
       "</table>\n",
       "</div>"
      ],
      "text/plain": [
       "  SGG_NM DONG_NM SGG_CODE  SEDAE  SEDAE_INGU  TOTAL_POP  MALE_POP  FEMALE_POP  \\\n",
       "0    종로구     사직동    11110   4414        2.14       9717      4467        5250   \n",
       "1    종로구     삼청동    11110   1414        2.06       3097      1459        1638   \n",
       "2    종로구     부암동    11110   4325        2.39      10726      5160        5566   \n",
       "3    종로구     평창동    11110   7510        2.53      19163      9032       10131   \n",
       "4    종로구     무악동    11110   3024        2.75       8375      3921        4454   \n",
       "\n",
       "   65_OVER                                           geometry  \n",
       "0     1708  POLYGON ((197958.449 552900.684, 197971.141 55...  \n",
       "1      634  POLYGON ((198471.244 555055.390, 198531.565 55...  \n",
       "2     1748  POLYGON ((197867.379 555221.862, 197667.351 55...  \n",
       "3     3037  POLYGON ((197799.834 559086.753, 197924.336 55...  \n",
       "4     1279  POLYGON ((196526.290 553472.425, 196714.981 55...  "
      ]
     },
     "execution_count": 4,
     "metadata": {},
     "output_type": "execute_result"
    }
   ],
   "source": [
    "# _04 데이터 확인하기\n",
    "gdf.head()"
   ]
  },
  {
   "cell_type": "code",
   "execution_count": 5,
   "metadata": {},
   "outputs": [
    {
     "name": "stdout",
     "output_type": "stream",
     "text": [
      "<class 'geopandas.geodataframe.GeoDataFrame'>\n",
      "RangeIndex: 424 entries, 0 to 423\n",
      "Data columns (total 10 columns):\n",
      " #   Column      Non-Null Count  Dtype   \n",
      "---  ------      --------------  -----   \n",
      " 0   SGG_NM      424 non-null    object  \n",
      " 1   DONG_NM     424 non-null    object  \n",
      " 2   SGG_CODE    424 non-null    object  \n",
      " 3   SEDAE       424 non-null    int64   \n",
      " 4   SEDAE_INGU  424 non-null    float64 \n",
      " 5   TOTAL_POP   424 non-null    int64   \n",
      " 6   MALE_POP    424 non-null    int64   \n",
      " 7   FEMALE_POP  424 non-null    int64   \n",
      " 8   65_OVER     424 non-null    int64   \n",
      " 9   geometry    424 non-null    geometry\n",
      "dtypes: float64(1), geometry(1), int64(5), object(3)\n",
      "memory usage: 33.2+ KB\n"
     ]
    }
   ],
   "source": [
    "# _05 Dataframe 개요정보 확인하기\n",
    "gdf.info()"
   ]
  },
  {
   "cell_type": "code",
   "execution_count": 6,
   "metadata": {},
   "outputs": [
    {
     "data": {
      "text/html": [
       "<div>\n",
       "<style scoped>\n",
       "    .dataframe tbody tr th:only-of-type {\n",
       "        vertical-align: middle;\n",
       "    }\n",
       "\n",
       "    .dataframe tbody tr th {\n",
       "        vertical-align: top;\n",
       "    }\n",
       "\n",
       "    .dataframe thead th {\n",
       "        text-align: right;\n",
       "    }\n",
       "</style>\n",
       "<table border=\"1\" class=\"dataframe\">\n",
       "  <thead>\n",
       "    <tr style=\"text-align: right;\">\n",
       "      <th></th>\n",
       "      <th>SEDAE</th>\n",
       "      <th>SEDAE_INGU</th>\n",
       "      <th>TOTAL_POP</th>\n",
       "      <th>MALE_POP</th>\n",
       "      <th>FEMALE_POP</th>\n",
       "      <th>65_OVER</th>\n",
       "    </tr>\n",
       "  </thead>\n",
       "  <tbody>\n",
       "    <tr>\n",
       "      <th>count</th>\n",
       "      <td>424.000000</td>\n",
       "      <td>424.000000</td>\n",
       "      <td>424.000000</td>\n",
       "      <td>424.000000</td>\n",
       "      <td>424.000000</td>\n",
       "      <td>424.000000</td>\n",
       "    </tr>\n",
       "    <tr>\n",
       "      <th>mean</th>\n",
       "      <td>9953.023585</td>\n",
       "      <td>2.338137</td>\n",
       "      <td>23878.724057</td>\n",
       "      <td>11693.058962</td>\n",
       "      <td>12185.665094</td>\n",
       "      <td>3219.636792</td>\n",
       "    </tr>\n",
       "    <tr>\n",
       "      <th>std</th>\n",
       "      <td>3889.031075</td>\n",
       "      <td>0.348433</td>\n",
       "      <td>9431.363644</td>\n",
       "      <td>4594.843032</td>\n",
       "      <td>4866.509822</td>\n",
       "      <td>1279.225377</td>\n",
       "    </tr>\n",
       "    <tr>\n",
       "      <th>min</th>\n",
       "      <td>365.000000</td>\n",
       "      <td>1.350000</td>\n",
       "      <td>905.000000</td>\n",
       "      <td>450.000000</td>\n",
       "      <td>455.000000</td>\n",
       "      <td>114.000000</td>\n",
       "    </tr>\n",
       "    <tr>\n",
       "      <th>25%</th>\n",
       "      <td>7358.250000</td>\n",
       "      <td>2.127500</td>\n",
       "      <td>17607.250000</td>\n",
       "      <td>8669.750000</td>\n",
       "      <td>9028.500000</td>\n",
       "      <td>2340.750000</td>\n",
       "    </tr>\n",
       "    <tr>\n",
       "      <th>50%</th>\n",
       "      <td>9723.000000</td>\n",
       "      <td>2.330000</td>\n",
       "      <td>23178.000000</td>\n",
       "      <td>11361.500000</td>\n",
       "      <td>11732.500000</td>\n",
       "      <td>3107.000000</td>\n",
       "    </tr>\n",
       "    <tr>\n",
       "      <th>75%</th>\n",
       "      <td>12395.000000</td>\n",
       "      <td>2.542500</td>\n",
       "      <td>29671.000000</td>\n",
       "      <td>14559.000000</td>\n",
       "      <td>14998.000000</td>\n",
       "      <td>3965.500000</td>\n",
       "    </tr>\n",
       "    <tr>\n",
       "      <th>max</th>\n",
       "      <td>25214.000000</td>\n",
       "      <td>3.420000</td>\n",
       "      <td>55569.000000</td>\n",
       "      <td>26975.000000</td>\n",
       "      <td>29079.000000</td>\n",
       "      <td>7244.000000</td>\n",
       "    </tr>\n",
       "  </tbody>\n",
       "</table>\n",
       "</div>"
      ],
      "text/plain": [
       "              SEDAE  SEDAE_INGU     TOTAL_POP      MALE_POP    FEMALE_POP  \\\n",
       "count    424.000000  424.000000    424.000000    424.000000    424.000000   \n",
       "mean    9953.023585    2.338137  23878.724057  11693.058962  12185.665094   \n",
       "std     3889.031075    0.348433   9431.363644   4594.843032   4866.509822   \n",
       "min      365.000000    1.350000    905.000000    450.000000    455.000000   \n",
       "25%     7358.250000    2.127500  17607.250000   8669.750000   9028.500000   \n",
       "50%     9723.000000    2.330000  23178.000000  11361.500000  11732.500000   \n",
       "75%    12395.000000    2.542500  29671.000000  14559.000000  14998.000000   \n",
       "max    25214.000000    3.420000  55569.000000  26975.000000  29079.000000   \n",
       "\n",
       "           65_OVER  \n",
       "count   424.000000  \n",
       "mean   3219.636792  \n",
       "std    1279.225377  \n",
       "min     114.000000  \n",
       "25%    2340.750000  \n",
       "50%    3107.000000  \n",
       "75%    3965.500000  \n",
       "max    7244.000000  "
      ]
     },
     "execution_count": 6,
     "metadata": {},
     "output_type": "execute_result"
    }
   ],
   "source": [
    "# _07 Dataframe 통계정보 확인하기\n",
    "gdf.describe()"
   ]
  },
  {
   "cell_type": "code",
   "execution_count": 7,
   "metadata": {},
   "outputs": [
    {
     "data": {
      "text/plain": [
       "23878.724056603773"
      ]
     },
     "execution_count": 7,
     "metadata": {},
     "output_type": "execute_result"
    }
   ],
   "source": [
    "# _08 평균값 가져오기\n",
    "gdf['TOTAL_POP'].mean()"
   ]
  },
  {
   "cell_type": "code",
   "execution_count": 8,
   "metadata": {},
   "outputs": [
    {
     "name": "stdout",
     "output_type": "stream",
     "text": [
      "<class 'geopandas.geodataframe.GeoDataFrame'>\n",
      "<class 'pandas.core.series.Series'>\n",
      "<class 'geopandas.geoseries.GeoSeries'>\n"
     ]
    }
   ],
   "source": [
    "# _10 GeoPandas 데이터구조 확인하기\n",
    "# GeoPandas Data Structure - GeoDataFrame / Series / GeoSeries\n",
    "print(type(gdf))\n",
    "print(type(gdf['DONG_NM']))\n",
    "print(type(gdf['geometry']))"
   ]
  },
  {
   "cell_type": "markdown",
   "metadata": {},
   "source": [
    "# GeoSeries 알아보기\n",
    "* Pandas의 Series + Geometry\n",
    "## GeoSeries 속성(Attributes)\n",
    "* geom_type\n",
    "    * Points / Multi-Points\n",
    "    * Lines / Multi-Lines\n",
    "    * Polygons / Multi-Polygons\n",
    "* area\n",
    "* bounds\n",
    "* total_bounds"
   ]
  },
  {
   "cell_type": "code",
   "execution_count": 9,
   "metadata": {},
   "outputs": [
    {
     "data": {
      "text/plain": [
       "0    Polygon\n",
       "1    Polygon\n",
       "2    Polygon\n",
       "3    Polygon\n",
       "4    Polygon\n",
       "5    Polygon\n",
       "6    Polygon\n",
       "7    Polygon\n",
       "8    Polygon\n",
       "9    Polygon\n",
       "dtype: object"
      ]
     },
     "execution_count": 9,
     "metadata": {},
     "output_type": "execute_result"
    }
   ],
   "source": [
    "# _11 geometry type 확인하기\n",
    "gdf['geometry'].geom_type[:10]"
   ]
  },
  {
   "cell_type": "code",
   "execution_count": 10,
   "metadata": {},
   "outputs": [
    {
     "data": {
      "image/svg+xml": "<svg xmlns=\"http://www.w3.org/2000/svg\" xmlns:xlink=\"http://www.w3.org/1999/xlink\" width=\"300\" height=\"300\" viewBox=\"196664.33708650593 552022.669678184 1357.447911933501 1367.395359597751\" preserveAspectRatio=\"xMinYMin meet\"><g transform=\"matrix(1,0,0,-1,0,1105412.7347159656)\"><path fill-rule=\"evenodd\" fill=\"#66cc99\" stroke=\"#555555\" stroke-width=\"9.115969063985006\" opacity=\"0.6\" d=\"M 197958.4491577554,552900.6843211155 L 197971.14072586174,552184.1123524397 L 197877.52059645994,552199.8705089501 L 197824.51220588048,552197.5831753515 L 197732.38809654687,552191.6403721836 L 197265.57930575244,552073.3139507617 L 197221.11211223912,552099.2180676005 L 197053.74292993586,552217.3646784354 L 197021.22235715218,552240.5816862687 L 197004.936064223,552257.8767512648 L 196972.3686070026,552294.229088402 L 196989.90730560425,552309.1916655769 L 196997.37230805957,552445.6591680065 L 196789.77468437853,552848.2103652554 L 196739.19582296166,552993.764776159 L 196717.56019392892,553013.2702196955 L 196714.9813590836,553322.6210887851 L 197122.54122677125,553339.420765204 L 197122.30272344803,553301.9049769004 L 197123.03289744144,553294.0308140318 L 197125.41214778746,553269.9091362057 L 197179.17518955146,553189.0388562792 L 197257.69806532306,553154.4376006247 L 197280.46389781,553154.4342124134 L 197298.28710881426,553175.0528147675 L 197320.37520449125,553220.5523418686 L 197320.62921799783,553243.3125067883 L 197320.77571780758,553271.8003177046 L 197320.84409618835,553285.0798237997 L 197341.61544250924,553306.0751599241 L 197469.4742792764,553329.5119628768 L 197687.4089091411,553313.783708161 L 197696.04747293313,553215.5489861605 L 197698.00586750783,553188.1738929916 L 197732.54971459124,552911.7448990903 L 197862.59972573962,552900.5629869966 L 197958.4491577554,552900.6843211155 z\" /></g></svg>",
      "text/plain": [
       "<shapely.geometry.polygon.Polygon at 0x1961cc4c520>"
      ]
     },
     "execution_count": 10,
     "metadata": {},
     "output_type": "execute_result"
    }
   ],
   "source": [
    "# _12 Polygon(Geometry) 확인하기 \n",
    "gdf['geometry'][0]"
   ]
  },
  {
   "cell_type": "code",
   "execution_count": 11,
   "metadata": {},
   "outputs": [
    {
     "data": {
      "text/plain": [
       "<AxesSubplot:>"
      ]
     },
     "execution_count": 11,
     "metadata": {},
     "output_type": "execute_result"
    },
    {
     "data": {
      "image/png": "[encoded data removed]",
      "text/plain": [
       "<Figure size 432x288 with 1 Axes>"
      ]
     },
     "metadata": {
      "needs_background": "light"
     },
     "output_type": "display_data"
    }
   ],
   "source": [
    "gdf['geometry'][0:10].plot()"
   ]
  },
  {
   "cell_type": "code",
   "execution_count": 12,
   "metadata": {},
   "outputs": [
    {
     "data": {
      "text/plain": [
       "0    1.165780e+06\n",
       "1    1.361445e+06\n",
       "2    2.202073e+06\n",
       "3    9.017316e+06\n",
       "4    4.675752e+05\n",
       "dtype: float64"
      ]
     },
     "execution_count": 12,
     "metadata": {},
     "output_type": "execute_result"
    }
   ],
   "source": [
    "# _13 GeoSeries 면적 계산하기\n",
    "gdf['geometry'].area[:5]"
   ]
  },
  {
   "cell_type": "code",
   "execution_count": 13,
   "metadata": {},
   "outputs": [
    {
     "name": "stdout",
     "output_type": "stream",
     "text": [
      "1165779.6434216234\n",
      "<class 'numpy.float64'>\n"
     ]
    }
   ],
   "source": [
    "# 사직동 면적 1.23 km2 \n",
    "area = gdf['geometry'].area[0]\n",
    "print(area)\n",
    "print(type(area))"
   ]
  },
  {
   "cell_type": "code",
   "execution_count": 14,
   "metadata": {},
   "outputs": [],
   "source": [
    "# _15 좌표체계 확인하기\n",
    "# 실제 데이터는 중부원점(GRS80) / EPSG:5186 입니다.\n",
    "gdf.crs"
   ]
  },
  {
   "cell_type": "code",
   "execution_count": 15,
   "metadata": {},
   "outputs": [
    {
     "data": {
      "text/html": [
       "<div>\n",
       "<style scoped>\n",
       "    .dataframe tbody tr th:only-of-type {\n",
       "        vertical-align: middle;\n",
       "    }\n",
       "\n",
       "    .dataframe tbody tr th {\n",
       "        vertical-align: top;\n",
       "    }\n",
       "\n",
       "    .dataframe thead th {\n",
       "        text-align: right;\n",
       "    }\n",
       "</style>\n",
       "<table border=\"1\" class=\"dataframe\">\n",
       "  <thead>\n",
       "    <tr style=\"text-align: right;\">\n",
       "      <th></th>\n",
       "      <th>minx</th>\n",
       "      <th>miny</th>\n",
       "      <th>maxx</th>\n",
       "      <th>maxy</th>\n",
       "    </tr>\n",
       "  </thead>\n",
       "  <tbody>\n",
       "    <tr>\n",
       "      <th>0</th>\n",
       "      <td>196714.981359</td>\n",
       "      <td>552073.313951</td>\n",
       "      <td>197971.140726</td>\n",
       "      <td>553339.420765</td>\n",
       "    </tr>\n",
       "    <tr>\n",
       "      <th>1</th>\n",
       "      <td>197667.350764</td>\n",
       "      <td>552886.757958</td>\n",
       "      <td>199070.532651</td>\n",
       "      <td>555221.862405</td>\n",
       "    </tr>\n",
       "    <tr>\n",
       "      <th>2</th>\n",
       "      <td>195827.437507</td>\n",
       "      <td>553807.003187</td>\n",
       "      <td>197867.379010</td>\n",
       "      <td>556387.087748</td>\n",
       "    </tr>\n",
       "    <tr>\n",
       "      <th>3</th>\n",
       "      <td>195583.723664</td>\n",
       "      <td>555055.371189</td>\n",
       "      <td>198917.474288</td>\n",
       "      <td>559186.620547</td>\n",
       "    </tr>\n",
       "    <tr>\n",
       "      <th>4</th>\n",
       "      <td>195897.493788</td>\n",
       "      <td>552602.691416</td>\n",
       "      <td>196717.560194</td>\n",
       "      <td>553572.333845</td>\n",
       "    </tr>\n",
       "  </tbody>\n",
       "</table>\n",
       "</div>"
      ],
      "text/plain": [
       "            minx           miny           maxx           maxy\n",
       "0  196714.981359  552073.313951  197971.140726  553339.420765\n",
       "1  197667.350764  552886.757958  199070.532651  555221.862405\n",
       "2  195827.437507  553807.003187  197867.379010  556387.087748\n",
       "3  195583.723664  555055.371189  198917.474288  559186.620547\n",
       "4  195897.493788  552602.691416  196717.560194  553572.333845"
      ]
     },
     "execution_count": 15,
     "metadata": {},
     "output_type": "execute_result"
    }
   ],
   "source": [
    "# _16 GeoSeries bbox가져오기\n",
    "gdf['geometry'].bounds[:5]"
   ]
  },
  {
   "cell_type": "code",
   "execution_count": 16,
   "metadata": {},
   "outputs": [
    {
     "data": {
      "text/plain": [
       "array([179171.58071505, 536627.30404374, 216220.74149712, 566821.94693283])"
      ]
     },
     "execution_count": 16,
     "metadata": {},
     "output_type": "execute_result"
    }
   ],
   "source": [
    "# _17 지도 전체 bbox가져오기\n",
    "gdf['geometry'].total_bounds"
   ]
  },
  {
   "cell_type": "code",
   "execution_count": null,
   "metadata": {},
   "outputs": [],
   "source": []
  },
  {
   "cell_type": "markdown",
   "metadata": {},
   "source": [
    "## GeoSeries Method\n",
    "* Basic Method\n",
    "    * centroid\n",
    "    * distance()\n",
    "    * representative_point()\n",
    "    * to_crs()\n",
    "    * plot()\n",
    "* Relationship Test\n",
    "    * geom_almost_equals()\n",
    "    * contains()\n",
    "    * intersects()"
   ]
  },
  {
   "cell_type": "code",
   "execution_count": 17,
   "metadata": {},
   "outputs": [
    {
     "data": {
      "text/plain": [
       "0    POINT (197362.562 552729.621)\n",
       "1    POINT (198331.945 554272.676)\n",
       "2    POINT (196693.345 555237.149)\n",
       "3    POINT (197287.223 557153.268)\n",
       "4    POINT (196377.356 553133.185)\n",
       "dtype: geometry"
      ]
     },
     "execution_count": 17,
     "metadata": {},
     "output_type": "execute_result"
    }
   ],
   "source": [
    "# _18 폴리곤 중심점 \n",
    "gdf['geometry'].centroid[:5]"
   ]
  },
  {
   "cell_type": "code",
   "execution_count": 18,
   "metadata": {},
   "outputs": [
    {
     "data": {
      "text/plain": [
       "0    POINT (197428.258 552646.935)\n",
       "1    POINT (198437.810 554051.788)\n",
       "2    POINT (196966.953 555083.693)\n",
       "3    POINT (197247.540 557169.933)\n",
       "4    POINT (196364.627 553114.951)\n",
       "dtype: geometry"
      ]
     },
     "execution_count": 18,
     "metadata": {},
     "output_type": "execute_result"
    }
   ],
   "source": [
    "# _19 폴리곤 내 Point\n",
    "# 폴리곤 안에 있음 == True, but 중심점임을 확신할 수 없음\n",
    "gdf['geometry'].representative_point()[:5]"
   ]
  },
  {
   "cell_type": "code",
   "execution_count": 19,
   "metadata": {},
   "outputs": [
    {
     "data": {
      "text/plain": [
       "1822.2849209513395"
      ]
     },
     "execution_count": 19,
     "metadata": {},
     "output_type": "execute_result"
    }
   ],
   "source": [
    "# _20 두 포인트 사이 거리 계산하기\n",
    "start_point = gdf['geometry'].centroid[0]\n",
    "end_point = gdf['geometry'].centroid[1]\n",
    "\n",
    "start_point.distance(end_point)"
   ]
  },
  {
   "cell_type": "code",
   "execution_count": 20,
   "metadata": {},
   "outputs": [
    {
     "data": {
      "text/plain": [
       "<AxesSubplot:>"
      ]
     },
     "execution_count": 20,
     "metadata": {},
     "output_type": "execute_result"
    },
    {
     "data": {
      "image/png": "[encoded data removed]",
      "text/plain": [
       "<Figure size 432x288 with 1 Axes>"
      ]
     },
     "metadata": {
      "needs_background": "light"
     },
     "output_type": "display_data"
    }
   ],
   "source": [
    "# _21 지도 그리기\n",
    "%matplotlib inline\n",
    "gdf.plot()"
   ]
  },
  {
   "cell_type": "code",
   "execution_count": 21,
   "metadata": {},
   "outputs": [
    {
     "data": {
      "text/plain": [
       "'geometry'"
      ]
     },
     "execution_count": 21,
     "metadata": {},
     "output_type": "execute_result"
    }
   ],
   "source": [
    "# _22 현재 위치정보(좌표)가 저장된 GeoSeries명 확인하기 - gemetry name확인\n",
    "gdf.geometry.name"
   ]
  },
  {
   "cell_type": "code",
   "execution_count": 22,
   "metadata": {},
   "outputs": [
    {
     "ename": "AttributeError",
     "evalue": "No geometry data set yet (expected in column 'geometry'.)",
     "output_type": "error",
     "traceback": [
      "\u001b[1;31m---------------------------------------------------------------------------\u001b[0m",
      "\u001b[1;31mAttributeError\u001b[0m                            Traceback (most recent call last)",
      "\u001b[1;32m~\\AppData\\Local\\Temp/ipykernel_12240/1032074203.py\u001b[0m in \u001b[0;36m<module>\u001b[1;34m\u001b[0m\n\u001b[0;32m      1\u001b[0m \u001b[1;31m# _23 컬럼명 변경하기\u001b[0m\u001b[1;33m\u001b[0m\u001b[1;33m\u001b[0m\u001b[0m\n\u001b[0;32m      2\u001b[0m \u001b[0mgdf\u001b[0m \u001b[1;33m=\u001b[0m \u001b[0mgdf\u001b[0m\u001b[1;33m.\u001b[0m\u001b[0mrename\u001b[0m\u001b[1;33m(\u001b[0m\u001b[0mcolumns\u001b[0m\u001b[1;33m=\u001b[0m\u001b[1;33m{\u001b[0m\u001b[1;34m'geometry'\u001b[0m\u001b[1;33m:\u001b[0m \u001b[1;34m'geom'\u001b[0m\u001b[1;33m}\u001b[0m\u001b[1;33m)\u001b[0m\u001b[1;33m\u001b[0m\u001b[1;33m\u001b[0m\u001b[0m\n\u001b[1;32m----> 3\u001b[1;33m \u001b[0mgdf\u001b[0m\u001b[1;33m.\u001b[0m\u001b[0mgeometry\u001b[0m\u001b[1;33m.\u001b[0m\u001b[0mname\u001b[0m\u001b[1;33m\u001b[0m\u001b[1;33m\u001b[0m\u001b[0m\n\u001b[0m",
      "\u001b[1;32m~\\anaconda3\\envs\\ox\\lib\\site-packages\\pandas\\core\\generic.py\u001b[0m in \u001b[0;36m__getattr__\u001b[1;34m(self, name)\u001b[0m\n\u001b[0;32m   5485\u001b[0m         ):\n\u001b[0;32m   5486\u001b[0m             \u001b[1;32mreturn\u001b[0m \u001b[0mself\u001b[0m\u001b[1;33m[\u001b[0m\u001b[0mname\u001b[0m\u001b[1;33m]\u001b[0m\u001b[1;33m\u001b[0m\u001b[1;33m\u001b[0m\u001b[0m\n\u001b[1;32m-> 5487\u001b[1;33m         \u001b[1;32mreturn\u001b[0m \u001b[0mobject\u001b[0m\u001b[1;33m.\u001b[0m\u001b[0m__getattribute__\u001b[0m\u001b[1;33m(\u001b[0m\u001b[0mself\u001b[0m\u001b[1;33m,\u001b[0m \u001b[0mname\u001b[0m\u001b[1;33m)\u001b[0m\u001b[1;33m\u001b[0m\u001b[1;33m\u001b[0m\u001b[0m\n\u001b[0m\u001b[0;32m   5488\u001b[0m \u001b[1;33m\u001b[0m\u001b[0m\n\u001b[0;32m   5489\u001b[0m     \u001b[1;32mdef\u001b[0m \u001b[0m__setattr__\u001b[0m\u001b[1;33m(\u001b[0m\u001b[0mself\u001b[0m\u001b[1;33m,\u001b[0m \u001b[0mname\u001b[0m\u001b[1;33m:\u001b[0m \u001b[0mstr\u001b[0m\u001b[1;33m,\u001b[0m \u001b[0mvalue\u001b[0m\u001b[1;33m)\u001b[0m \u001b[1;33m->\u001b[0m \u001b[1;32mNone\u001b[0m\u001b[1;33m:\u001b[0m\u001b[1;33m\u001b[0m\u001b[1;33m\u001b[0m\u001b[0m\n",
      "\u001b[1;32m~\\anaconda3\\envs\\ox\\lib\\site-packages\\geopandas\\geodataframe.py\u001b[0m in \u001b[0;36m_get_geometry\u001b[1;34m(self)\u001b[0m\n\u001b[0;32m    184\u001b[0m     \u001b[1;32mdef\u001b[0m \u001b[0m_get_geometry\u001b[0m\u001b[1;33m(\u001b[0m\u001b[0mself\u001b[0m\u001b[1;33m)\u001b[0m\u001b[1;33m:\u001b[0m\u001b[1;33m\u001b[0m\u001b[1;33m\u001b[0m\u001b[0m\n\u001b[0;32m    185\u001b[0m         \u001b[1;32mif\u001b[0m \u001b[0mself\u001b[0m\u001b[1;33m.\u001b[0m\u001b[0m_geometry_column_name\u001b[0m \u001b[1;32mnot\u001b[0m \u001b[1;32min\u001b[0m \u001b[0mself\u001b[0m\u001b[1;33m:\u001b[0m\u001b[1;33m\u001b[0m\u001b[1;33m\u001b[0m\u001b[0m\n\u001b[1;32m--> 186\u001b[1;33m             raise AttributeError(\n\u001b[0m\u001b[0;32m    187\u001b[0m                 \u001b[1;34m\"No geometry data set yet (expected in\"\u001b[0m\u001b[1;33m\u001b[0m\u001b[1;33m\u001b[0m\u001b[0m\n\u001b[0;32m    188\u001b[0m                 \u001b[1;34m\" column '%s'.)\"\u001b[0m \u001b[1;33m%\u001b[0m \u001b[0mself\u001b[0m\u001b[1;33m.\u001b[0m\u001b[0m_geometry_column_name\u001b[0m\u001b[1;33m\u001b[0m\u001b[1;33m\u001b[0m\u001b[0m\n",
      "\u001b[1;31mAttributeError\u001b[0m: No geometry data set yet (expected in column 'geometry'.)"
     ]
    }
   ],
   "source": [
    "# _23 컬럼명 변경하기\n",
    "gdf = gdf.rename(columns={'geometry': 'geom'})\n",
    "gdf.geometry.name"
   ]
  },
  {
   "cell_type": "code",
   "execution_count": 23,
   "metadata": {},
   "outputs": [
    {
     "data": {
      "text/plain": [
       "'geom'"
      ]
     },
     "execution_count": 23,
     "metadata": {},
     "output_type": "execute_result"
    }
   ],
   "source": [
    "# _25 GeoDataFrame에 geometry 등록하기\n",
    "gdf = gdf.set_geometry('geom')\n",
    "gdf.geometry.name"
   ]
  },
  {
   "cell_type": "code",
   "execution_count": 24,
   "metadata": {},
   "outputs": [
    {
     "data": {
      "text/html": [
       "<div>\n",
       "<style scoped>\n",
       "    .dataframe tbody tr th:only-of-type {\n",
       "        vertical-align: middle;\n",
       "    }\n",
       "\n",
       "    .dataframe tbody tr th {\n",
       "        vertical-align: top;\n",
       "    }\n",
       "\n",
       "    .dataframe thead th {\n",
       "        text-align: right;\n",
       "    }\n",
       "</style>\n",
       "<table border=\"1\" class=\"dataframe\">\n",
       "  <thead>\n",
       "    <tr style=\"text-align: right;\">\n",
       "      <th></th>\n",
       "      <th>SGG_NM</th>\n",
       "      <th>DONG_NM</th>\n",
       "      <th>SGG_CODE</th>\n",
       "      <th>SEDAE</th>\n",
       "      <th>SEDAE_INGU</th>\n",
       "      <th>TOTAL_POP</th>\n",
       "      <th>MALE_POP</th>\n",
       "      <th>FEMALE_POP</th>\n",
       "      <th>65_OVER</th>\n",
       "      <th>geom</th>\n",
       "      <th>centoroid</th>\n",
       "    </tr>\n",
       "  </thead>\n",
       "  <tbody>\n",
       "    <tr>\n",
       "      <th>0</th>\n",
       "      <td>종로구</td>\n",
       "      <td>사직동</td>\n",
       "      <td>11110</td>\n",
       "      <td>4414</td>\n",
       "      <td>2.14</td>\n",
       "      <td>9717</td>\n",
       "      <td>4467</td>\n",
       "      <td>5250</td>\n",
       "      <td>1708</td>\n",
       "      <td>POLYGON ((197958.449 552900.684, 197971.141 55...</td>\n",
       "      <td>POINT (197362.562 552729.621)</td>\n",
       "    </tr>\n",
       "    <tr>\n",
       "      <th>1</th>\n",
       "      <td>종로구</td>\n",
       "      <td>삼청동</td>\n",
       "      <td>11110</td>\n",
       "      <td>1414</td>\n",
       "      <td>2.06</td>\n",
       "      <td>3097</td>\n",
       "      <td>1459</td>\n",
       "      <td>1638</td>\n",
       "      <td>634</td>\n",
       "      <td>POLYGON ((198471.244 555055.390, 198531.565 55...</td>\n",
       "      <td>POINT (198331.945 554272.676)</td>\n",
       "    </tr>\n",
       "    <tr>\n",
       "      <th>2</th>\n",
       "      <td>종로구</td>\n",
       "      <td>부암동</td>\n",
       "      <td>11110</td>\n",
       "      <td>4325</td>\n",
       "      <td>2.39</td>\n",
       "      <td>10726</td>\n",
       "      <td>5160</td>\n",
       "      <td>5566</td>\n",
       "      <td>1748</td>\n",
       "      <td>POLYGON ((197867.379 555221.862, 197667.351 55...</td>\n",
       "      <td>POINT (196693.345 555237.149)</td>\n",
       "    </tr>\n",
       "    <tr>\n",
       "      <th>3</th>\n",
       "      <td>종로구</td>\n",
       "      <td>평창동</td>\n",
       "      <td>11110</td>\n",
       "      <td>7510</td>\n",
       "      <td>2.53</td>\n",
       "      <td>19163</td>\n",
       "      <td>9032</td>\n",
       "      <td>10131</td>\n",
       "      <td>3037</td>\n",
       "      <td>POLYGON ((197799.834 559086.753, 197924.336 55...</td>\n",
       "      <td>POINT (197287.223 557153.268)</td>\n",
       "    </tr>\n",
       "    <tr>\n",
       "      <th>4</th>\n",
       "      <td>종로구</td>\n",
       "      <td>무악동</td>\n",
       "      <td>11110</td>\n",
       "      <td>3024</td>\n",
       "      <td>2.75</td>\n",
       "      <td>8375</td>\n",
       "      <td>3921</td>\n",
       "      <td>4454</td>\n",
       "      <td>1279</td>\n",
       "      <td>POLYGON ((196526.290 553472.425, 196714.981 55...</td>\n",
       "      <td>POINT (196377.356 553133.185)</td>\n",
       "    </tr>\n",
       "  </tbody>\n",
       "</table>\n",
       "</div>"
      ],
      "text/plain": [
       "  SGG_NM DONG_NM SGG_CODE  SEDAE  SEDAE_INGU  TOTAL_POP  MALE_POP  FEMALE_POP  \\\n",
       "0    종로구     사직동    11110   4414        2.14       9717      4467        5250   \n",
       "1    종로구     삼청동    11110   1414        2.06       3097      1459        1638   \n",
       "2    종로구     부암동    11110   4325        2.39      10726      5160        5566   \n",
       "3    종로구     평창동    11110   7510        2.53      19163      9032       10131   \n",
       "4    종로구     무악동    11110   3024        2.75       8375      3921        4454   \n",
       "\n",
       "   65_OVER                                               geom  \\\n",
       "0     1708  POLYGON ((197958.449 552900.684, 197971.141 55...   \n",
       "1      634  POLYGON ((198471.244 555055.390, 198531.565 55...   \n",
       "2     1748  POLYGON ((197867.379 555221.862, 197667.351 55...   \n",
       "3     3037  POLYGON ((197799.834 559086.753, 197924.336 55...   \n",
       "4     1279  POLYGON ((196526.290 553472.425, 196714.981 55...   \n",
       "\n",
       "                       centoroid  \n",
       "0  POINT (197362.562 552729.621)  \n",
       "1  POINT (198331.945 554272.676)  \n",
       "2  POINT (196693.345 555237.149)  \n",
       "3  POINT (197287.223 557153.268)  \n",
       "4  POINT (196377.356 553133.185)  "
      ]
     },
     "execution_count": 24,
     "metadata": {},
     "output_type": "execute_result"
    }
   ],
   "source": [
    "# _26 GeoDataFrame의 새로운 컬럼에 폴리곤 중심점 값을 할당하기\n",
    "gdf['centoroid'] = gdf.centroid\n",
    "gdf.head()"
   ]
  },
  {
   "cell_type": "code",
   "execution_count": 25,
   "metadata": {},
   "outputs": [
    {
     "data": {
      "text/plain": [
       "'centoroid'"
      ]
     },
     "execution_count": 25,
     "metadata": {},
     "output_type": "execute_result"
    }
   ],
   "source": [
    "# _27 해당 Dataframe의 geometry컬럼 변경하기\n",
    "gdf = gdf.set_geometry('centoroid')\n",
    "gdf.geometry.name"
   ]
  },
  {
   "cell_type": "code",
   "execution_count": 26,
   "metadata": {},
   "outputs": [
    {
     "data": {
      "text/plain": [
       "<AxesSubplot:>"
      ]
     },
     "execution_count": 26,
     "metadata": {},
     "output_type": "execute_result"
    },
    {
     "data": {
      "image/png": "[encoded data removed]",
      "text/plain": [
       "<Figure size 432x288 with 1 Axes>"
      ]
     },
     "metadata": {
      "needs_background": "light"
     },
     "output_type": "display_data"
    }
   ],
   "source": [
    "# _28 plot\n",
    "gdf.plot()"
   ]
  },
  {
   "cell_type": "code",
   "execution_count": 27,
   "metadata": {},
   "outputs": [
    {
     "name": "stdout",
     "output_type": "stream",
     "text": [
      "<class 'geopandas.geoseries.GeoSeries'>\n",
      "<class 'geopandas.geoseries.GeoSeries'>\n"
     ]
    }
   ],
   "source": [
    "print(type(gdf['geom']))\n",
    "print(type(gdf['centoroid']))"
   ]
  },
  {
   "cell_type": "markdown",
   "metadata": {},
   "source": [
    "## Map Projection\n",
    "* https://www.osgeo.kr/17?fbclid=IwAR0pm8EkkCvsIKAXumPfkv5dmfgcF71WrmONkIpHBhWqbVxnF1_l0t-BntU"
   ]
  },
  {
   "cell_type": "code",
   "execution_count": 28,
   "metadata": {},
   "outputs": [],
   "source": [
    "# _01 GeoDataFrame Projection확인하기\n",
    "gdf.crs"
   ]
  },
  {
   "cell_type": "code",
   "execution_count": 29,
   "metadata": {},
   "outputs": [
    {
     "name": "stdout",
     "output_type": "stream",
     "text": [
      "+init=epsg:5186 +type=crs\n"
     ]
    },
    {
     "name": "stderr",
     "output_type": "stream",
     "text": [
      "C:\\Users\\user\\anaconda3\\envs\\ox\\lib\\site-packages\\pyproj\\crs\\crs.py:131: FutureWarning: '+init=<authority>:<code>' syntax is deprecated. '<authority>:<code>' is the preferred initialization method. When making the change, be mindful of axis order changes: https://pyproj4.github.io/pyproj/stable/gotchas.html#axis-order-changes-in-proj-6\n",
      "  in_crs_string = _prepare_from_proj_string(in_crs_string)\n"
     ]
    },
    {
     "data": {
      "text/html": [
       "<div>\n",
       "<style scoped>\n",
       "    .dataframe tbody tr th:only-of-type {\n",
       "        vertical-align: middle;\n",
       "    }\n",
       "\n",
       "    .dataframe tbody tr th {\n",
       "        vertical-align: top;\n",
       "    }\n",
       "\n",
       "    .dataframe thead th {\n",
       "        text-align: right;\n",
       "    }\n",
       "</style>\n",
       "<table border=\"1\" class=\"dataframe\">\n",
       "  <thead>\n",
       "    <tr style=\"text-align: right;\">\n",
       "      <th></th>\n",
       "      <th>SGG_NM</th>\n",
       "      <th>DONG_NM</th>\n",
       "      <th>SGG_CODE</th>\n",
       "      <th>SEDAE</th>\n",
       "      <th>SEDAE_INGU</th>\n",
       "      <th>TOTAL_POP</th>\n",
       "      <th>MALE_POP</th>\n",
       "      <th>FEMALE_POP</th>\n",
       "      <th>65_OVER</th>\n",
       "      <th>geom</th>\n",
       "      <th>centoroid</th>\n",
       "    </tr>\n",
       "  </thead>\n",
       "  <tbody>\n",
       "    <tr>\n",
       "      <th>0</th>\n",
       "      <td>종로구</td>\n",
       "      <td>사직동</td>\n",
       "      <td>11110</td>\n",
       "      <td>4414</td>\n",
       "      <td>2.14</td>\n",
       "      <td>9717</td>\n",
       "      <td>4467</td>\n",
       "      <td>5250</td>\n",
       "      <td>1708</td>\n",
       "      <td>POLYGON ((197958.449 552900.684, 197971.141 55...</td>\n",
       "      <td>POINT (197362.562 552729.621)</td>\n",
       "    </tr>\n",
       "    <tr>\n",
       "      <th>1</th>\n",
       "      <td>종로구</td>\n",
       "      <td>삼청동</td>\n",
       "      <td>11110</td>\n",
       "      <td>1414</td>\n",
       "      <td>2.06</td>\n",
       "      <td>3097</td>\n",
       "      <td>1459</td>\n",
       "      <td>1638</td>\n",
       "      <td>634</td>\n",
       "      <td>POLYGON ((198471.244 555055.390, 198531.565 55...</td>\n",
       "      <td>POINT (198331.945 554272.676)</td>\n",
       "    </tr>\n",
       "    <tr>\n",
       "      <th>2</th>\n",
       "      <td>종로구</td>\n",
       "      <td>부암동</td>\n",
       "      <td>11110</td>\n",
       "      <td>4325</td>\n",
       "      <td>2.39</td>\n",
       "      <td>10726</td>\n",
       "      <td>5160</td>\n",
       "      <td>5566</td>\n",
       "      <td>1748</td>\n",
       "      <td>POLYGON ((197867.379 555221.862, 197667.351 55...</td>\n",
       "      <td>POINT (196693.345 555237.149)</td>\n",
       "    </tr>\n",
       "    <tr>\n",
       "      <th>3</th>\n",
       "      <td>종로구</td>\n",
       "      <td>평창동</td>\n",
       "      <td>11110</td>\n",
       "      <td>7510</td>\n",
       "      <td>2.53</td>\n",
       "      <td>19163</td>\n",
       "      <td>9032</td>\n",
       "      <td>10131</td>\n",
       "      <td>3037</td>\n",
       "      <td>POLYGON ((197799.834 559086.753, 197924.336 55...</td>\n",
       "      <td>POINT (197287.223 557153.268)</td>\n",
       "    </tr>\n",
       "    <tr>\n",
       "      <th>4</th>\n",
       "      <td>종로구</td>\n",
       "      <td>무악동</td>\n",
       "      <td>11110</td>\n",
       "      <td>3024</td>\n",
       "      <td>2.75</td>\n",
       "      <td>8375</td>\n",
       "      <td>3921</td>\n",
       "      <td>4454</td>\n",
       "      <td>1279</td>\n",
       "      <td>POLYGON ((196526.290 553472.425, 196714.981 55...</td>\n",
       "      <td>POINT (196377.356 553133.185)</td>\n",
       "    </tr>\n",
       "  </tbody>\n",
       "</table>\n",
       "</div>"
      ],
      "text/plain": [
       "  SGG_NM DONG_NM SGG_CODE  SEDAE  SEDAE_INGU  TOTAL_POP  MALE_POP  FEMALE_POP  \\\n",
       "0    종로구     사직동    11110   4414        2.14       9717      4467        5250   \n",
       "1    종로구     삼청동    11110   1414        2.06       3097      1459        1638   \n",
       "2    종로구     부암동    11110   4325        2.39      10726      5160        5566   \n",
       "3    종로구     평창동    11110   7510        2.53      19163      9032       10131   \n",
       "4    종로구     무악동    11110   3024        2.75       8375      3921        4454   \n",
       "\n",
       "   65_OVER                                               geom  \\\n",
       "0     1708  POLYGON ((197958.449 552900.684, 197971.141 55...   \n",
       "1      634  POLYGON ((198471.244 555055.390, 198531.565 55...   \n",
       "2     1748  POLYGON ((197867.379 555221.862, 197667.351 55...   \n",
       "3     3037  POLYGON ((197799.834 559086.753, 197924.336 55...   \n",
       "4     1279  POLYGON ((196526.290 553472.425, 196714.981 55...   \n",
       "\n",
       "                       centoroid  \n",
       "0  POINT (197362.562 552729.621)  \n",
       "1  POINT (198331.945 554272.676)  \n",
       "2  POINT (196693.345 555237.149)  \n",
       "3  POINT (197287.223 557153.268)  \n",
       "4  POINT (196377.356 553133.185)  "
      ]
     },
     "execution_count": 29,
     "metadata": {},
     "output_type": "execute_result"
    }
   ],
   "source": [
    "# _02 좌표체계 입력하기 1\n",
    "gdf.crs = {'init': 'epsg:5186'}\n",
    "print(gdf.crs)\n",
    "gdf.head()"
   ]
  },
  {
   "cell_type": "code",
   "execution_count": 30,
   "metadata": {},
   "outputs": [],
   "source": [
    "gdf.crs = {}\n",
    "gdf.crs"
   ]
  },
  {
   "cell_type": "code",
   "execution_count": 31,
   "metadata": {},
   "outputs": [
    {
     "name": "stderr",
     "output_type": "stream",
     "text": [
      "C:\\Users\\user\\anaconda3\\envs\\ox\\lib\\site-packages\\pyproj\\crs\\crs.py:131: FutureWarning: '+init=<authority>:<code>' syntax is deprecated. '<authority>:<code>' is the preferred initialization method. When making the change, be mindful of axis order changes: https://pyproj4.github.io/pyproj/stable/gotchas.html#axis-order-changes-in-proj-6\n",
      "  in_crs_string = _prepare_from_proj_string(in_crs_string)\n"
     ]
    },
    {
     "data": {
      "text/plain": [
       "<Projected CRS: +init=epsg:5186 +no_defs +type=crs>\n",
       "Name: Korea 2000 / Central Belt 2010\n",
       "Axis Info [cartesian]:\n",
       "- E[east]: Easting (metre)\n",
       "- N[north]: Northing (metre)\n",
       "Area of Use:\n",
       "- name: Republic of Korea (South Korea) - onshore between 126°E and 128°E.\n",
       "- bounds: (126.0, 33.14, 128.0, 38.33)\n",
       "Coordinate Operation:\n",
       "- name: Korea Central Belt 2010\n",
       "- method: Transverse Mercator\n",
       "Datum: Geocentric datum of Korea\n",
       "- Ellipsoid: GRS 1980\n",
       "- Prime Meridian: Greenwich"
      ]
     },
     "execution_count": 31,
     "metadata": {},
     "output_type": "execute_result"
    }
   ],
   "source": [
    "# _02 좌표체계 입력하기 2\n",
    "from fiona.crs import from_epsg\n",
    "gdf.crs = from_epsg(5186)\n",
    "gdf.crs"
   ]
  },
  {
   "cell_type": "code",
   "execution_count": 32,
   "metadata": {},
   "outputs": [
    {
     "data": {
      "text/plain": [
       "<Projected CRS: +proj=tmerc +lat_0=38 +lon_0=127 +k=1 +x_0=200000  ...>\n",
       "Name: unknown\n",
       "Axis Info [cartesian]:\n",
       "- E[east]: Easting (metre)\n",
       "- N[north]: Northing (metre)\n",
       "Area of Use:\n",
       "- undefined\n",
       "Coordinate Operation:\n",
       "- name: unknown\n",
       "- method: Transverse Mercator\n",
       "Datum: Unknown based on GRS80 ellipsoid\n",
       "- Ellipsoid: GRS 1980\n",
       "- Prime Meridian: Greenwich"
      ]
     },
     "execution_count": 32,
     "metadata": {},
     "output_type": "execute_result"
    }
   ],
   "source": [
    "# _02 좌표체계 입력하기 3\n",
    "gdf.crs = '+proj=tmerc +lat_0=38 +lon_0=127 +k=1 +x_0=200000 +y_0=600000 +ellps=GRS80 +units=m +no_defs'\n",
    "gdf.crs"
   ]
  },
  {
   "cell_type": "code",
   "execution_count": 33,
   "metadata": {},
   "outputs": [
    {
     "name": "stdout",
     "output_type": "stream",
     "text": [
      "epsg:4326\n"
     ]
    },
    {
     "data": {
      "text/html": [
       "<div>\n",
       "<style scoped>\n",
       "    .dataframe tbody tr th:only-of-type {\n",
       "        vertical-align: middle;\n",
       "    }\n",
       "\n",
       "    .dataframe tbody tr th {\n",
       "        vertical-align: top;\n",
       "    }\n",
       "\n",
       "    .dataframe thead th {\n",
       "        text-align: right;\n",
       "    }\n",
       "</style>\n",
       "<table border=\"1\" class=\"dataframe\">\n",
       "  <thead>\n",
       "    <tr style=\"text-align: right;\">\n",
       "      <th></th>\n",
       "      <th>SGG_NM</th>\n",
       "      <th>DONG_NM</th>\n",
       "      <th>SGG_CODE</th>\n",
       "      <th>SEDAE</th>\n",
       "      <th>SEDAE_INGU</th>\n",
       "      <th>TOTAL_POP</th>\n",
       "      <th>MALE_POP</th>\n",
       "      <th>FEMALE_POP</th>\n",
       "      <th>65_OVER</th>\n",
       "      <th>geom</th>\n",
       "      <th>centoroid</th>\n",
       "    </tr>\n",
       "  </thead>\n",
       "  <tbody>\n",
       "    <tr>\n",
       "      <th>0</th>\n",
       "      <td>종로구</td>\n",
       "      <td>사직동</td>\n",
       "      <td>11110</td>\n",
       "      <td>4414</td>\n",
       "      <td>2.14</td>\n",
       "      <td>9717</td>\n",
       "      <td>4467</td>\n",
       "      <td>5250</td>\n",
       "      <td>1708</td>\n",
       "      <td>POLYGON ((197958.449 552900.684, 197971.141 55...</td>\n",
       "      <td>POINT (126.97014 37.57411)</td>\n",
       "    </tr>\n",
       "    <tr>\n",
       "      <th>1</th>\n",
       "      <td>종로구</td>\n",
       "      <td>삼청동</td>\n",
       "      <td>11110</td>\n",
       "      <td>1414</td>\n",
       "      <td>2.06</td>\n",
       "      <td>3097</td>\n",
       "      <td>1459</td>\n",
       "      <td>1638</td>\n",
       "      <td>634</td>\n",
       "      <td>POLYGON ((198471.244 555055.390, 198531.565 55...</td>\n",
       "      <td>POINT (126.98111 37.58801)</td>\n",
       "    </tr>\n",
       "    <tr>\n",
       "      <th>2</th>\n",
       "      <td>종로구</td>\n",
       "      <td>부암동</td>\n",
       "      <td>11110</td>\n",
       "      <td>4325</td>\n",
       "      <td>2.39</td>\n",
       "      <td>10726</td>\n",
       "      <td>5160</td>\n",
       "      <td>5566</td>\n",
       "      <td>1748</td>\n",
       "      <td>POLYGON ((197867.379 555221.862, 197667.351 55...</td>\n",
       "      <td>POINT (126.96256 37.59670)</td>\n",
       "    </tr>\n",
       "    <tr>\n",
       "      <th>3</th>\n",
       "      <td>종로구</td>\n",
       "      <td>평창동</td>\n",
       "      <td>11110</td>\n",
       "      <td>7510</td>\n",
       "      <td>2.53</td>\n",
       "      <td>19163</td>\n",
       "      <td>9032</td>\n",
       "      <td>10131</td>\n",
       "      <td>3037</td>\n",
       "      <td>POLYGON ((197799.834 559086.753, 197924.336 55...</td>\n",
       "      <td>POINT (126.96927 37.61396)</td>\n",
       "    </tr>\n",
       "    <tr>\n",
       "      <th>4</th>\n",
       "      <td>종로구</td>\n",
       "      <td>무악동</td>\n",
       "      <td>11110</td>\n",
       "      <td>3024</td>\n",
       "      <td>2.75</td>\n",
       "      <td>8375</td>\n",
       "      <td>3921</td>\n",
       "      <td>4454</td>\n",
       "      <td>1279</td>\n",
       "      <td>POLYGON ((196526.290 553472.425, 196714.981 55...</td>\n",
       "      <td>POINT (126.95899 37.57774)</td>\n",
       "    </tr>\n",
       "  </tbody>\n",
       "</table>\n",
       "</div>"
      ],
      "text/plain": [
       "  SGG_NM DONG_NM SGG_CODE  SEDAE  SEDAE_INGU  TOTAL_POP  MALE_POP  FEMALE_POP  \\\n",
       "0    종로구     사직동    11110   4414        2.14       9717      4467        5250   \n",
       "1    종로구     삼청동    11110   1414        2.06       3097      1459        1638   \n",
       "2    종로구     부암동    11110   4325        2.39      10726      5160        5566   \n",
       "3    종로구     평창동    11110   7510        2.53      19163      9032       10131   \n",
       "4    종로구     무악동    11110   3024        2.75       8375      3921        4454   \n",
       "\n",
       "   65_OVER                                               geom  \\\n",
       "0     1708  POLYGON ((197958.449 552900.684, 197971.141 55...   \n",
       "1      634  POLYGON ((198471.244 555055.390, 198531.565 55...   \n",
       "2     1748  POLYGON ((197867.379 555221.862, 197667.351 55...   \n",
       "3     3037  POLYGON ((197799.834 559086.753, 197924.336 55...   \n",
       "4     1279  POLYGON ((196526.290 553472.425, 196714.981 55...   \n",
       "\n",
       "                    centoroid  \n",
       "0  POINT (126.97014 37.57411)  \n",
       "1  POINT (126.98111 37.58801)  \n",
       "2  POINT (126.96256 37.59670)  \n",
       "3  POINT (126.96927 37.61396)  \n",
       "4  POINT (126.95899 37.57774)  "
      ]
     },
     "execution_count": 33,
     "metadata": {},
     "output_type": "execute_result"
    }
   ],
   "source": [
    "# _03 좌표 변환하기 \n",
    "# 반드시 좌표 변환이 되는 타켓 좌표체계(원본 데이터)가 존재해야 하고 변환 된 GeoDataFrame이 새롭게 생성되어야 한다.\n",
    "gdf = gdf.to_crs(epsg=4326)\n",
    "print(gdf.crs)\n",
    "gdf.head()"
   ]
  },
  {
   "cell_type": "code",
   "execution_count": null,
   "metadata": {},
   "outputs": [],
   "source": []
  },
  {
   "cell_type": "markdown",
   "metadata": {},
   "source": [
    "# 실습 \n",
    "## 1. 변환된 GeoDataFrame의 geometry 컬럼을 `centroid`컬럼에서 `geom`컬럼으로 변경한다.\n",
    "## 2. `geom` 컬럼의 좌표 체계를 EPSG:5183 -> EPSG:4326으로 좌표변환한다."
   ]
  },
  {
   "cell_type": "code",
   "execution_count": 34,
   "metadata": {},
   "outputs": [
    {
     "data": {
      "text/plain": [
       "'centoroid'"
      ]
     },
     "execution_count": 34,
     "metadata": {},
     "output_type": "execute_result"
    }
   ],
   "source": [
    "gdf.geometry.name"
   ]
  },
  {
   "cell_type": "code",
   "execution_count": 35,
   "metadata": {},
   "outputs": [
    {
     "name": "stdout",
     "output_type": "stream",
     "text": [
      "geom\n",
      "epsg:4326\n"
     ]
    }
   ],
   "source": [
    "# geometry 컬럼 변경하기\n",
    "gdf = gdf.set_geometry('geom')\n",
    "print(gdf.geometry.name)\n",
    "print(gdf.crs)"
   ]
  },
  {
   "cell_type": "code",
   "execution_count": 36,
   "metadata": {},
   "outputs": [
    {
     "name": "stdout",
     "output_type": "stream",
     "text": [
      "epsg:4326\n",
      "+init=epsg:5186 +no_defs +type=crs\n"
     ]
    },
    {
     "name": "stderr",
     "output_type": "stream",
     "text": [
      "C:\\Users\\user\\anaconda3\\envs\\ox\\lib\\site-packages\\pyproj\\crs\\crs.py:131: FutureWarning: '+init=<authority>:<code>' syntax is deprecated. '<authority>:<code>' is the preferred initialization method. When making the change, be mindful of axis order changes: https://pyproj4.github.io/pyproj/stable/gotchas.html#axis-order-changes-in-proj-6\n",
      "  in_crs_string = _prepare_from_proj_string(in_crs_string)\n"
     ]
    }
   ],
   "source": [
    "# GeoDataFrame의 정확한 좌표체계 정보 입력하기\n",
    "print(gdf.crs)\n",
    "gdf.crs = from_epsg(5186)\n",
    "print(gdf.crs)"
   ]
  },
  {
   "cell_type": "code",
   "execution_count": 37,
   "metadata": {},
   "outputs": [
    {
     "data": {
      "text/html": [
       "<div>\n",
       "<style scoped>\n",
       "    .dataframe tbody tr th:only-of-type {\n",
       "        vertical-align: middle;\n",
       "    }\n",
       "\n",
       "    .dataframe tbody tr th {\n",
       "        vertical-align: top;\n",
       "    }\n",
       "\n",
       "    .dataframe thead th {\n",
       "        text-align: right;\n",
       "    }\n",
       "</style>\n",
       "<table border=\"1\" class=\"dataframe\">\n",
       "  <thead>\n",
       "    <tr style=\"text-align: right;\">\n",
       "      <th></th>\n",
       "      <th>SGG_NM</th>\n",
       "      <th>DONG_NM</th>\n",
       "      <th>SGG_CODE</th>\n",
       "      <th>SEDAE</th>\n",
       "      <th>SEDAE_INGU</th>\n",
       "      <th>TOTAL_POP</th>\n",
       "      <th>MALE_POP</th>\n",
       "      <th>FEMALE_POP</th>\n",
       "      <th>65_OVER</th>\n",
       "      <th>geom</th>\n",
       "      <th>centoroid</th>\n",
       "    </tr>\n",
       "  </thead>\n",
       "  <tbody>\n",
       "    <tr>\n",
       "      <th>0</th>\n",
       "      <td>종로구</td>\n",
       "      <td>사직동</td>\n",
       "      <td>11110</td>\n",
       "      <td>4414</td>\n",
       "      <td>2.14</td>\n",
       "      <td>9717</td>\n",
       "      <td>4467</td>\n",
       "      <td>5250</td>\n",
       "      <td>1708</td>\n",
       "      <td>POLYGON ((197958.449 552900.684, 197971.141 55...</td>\n",
       "      <td>POINT (126.97014 37.57411)</td>\n",
       "    </tr>\n",
       "    <tr>\n",
       "      <th>1</th>\n",
       "      <td>종로구</td>\n",
       "      <td>삼청동</td>\n",
       "      <td>11110</td>\n",
       "      <td>1414</td>\n",
       "      <td>2.06</td>\n",
       "      <td>3097</td>\n",
       "      <td>1459</td>\n",
       "      <td>1638</td>\n",
       "      <td>634</td>\n",
       "      <td>POLYGON ((198471.244 555055.390, 198531.565 55...</td>\n",
       "      <td>POINT (126.98111 37.58801)</td>\n",
       "    </tr>\n",
       "    <tr>\n",
       "      <th>2</th>\n",
       "      <td>종로구</td>\n",
       "      <td>부암동</td>\n",
       "      <td>11110</td>\n",
       "      <td>4325</td>\n",
       "      <td>2.39</td>\n",
       "      <td>10726</td>\n",
       "      <td>5160</td>\n",
       "      <td>5566</td>\n",
       "      <td>1748</td>\n",
       "      <td>POLYGON ((197867.379 555221.862, 197667.351 55...</td>\n",
       "      <td>POINT (126.96256 37.59670)</td>\n",
       "    </tr>\n",
       "    <tr>\n",
       "      <th>3</th>\n",
       "      <td>종로구</td>\n",
       "      <td>평창동</td>\n",
       "      <td>11110</td>\n",
       "      <td>7510</td>\n",
       "      <td>2.53</td>\n",
       "      <td>19163</td>\n",
       "      <td>9032</td>\n",
       "      <td>10131</td>\n",
       "      <td>3037</td>\n",
       "      <td>POLYGON ((197799.834 559086.753, 197924.336 55...</td>\n",
       "      <td>POINT (126.96927 37.61396)</td>\n",
       "    </tr>\n",
       "    <tr>\n",
       "      <th>4</th>\n",
       "      <td>종로구</td>\n",
       "      <td>무악동</td>\n",
       "      <td>11110</td>\n",
       "      <td>3024</td>\n",
       "      <td>2.75</td>\n",
       "      <td>8375</td>\n",
       "      <td>3921</td>\n",
       "      <td>4454</td>\n",
       "      <td>1279</td>\n",
       "      <td>POLYGON ((196526.290 553472.425, 196714.981 55...</td>\n",
       "      <td>POINT (126.95899 37.57774)</td>\n",
       "    </tr>\n",
       "  </tbody>\n",
       "</table>\n",
       "</div>"
      ],
      "text/plain": [
       "  SGG_NM DONG_NM SGG_CODE  SEDAE  SEDAE_INGU  TOTAL_POP  MALE_POP  FEMALE_POP  \\\n",
       "0    종로구     사직동    11110   4414        2.14       9717      4467        5250   \n",
       "1    종로구     삼청동    11110   1414        2.06       3097      1459        1638   \n",
       "2    종로구     부암동    11110   4325        2.39      10726      5160        5566   \n",
       "3    종로구     평창동    11110   7510        2.53      19163      9032       10131   \n",
       "4    종로구     무악동    11110   3024        2.75       8375      3921        4454   \n",
       "\n",
       "   65_OVER                                               geom  \\\n",
       "0     1708  POLYGON ((197958.449 552900.684, 197971.141 55...   \n",
       "1      634  POLYGON ((198471.244 555055.390, 198531.565 55...   \n",
       "2     1748  POLYGON ((197867.379 555221.862, 197667.351 55...   \n",
       "3     3037  POLYGON ((197799.834 559086.753, 197924.336 55...   \n",
       "4     1279  POLYGON ((196526.290 553472.425, 196714.981 55...   \n",
       "\n",
       "                    centoroid  \n",
       "0  POINT (126.97014 37.57411)  \n",
       "1  POINT (126.98111 37.58801)  \n",
       "2  POINT (126.96256 37.59670)  \n",
       "3  POINT (126.96927 37.61396)  \n",
       "4  POINT (126.95899 37.57774)  "
      ]
     },
     "execution_count": 37,
     "metadata": {},
     "output_type": "execute_result"
    }
   ],
   "source": [
    "# 원본 파일을 복사해 새로운 변수에 할당하기\n",
    "_gdf = gdf.copy()\n",
    "_gdf.head()"
   ]
  },
  {
   "cell_type": "code",
   "execution_count": 38,
   "metadata": {},
   "outputs": [
    {
     "name": "stderr",
     "output_type": "stream",
     "text": [
      "C:\\Users\\user\\anaconda3\\envs\\ox\\lib\\site-packages\\pyproj\\crs\\crs.py:131: FutureWarning: '+init=<authority>:<code>' syntax is deprecated. '<authority>:<code>' is the preferred initialization method. When making the change, be mindful of axis order changes: https://pyproj4.github.io/pyproj/stable/gotchas.html#axis-order-changes-in-proj-6\n",
      "  in_crs_string = _prepare_from_proj_string(in_crs_string)\n"
     ]
    },
    {
     "data": {
      "text/html": [
       "<div>\n",
       "<style scoped>\n",
       "    .dataframe tbody tr th:only-of-type {\n",
       "        vertical-align: middle;\n",
       "    }\n",
       "\n",
       "    .dataframe tbody tr th {\n",
       "        vertical-align: top;\n",
       "    }\n",
       "\n",
       "    .dataframe thead th {\n",
       "        text-align: right;\n",
       "    }\n",
       "</style>\n",
       "<table border=\"1\" class=\"dataframe\">\n",
       "  <thead>\n",
       "    <tr style=\"text-align: right;\">\n",
       "      <th></th>\n",
       "      <th>SGG_NM</th>\n",
       "      <th>DONG_NM</th>\n",
       "      <th>SGG_CODE</th>\n",
       "      <th>SEDAE</th>\n",
       "      <th>SEDAE_INGU</th>\n",
       "      <th>TOTAL_POP</th>\n",
       "      <th>MALE_POP</th>\n",
       "      <th>FEMALE_POP</th>\n",
       "      <th>65_OVER</th>\n",
       "      <th>geom</th>\n",
       "      <th>centoroid</th>\n",
       "    </tr>\n",
       "  </thead>\n",
       "  <tbody>\n",
       "    <tr>\n",
       "      <th>0</th>\n",
       "      <td>종로구</td>\n",
       "      <td>사직동</td>\n",
       "      <td>11110</td>\n",
       "      <td>4414</td>\n",
       "      <td>2.14</td>\n",
       "      <td>9717</td>\n",
       "      <td>4467</td>\n",
       "      <td>5250</td>\n",
       "      <td>1708</td>\n",
       "      <td>POLYGON ((126.97689 37.57565, 126.97703 37.569...</td>\n",
       "      <td>POINT (126.97014 37.57411)</td>\n",
       "    </tr>\n",
       "    <tr>\n",
       "      <th>1</th>\n",
       "      <td>종로구</td>\n",
       "      <td>삼청동</td>\n",
       "      <td>11110</td>\n",
       "      <td>1414</td>\n",
       "      <td>2.06</td>\n",
       "      <td>3097</td>\n",
       "      <td>1459</td>\n",
       "      <td>1638</td>\n",
       "      <td>634</td>\n",
       "      <td>POLYGON ((126.98269 37.59507, 126.98337 37.594...</td>\n",
       "      <td>POINT (126.98111 37.58801)</td>\n",
       "    </tr>\n",
       "    <tr>\n",
       "      <th>2</th>\n",
       "      <td>종로구</td>\n",
       "      <td>부암동</td>\n",
       "      <td>11110</td>\n",
       "      <td>4325</td>\n",
       "      <td>2.39</td>\n",
       "      <td>10726</td>\n",
       "      <td>5160</td>\n",
       "      <td>5566</td>\n",
       "      <td>1748</td>\n",
       "      <td>POLYGON ((126.97585 37.59656, 126.97359 37.593...</td>\n",
       "      <td>POINT (126.96256 37.59670)</td>\n",
       "    </tr>\n",
       "    <tr>\n",
       "      <th>3</th>\n",
       "      <td>종로구</td>\n",
       "      <td>평창동</td>\n",
       "      <td>11110</td>\n",
       "      <td>7510</td>\n",
       "      <td>2.53</td>\n",
       "      <td>19163</td>\n",
       "      <td>9032</td>\n",
       "      <td>10131</td>\n",
       "      <td>3037</td>\n",
       "      <td>POLYGON ((126.97507 37.63139, 126.97649 37.630...</td>\n",
       "      <td>POINT (126.96927 37.61396)</td>\n",
       "    </tr>\n",
       "    <tr>\n",
       "      <th>4</th>\n",
       "      <td>종로구</td>\n",
       "      <td>무악동</td>\n",
       "      <td>11110</td>\n",
       "      <td>3024</td>\n",
       "      <td>2.75</td>\n",
       "      <td>8375</td>\n",
       "      <td>3921</td>\n",
       "      <td>4454</td>\n",
       "      <td>1279</td>\n",
       "      <td>POLYGON ((126.96067 37.58080, 126.96281 37.579...</td>\n",
       "      <td>POINT (126.95899 37.57774)</td>\n",
       "    </tr>\n",
       "  </tbody>\n",
       "</table>\n",
       "</div>"
      ],
      "text/plain": [
       "  SGG_NM DONG_NM SGG_CODE  SEDAE  SEDAE_INGU  TOTAL_POP  MALE_POP  FEMALE_POP  \\\n",
       "0    종로구     사직동    11110   4414        2.14       9717      4467        5250   \n",
       "1    종로구     삼청동    11110   1414        2.06       3097      1459        1638   \n",
       "2    종로구     부암동    11110   4325        2.39      10726      5160        5566   \n",
       "3    종로구     평창동    11110   7510        2.53      19163      9032       10131   \n",
       "4    종로구     무악동    11110   3024        2.75       8375      3921        4454   \n",
       "\n",
       "   65_OVER                                               geom  \\\n",
       "0     1708  POLYGON ((126.97689 37.57565, 126.97703 37.569...   \n",
       "1      634  POLYGON ((126.98269 37.59507, 126.98337 37.594...   \n",
       "2     1748  POLYGON ((126.97585 37.59656, 126.97359 37.593...   \n",
       "3     3037  POLYGON ((126.97507 37.63139, 126.97649 37.630...   \n",
       "4     1279  POLYGON ((126.96067 37.58080, 126.96281 37.579...   \n",
       "\n",
       "                    centoroid  \n",
       "0  POINT (126.97014 37.57411)  \n",
       "1  POINT (126.98111 37.58801)  \n",
       "2  POINT (126.96256 37.59670)  \n",
       "3  POINT (126.96927 37.61396)  \n",
       "4  POINT (126.95899 37.57774)  "
      ]
     },
     "execution_count": 38,
     "metadata": {},
     "output_type": "execute_result"
    }
   ],
   "source": [
    "# 좌표 변환된 GeoDataFrame생성 후 _gdf변수에 할당하기\n",
    "_gdf = gdf.to_crs(from_epsg(4326))\n",
    "_gdf.head()"
   ]
  },
  {
   "cell_type": "code",
   "execution_count": null,
   "metadata": {},
   "outputs": [],
   "source": []
  },
  {
   "cell_type": "markdown",
   "metadata": {},
   "source": [
    "##  Writing data"
   ]
  },
  {
   "cell_type": "code",
   "execution_count": 44,
   "metadata": {},
   "outputs": [],
   "source": [
    "# 폴더생성\n",
    "# 폴더 주소 입력 시 : '\\' 사용\n",
    "# 예시 == !mkdir output\\temp\n",
    "!mkdir output"
   ]
  },
  {
   "cell_type": "code",
   "execution_count": 47,
   "metadata": {},
   "outputs": [
    {
     "ename": "TypeError",
     "evalue": "Cannot interpret '<geopandas.array.GeometryDtype object at 0x000001961C96AEB0>' as a data type",
     "output_type": "error",
     "traceback": [
      "\u001b[1;31m---------------------------------------------------------------------------\u001b[0m",
      "\u001b[1;31mTypeError\u001b[0m                                 Traceback (most recent call last)",
      "\u001b[1;32m~\\AppData\\Local\\Temp/ipykernel_12240/1101451742.py\u001b[0m in \u001b[0;36m<module>\u001b[1;34m\u001b[0m\n\u001b[0;32m      1\u001b[0m \u001b[1;31m# _29 shp파일 저장하기 (에러발생)\u001b[0m\u001b[1;33m\u001b[0m\u001b[1;33m\u001b[0m\u001b[0m\n\u001b[1;32m----> 2\u001b[1;33m \u001b[0m_gdf\u001b[0m\u001b[1;33m.\u001b[0m\u001b[0mto_file\u001b[0m\u001b[1;33m(\u001b[0m\u001b[1;34m'./output/seoul_h_dong'\u001b[0m\u001b[1;33m,\u001b[0m \u001b[0mencoding\u001b[0m\u001b[1;33m=\u001b[0m\u001b[1;34m'utf-8'\u001b[0m\u001b[1;33m)\u001b[0m\u001b[1;33m\u001b[0m\u001b[1;33m\u001b[0m\u001b[0m\n\u001b[0m",
      "\u001b[1;32m~\\anaconda3\\envs\\ox\\lib\\site-packages\\geopandas\\geodataframe.py\u001b[0m in \u001b[0;36mto_file\u001b[1;34m(self, filename, driver, schema, index, **kwargs)\u001b[0m\n\u001b[0;32m   1084\u001b[0m         \u001b[1;32mfrom\u001b[0m \u001b[0mgeopandas\u001b[0m\u001b[1;33m.\u001b[0m\u001b[0mio\u001b[0m\u001b[1;33m.\u001b[0m\u001b[0mfile\u001b[0m \u001b[1;32mimport\u001b[0m \u001b[0m_to_file\u001b[0m\u001b[1;33m\u001b[0m\u001b[1;33m\u001b[0m\u001b[0m\n\u001b[0;32m   1085\u001b[0m \u001b[1;33m\u001b[0m\u001b[0m\n\u001b[1;32m-> 1086\u001b[1;33m         \u001b[0m_to_file\u001b[0m\u001b[1;33m(\u001b[0m\u001b[0mself\u001b[0m\u001b[1;33m,\u001b[0m \u001b[0mfilename\u001b[0m\u001b[1;33m,\u001b[0m \u001b[0mdriver\u001b[0m\u001b[1;33m,\u001b[0m \u001b[0mschema\u001b[0m\u001b[1;33m,\u001b[0m \u001b[0mindex\u001b[0m\u001b[1;33m,\u001b[0m \u001b[1;33m**\u001b[0m\u001b[0mkwargs\u001b[0m\u001b[1;33m)\u001b[0m\u001b[1;33m\u001b[0m\u001b[1;33m\u001b[0m\u001b[0m\n\u001b[0m\u001b[0;32m   1087\u001b[0m \u001b[1;33m\u001b[0m\u001b[0m\n\u001b[0;32m   1088\u001b[0m     \u001b[1;32mdef\u001b[0m \u001b[0mset_crs\u001b[0m\u001b[1;33m(\u001b[0m\u001b[0mself\u001b[0m\u001b[1;33m,\u001b[0m \u001b[0mcrs\u001b[0m\u001b[1;33m=\u001b[0m\u001b[1;32mNone\u001b[0m\u001b[1;33m,\u001b[0m \u001b[0mepsg\u001b[0m\u001b[1;33m=\u001b[0m\u001b[1;32mNone\u001b[0m\u001b[1;33m,\u001b[0m \u001b[0minplace\u001b[0m\u001b[1;33m=\u001b[0m\u001b[1;32mFalse\u001b[0m\u001b[1;33m,\u001b[0m \u001b[0mallow_override\u001b[0m\u001b[1;33m=\u001b[0m\u001b[1;32mFalse\u001b[0m\u001b[1;33m)\u001b[0m\u001b[1;33m:\u001b[0m\u001b[1;33m\u001b[0m\u001b[1;33m\u001b[0m\u001b[0m\n",
      "\u001b[1;32m~\\anaconda3\\envs\\ox\\lib\\site-packages\\geopandas\\io\\file.py\u001b[0m in \u001b[0;36m_to_file\u001b[1;34m(df, filename, driver, schema, index, mode, crs, **kwargs)\u001b[0m\n\u001b[0;32m    302\u001b[0m         \u001b[0mdf\u001b[0m \u001b[1;33m=\u001b[0m \u001b[0mdf\u001b[0m\u001b[1;33m.\u001b[0m\u001b[0mreset_index\u001b[0m\u001b[1;33m(\u001b[0m\u001b[0mdrop\u001b[0m\u001b[1;33m=\u001b[0m\u001b[1;32mFalse\u001b[0m\u001b[1;33m)\u001b[0m\u001b[1;33m\u001b[0m\u001b[1;33m\u001b[0m\u001b[0m\n\u001b[0;32m    303\u001b[0m     \u001b[1;32mif\u001b[0m \u001b[0mschema\u001b[0m \u001b[1;32mis\u001b[0m \u001b[1;32mNone\u001b[0m\u001b[1;33m:\u001b[0m\u001b[1;33m\u001b[0m\u001b[1;33m\u001b[0m\u001b[0m\n\u001b[1;32m--> 304\u001b[1;33m         \u001b[0mschema\u001b[0m \u001b[1;33m=\u001b[0m \u001b[0minfer_schema\u001b[0m\u001b[1;33m(\u001b[0m\u001b[0mdf\u001b[0m\u001b[1;33m)\u001b[0m\u001b[1;33m\u001b[0m\u001b[1;33m\u001b[0m\u001b[0m\n\u001b[0m\u001b[0;32m    305\u001b[0m     \u001b[1;32mif\u001b[0m \u001b[0mcrs\u001b[0m\u001b[1;33m:\u001b[0m\u001b[1;33m\u001b[0m\u001b[1;33m\u001b[0m\u001b[0m\n\u001b[0;32m    306\u001b[0m         \u001b[0mcrs\u001b[0m \u001b[1;33m=\u001b[0m \u001b[0mpyproj\u001b[0m\u001b[1;33m.\u001b[0m\u001b[0mCRS\u001b[0m\u001b[1;33m.\u001b[0m\u001b[0mfrom_user_input\u001b[0m\u001b[1;33m(\u001b[0m\u001b[0mcrs\u001b[0m\u001b[1;33m)\u001b[0m\u001b[1;33m\u001b[0m\u001b[1;33m\u001b[0m\u001b[0m\n",
      "\u001b[1;32m~\\anaconda3\\envs\\ox\\lib\\site-packages\\geopandas\\io\\file.py\u001b[0m in \u001b[0;36minfer_schema\u001b[1;34m(df)\u001b[0m\n\u001b[0;32m    352\u001b[0m \u001b[1;33m\u001b[0m\u001b[0m\n\u001b[0;32m    353\u001b[0m     properties = OrderedDict(\n\u001b[1;32m--> 354\u001b[1;33m         [\n\u001b[0m\u001b[0;32m    355\u001b[0m             \u001b[1;33m(\u001b[0m\u001b[0mcol\u001b[0m\u001b[1;33m,\u001b[0m \u001b[0mconvert_type\u001b[0m\u001b[1;33m(\u001b[0m\u001b[0mcol\u001b[0m\u001b[1;33m,\u001b[0m \u001b[0m_type\u001b[0m\u001b[1;33m)\u001b[0m\u001b[1;33m)\u001b[0m\u001b[1;33m\u001b[0m\u001b[1;33m\u001b[0m\u001b[0m\n\u001b[0;32m    356\u001b[0m             \u001b[1;32mfor\u001b[0m \u001b[0mcol\u001b[0m\u001b[1;33m,\u001b[0m \u001b[0m_type\u001b[0m \u001b[1;32min\u001b[0m \u001b[0mzip\u001b[0m\u001b[1;33m(\u001b[0m\u001b[0mdf\u001b[0m\u001b[1;33m.\u001b[0m\u001b[0mcolumns\u001b[0m\u001b[1;33m,\u001b[0m \u001b[0mdf\u001b[0m\u001b[1;33m.\u001b[0m\u001b[0mdtypes\u001b[0m\u001b[1;33m)\u001b[0m\u001b[1;33m\u001b[0m\u001b[1;33m\u001b[0m\u001b[0m\n",
      "\u001b[1;32m~\\anaconda3\\envs\\ox\\lib\\site-packages\\geopandas\\io\\file.py\u001b[0m in \u001b[0;36m<listcomp>\u001b[1;34m(.0)\u001b[0m\n\u001b[0;32m    353\u001b[0m     properties = OrderedDict(\n\u001b[0;32m    354\u001b[0m         [\n\u001b[1;32m--> 355\u001b[1;33m             \u001b[1;33m(\u001b[0m\u001b[0mcol\u001b[0m\u001b[1;33m,\u001b[0m \u001b[0mconvert_type\u001b[0m\u001b[1;33m(\u001b[0m\u001b[0mcol\u001b[0m\u001b[1;33m,\u001b[0m \u001b[0m_type\u001b[0m\u001b[1;33m)\u001b[0m\u001b[1;33m)\u001b[0m\u001b[1;33m\u001b[0m\u001b[1;33m\u001b[0m\u001b[0m\n\u001b[0m\u001b[0;32m    356\u001b[0m             \u001b[1;32mfor\u001b[0m \u001b[0mcol\u001b[0m\u001b[1;33m,\u001b[0m \u001b[0m_type\u001b[0m \u001b[1;32min\u001b[0m \u001b[0mzip\u001b[0m\u001b[1;33m(\u001b[0m\u001b[0mdf\u001b[0m\u001b[1;33m.\u001b[0m\u001b[0mcolumns\u001b[0m\u001b[1;33m,\u001b[0m \u001b[0mdf\u001b[0m\u001b[1;33m.\u001b[0m\u001b[0mdtypes\u001b[0m\u001b[1;33m)\u001b[0m\u001b[1;33m\u001b[0m\u001b[1;33m\u001b[0m\u001b[0m\n\u001b[0;32m    357\u001b[0m             \u001b[1;32mif\u001b[0m \u001b[0mcol\u001b[0m \u001b[1;33m!=\u001b[0m \u001b[0mdf\u001b[0m\u001b[1;33m.\u001b[0m\u001b[0m_geometry_column_name\u001b[0m\u001b[1;33m\u001b[0m\u001b[1;33m\u001b[0m\u001b[0m\n",
      "\u001b[1;32m~\\anaconda3\\envs\\ox\\lib\\site-packages\\geopandas\\io\\file.py\u001b[0m in \u001b[0;36mconvert_type\u001b[1;34m(column, in_type)\u001b[0m\n\u001b[0;32m    346\u001b[0m             \u001b[0mout_type\u001b[0m \u001b[1;33m=\u001b[0m \u001b[0mtypes\u001b[0m\u001b[1;33m[\u001b[0m\u001b[0mstr\u001b[0m\u001b[1;33m(\u001b[0m\u001b[0min_type\u001b[0m\u001b[1;33m)\u001b[0m\u001b[1;33m]\u001b[0m\u001b[1;33m\u001b[0m\u001b[1;33m\u001b[0m\u001b[0m\n\u001b[0;32m    347\u001b[0m         \u001b[1;32melse\u001b[0m\u001b[1;33m:\u001b[0m\u001b[1;33m\u001b[0m\u001b[1;33m\u001b[0m\u001b[0m\n\u001b[1;32m--> 348\u001b[1;33m             \u001b[0mout_type\u001b[0m \u001b[1;33m=\u001b[0m \u001b[0mtype\u001b[0m\u001b[1;33m(\u001b[0m\u001b[0mnp\u001b[0m\u001b[1;33m.\u001b[0m\u001b[0mzeros\u001b[0m\u001b[1;33m(\u001b[0m\u001b[1;36m1\u001b[0m\u001b[1;33m,\u001b[0m \u001b[0min_type\u001b[0m\u001b[1;33m)\u001b[0m\u001b[1;33m.\u001b[0m\u001b[0mitem\u001b[0m\u001b[1;33m(\u001b[0m\u001b[1;33m)\u001b[0m\u001b[1;33m)\u001b[0m\u001b[1;33m.\u001b[0m\u001b[0m__name__\u001b[0m\u001b[1;33m\u001b[0m\u001b[1;33m\u001b[0m\u001b[0m\n\u001b[0m\u001b[0;32m    349\u001b[0m         \u001b[1;32mif\u001b[0m \u001b[0mout_type\u001b[0m \u001b[1;33m==\u001b[0m \u001b[1;34m\"long\"\u001b[0m\u001b[1;33m:\u001b[0m\u001b[1;33m\u001b[0m\u001b[1;33m\u001b[0m\u001b[0m\n\u001b[0;32m    350\u001b[0m             \u001b[0mout_type\u001b[0m \u001b[1;33m=\u001b[0m \u001b[1;34m\"int\"\u001b[0m\u001b[1;33m\u001b[0m\u001b[1;33m\u001b[0m\u001b[0m\n",
      "\u001b[1;31mTypeError\u001b[0m: Cannot interpret '<geopandas.array.GeometryDtype object at 0x000001961C96AEB0>' as a data type"
     ]
    }
   ],
   "source": [
    "# _29 shp파일 저장하기 (에러발생)\n",
    "_gdf.to_file('./output/seoul_h_dong', encoding='utf-8')"
   ]
  },
  {
   "cell_type": "code",
   "execution_count": 48,
   "metadata": {},
   "outputs": [
    {
     "name": "stderr",
     "output_type": "stream",
     "text": [
      "C:\\Users\\user\\anaconda3\\envs\\ox\\lib\\site-packages\\pyproj\\crs\\crs.py:131: FutureWarning: '+init=<authority>:<code>' syntax is deprecated. '<authority>:<code>' is the preferred initialization method. When making the change, be mindful of axis order changes: https://pyproj4.github.io/pyproj/stable/gotchas.html#axis-order-changes-in-proj-6\n",
      "  in_crs_string = _prepare_from_proj_string(in_crs_string)\n"
     ]
    },
    {
     "data": {
      "text/html": [
       "<div>\n",
       "<style scoped>\n",
       "    .dataframe tbody tr th:only-of-type {\n",
       "        vertical-align: middle;\n",
       "    }\n",
       "\n",
       "    .dataframe tbody tr th {\n",
       "        vertical-align: top;\n",
       "    }\n",
       "\n",
       "    .dataframe thead th {\n",
       "        text-align: right;\n",
       "    }\n",
       "</style>\n",
       "<table border=\"1\" class=\"dataframe\">\n",
       "  <thead>\n",
       "    <tr style=\"text-align: right;\">\n",
       "      <th></th>\n",
       "      <th>SGG_NM</th>\n",
       "      <th>DONG_NM</th>\n",
       "      <th>SGG_CODE</th>\n",
       "      <th>SEDAE</th>\n",
       "      <th>SEDAE_INGU</th>\n",
       "      <th>TOTAL_POP</th>\n",
       "      <th>MALE_POP</th>\n",
       "      <th>FEMALE_POP</th>\n",
       "      <th>65_OVER</th>\n",
       "      <th>geom</th>\n",
       "    </tr>\n",
       "  </thead>\n",
       "  <tbody>\n",
       "    <tr>\n",
       "      <th>0</th>\n",
       "      <td>종로구</td>\n",
       "      <td>사직동</td>\n",
       "      <td>11110</td>\n",
       "      <td>4414</td>\n",
       "      <td>2.14</td>\n",
       "      <td>9717</td>\n",
       "      <td>4467</td>\n",
       "      <td>5250</td>\n",
       "      <td>1708</td>\n",
       "      <td>POLYGON ((126.97689 37.57565, 126.97703 37.569...</td>\n",
       "    </tr>\n",
       "    <tr>\n",
       "      <th>1</th>\n",
       "      <td>종로구</td>\n",
       "      <td>삼청동</td>\n",
       "      <td>11110</td>\n",
       "      <td>1414</td>\n",
       "      <td>2.06</td>\n",
       "      <td>3097</td>\n",
       "      <td>1459</td>\n",
       "      <td>1638</td>\n",
       "      <td>634</td>\n",
       "      <td>POLYGON ((126.98269 37.59507, 126.98337 37.594...</td>\n",
       "    </tr>\n",
       "    <tr>\n",
       "      <th>2</th>\n",
       "      <td>종로구</td>\n",
       "      <td>부암동</td>\n",
       "      <td>11110</td>\n",
       "      <td>4325</td>\n",
       "      <td>2.39</td>\n",
       "      <td>10726</td>\n",
       "      <td>5160</td>\n",
       "      <td>5566</td>\n",
       "      <td>1748</td>\n",
       "      <td>POLYGON ((126.97585 37.59656, 126.97359 37.593...</td>\n",
       "    </tr>\n",
       "    <tr>\n",
       "      <th>3</th>\n",
       "      <td>종로구</td>\n",
       "      <td>평창동</td>\n",
       "      <td>11110</td>\n",
       "      <td>7510</td>\n",
       "      <td>2.53</td>\n",
       "      <td>19163</td>\n",
       "      <td>9032</td>\n",
       "      <td>10131</td>\n",
       "      <td>3037</td>\n",
       "      <td>POLYGON ((126.97507 37.63139, 126.97649 37.630...</td>\n",
       "    </tr>\n",
       "    <tr>\n",
       "      <th>4</th>\n",
       "      <td>종로구</td>\n",
       "      <td>무악동</td>\n",
       "      <td>11110</td>\n",
       "      <td>3024</td>\n",
       "      <td>2.75</td>\n",
       "      <td>8375</td>\n",
       "      <td>3921</td>\n",
       "      <td>4454</td>\n",
       "      <td>1279</td>\n",
       "      <td>POLYGON ((126.96067 37.58080, 126.96281 37.579...</td>\n",
       "    </tr>\n",
       "  </tbody>\n",
       "</table>\n",
       "</div>"
      ],
      "text/plain": [
       "  SGG_NM DONG_NM SGG_CODE  SEDAE  SEDAE_INGU  TOTAL_POP  MALE_POP  FEMALE_POP  \\\n",
       "0    종로구     사직동    11110   4414        2.14       9717      4467        5250   \n",
       "1    종로구     삼청동    11110   1414        2.06       3097      1459        1638   \n",
       "2    종로구     부암동    11110   4325        2.39      10726      5160        5566   \n",
       "3    종로구     평창동    11110   7510        2.53      19163      9032       10131   \n",
       "4    종로구     무악동    11110   3024        2.75       8375      3921        4454   \n",
       "\n",
       "   65_OVER                                               geom  \n",
       "0     1708  POLYGON ((126.97689 37.57565, 126.97703 37.569...  \n",
       "1      634  POLYGON ((126.98269 37.59507, 126.98337 37.594...  \n",
       "2     1748  POLYGON ((126.97585 37.59656, 126.97359 37.593...  \n",
       "3     3037  POLYGON ((126.97507 37.63139, 126.97649 37.630...  \n",
       "4     1279  POLYGON ((126.96067 37.58080, 126.96281 37.579...  "
      ]
     },
     "execution_count": 48,
     "metadata": {},
     "output_type": "execute_result"
    }
   ],
   "source": [
    "# _30 불필요한 컬럼 제거하기\n",
    "# 파일 저장 시 GeoDataFrame에는 좌표정보가 반드시 하나만 있어야 한다.\n",
    "columns = ['SGG_NM', 'DONG_NM','SGG_CODE', 'SEDAE', 'SEDAE_INGU', 'TOTAL_POP', 'MALE_POP', 'FEMALE_POP', '65_OVER','geom']\n",
    "_gdf = gpd.GeoDataFrame(_gdf[columns], geometry='geom', crs=from_epsg(4326))\n",
    "_gdf.head()"
   ]
  },
  {
   "cell_type": "code",
   "execution_count": 49,
   "metadata": {},
   "outputs": [
    {
     "data": {
      "text/plain": [
       "geopandas.geodataframe.GeoDataFrame"
      ]
     },
     "execution_count": 49,
     "metadata": {},
     "output_type": "execute_result"
    }
   ],
   "source": [
    "# _31 Dataframe 타입 확인\n",
    "type(gdf)"
   ]
  },
  {
   "cell_type": "code",
   "execution_count": 50,
   "metadata": {},
   "outputs": [],
   "source": [
    "# _32 shp파일로 저장하기\n",
    "_gdf.to_file('./output/seoul_h_dong', encoding='euc-kr')"
   ]
  },
  {
   "cell_type": "code",
   "execution_count": 51,
   "metadata": {},
   "outputs": [],
   "source": [
    "# _33 geojson으로 저장하기\n",
    "_gdf.to_file('./output/seoul_h_dong.geojson', driver='GeoJSON')"
   ]
  },
  {
   "cell_type": "markdown",
   "metadata": {},
   "source": [
    "##  특정 컬럼만 선택 해 파일 저장하기"
   ]
  },
  {
   "cell_type": "code",
   "execution_count": 54,
   "metadata": {},
   "outputs": [
    {
     "data": {
      "text/html": [
       "<div>\n",
       "<style scoped>\n",
       "    .dataframe tbody tr th:only-of-type {\n",
       "        vertical-align: middle;\n",
       "    }\n",
       "\n",
       "    .dataframe tbody tr th {\n",
       "        vertical-align: top;\n",
       "    }\n",
       "\n",
       "    .dataframe thead th {\n",
       "        text-align: right;\n",
       "    }\n",
       "</style>\n",
       "<table border=\"1\" class=\"dataframe\">\n",
       "  <thead>\n",
       "    <tr style=\"text-align: right;\">\n",
       "      <th></th>\n",
       "      <th>SGG_NM</th>\n",
       "      <th>DONG_NM</th>\n",
       "      <th>SGG_CODE</th>\n",
       "      <th>SEDAE</th>\n",
       "      <th>SEDAE_INGU</th>\n",
       "      <th>TOTAL_POP</th>\n",
       "      <th>MALE_POP</th>\n",
       "      <th>FEMALE_POP</th>\n",
       "      <th>65_OVER</th>\n",
       "      <th>geom</th>\n",
       "    </tr>\n",
       "  </thead>\n",
       "  <tbody>\n",
       "    <tr>\n",
       "      <th>0</th>\n",
       "      <td>종로구</td>\n",
       "      <td>사직동</td>\n",
       "      <td>11110</td>\n",
       "      <td>4414</td>\n",
       "      <td>2.14</td>\n",
       "      <td>9717</td>\n",
       "      <td>4467</td>\n",
       "      <td>5250</td>\n",
       "      <td>1708</td>\n",
       "      <td>POLYGON ((126.97689 37.57565, 126.97703 37.569...</td>\n",
       "    </tr>\n",
       "    <tr>\n",
       "      <th>1</th>\n",
       "      <td>종로구</td>\n",
       "      <td>삼청동</td>\n",
       "      <td>11110</td>\n",
       "      <td>1414</td>\n",
       "      <td>2.06</td>\n",
       "      <td>3097</td>\n",
       "      <td>1459</td>\n",
       "      <td>1638</td>\n",
       "      <td>634</td>\n",
       "      <td>POLYGON ((126.98269 37.59507, 126.98337 37.594...</td>\n",
       "    </tr>\n",
       "    <tr>\n",
       "      <th>2</th>\n",
       "      <td>종로구</td>\n",
       "      <td>부암동</td>\n",
       "      <td>11110</td>\n",
       "      <td>4325</td>\n",
       "      <td>2.39</td>\n",
       "      <td>10726</td>\n",
       "      <td>5160</td>\n",
       "      <td>5566</td>\n",
       "      <td>1748</td>\n",
       "      <td>POLYGON ((126.97585 37.59656, 126.97359 37.593...</td>\n",
       "    </tr>\n",
       "    <tr>\n",
       "      <th>3</th>\n",
       "      <td>종로구</td>\n",
       "      <td>평창동</td>\n",
       "      <td>11110</td>\n",
       "      <td>7510</td>\n",
       "      <td>2.53</td>\n",
       "      <td>19163</td>\n",
       "      <td>9032</td>\n",
       "      <td>10131</td>\n",
       "      <td>3037</td>\n",
       "      <td>POLYGON ((126.97507 37.63139, 126.97649 37.630...</td>\n",
       "    </tr>\n",
       "    <tr>\n",
       "      <th>4</th>\n",
       "      <td>종로구</td>\n",
       "      <td>무악동</td>\n",
       "      <td>11110</td>\n",
       "      <td>3024</td>\n",
       "      <td>2.75</td>\n",
       "      <td>8375</td>\n",
       "      <td>3921</td>\n",
       "      <td>4454</td>\n",
       "      <td>1279</td>\n",
       "      <td>POLYGON ((126.96067 37.58080, 126.96281 37.579...</td>\n",
       "    </tr>\n",
       "  </tbody>\n",
       "</table>\n",
       "</div>"
      ],
      "text/plain": [
       "  SGG_NM DONG_NM SGG_CODE  SEDAE  SEDAE_INGU  TOTAL_POP  MALE_POP  FEMALE_POP  \\\n",
       "0    종로구     사직동    11110   4414        2.14       9717      4467        5250   \n",
       "1    종로구     삼청동    11110   1414        2.06       3097      1459        1638   \n",
       "2    종로구     부암동    11110   4325        2.39      10726      5160        5566   \n",
       "3    종로구     평창동    11110   7510        2.53      19163      9032       10131   \n",
       "4    종로구     무악동    11110   3024        2.75       8375      3921        4454   \n",
       "\n",
       "   65_OVER                                               geom  \n",
       "0     1708  POLYGON ((126.97689 37.57565, 126.97703 37.569...  \n",
       "1      634  POLYGON ((126.98269 37.59507, 126.98337 37.594...  \n",
       "2     1748  POLYGON ((126.97585 37.59656, 126.97359 37.593...  \n",
       "3     3037  POLYGON ((126.97507 37.63139, 126.97649 37.630...  \n",
       "4     1279  POLYGON ((126.96067 37.58080, 126.96281 37.579...  "
      ]
     },
     "execution_count": 54,
     "metadata": {},
     "output_type": "execute_result"
    }
   ],
   "source": [
    "# _34 select_by_attribute\n",
    "selection_1 = _gdf[0:10]\n",
    "selection_1.head()"
   ]
  },
  {
   "cell_type": "code",
   "execution_count": 53,
   "metadata": {},
   "outputs": [
    {
     "data": {
      "text/html": [
       "<div>\n",
       "<style scoped>\n",
       "    .dataframe tbody tr th:only-of-type {\n",
       "        vertical-align: middle;\n",
       "    }\n",
       "\n",
       "    .dataframe tbody tr th {\n",
       "        vertical-align: top;\n",
       "    }\n",
       "\n",
       "    .dataframe thead th {\n",
       "        text-align: right;\n",
       "    }\n",
       "</style>\n",
       "<table border=\"1\" class=\"dataframe\">\n",
       "  <thead>\n",
       "    <tr style=\"text-align: right;\">\n",
       "      <th></th>\n",
       "      <th>SGG_NM</th>\n",
       "      <th>DONG_NM</th>\n",
       "      <th>SGG_CODE</th>\n",
       "      <th>SEDAE</th>\n",
       "      <th>SEDAE_INGU</th>\n",
       "      <th>TOTAL_POP</th>\n",
       "      <th>MALE_POP</th>\n",
       "      <th>FEMALE_POP</th>\n",
       "      <th>65_OVER</th>\n",
       "      <th>geom</th>\n",
       "    </tr>\n",
       "  </thead>\n",
       "  <tbody>\n",
       "    <tr>\n",
       "      <th>357</th>\n",
       "      <td>강남구</td>\n",
       "      <td>신사동</td>\n",
       "      <td>11680</td>\n",
       "      <td>7633</td>\n",
       "      <td>2.34</td>\n",
       "      <td>18105</td>\n",
       "      <td>8420</td>\n",
       "      <td>9685</td>\n",
       "      <td>2691</td>\n",
       "      <td>POLYGON ((127.02808 37.51958, 127.02721 37.519...</td>\n",
       "    </tr>\n",
       "    <tr>\n",
       "      <th>358</th>\n",
       "      <td>강남구</td>\n",
       "      <td>논현1동</td>\n",
       "      <td>11680</td>\n",
       "      <td>14090</td>\n",
       "      <td>1.68</td>\n",
       "      <td>24186</td>\n",
       "      <td>11192</td>\n",
       "      <td>12994</td>\n",
       "      <td>2672</td>\n",
       "      <td>POLYGON ((127.03389 37.50739, 127.02447 37.504...</td>\n",
       "    </tr>\n",
       "    <tr>\n",
       "      <th>359</th>\n",
       "      <td>강남구</td>\n",
       "      <td>논현2동</td>\n",
       "      <td>11680</td>\n",
       "      <td>11146</td>\n",
       "      <td>2.00</td>\n",
       "      <td>22573</td>\n",
       "      <td>10587</td>\n",
       "      <td>11986</td>\n",
       "      <td>2782</td>\n",
       "      <td>POLYGON ((127.03918 37.52291, 127.04124 37.517...</td>\n",
       "    </tr>\n",
       "    <tr>\n",
       "      <th>360</th>\n",
       "      <td>강남구</td>\n",
       "      <td>삼성1동</td>\n",
       "      <td>11680</td>\n",
       "      <td>5811</td>\n",
       "      <td>2.56</td>\n",
       "      <td>15193</td>\n",
       "      <td>7650</td>\n",
       "      <td>7543</td>\n",
       "      <td>1900</td>\n",
       "      <td>POLYGON ((127.06696 37.52508, 127.06650 37.520...</td>\n",
       "    </tr>\n",
       "    <tr>\n",
       "      <th>361</th>\n",
       "      <td>강남구</td>\n",
       "      <td>삼성2동</td>\n",
       "      <td>11680</td>\n",
       "      <td>12815</td>\n",
       "      <td>2.29</td>\n",
       "      <td>29628</td>\n",
       "      <td>14130</td>\n",
       "      <td>15498</td>\n",
       "      <td>2867</td>\n",
       "      <td>POLYGON ((127.05669 37.50686, 127.04904 37.504...</td>\n",
       "    </tr>\n",
       "  </tbody>\n",
       "</table>\n",
       "</div>"
      ],
      "text/plain": [
       "    SGG_NM DONG_NM SGG_CODE  SEDAE  SEDAE_INGU  TOTAL_POP  MALE_POP  \\\n",
       "357    강남구     신사동    11680   7633        2.34      18105      8420   \n",
       "358    강남구    논현1동    11680  14090        1.68      24186     11192   \n",
       "359    강남구    논현2동    11680  11146        2.00      22573     10587   \n",
       "360    강남구    삼성1동    11680   5811        2.56      15193      7650   \n",
       "361    강남구    삼성2동    11680  12815        2.29      29628     14130   \n",
       "\n",
       "     FEMALE_POP  65_OVER                                               geom  \n",
       "357        9685     2691  POLYGON ((127.02808 37.51958, 127.02721 37.519...  \n",
       "358       12994     2672  POLYGON ((127.03389 37.50739, 127.02447 37.504...  \n",
       "359       11986     2782  POLYGON ((127.03918 37.52291, 127.04124 37.517...  \n",
       "360        7543     1900  POLYGON ((127.06696 37.52508, 127.06650 37.520...  \n",
       "361       15498     2867  POLYGON ((127.05669 37.50686, 127.04904 37.504...  "
      ]
     },
     "execution_count": 53,
     "metadata": {},
     "output_type": "execute_result"
    }
   ],
   "source": [
    "# _35 select_by_attribute\n",
    "selection_2 = _gdf[_gdf['SGG_NM'] == '강남구']\n",
    "selection_2.head()"
   ]
  },
  {
   "cell_type": "code",
   "execution_count": 55,
   "metadata": {},
   "outputs": [
    {
     "data": {
      "text/plain": [
       "<AxesSubplot:>"
      ]
     },
     "execution_count": 55,
     "metadata": {},
     "output_type": "execute_result"
    },
    {
     "data": {
      "image/png": "[encoded data removed]",
      "text/plain": [
       "<Figure size 432x288 with 1 Axes>"
      ]
     },
     "metadata": {
      "needs_background": "light"
     },
     "output_type": "display_data"
    }
   ],
   "source": [
    "# _36 선택된 GeoDataFrame plot()으로 확인하기\n",
    "selection_2.plot()"
   ]
  },
  {
   "cell_type": "code",
   "execution_count": 57,
   "metadata": {},
   "outputs": [
    {
     "data": {
      "text/html": [
       "<div>\n",
       "<style scoped>\n",
       "    .dataframe tbody tr th:only-of-type {\n",
       "        vertical-align: middle;\n",
       "    }\n",
       "\n",
       "    .dataframe tbody tr th {\n",
       "        vertical-align: top;\n",
       "    }\n",
       "\n",
       "    .dataframe thead th {\n",
       "        text-align: right;\n",
       "    }\n",
       "</style>\n",
       "<table border=\"1\" class=\"dataframe\">\n",
       "  <thead>\n",
       "    <tr style=\"text-align: right;\">\n",
       "      <th></th>\n",
       "      <th>SGG_NM</th>\n",
       "      <th>DONG_NM</th>\n",
       "      <th>SGG_CODE</th>\n",
       "      <th>SEDAE</th>\n",
       "      <th>SEDAE_INGU</th>\n",
       "      <th>TOTAL_POP</th>\n",
       "      <th>MALE_POP</th>\n",
       "      <th>FEMALE_POP</th>\n",
       "      <th>65_OVER</th>\n",
       "      <th>geom</th>\n",
       "    </tr>\n",
       "  </thead>\n",
       "  <tbody>\n",
       "    <tr>\n",
       "      <th>339</th>\n",
       "      <td>서초구</td>\n",
       "      <td>서초1동</td>\n",
       "      <td>11650</td>\n",
       "      <td>9035</td>\n",
       "      <td>2.35</td>\n",
       "      <td>21532</td>\n",
       "      <td>10420</td>\n",
       "      <td>11112</td>\n",
       "      <td>2611</td>\n",
       "      <td>POLYGON ((127.02701 37.48051, 127.02551 37.480...</td>\n",
       "    </tr>\n",
       "    <tr>\n",
       "      <th>340</th>\n",
       "      <td>서초구</td>\n",
       "      <td>서초2동</td>\n",
       "      <td>11650</td>\n",
       "      <td>7216</td>\n",
       "      <td>2.28</td>\n",
       "      <td>16766</td>\n",
       "      <td>7999</td>\n",
       "      <td>8767</td>\n",
       "      <td>1771</td>\n",
       "      <td>POLYGON ((127.03162 37.48954, 127.03378 37.485...</td>\n",
       "    </tr>\n",
       "    <tr>\n",
       "      <th>341</th>\n",
       "      <td>서초구</td>\n",
       "      <td>서초3동</td>\n",
       "      <td>11650</td>\n",
       "      <td>12541</td>\n",
       "      <td>2.40</td>\n",
       "      <td>30439</td>\n",
       "      <td>14965</td>\n",
       "      <td>15474</td>\n",
       "      <td>4050</td>\n",
       "      <td>POLYGON ((127.01576 37.49432, 127.01402 37.493...</td>\n",
       "    </tr>\n",
       "    <tr>\n",
       "      <th>342</th>\n",
       "      <td>서초구</td>\n",
       "      <td>서초4동</td>\n",
       "      <td>11650</td>\n",
       "      <td>10553</td>\n",
       "      <td>2.94</td>\n",
       "      <td>31285</td>\n",
       "      <td>15178</td>\n",
       "      <td>16107</td>\n",
       "      <td>3552</td>\n",
       "      <td>POLYGON ((127.02764 37.49796, 127.02128 37.496...</td>\n",
       "    </tr>\n",
       "    <tr>\n",
       "      <th>343</th>\n",
       "      <td>서초구</td>\n",
       "      <td>잠원동</td>\n",
       "      <td>11650</td>\n",
       "      <td>13837</td>\n",
       "      <td>2.51</td>\n",
       "      <td>34940</td>\n",
       "      <td>16572</td>\n",
       "      <td>18368</td>\n",
       "      <td>3520</td>\n",
       "      <td>POLYGON ((127.01944 37.51599, 127.01986 37.515...</td>\n",
       "    </tr>\n",
       "  </tbody>\n",
       "</table>\n",
       "</div>"
      ],
      "text/plain": [
       "    SGG_NM DONG_NM SGG_CODE  SEDAE  SEDAE_INGU  TOTAL_POP  MALE_POP  \\\n",
       "339    서초구    서초1동    11650   9035        2.35      21532     10420   \n",
       "340    서초구    서초2동    11650   7216        2.28      16766      7999   \n",
       "341    서초구    서초3동    11650  12541        2.40      30439     14965   \n",
       "342    서초구    서초4동    11650  10553        2.94      31285     15178   \n",
       "343    서초구     잠원동    11650  13837        2.51      34940     16572   \n",
       "\n",
       "     FEMALE_POP  65_OVER                                               geom  \n",
       "339       11112     2611  POLYGON ((127.02701 37.48051, 127.02551 37.480...  \n",
       "340        8767     1771  POLYGON ((127.03162 37.48954, 127.03378 37.485...  \n",
       "341       15474     4050  POLYGON ((127.01576 37.49432, 127.01402 37.493...  \n",
       "342       16107     3552  POLYGON ((127.02764 37.49796, 127.02128 37.496...  \n",
       "343       18368     3520  POLYGON ((127.01944 37.51599, 127.01986 37.515...  "
      ]
     },
     "execution_count": 57,
     "metadata": {},
     "output_type": "execute_result"
    }
   ],
   "source": [
    "# _35 select_by_attribute \n",
    "# pandas의 and/or operator는 `&`, `\\` 이다\n",
    "selection_3 = _gdf[(_gdf['SGG_NM'] == '강남구') | (_gdf['SGG_NM'] == '서초구')]\n",
    "# selection_3 = _gdf[(_gdf['SGG_NM'] == '서초구')]\n",
    "selection_3.head()"
   ]
  },
  {
   "cell_type": "code",
   "execution_count": 58,
   "metadata": {},
   "outputs": [
    {
     "data": {
      "text/plain": [
       "<AxesSubplot:>"
      ]
     },
     "execution_count": 58,
     "metadata": {},
     "output_type": "execute_result"
    },
    {
     "data": {
      "image/png": "[encoded data removed]",
      "text/plain": [
       "<Figure size 432x288 with 1 Axes>"
      ]
     },
     "metadata": {
      "needs_background": "light"
     },
     "output_type": "display_data"
    }
   ],
   "source": [
    "selection_3.plot()"
   ]
  },
  {
   "cell_type": "code",
   "execution_count": 59,
   "metadata": {},
   "outputs": [],
   "source": [
    "# _37 선택된 파일 GeoJson으로 저장하기\n",
    "selection_2.to_file('./output/gangnamgu.geojson', driver='GeoJSON')"
   ]
  },
  {
   "cell_type": "code",
   "execution_count": null,
   "metadata": {},
   "outputs": [],
   "source": []
  }
 ],
 "metadata": {
  "interpreter": {
   "hash": "9652531e86fbc99dfe7fc5092eb81081a97fad237de3d1fd3b3a0d1c69c61538"
  },
  "kernelspec": {
   "display_name": "Python 3.9.7 64-bit ('ox': conda)",
   "name": "python3"
  },
  "language_info": {
   "codemirror_mode": {
    "name": "ipython",
    "version": 3
   },
   "file_extension": ".py",
   "mimetype": "text/x-python",
   "name": "python",
   "nbconvert_exporter": "python",
   "pygments_lexer": "ipython3",
   "version": "3.9.7"
  },
  "orig_nbformat": 4
 },
 "nbformat": 4,
 "nbformat_minor": 2
}
