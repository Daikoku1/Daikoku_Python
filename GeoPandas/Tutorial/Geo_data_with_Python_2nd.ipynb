{
 "cells": [
  {
   "cell_type": "code",
   "execution_count": 1,
   "metadata": {},
   "outputs": [],
   "source": [
    "# 라이브러리 추가하기\n",
    "import geopandas as gpd\n",
    "from fiona.crs import from_epsg\n",
    "%matplotlib inline"
   ]
  },
  {
   "cell_type": "markdown",
   "metadata": {},
   "source": [
    "#### 서울시 행정동 goeJson 불러오기\n",
    "* GeoDataframe 생성하기\n",
    "* 데이터 확인하기\n",
    "* plot()으로 지도 확인하기"
   ]
  },
  {
   "cell_type": "code",
   "execution_count": 4,
   "metadata": {},
   "outputs": [],
   "source": [
    "# _01 서울시 법정동 geojson 파일\n",
    "_seoul_h_dong = './output/seoul_h_dong.geojson'"
   ]
  },
  {
   "cell_type": "code",
   "execution_count": 5,
   "metadata": {},
   "outputs": [
    {
     "name": "stdout",
     "output_type": "stream",
     "text": [
      "epsg:4326 \n",
      "\n",
      "<class 'geopandas.geodataframe.GeoDataFrame'>\n",
      "RangeIndex: 424 entries, 0 to 423\n",
      "Data columns (total 10 columns):\n",
      " #   Column      Non-Null Count  Dtype   \n",
      "---  ------      --------------  -----   \n",
      " 0   SGG_NM      424 non-null    object  \n",
      " 1   DONG_NM     424 non-null    object  \n",
      " 2   SGG_CODE    424 non-null    object  \n",
      " 3   SEDAE       424 non-null    int64   \n",
      " 4   SEDAE_INGU  424 non-null    float64 \n",
      " 5   TOTAL_POP   424 non-null    int64   \n",
      " 6   MALE_POP    424 non-null    int64   \n",
      " 7   FEMALE_POP  424 non-null    int64   \n",
      " 8   65_OVER     424 non-null    int64   \n",
      " 9   geometry    424 non-null    geometry\n",
      "dtypes: float64(1), geometry(1), int64(5), object(3)\n",
      "memory usage: 33.2+ KB\n"
     ]
    },
    {
     "data": {
      "text/html": [
       "<div>\n",
       "<style scoped>\n",
       "    .dataframe tbody tr th:only-of-type {\n",
       "        vertical-align: middle;\n",
       "    }\n",
       "\n",
       "    .dataframe tbody tr th {\n",
       "        vertical-align: top;\n",
       "    }\n",
       "\n",
       "    .dataframe thead th {\n",
       "        text-align: right;\n",
       "    }\n",
       "</style>\n",
       "<table border=\"1\" class=\"dataframe\">\n",
       "  <thead>\n",
       "    <tr style=\"text-align: right;\">\n",
       "      <th></th>\n",
       "      <th>SGG_NM</th>\n",
       "      <th>DONG_NM</th>\n",
       "      <th>SGG_CODE</th>\n",
       "      <th>SEDAE</th>\n",
       "      <th>SEDAE_INGU</th>\n",
       "      <th>TOTAL_POP</th>\n",
       "      <th>MALE_POP</th>\n",
       "      <th>FEMALE_POP</th>\n",
       "      <th>65_OVER</th>\n",
       "      <th>geometry</th>\n",
       "    </tr>\n",
       "  </thead>\n",
       "  <tbody>\n",
       "    <tr>\n",
       "      <th>0</th>\n",
       "      <td>종로구</td>\n",
       "      <td>사직동</td>\n",
       "      <td>11110</td>\n",
       "      <td>4414</td>\n",
       "      <td>2.14</td>\n",
       "      <td>9717</td>\n",
       "      <td>4467</td>\n",
       "      <td>5250</td>\n",
       "      <td>1708</td>\n",
       "      <td>POLYGON ((126.97689 37.57565, 126.97703 37.569...</td>\n",
       "    </tr>\n",
       "    <tr>\n",
       "      <th>1</th>\n",
       "      <td>종로구</td>\n",
       "      <td>삼청동</td>\n",
       "      <td>11110</td>\n",
       "      <td>1414</td>\n",
       "      <td>2.06</td>\n",
       "      <td>3097</td>\n",
       "      <td>1459</td>\n",
       "      <td>1638</td>\n",
       "      <td>634</td>\n",
       "      <td>POLYGON ((126.98269 37.59507, 126.98337 37.594...</td>\n",
       "    </tr>\n",
       "    <tr>\n",
       "      <th>2</th>\n",
       "      <td>종로구</td>\n",
       "      <td>부암동</td>\n",
       "      <td>11110</td>\n",
       "      <td>4325</td>\n",
       "      <td>2.39</td>\n",
       "      <td>10726</td>\n",
       "      <td>5160</td>\n",
       "      <td>5566</td>\n",
       "      <td>1748</td>\n",
       "      <td>POLYGON ((126.97585 37.59656, 126.97359 37.593...</td>\n",
       "    </tr>\n",
       "    <tr>\n",
       "      <th>3</th>\n",
       "      <td>종로구</td>\n",
       "      <td>평창동</td>\n",
       "      <td>11110</td>\n",
       "      <td>7510</td>\n",
       "      <td>2.53</td>\n",
       "      <td>19163</td>\n",
       "      <td>9032</td>\n",
       "      <td>10131</td>\n",
       "      <td>3037</td>\n",
       "      <td>POLYGON ((126.97507 37.63139, 126.97649 37.630...</td>\n",
       "    </tr>\n",
       "    <tr>\n",
       "      <th>4</th>\n",
       "      <td>종로구</td>\n",
       "      <td>무악동</td>\n",
       "      <td>11110</td>\n",
       "      <td>3024</td>\n",
       "      <td>2.75</td>\n",
       "      <td>8375</td>\n",
       "      <td>3921</td>\n",
       "      <td>4454</td>\n",
       "      <td>1279</td>\n",
       "      <td>POLYGON ((126.96067 37.58080, 126.96281 37.579...</td>\n",
       "    </tr>\n",
       "    <tr>\n",
       "      <th>5</th>\n",
       "      <td>종로구</td>\n",
       "      <td>교남동</td>\n",
       "      <td>11110</td>\n",
       "      <td>4379</td>\n",
       "      <td>2.34</td>\n",
       "      <td>10363</td>\n",
       "      <td>4850</td>\n",
       "      <td>5513</td>\n",
       "      <td>1406</td>\n",
       "      <td>POLYGON ((126.96905 37.56819, 126.96801 37.567...</td>\n",
       "    </tr>\n",
       "    <tr>\n",
       "      <th>6</th>\n",
       "      <td>종로구</td>\n",
       "      <td>가회동</td>\n",
       "      <td>11110</td>\n",
       "      <td>2085</td>\n",
       "      <td>2.17</td>\n",
       "      <td>4657</td>\n",
       "      <td>2194</td>\n",
       "      <td>2463</td>\n",
       "      <td>900</td>\n",
       "      <td>POLYGON ((126.98914 37.59131, 126.98831 37.587...</td>\n",
       "    </tr>\n",
       "    <tr>\n",
       "      <th>7</th>\n",
       "      <td>종로구</td>\n",
       "      <td>종로1.2.3.4가동</td>\n",
       "      <td>11110</td>\n",
       "      <td>5378</td>\n",
       "      <td>1.41</td>\n",
       "      <td>8592</td>\n",
       "      <td>5045</td>\n",
       "      <td>3547</td>\n",
       "      <td>1865</td>\n",
       "      <td>POLYGON ((126.99650 37.58102, 126.99641 37.580...</td>\n",
       "    </tr>\n",
       "    <tr>\n",
       "      <th>8</th>\n",
       "      <td>종로구</td>\n",
       "      <td>종로5·6가동</td>\n",
       "      <td>11110</td>\n",
       "      <td>3174</td>\n",
       "      <td>1.69</td>\n",
       "      <td>5690</td>\n",
       "      <td>3096</td>\n",
       "      <td>2594</td>\n",
       "      <td>1089</td>\n",
       "      <td>POLYGON ((127.01016 37.57157, 127.00959 37.569...</td>\n",
       "    </tr>\n",
       "    <tr>\n",
       "      <th>9</th>\n",
       "      <td>종로구</td>\n",
       "      <td>이화동</td>\n",
       "      <td>11110</td>\n",
       "      <td>4462</td>\n",
       "      <td>1.85</td>\n",
       "      <td>8752</td>\n",
       "      <td>4075</td>\n",
       "      <td>4677</td>\n",
       "      <td>1302</td>\n",
       "      <td>POLYGON ((127.00733 37.58320, 127.00884 37.580...</td>\n",
       "    </tr>\n",
       "  </tbody>\n",
       "</table>\n",
       "</div>"
      ],
      "text/plain": [
       "  SGG_NM      DONG_NM SGG_CODE  SEDAE  SEDAE_INGU  TOTAL_POP  MALE_POP  \\\n",
       "0    종로구          사직동    11110   4414        2.14       9717      4467   \n",
       "1    종로구          삼청동    11110   1414        2.06       3097      1459   \n",
       "2    종로구          부암동    11110   4325        2.39      10726      5160   \n",
       "3    종로구          평창동    11110   7510        2.53      19163      9032   \n",
       "4    종로구          무악동    11110   3024        2.75       8375      3921   \n",
       "5    종로구          교남동    11110   4379        2.34      10363      4850   \n",
       "6    종로구          가회동    11110   2085        2.17       4657      2194   \n",
       "7    종로구  종로1.2.3.4가동    11110   5378        1.41       8592      5045   \n",
       "8    종로구      종로5·6가동    11110   3174        1.69       5690      3096   \n",
       "9    종로구          이화동    11110   4462        1.85       8752      4075   \n",
       "\n",
       "   FEMALE_POP  65_OVER                                           geometry  \n",
       "0        5250     1708  POLYGON ((126.97689 37.57565, 126.97703 37.569...  \n",
       "1        1638      634  POLYGON ((126.98269 37.59507, 126.98337 37.594...  \n",
       "2        5566     1748  POLYGON ((126.97585 37.59656, 126.97359 37.593...  \n",
       "3       10131     3037  POLYGON ((126.97507 37.63139, 126.97649 37.630...  \n",
       "4        4454     1279  POLYGON ((126.96067 37.58080, 126.96281 37.579...  \n",
       "5        5513     1406  POLYGON ((126.96905 37.56819, 126.96801 37.567...  \n",
       "6        2463      900  POLYGON ((126.98914 37.59131, 126.98831 37.587...  \n",
       "7        3547     1865  POLYGON ((126.99650 37.58102, 126.99641 37.580...  \n",
       "8        2594     1089  POLYGON ((127.01016 37.57157, 127.00959 37.569...  \n",
       "9        4677     1302  POLYGON ((127.00733 37.58320, 127.00884 37.580...  "
      ]
     },
     "execution_count": 5,
     "metadata": {},
     "output_type": "execute_result"
    }
   ],
   "source": [
    "# _02 GeoDataFrame\n",
    "seoul_h_dong_gdf = gpd.read_file(_seoul_h_dong)\n",
    "print(seoul_h_dong_gdf.crs, '\\n')\n",
    "seoul_h_dong_gdf.info()\n",
    "seoul_h_dong_gdf.head(10)"
   ]
  },
  {
   "cell_type": "code",
   "execution_count": 6,
   "metadata": {},
   "outputs": [
    {
     "data": {
      "text/plain": [
       "<AxesSubplot:>"
      ]
     },
     "execution_count": 6,
     "metadata": {},
     "output_type": "execute_result"
    },
    {
     "data": {
      "image/png": "[encoded data removed]",
      "text/plain": [
       "<Figure size 432x288 with 1 Axes>"
      ]
     },
     "metadata": {
      "needs_background": "light"
     },
     "output_type": "display_data"
    }
   ],
   "source": [
    "# _03 법정동 지도 보기\n",
    "seoul_h_dong_gdf.plot(color='gray')"
   ]
  },
  {
   "cell_type": "markdown",
   "metadata": {},
   "source": [
    "####  Dissolve를 이용해 행정동 -> 시군구 지도 데이터 만들기\n",
    "\n",
    "![dissolve.png](attachment:dissolve.png)"
   ]
  },
  {
   "cell_type": "code",
   "execution_count": null,
   "metadata": {},
   "outputs": [],
   "source": []
  }
 ],
 "metadata": {
  "interpreter": {
   "hash": "9652531e86fbc99dfe7fc5092eb81081a97fad237de3d1fd3b3a0d1c69c61538"
  },
  "kernelspec": {
   "display_name": "Python 3.9.7 64-bit ('ox': conda)",
   "name": "python3"
  },
  "language_info": {
   "codemirror_mode": {
    "name": "ipython",
    "version": 3
   },
   "file_extension": ".py",
   "mimetype": "text/x-python",
   "name": "python",
   "nbconvert_exporter": "python",
   "pygments_lexer": "ipython3",
   "version": "3.9.7"
  },
  "orig_nbformat": 4
 },
 "nbformat": 4,
 "nbformat_minor": 2
}
