{
 "cells": [
  {
   "cell_type": "code",
   "execution_count": 23,
   "id": "6d7c052a",
   "metadata": {},
   "outputs": [],
   "source": [
    "import psycopg2\n",
    "class Databases():\n",
    "    def __init__(self):\n",
    "        self.db = psycopg2.connect(host='localhost', dbname='Koroad',user='postgres',password='1234',port=5433)\n",
    "        self.cursor = self.db.cursor()\n",
    "\n",
    "    def __del__(self):\n",
    "        self.db.close()\n",
    "        self.cursor.close()\n",
    "\n",
    "    def execute(self,query,args={}):\n",
    "        self.cursor.execute(query,args)\n",
    "        row = self.cursor.fetchall()\n",
    "        return row\n",
    "\n",
    "    def commit(self):\n",
    "        self.cursor.commit()\n",
    "\n",
    "    def readDB(self, target, schema = 'public', table = 'test_table'):\n",
    "        target = \"'\" + target + \"'\"\n",
    "        sql = \"SELECT * from {}.{} WHERE name in ({}, '전체')\".format(schema,table,target)\n",
    "        try:\n",
    "            self.cursor.execute(sql)\n",
    "            result = self.cursor.fetchall()\n",
    "        except Exception as e :\n",
    "            result = (\" read DB err\",e)\n",
    "        return result\n",
    "    \n",
    "    def updateDB(self, df, schema = 'public', table = 'test_table'):\n",
    "        sql = 'UPDATE {}.{} SET total = total + {}, Ta1=Ta1+{}, Ta2=Ta2+{}, Ta3=Ta3+{}, Ta4=Ta4+{}, Ta5=Ta5+{}, Ta6=Ta6+{}, Ta7=Ta7+{}, Ta8=Ta8+{}, Ta9=Ta9+{}, Ta10=Ta10+{} WHERE name = {}'.format(schema,table, df[1], df[2], df[3],df[4],df[5],df[6],df[7],df[8],df[9],df[10],df[11],\"'\" + df[0] + \"'\")                         \n",
    "        try :\n",
    "            self.cursor.execute(sql)\n",
    "            self.db.commit()\n",
    "        except Exception as e :\n",
    "            print(\" update DB err\", 'error = 1', e)\n",
    "        \n",
    "        sql = 'UPDATE {}.{} SET total = total + {}, Ta1=Ta1+{}, Ta2=Ta2+{}, Ta3=Ta3+{}, Ta4=Ta4+{}, Ta5=Ta5+{}, Ta6=Ta6+{}, Ta7=Ta7+{}, Ta8=Ta8+{}, Ta9=Ta9+{}, Ta10=Ta10+{} WHERE name = {}'.format(schema,table, df[1], df[2], df[3],df[4],df[5],df[6],df[7],df[8],df[9],df[10],df[11],\"'\" + '전체' + \"'\")                         \n",
    "        try :\n",
    "            self.cursor.execute(sql)\n",
    "            self.db.commit()\n",
    "        except Exception as e :\n",
    "            print(\" update DB err\", 'error = 2', e)"
   ]
  },
  {
   "cell_type": "code",
   "execution_count": 24,
   "id": "6ac8437b",
   "metadata": {},
   "outputs": [],
   "source": [
    "ans = Databases()"
   ]
  },
  {
   "cell_type": "code",
   "execution_count": 27,
   "id": "1f16f12d",
   "metadata": {},
   "outputs": [
    {
     "data": {
      "text/plain": [
       "[(0, '전체', 100, 6, 5, 3, 1, 8, 4, 10, 1, 4, 5),\n",
       " (2, 'B', 105, 7, 5, 7, 10, 10, 11, 8, 13, 4, 12)]"
      ]
     },
     "execution_count": 27,
     "metadata": {},
     "output_type": "execute_result"
    }
   ],
   "source": [
    "ans.readDB(target = 'B')"
   ]
  },
  {
   "cell_type": "code",
   "execution_count": 28,
   "id": "d6b1c654",
   "metadata": {},
   "outputs": [
    {
     "data": {
      "text/plain": [
       "[(0, '전체', 100, 6, 5, 3, 1, 8, 4, 10, 1, 4, 5),\n",
       " (2, 'B', 110, 8, 6, 8, 11, 11, 12, 9, 14, 5, 13)]"
      ]
     },
     "execution_count": 28,
     "metadata": {},
     "output_type": "execute_result"
    }
   ],
   "source": [
    "data = ['B', 5, 1, 1, 1, 1, 1, 1, 1, 1, 1, 1]\n",
    "ans.updateDB(schema = 'public', table = 'test_table', df = data)\n",
    "ans.readDB(target = 'B')"
   ]
  },
  {
   "cell_type": "code",
   "execution_count": null,
   "id": "5f477832",
   "metadata": {},
   "outputs": [],
   "source": []
  },
  {
   "cell_type": "code",
   "execution_count": null,
   "id": "38e4aebf",
   "metadata": {},
   "outputs": [],
   "source": []
  }
 ],
 "metadata": {
  "kernelspec": {
   "display_name": "Python 3",
   "language": "python",
   "name": "python3"
  },
  "language_info": {
   "codemirror_mode": {
    "name": "ipython",
    "version": 3
   },
   "file_extension": ".py",
   "mimetype": "text/x-python",
   "name": "python",
   "nbconvert_exporter": "python",
   "pygments_lexer": "ipython3",
   "version": "3.8.8"
  }
 },
 "nbformat": 4,
 "nbformat_minor": 5
}
