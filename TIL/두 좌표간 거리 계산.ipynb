{
 "cells": [
  {
   "cell_type": "code",
   "execution_count": 1,
   "metadata": {},
   "outputs": [],
   "source": [
    "import pandas as pd\n",
    "import geopandas as gpd"
   ]
  },
  {
   "cell_type": "code",
   "execution_count": 2,
   "metadata": {},
   "outputs": [
    {
     "data": {
      "text/html": [
       "<div>\n",
       "<style scoped>\n",
       "    .dataframe tbody tr th:only-of-type {\n",
       "        vertical-align: middle;\n",
       "    }\n",
       "\n",
       "    .dataframe tbody tr th {\n",
       "        vertical-align: top;\n",
       "    }\n",
       "\n",
       "    .dataframe thead th {\n",
       "        text-align: right;\n",
       "    }\n",
       "</style>\n",
       "<table border=\"1\" class=\"dataframe\">\n",
       "  <thead>\n",
       "    <tr style=\"text-align: right;\">\n",
       "      <th></th>\n",
       "      <th>name</th>\n",
       "      <th>psname</th>\n",
       "      <th>지구대파출소</th>\n",
       "      <th>X좌표</th>\n",
       "      <th>Y좌표</th>\n",
       "      <th>주소</th>\n",
       "    </tr>\n",
       "  </thead>\n",
       "  <tbody>\n",
       "    <tr>\n",
       "      <th>0</th>\n",
       "      <td>경남청</td>\n",
       "      <td>진주경찰서</td>\n",
       "      <td>개양파출소</td>\n",
       "      <td>128.107802</td>\n",
       "      <td>35.156949</td>\n",
       "      <td>경상남도 진주시 가좌동 448-3</td>\n",
       "    </tr>\n",
       "    <tr>\n",
       "      <th>1</th>\n",
       "      <td>경남청</td>\n",
       "      <td>진주경찰서</td>\n",
       "      <td>금산파출소</td>\n",
       "      <td>128.148163</td>\n",
       "      <td>35.213726</td>\n",
       "      <td>경상남도 진주시 금산면 장사리 930-1</td>\n",
       "    </tr>\n",
       "    <tr>\n",
       "      <th>2</th>\n",
       "      <td>경남청</td>\n",
       "      <td>진주경찰서</td>\n",
       "      <td>남강지구대</td>\n",
       "      <td>128.072194</td>\n",
       "      <td>35.189701</td>\n",
       "      <td>경상남도 진주시 인사동 182-19</td>\n",
       "    </tr>\n",
       "    <tr>\n",
       "      <th>3</th>\n",
       "      <td>경남청</td>\n",
       "      <td>진주경찰서</td>\n",
       "      <td>대곡파출소</td>\n",
       "      <td>128.168509</td>\n",
       "      <td>35.262218</td>\n",
       "      <td>경상남도 진주시 대곡면 광석리 314-1</td>\n",
       "    </tr>\n",
       "    <tr>\n",
       "      <th>4</th>\n",
       "      <td>경남청</td>\n",
       "      <td>진주경찰서</td>\n",
       "      <td>문산파출소</td>\n",
       "      <td>128.164086</td>\n",
       "      <td>35.167648</td>\n",
       "      <td>경상남도 진주시 문산읍 삼곡리 1264-12</td>\n",
       "    </tr>\n",
       "  </tbody>\n",
       "</table>\n",
       "</div>"
      ],
      "text/plain": [
       "  name psname 지구대파출소         X좌표        Y좌표                        주소\n",
       "0  경남청  진주경찰서  개양파출소  128.107802  35.156949        경상남도 진주시 가좌동 448-3\n",
       "1  경남청  진주경찰서  금산파출소  128.148163  35.213726    경상남도 진주시 금산면 장사리 930-1\n",
       "2  경남청  진주경찰서  남강지구대  128.072194  35.189701       경상남도 진주시 인사동 182-19\n",
       "3  경남청  진주경찰서  대곡파출소  128.168509  35.262218    경상남도 진주시 대곡면 광석리 314-1\n",
       "4  경남청  진주경찰서  문산파출소  128.164086  35.167648  경상남도 진주시 문산읍 삼곡리 1264-12"
      ]
     },
     "execution_count": 2,
     "metadata": {},
     "output_type": "execute_result"
    }
   ],
   "source": [
    "df = pd.read_csv('C:\\\\Users\\\\user\\\\Desktop\\\\경찰관서현황.csv')\n",
    "df.head()"
   ]
  },
  {
   "cell_type": "code",
   "execution_count": 3,
   "metadata": {},
   "outputs": [
    {
     "name": "stderr",
     "output_type": "stream",
     "text": [
      "C:\\Users\\user\\anaconda3\\envs\\ox\\lib\\site-packages\\pyproj\\crs\\crs.py:131: FutureWarning: '+init=<authority>:<code>' syntax is deprecated. '<authority>:<code>' is the preferred initialization method. When making the change, be mindful of axis order changes: https://pyproj4.github.io/pyproj/stable/gotchas.html#axis-order-changes-in-proj-6\n",
      "  in_crs_string = _prepare_from_proj_string(in_crs_string)\n"
     ]
    },
    {
     "data": {
      "text/html": [
       "<div>\n",
       "<style scoped>\n",
       "    .dataframe tbody tr th:only-of-type {\n",
       "        vertical-align: middle;\n",
       "    }\n",
       "\n",
       "    .dataframe tbody tr th {\n",
       "        vertical-align: top;\n",
       "    }\n",
       "\n",
       "    .dataframe thead th {\n",
       "        text-align: right;\n",
       "    }\n",
       "</style>\n",
       "<table border=\"1\" class=\"dataframe\">\n",
       "  <thead>\n",
       "    <tr style=\"text-align: right;\">\n",
       "      <th></th>\n",
       "      <th>name</th>\n",
       "      <th>psname</th>\n",
       "      <th>지구대파출소</th>\n",
       "      <th>X좌표</th>\n",
       "      <th>Y좌표</th>\n",
       "      <th>주소</th>\n",
       "      <th>geometry</th>\n",
       "    </tr>\n",
       "  </thead>\n",
       "  <tbody>\n",
       "    <tr>\n",
       "      <th>0</th>\n",
       "      <td>경남청</td>\n",
       "      <td>진주경찰서</td>\n",
       "      <td>개양파출소</td>\n",
       "      <td>128.107802</td>\n",
       "      <td>35.156949</td>\n",
       "      <td>경상남도 진주시 가좌동 448-3</td>\n",
       "      <td>POINT (128.10780 35.15695)</td>\n",
       "    </tr>\n",
       "    <tr>\n",
       "      <th>1</th>\n",
       "      <td>경남청</td>\n",
       "      <td>진주경찰서</td>\n",
       "      <td>금산파출소</td>\n",
       "      <td>128.148163</td>\n",
       "      <td>35.213726</td>\n",
       "      <td>경상남도 진주시 금산면 장사리 930-1</td>\n",
       "      <td>POINT (128.14816 35.21373)</td>\n",
       "    </tr>\n",
       "    <tr>\n",
       "      <th>2</th>\n",
       "      <td>경남청</td>\n",
       "      <td>진주경찰서</td>\n",
       "      <td>남강지구대</td>\n",
       "      <td>128.072194</td>\n",
       "      <td>35.189701</td>\n",
       "      <td>경상남도 진주시 인사동 182-19</td>\n",
       "      <td>POINT (128.07219 35.18970)</td>\n",
       "    </tr>\n",
       "    <tr>\n",
       "      <th>3</th>\n",
       "      <td>경남청</td>\n",
       "      <td>진주경찰서</td>\n",
       "      <td>대곡파출소</td>\n",
       "      <td>128.168509</td>\n",
       "      <td>35.262218</td>\n",
       "      <td>경상남도 진주시 대곡면 광석리 314-1</td>\n",
       "      <td>POINT (128.16851 35.26222)</td>\n",
       "    </tr>\n",
       "    <tr>\n",
       "      <th>4</th>\n",
       "      <td>경남청</td>\n",
       "      <td>진주경찰서</td>\n",
       "      <td>문산파출소</td>\n",
       "      <td>128.164086</td>\n",
       "      <td>35.167648</td>\n",
       "      <td>경상남도 진주시 문산읍 삼곡리 1264-12</td>\n",
       "      <td>POINT (128.16409 35.16765)</td>\n",
       "    </tr>\n",
       "  </tbody>\n",
       "</table>\n",
       "</div>"
      ],
      "text/plain": [
       "  name psname 지구대파출소         X좌표        Y좌표                        주소  \\\n",
       "0  경남청  진주경찰서  개양파출소  128.107802  35.156949        경상남도 진주시 가좌동 448-3   \n",
       "1  경남청  진주경찰서  금산파출소  128.148163  35.213726    경상남도 진주시 금산면 장사리 930-1   \n",
       "2  경남청  진주경찰서  남강지구대  128.072194  35.189701       경상남도 진주시 인사동 182-19   \n",
       "3  경남청  진주경찰서  대곡파출소  128.168509  35.262218    경상남도 진주시 대곡면 광석리 314-1   \n",
       "4  경남청  진주경찰서  문산파출소  128.164086  35.167648  경상남도 진주시 문산읍 삼곡리 1264-12   \n",
       "\n",
       "                     geometry  \n",
       "0  POINT (128.10780 35.15695)  \n",
       "1  POINT (128.14816 35.21373)  \n",
       "2  POINT (128.07219 35.18970)  \n",
       "3  POINT (128.16851 35.26222)  \n",
       "4  POINT (128.16409 35.16765)  "
      ]
     },
     "execution_count": 3,
     "metadata": {},
     "output_type": "execute_result"
    }
   ],
   "source": [
    "df = gpd.GeoDataFrame(df, geometry = gpd.points_from_xy(df.X좌표, df.Y좌표))\n",
    "df.crs = {'init': 'epsg:4326'}\n",
    "\n",
    "df.head()"
   ]
  },
  {
   "cell_type": "code",
   "execution_count": 4,
   "metadata": {},
   "outputs": [
    {
     "name": "stdout",
     "output_type": "stream",
     "text": [
      "-------\n",
      "개양파출소 금산파출소\n",
      "0.06966027595136785\n",
      "-------\n",
      "개양파출소 남강지구대\n",
      "0.048379845969372635\n",
      "-------\n",
      "개양파출소 대곡파출소\n",
      "0.12151860715306219\n",
      "-------\n",
      "개양파출소 문산파출소\n",
      "0.05729169223901973\n"
     ]
    }
   ],
   "source": [
    "for x in range(len(df)):\n",
    "    for y in range(x+1, 5):\n",
    "        print('-------')\n",
    "        print(df.loc[x, '지구대파출소'], df.loc[y, '지구대파출소'])\n",
    "        print(df['geometry'].loc[x].distance(df['geometry'].loc[y]))\n",
    "    break\n"
   ]
  },
  {
   "cell_type": "markdown",
   "metadata": {},
   "source": [
    "# 폴리곤 중심점"
   ]
  },
  {
   "cell_type": "code",
   "execution_count": 5,
   "metadata": {},
   "outputs": [
    {
     "data": {
      "text/html": [
       "<div>\n",
       "<style scoped>\n",
       "    .dataframe tbody tr th:only-of-type {\n",
       "        vertical-align: middle;\n",
       "    }\n",
       "\n",
       "    .dataframe tbody tr th {\n",
       "        vertical-align: top;\n",
       "    }\n",
       "\n",
       "    .dataframe thead th {\n",
       "        text-align: right;\n",
       "    }\n",
       "</style>\n",
       "<table border=\"1\" class=\"dataframe\">\n",
       "  <thead>\n",
       "    <tr style=\"text-align: right;\">\n",
       "      <th></th>\n",
       "      <th>EMD_CD</th>\n",
       "      <th>EMD_NM</th>\n",
       "      <th>SGG_OID</th>\n",
       "      <th>COL_ADM_SE</th>\n",
       "      <th>GID</th>\n",
       "      <th>geometry</th>\n",
       "    </tr>\n",
       "  </thead>\n",
       "  <tbody>\n",
       "    <tr>\n",
       "      <th>0</th>\n",
       "      <td>11440124</td>\n",
       "      <td>¿¬³²µ¿</td>\n",
       "      <td>4579</td>\n",
       "      <td>11440</td>\n",
       "      <td>5134</td>\n",
       "      <td>POLYGON ((948463.577 1952085.035, 948483.560 1...</td>\n",
       "    </tr>\n",
       "    <tr>\n",
       "      <th>1</th>\n",
       "      <td>11440121</td>\n",
       "      <td>µ¿±³µ¿</td>\n",
       "      <td>4899</td>\n",
       "      <td>11440</td>\n",
       "      <td>5145</td>\n",
       "      <td>MULTIPOLYGON (((948665.278 1951067.358, 948676...</td>\n",
       "    </tr>\n",
       "    <tr>\n",
       "      <th>2</th>\n",
       "      <td>11290104</td>\n",
       "      <td>µ¿¼Ò¹®µ¿1°¡</td>\n",
       "      <td>1105</td>\n",
       "      <td>11290</td>\n",
       "      <td>2809</td>\n",
       "      <td>POLYGON ((956316.467 1954570.243, 956321.222 1...</td>\n",
       "    </tr>\n",
       "    <tr>\n",
       "      <th>3</th>\n",
       "      <td>11290123</td>\n",
       "      <td>¾È¾Ïµ¿3°¡</td>\n",
       "      <td>406</td>\n",
       "      <td>11290</td>\n",
       "      <td>2810</td>\n",
       "      <td>POLYGON ((958047.781 1954203.838, 958038.530 1...</td>\n",
       "    </tr>\n",
       "    <tr>\n",
       "      <th>4</th>\n",
       "      <td>11590103</td>\n",
       "      <td>»óµµ1µ¿</td>\n",
       "      <td>385</td>\n",
       "      <td>11590</td>\n",
       "      <td>2665</td>\n",
       "      <td>POLYGON ((951048.818 1945025.905, 951059.497 1...</td>\n",
       "    </tr>\n",
       "  </tbody>\n",
       "</table>\n",
       "</div>"
      ],
      "text/plain": [
       "     EMD_CD       EMD_NM  SGG_OID COL_ADM_SE   GID  \\\n",
       "0  11440124       ¿¬³²µ¿     4579      11440  5134   \n",
       "1  11440121       µ¿±³µ¿     4899      11440  5145   \n",
       "2  11290104  µ¿¼Ò¹®µ¿1°¡     1105      11290  2809   \n",
       "3  11290123    ¾È¾Ïµ¿3°¡      406      11290  2810   \n",
       "4  11590103      »óµµ1µ¿      385      11590  2665   \n",
       "\n",
       "                                            geometry  \n",
       "0  POLYGON ((948463.577 1952085.035, 948483.560 1...  \n",
       "1  MULTIPOLYGON (((948665.278 1951067.358, 948676...  \n",
       "2  POLYGON ((956316.467 1954570.243, 956321.222 1...  \n",
       "3  POLYGON ((958047.781 1954203.838, 958038.530 1...  \n",
       "4  POLYGON ((951048.818 1945025.905, 951059.497 1...  "
      ]
     },
     "execution_count": 5,
     "metadata": {},
     "output_type": "execute_result"
    }
   ],
   "source": [
    "Seoul = gpd.GeoDataFrame.from_file('C:\\\\Users\\\\user\\\\Desktop\\\\LSMD_ADM_SECT_UMD_11.shp')\n",
    "Seoul.head()"
   ]
  },
  {
   "cell_type": "code",
   "execution_count": 6,
   "metadata": {},
   "outputs": [
    {
     "data": {
      "text/plain": [
       "<AxesSubplot:>"
      ]
     },
     "execution_count": 6,
     "metadata": {},
     "output_type": "execute_result"
    },
    {
     "data": {
      "image/png": "[encoded data removed]",
      "text/plain": [
       "<Figure size 432x288 with 1 Axes>"
      ]
     },
     "metadata": {
      "needs_background": "light"
     },
     "output_type": "display_data"
    }
   ],
   "source": [
    "Seoul.plot()"
   ]
  },
  {
   "cell_type": "code",
   "execution_count": 9,
   "metadata": {},
   "outputs": [
    {
     "name": "stdout",
     "output_type": "stream",
     "text": [
      "948911.9631722016 1951674.8869983854\n"
     ]
    }
   ],
   "source": [
    "for i in range(len(Seoul)):\n",
    "    print(Seoul['geometry'].centroid.x.iloc[i], Seoul['geometry'].centroid.y.iloc[i])\n",
    "    break"
   ]
  }
 ],
 "metadata": {
  "interpreter": {
   "hash": "9652531e86fbc99dfe7fc5092eb81081a97fad237de3d1fd3b3a0d1c69c61538"
  },
  "kernelspec": {
   "display_name": "Python 3.9.7 64-bit ('ox': conda)",
   "name": "python3"
  },
  "language_info": {
   "codemirror_mode": {
    "name": "ipython",
    "version": 3
   },
   "file_extension": ".py",
   "mimetype": "text/x-python",
   "name": "python",
   "nbconvert_exporter": "python",
   "pygments_lexer": "ipython3",
   "version": "3.9.7"
  },
  "orig_nbformat": 4
 },
 "nbformat": 4,
 "nbformat_minor": 2
}
