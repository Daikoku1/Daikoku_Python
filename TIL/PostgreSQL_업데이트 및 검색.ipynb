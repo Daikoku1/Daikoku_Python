{
 "cells": [
  {
   "cell_type": "code",
   "execution_count": 1,
   "id": "6d7c052a",
   "metadata": {},
   "outputs": [],
   "source": [
    "import psycopg2\n",
    "class Databases():\n",
    "    def __init__(self):\n",
    "        self.db = psycopg2.connect(host='localhost', dbname='Koroad',user='postgres',password='1234',port=5433)\n",
    "        self.cursor = self.db.cursor()\n",
    "\n",
    "    def __del__(self):\n",
    "        self.db.close()\n",
    "        self.cursor.close()\n",
    "\n",
    "    def execute(self,query,args={}):\n",
    "        self.cursor.execute(query,args)\n",
    "        row = self.cursor.fetchall()\n",
    "        return row\n",
    "\n",
    "    def commit(self):\n",
    "        self.cursor.commit()\n",
    "\n",
    "    def readDB(self, target, schema = 'public', table = 'test_table'):\n",
    "        target = \"'\" + target + \"'\"\n",
    "        sql = \"SELECT * from {}.{} WHERE name in ({}, '전체')\".format(schema,table,target)\n",
    "        try:\n",
    "            self.cursor.execute(sql)\n",
    "            result = self.cursor.fetchall()\n",
    "            print(result)\n",
    "            t = ['기어', '주차브레이크', '가속불가', '정지시 미제동', '타력주행', '엔진미정지', '신호계속', '급조작', '30미터 전 미신호', '핸들 조작 미숙']\n",
    "            ans = []\n",
    "            for i in range(3, len(result[0])+1):\n",
    "                score = abs((result[1][i] / result[0][2]* 100) - result[0][i] / result[0][2] * 100)\n",
    "                ans.append((score, t[i - 3]))\n",
    "            return [y for x, y in sorted(ans)]\n",
    "\n",
    "\n",
    "        except Exception as e :\n",
    "            result = (\" read DB err\",e)\n",
    "        return result\n",
    "    \n",
    "    def updateDB(self, df, schema = 'public', table = 'test_table'):\n",
    "        sql = 'UPDATE {}.{} SET total = total + {}, Ta1=Ta1+{}, Ta2=Ta2+{}, Ta3=Ta3+{}, Ta4=Ta4+{}, Ta5=Ta5+{}, Ta6=Ta6+{}, Ta7=Ta7+{}, Ta8=Ta8+{}, Ta9=Ta9+{}, Ta10=Ta10+{} WHERE name = {}'.format(schema,table, df[1], df[2], df[3],df[4],df[5],df[6],df[7],df[8],df[9],df[10],df[11],\"'\" + df[0] + \"'\")                         \n",
    "        try :\n",
    "            self.cursor.execute(sql)\n",
    "            self.db.commit()\n",
    "        except Exception as e :\n",
    "            print(\" update DB err\", 'error = 1', e)\n",
    "        \n",
    "        sql = 'UPDATE {}.{} SET total = total + {}, Ta1=Ta1+{}, Ta2=Ta2+{}, Ta3=Ta3+{}, Ta4=Ta4+{}, Ta5=Ta5+{}, Ta6=Ta6+{}, Ta7=Ta7+{}, Ta8=Ta8+{}, Ta9=Ta9+{}, Ta10=Ta10+{} WHERE name = {}'.format(schema,table, df[1], df[2], df[3],df[4],df[5],df[6],df[7],df[8],df[9],df[10],df[11],\"'\" + '전체' + \"'\")                         \n",
    "        try :\n",
    "            self.cursor.execute(sql)\n",
    "            self.db.commit()\n",
    "        except Exception as e :\n",
    "            print(\" update DB err\", 'error = 2', e)"
   ]
  },
  {
   "cell_type": "code",
   "execution_count": 2,
   "id": "6ac8437b",
   "metadata": {},
   "outputs": [],
   "source": [
    "ans = Databases()"
   ]
  },
  {
   "cell_type": "code",
   "execution_count": 3,
   "id": "1f16f12d",
   "metadata": {},
   "outputs": [
    {
     "name": "stdout",
     "output_type": "stream",
     "text": [
      "[(2, 'B', 115, 9, 7, 9, 12, 12, 13, 10, 15, 6, 14), (0, '전체', 105, 7, 6, 4, 2, 9, 5, 11, 2, 5, 6)]\n"
     ]
    },
    {
     "data": {
      "text/plain": [
       "(' read DB err', IndexError('tuple index out of range'))"
      ]
     },
     "execution_count": 3,
     "metadata": {},
     "output_type": "execute_result"
    }
   ],
   "source": [
    "ans.readDB(target = 'B')"
   ]
  },
  {
   "cell_type": "code",
   "execution_count": 6,
   "metadata": {},
   "outputs": [
    {
     "name": "stdout",
     "output_type": "stream",
     "text": [
      "1.7391304347826093\n",
      "0.8695652173913047\n",
      "4.347826086956523\n",
      "8.695652173913043\n",
      "2.608695652173912\n",
      "6.9565217391304355\n",
      "0.8695652173913047\n",
      "11.304347826086955\n",
      "0.8695652173913047\n",
      "6.9565217391304355\n"
     ]
    }
   ],
   "source": [
    "a = [(2, 'B', 115, 9, 7, 9, 12, 12, 13, 10, 15, 6, 14), (0, '전체', 105, 7, 6, 4, 2, 9, 5, 11, 2, 5, 6)]\n",
    "for i in range(3, len(a[0])):\n",
    "    score = abs((a[1][i] / a[0][2]* 100) - a[0][i] / a[0][2] * 100)\n",
    "    print(score)"
   ]
  },
  {
   "cell_type": "code",
   "execution_count": 5,
   "id": "d6b1c654",
   "metadata": {},
   "outputs": [
    {
     "data": {
      "text/plain": [
       "[]"
      ]
     },
     "execution_count": 5,
     "metadata": {},
     "output_type": "execute_result"
    }
   ],
   "source": [
    "data = ['B', 5, 1, 1, 1, 1, 1, 1, 1, 1, 1, 1]\n",
    "ans.updateDB(schema = 'public', table = 'test_table', df = data)\n",
    "ans.readDB(target = 'B')"
   ]
  }
 ],
 "metadata": {
  "interpreter": {
   "hash": "6d46af94c2bbce495f1e668725902fa517c90b1782bcfe2fce0dd9868df553d3"
  },
  "kernelspec": {
   "display_name": "Python 3.8.8 64-bit ('base': conda)",
   "name": "python3"
  },
  "language_info": {
   "codemirror_mode": {
    "name": "ipython",
    "version": 3
   },
   "file_extension": ".py",
   "mimetype": "text/x-python",
   "name": "python",
   "nbconvert_exporter": "python",
   "pygments_lexer": "ipython3",
   "version": "3.8.8"
  }
 },
 "nbformat": 4,
 "nbformat_minor": 5
}
