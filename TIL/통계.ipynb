{
 "cells": [
  {
   "cell_type": "code",
   "execution_count": 1,
   "metadata": {},
   "outputs": [],
   "source": [
    "from DB_rcud import Databases"
   ]
  },
  {
   "cell_type": "code",
   "execution_count": 2,
   "metadata": {},
   "outputs": [],
   "source": [
    "sol = Databases()"
   ]
  },
  {
   "cell_type": "code",
   "execution_count": 3,
   "metadata": {},
   "outputs": [
    {
     "name": "stdout",
     "output_type": "stream",
     "text": [
      "30미터 전 미신호 항목 점수평균이 0.87% 더 낮습니다.\n",
      "신호계속 항목 점수평균이 0.87% 더 높습니다.\n",
      "주차브레이크 항목 점수평균이 0.87% 더 낮습니다.\n"
     ]
    }
   ],
   "source": [
    "sol.read_biggest(target = 'B')"
   ]
  },
  {
   "cell_type": "markdown",
   "metadata": {},
   "source": [
    "- db에 인덱스 항 필요없음\n",
    "- db에 카운팅 횟수를 저장하고, 확률은 불러온 후에 조작 ( db에 저장 데이터 줄이기 위함)\n",
    "- 출력할 것\n",
    "    - 차이가 심하게 나는 항목( 낮거나 높거나 // 5%(기준예시) 이상 차이 나는 것) - 최대 개수 정해서 큰 순으로 올리기\n",
    "    - 해당 항목 그래프"
   ]
  }
 ],
 "metadata": {
  "interpreter": {
   "hash": "6d46af94c2bbce495f1e668725902fa517c90b1782bcfe2fce0dd9868df553d3"
  },
  "kernelspec": {
   "display_name": "Python 3.8.8 64-bit ('base': conda)",
   "name": "python3"
  },
  "language_info": {
   "codemirror_mode": {
    "name": "ipython",
    "version": 3
   },
   "file_extension": ".py",
   "mimetype": "text/x-python",
   "name": "python",
   "nbconvert_exporter": "python",
   "pygments_lexer": "ipython3",
   "version": "3.8.8"
  },
  "orig_nbformat": 4
 },
 "nbformat": 4,
 "nbformat_minor": 2
}
