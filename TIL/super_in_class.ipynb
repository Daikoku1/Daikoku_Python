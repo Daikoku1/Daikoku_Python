{
 "cells": [
  {
   "cell_type": "code",
   "execution_count": 6,
   "metadata": {},
   "outputs": [],
   "source": [
    "class SomeBaseClass(object):\n",
    "    def __init__(self):\n",
    "        print('SomeBaseClass.__init__(self) called')\n",
    "    \n",
    "class UnsuperChild(SomeBaseClass):\n",
    "    def __init__(self):\n",
    "        print('UnsuperChild.__init__(self) called')\n",
    "    \n",
    "class SuperChild(SomeBaseClass):\n",
    "    def __init__(self):\n",
    "        super().__init__()\n",
    "        print('SuperChild.__init__(self) called')\n",
    "    "
   ]
  },
  {
   "cell_type": "code",
   "execution_count": 7,
   "metadata": {},
   "outputs": [
    {
     "name": "stdout",
     "output_type": "stream",
     "text": [
      "UnsuperChild.__init__(self) called\n"
     ]
    }
   ],
   "source": [
    "o = UnsuperChild()"
   ]
  },
  {
   "cell_type": "code",
   "execution_count": 8,
   "metadata": {},
   "outputs": [
    {
     "name": "stdout",
     "output_type": "stream",
     "text": [
      "SomeBaseClass.__init__(self) called\n",
      "SuperChild.__init__(self) called\n"
     ]
    }
   ],
   "source": [
    "o = SuperChild()"
   ]
  },
  {
   "cell_type": "code",
   "execution_count": 42,
   "metadata": {},
   "outputs": [],
   "source": [
    "class SomeBaseClass(object):\n",
    "    def __init__(self, p1, p2):\n",
    "        self.p1 = p1\n",
    "        self.p2 = p2\n",
    "        self.mix = \"this is parent's mix\"\n",
    "    \n",
    "class nonkargs_Child(SomeBaseClass):\n",
    "    def __init__(self, c1, c2, **kwargs):\n",
    "        super().__init__()\n",
    "        self.c1 = c1\n",
    "        self.c2 = c2\n",
    "        self.mix = \"this is child's mix\"\n",
    "\n",
    "class kargs_Child(SomeBaseClass):\n",
    "    def __init__(self, c1, c2, **kwargs):\n",
    "        super().__init__(**kwargs)\n",
    "        self.c1 = c1\n",
    "        self.c2 = c2\n",
    "        self.mix = \"this is child's mix\""
   ]
  },
  {
   "cell_type": "code",
   "execution_count": 43,
   "metadata": {},
   "outputs": [
    {
     "ename": "TypeError",
     "evalue": "SomeBaseClass.__init__() missing 2 required positional arguments: 'p1' and 'p2'",
     "output_type": "error",
     "traceback": [
      "\u001b[1;31m---------------------------------------------------------------------------\u001b[0m",
      "\u001b[1;31mTypeError\u001b[0m                                 Traceback (most recent call last)",
      "\u001b[1;32m~\\AppData\\Local\\Temp/ipykernel_48416/3777287760.py\u001b[0m in \u001b[0;36m<module>\u001b[1;34m\u001b[0m\n\u001b[1;32m----> 1\u001b[1;33m o = nonkargs_Child(c1 = 'c1',\n\u001b[0m\u001b[0;32m      2\u001b[0m                     \u001b[0mc2\u001b[0m \u001b[1;33m=\u001b[0m \u001b[1;34m'c2'\u001b[0m\u001b[1;33m,\u001b[0m\u001b[1;33m\u001b[0m\u001b[1;33m\u001b[0m\u001b[0m\n\u001b[0;32m      3\u001b[0m                     \u001b[0mp1\u001b[0m \u001b[1;33m=\u001b[0m \u001b[1;34m'p1'\u001b[0m\u001b[1;33m,\u001b[0m\u001b[1;33m\u001b[0m\u001b[1;33m\u001b[0m\u001b[0m\n\u001b[0;32m      4\u001b[0m                     p2 = 'p2')\n",
      "\u001b[1;32m~\\AppData\\Local\\Temp/ipykernel_48416/1097090160.py\u001b[0m in \u001b[0;36m__init__\u001b[1;34m(self, c1, c2, **kwargs)\u001b[0m\n\u001b[0;32m      7\u001b[0m \u001b[1;32mclass\u001b[0m \u001b[0mnonkargs_Child\u001b[0m\u001b[1;33m(\u001b[0m\u001b[0mSomeBaseClass\u001b[0m\u001b[1;33m)\u001b[0m\u001b[1;33m:\u001b[0m\u001b[1;33m\u001b[0m\u001b[1;33m\u001b[0m\u001b[0m\n\u001b[0;32m      8\u001b[0m     \u001b[1;32mdef\u001b[0m \u001b[0m__init__\u001b[0m\u001b[1;33m(\u001b[0m\u001b[0mself\u001b[0m\u001b[1;33m,\u001b[0m \u001b[0mc1\u001b[0m\u001b[1;33m,\u001b[0m \u001b[0mc2\u001b[0m\u001b[1;33m,\u001b[0m \u001b[1;33m**\u001b[0m\u001b[0mkwargs\u001b[0m\u001b[1;33m)\u001b[0m\u001b[1;33m:\u001b[0m\u001b[1;33m\u001b[0m\u001b[1;33m\u001b[0m\u001b[0m\n\u001b[1;32m----> 9\u001b[1;33m         \u001b[0msuper\u001b[0m\u001b[1;33m(\u001b[0m\u001b[1;33m)\u001b[0m\u001b[1;33m.\u001b[0m\u001b[0m__init__\u001b[0m\u001b[1;33m(\u001b[0m\u001b[1;33m)\u001b[0m\u001b[1;33m\u001b[0m\u001b[1;33m\u001b[0m\u001b[0m\n\u001b[0m\u001b[0;32m     10\u001b[0m         \u001b[0mself\u001b[0m\u001b[1;33m.\u001b[0m\u001b[0mc1\u001b[0m \u001b[1;33m=\u001b[0m \u001b[0mc1\u001b[0m\u001b[1;33m\u001b[0m\u001b[1;33m\u001b[0m\u001b[0m\n\u001b[0;32m     11\u001b[0m         \u001b[0mself\u001b[0m\u001b[1;33m.\u001b[0m\u001b[0mc2\u001b[0m \u001b[1;33m=\u001b[0m \u001b[0mc2\u001b[0m\u001b[1;33m\u001b[0m\u001b[1;33m\u001b[0m\u001b[0m\n",
      "\u001b[1;31mTypeError\u001b[0m: SomeBaseClass.__init__() missing 2 required positional arguments: 'p1' and 'p2'"
     ]
    }
   ],
   "source": [
    "o = nonkargs_Child(c1 = 'c1',\n",
    "                    c2 = 'c2',\n",
    "                    p1 = 'p1',\n",
    "                    p2 = 'p2')"
   ]
  },
  {
   "cell_type": "code",
   "execution_count": 45,
   "metadata": {},
   "outputs": [
    {
     "name": "stdout",
     "output_type": "stream",
     "text": [
      "p1\n",
      "p2\n",
      "c1\n",
      "c2\n",
      "this is child's mix\n"
     ]
    }
   ],
   "source": [
    "o = kargs_Child(c1 = 'c1',\n",
    "                c2 = 'c2', \n",
    "                p1 = 'p1',\n",
    "                p2 = 'p2')\n",
    "print(o.p1)\n",
    "print(o.p2)\n",
    "print(o.c1)\n",
    "print(o.c2)\n",
    "print(o.mix)"
   ]
  },
  {
   "cell_type": "code",
   "execution_count": null,
   "metadata": {},
   "outputs": [],
   "source": []
  },
  {
   "cell_type": "code",
   "execution_count": 2,
   "metadata": {},
   "outputs": [],
   "source": [
    "class SomeBaseClass(object):\n",
    "    def __init__(self):\n",
    "        print('SomeBaseClass.__init__(self) called')\n",
    "    \n",
    "class UnsuperChild(SomeBaseClass):\n",
    "    def __init__(self):\n",
    "        print('UnsuperChild.__init__(self) called')\n",
    "        SomeBaseClass.__init__(self)\n",
    "    \n",
    "class SuperChild(SomeBaseClass):\n",
    "    def __init__(self):\n",
    "        print('SuperChild.__init__(self) called')\n",
    "        super().__init__()\n"
   ]
  },
  {
   "cell_type": "code",
   "execution_count": 3,
   "metadata": {},
   "outputs": [],
   "source": [
    "class InjectMe(SomeBaseClass):\n",
    "    def __init__(self):\n",
    "        print('InjectMe.__init__(self) called')\n",
    "        super().__init__()\n",
    "\n",
    "class UnsuperInjector(UnsuperChild, InjectMe): pass\n",
    "\n",
    "class SuperInjector(SuperChild, InjectMe): pass"
   ]
  },
  {
   "cell_type": "code",
   "execution_count": 4,
   "metadata": {},
   "outputs": [
    {
     "name": "stdout",
     "output_type": "stream",
     "text": [
      "UnsuperChild.__init__(self) called\n",
      "SomeBaseClass.__init__(self) called\n"
     ]
    }
   ],
   "source": [
    "o = UnsuperInjector()"
   ]
  },
  {
   "cell_type": "code",
   "execution_count": 5,
   "metadata": {},
   "outputs": [
    {
     "name": "stdout",
     "output_type": "stream",
     "text": [
      "SuperChild.__init__(self) called\n",
      "InjectMe.__init__(self) called\n",
      "SomeBaseClass.__init__(self) called\n"
     ]
    }
   ],
   "source": [
    "o2 = SuperInjector()"
   ]
  },
  {
   "cell_type": "code",
   "execution_count": null,
   "metadata": {},
   "outputs": [],
   "source": []
  }
 ],
 "metadata": {
  "interpreter": {
   "hash": "9652531e86fbc99dfe7fc5092eb81081a97fad237de3d1fd3b3a0d1c69c61538"
  },
  "kernelspec": {
   "display_name": "Python 3.9.7 64-bit ('ox': conda)",
   "language": "python",
   "name": "python3"
  },
  "language_info": {
   "codemirror_mode": {
    "name": "ipython",
    "version": 3
   },
   "file_extension": ".py",
   "mimetype": "text/x-python",
   "name": "python",
   "nbconvert_exporter": "python",
   "pygments_lexer": "ipython3",
   "version": "3.10.0"
  },
  "orig_nbformat": 4
 },
 "nbformat": 4,
 "nbformat_minor": 2
}
