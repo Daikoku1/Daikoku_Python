{
 "cells": [
  {
   "cell_type": "code",
   "execution_count": 6,
   "metadata": {},
   "outputs": [],
   "source": [
    "class SomeBaseClass(object):\n",
    "    def __init__(self):\n",
    "        print('SomeBaseClass.__init__(self) called')\n",
    "    \n",
    "class UnsuperChild(SomeBaseClass):\n",
    "    def __init__(self):\n",
    "        print('UnsuperChild.__init__(self) called')\n",
    "    \n",
    "class SuperChild(SomeBaseClass):\n",
    "    def __init__(self):\n",
    "        super().__init__()\n",
    "        print('SuperChild.__init__(self) called')"
   ]
  },
  {
   "cell_type": "code",
   "execution_count": 7,
   "metadata": {},
   "outputs": [
    {
     "name": "stdout",
     "output_type": "stream",
     "text": [
      "UnsuperChild.__init__(self) called\n"
     ]
    }
   ],
   "source": [
    "o = UnsuperChild()"
   ]
  },
  {
   "cell_type": "code",
   "execution_count": 8,
   "metadata": {},
   "outputs": [
    {
     "name": "stdout",
     "output_type": "stream",
     "text": [
      "SomeBaseClass.__init__(self) called\n",
      "SuperChild.__init__(self) called\n"
     ]
    }
   ],
   "source": [
    "o = SuperChild()"
   ]
  },
  {
   "cell_type": "code",
   "execution_count": null,
   "metadata": {},
   "outputs": [],
   "source": [
    "class SomeBaseClass(object):\n",
    "    def __init__(self):\n",
    "        print('SomeBaseClass.__init__(self) called')\n",
    "    \n",
    "class UnsuperChild(SomeBaseClass):\n",
    "    def __init__(self):\n",
    "        print('UnsuperChild.__init__(self) called')\n",
    "        SomeBaseClass.__init__(self)\n",
    "    \n",
    "class SuperChild(SomeBaseClass):\n",
    "    def __init__(self):\n",
    "        print('SuperChild.__init__(self) called')\n",
    "        super().__init__()"
   ]
  },
  {
   "cell_type": "code",
   "execution_count": 2,
   "metadata": {},
   "outputs": [],
   "source": [
    "class SomeBaseClass(object):\n",
    "    def __init__(self):\n",
    "        print('SomeBaseClass.__init__(self) called')\n",
    "    \n",
    "class UnsuperChild(SomeBaseClass):\n",
    "    def __init__(self):\n",
    "        print('UnsuperChild.__init__(self) called')\n",
    "        SomeBaseClass.__init__(self)\n",
    "    \n",
    "class SuperChild(SomeBaseClass):\n",
    "    def __init__(self):\n",
    "        print('SuperChild.__init__(self) called')\n",
    "        super().__init__()\n"
   ]
  },
  {
   "cell_type": "code",
   "execution_count": 3,
   "metadata": {},
   "outputs": [],
   "source": [
    "class InjectMe(SomeBaseClass):\n",
    "    def __init__(self):\n",
    "        print('InjectMe.__init__(self) called')\n",
    "        super().__init__()\n",
    "\n",
    "class UnsuperInjector(UnsuperChild, InjectMe): pass\n",
    "\n",
    "class SuperInjector(SuperChild, InjectMe): pass"
   ]
  },
  {
   "cell_type": "code",
   "execution_count": 4,
   "metadata": {},
   "outputs": [
    {
     "name": "stdout",
     "output_type": "stream",
     "text": [
      "UnsuperChild.__init__(self) called\n",
      "SomeBaseClass.__init__(self) called\n"
     ]
    }
   ],
   "source": [
    "o = UnsuperInjector()"
   ]
  },
  {
   "cell_type": "code",
   "execution_count": 5,
   "metadata": {},
   "outputs": [
    {
     "name": "stdout",
     "output_type": "stream",
     "text": [
      "SuperChild.__init__(self) called\n",
      "InjectMe.__init__(self) called\n",
      "SomeBaseClass.__init__(self) called\n"
     ]
    }
   ],
   "source": [
    "o2 = SuperInjector()"
   ]
  },
  {
   "cell_type": "code",
   "execution_count": null,
   "metadata": {},
   "outputs": [],
   "source": []
  }
 ],
 "metadata": {
  "interpreter": {
   "hash": "9652531e86fbc99dfe7fc5092eb81081a97fad237de3d1fd3b3a0d1c69c61538"
  },
  "kernelspec": {
   "display_name": "Python 3.9.7 64-bit ('ox': conda)",
   "language": "python",
   "name": "python3"
  },
  "language_info": {
   "codemirror_mode": {
    "name": "ipython",
    "version": 3
   },
   "file_extension": ".py",
   "mimetype": "text/x-python",
   "name": "python",
   "nbconvert_exporter": "python",
   "pygments_lexer": "ipython3",
   "version": "3.9.7"
  },
  "orig_nbformat": 4
 },
 "nbformat": 4,
 "nbformat_minor": 2
}
