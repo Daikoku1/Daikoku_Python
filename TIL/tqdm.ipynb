{
 "cells": [
  {
   "cell_type": "code",
   "execution_count": 7,
   "metadata": {},
   "outputs": [
    {
     "name": "stderr",
     "output_type": "stream",
     "text": [
      "100%|██████████| 100000000/100000000 [00:22<00:00, 4522160.50it/s]\n"
     ]
    }
   ],
   "source": [
    "# Basic demo\n",
    "import tqdm\n",
    "for i in tqdm.trange(int(1e8)):\n",
    "    pass"
   ]
  },
  {
   "cell_type": "code",
   "execution_count": 8,
   "metadata": {},
   "outputs": [
    {
     "name": "stderr",
     "output_type": "stream",
     "text": [
      "cool: 100%|##########| 100000000/100000000 [00:19<00:00, 5087633.84it/s]\n"
     ]
    }
   ],
   "source": [
    "# Some decorations\n",
    "import tqdm\n",
    "for i in tqdm.trange(int(1e8), miniters=int(1e6), ascii=True,\n",
    "                     desc=\"cool\", dynamic_ncols=True):\n",
    "    pass"
   ]
  },
  {
   "cell_type": "code",
   "execution_count": 9,
   "metadata": {},
   "outputs": [
    {
     "name": "stderr",
     "output_type": "stream",
     "text": [
      "100%|██████████| 10/10 [00:25<00:00,  2.52s/it]\n"
     ]
    }
   ],
   "source": [
    "# Nested bars\n",
    "from tqdm import trange\n",
    "for i in trange(10):\n",
    "    for j in trange(int(1e7), leave=False, unit_scale=True):\n",
    "        pass"
   ]
  },
  {
   "cell_type": "code",
   "execution_count": 10,
   "metadata": {},
   "outputs": [
    {
     "name": "stderr",
     "output_type": "stream",
     "text": [
      "C:\\Users\\user\\anaconda3\\envs\\ox\\lib\\site-packages\\tqdm\\gui.py:186: TqdmExperimentalWarning: GUI is experimental/alpha\n",
      "  return tqdm_gui(_range(*args), **kwargs)\n"
     ]
    },
    {
     "data": {
      "image/png": "[encoded data removed]",
      "text/plain": [
       "<Figure size 648x158.4 with 1 Axes>"
      ]
     },
     "metadata": {
      "needs_background": "light"
     },
     "output_type": "display_data"
    }
   ],
   "source": [
    "# Experimental GUI demo\n",
    "import tqdm\n",
    "for i in tqdm.tgrange(int(1e8)):\n",
    "    pass"
   ]
  },
  {
   "cell_type": "code",
   "execution_count": 11,
   "metadata": {},
   "outputs": [],
   "source": [
    "# Comparison to https://code.google.com/p/python-progressbar/\n",
    "try:\n",
    "    from progressbar.progressbar import ProgressBar\n",
    "except ImportError:\n",
    "    pass\n",
    "else:\n",
    "    for i in ProgressBar()(_range(int(1e8))):\n",
    "        pass"
   ]
  },
  {
   "cell_type": "code",
   "execution_count": 12,
   "metadata": {},
   "outputs": [
    {
     "name": "stderr",
     "output_type": "stream",
     "text": [
      "100%|██████████| 100000000/100000000 [00:20<00:00, 4991111.08it/s]\n"
     ]
    }
   ],
   "source": [
    "# Dynamic miniters benchmark\n",
    "from tqdm import trange\n",
    "for i in trange(int(1e8), miniters=None, mininterval=0.1, smoothing=0):\n",
    "    pass"
   ]
  },
  {
   "cell_type": "code",
   "execution_count": 13,
   "metadata": {},
   "outputs": [
    {
     "name": "stderr",
     "output_type": "stream",
     "text": [
      "100%|██████████| 100000000/100000000 [00:20<00:00, 4962365.07it/s]\n"
     ]
    }
   ],
   "source": [
    "# Fixed miniters benchmark\n",
    "from tqdm import trange\n",
    "for i in trange(int(1e8), miniters=4500000, mininterval=0.1, smoothing=0):\n",
    "    pass"
   ]
  },
  {
   "cell_type": "code",
   "execution_count": 16,
   "metadata": {},
   "outputs": [
    {
     "name": "stderr",
     "output_type": "stream",
     "text": []
    },
    {
     "data": {
      "text/html": [
       "<div>\n",
       "<style scoped>\n",
       "    .dataframe tbody tr th:only-of-type {\n",
       "        vertical-align: middle;\n",
       "    }\n",
       "\n",
       "    .dataframe tbody tr th {\n",
       "        vertical-align: top;\n",
       "    }\n",
       "\n",
       "    .dataframe thead th {\n",
       "        text-align: right;\n",
       "    }\n",
       "</style>\n",
       "<table border=\"1\" class=\"dataframe\">\n",
       "  <thead>\n",
       "    <tr style=\"text-align: right;\">\n",
       "      <th></th>\n",
       "      <th>0</th>\n",
       "      <th>1</th>\n",
       "      <th>2</th>\n",
       "      <th>3</th>\n",
       "      <th>4</th>\n",
       "      <th>5</th>\n",
       "    </tr>\n",
       "  </thead>\n",
       "  <tbody>\n",
       "    <tr>\n",
       "      <th>0</th>\n",
       "      <td>576</td>\n",
       "      <td>1600</td>\n",
       "      <td>729</td>\n",
       "      <td>4356</td>\n",
       "      <td>7396</td>\n",
       "      <td>5625</td>\n",
       "    </tr>\n",
       "    <tr>\n",
       "      <th>1</th>\n",
       "      <td>1849</td>\n",
       "      <td>5776</td>\n",
       "      <td>36</td>\n",
       "      <td>4761</td>\n",
       "      <td>2116</td>\n",
       "      <td>49</td>\n",
       "    </tr>\n",
       "    <tr>\n",
       "      <th>2</th>\n",
       "      <td>1296</td>\n",
       "      <td>3481</td>\n",
       "      <td>961</td>\n",
       "      <td>2916</td>\n",
       "      <td>2601</td>\n",
       "      <td>2704</td>\n",
       "    </tr>\n",
       "    <tr>\n",
       "      <th>3</th>\n",
       "      <td>6400</td>\n",
       "      <td>3136</td>\n",
       "      <td>169</td>\n",
       "      <td>2209</td>\n",
       "      <td>961</td>\n",
       "      <td>121</td>\n",
       "    </tr>\n",
       "    <tr>\n",
       "      <th>4</th>\n",
       "      <td>6561</td>\n",
       "      <td>1024</td>\n",
       "      <td>841</td>\n",
       "      <td>1936</td>\n",
       "      <td>484</td>\n",
       "      <td>400</td>\n",
       "    </tr>\n",
       "    <tr>\n",
       "      <th>...</th>\n",
       "      <td>...</td>\n",
       "      <td>...</td>\n",
       "      <td>...</td>\n",
       "      <td>...</td>\n",
       "      <td>...</td>\n",
       "      <td>...</td>\n",
       "    </tr>\n",
       "    <tr>\n",
       "      <th>99995</th>\n",
       "      <td>16</td>\n",
       "      <td>1936</td>\n",
       "      <td>3136</td>\n",
       "      <td>2704</td>\n",
       "      <td>900</td>\n",
       "      <td>9801</td>\n",
       "    </tr>\n",
       "    <tr>\n",
       "      <th>99996</th>\n",
       "      <td>2025</td>\n",
       "      <td>361</td>\n",
       "      <td>4761</td>\n",
       "      <td>144</td>\n",
       "      <td>5476</td>\n",
       "      <td>7396</td>\n",
       "    </tr>\n",
       "    <tr>\n",
       "      <th>99997</th>\n",
       "      <td>2025</td>\n",
       "      <td>4761</td>\n",
       "      <td>9409</td>\n",
       "      <td>441</td>\n",
       "      <td>4489</td>\n",
       "      <td>8281</td>\n",
       "    </tr>\n",
       "    <tr>\n",
       "      <th>99998</th>\n",
       "      <td>400</td>\n",
       "      <td>25</td>\n",
       "      <td>2916</td>\n",
       "      <td>961</td>\n",
       "      <td>121</td>\n",
       "      <td>6889</td>\n",
       "    </tr>\n",
       "    <tr>\n",
       "      <th>99999</th>\n",
       "      <td>8100</td>\n",
       "      <td>361</td>\n",
       "      <td>1681</td>\n",
       "      <td>729</td>\n",
       "      <td>5625</td>\n",
       "      <td>729</td>\n",
       "    </tr>\n",
       "  </tbody>\n",
       "</table>\n",
       "<p>100000 rows × 6 columns</p>\n",
       "</div>"
      ],
      "text/plain": [
       "          0     1     2     3     4     5\n",
       "0       576  1600   729  4356  7396  5625\n",
       "1      1849  5776    36  4761  2116    49\n",
       "2      1296  3481   961  2916  2601  2704\n",
       "3      6400  3136   169  2209   961   121\n",
       "4      6561  1024   841  1936   484   400\n",
       "...     ...   ...   ...   ...   ...   ...\n",
       "99995    16  1936  3136  2704   900  9801\n",
       "99996  2025   361  4761   144  5476  7396\n",
       "99997  2025  4761  9409   441  4489  8281\n",
       "99998   400    25  2916   961   121  6889\n",
       "99999  8100   361  1681   729  5625   729\n",
       "\n",
       "[100000 rows x 6 columns]"
      ]
     },
     "execution_count": 16,
     "metadata": {},
     "output_type": "execute_result"
    }
   ],
   "source": [
    "from tqdm.auto import tqdm\n",
    "import pandas as pd\n",
    "import numpy as np\n",
    "df = pd.DataFrame(np.random.randint(0, 100, (100000, 6)))\n",
    "\n",
    "# Register `pandas.progress_apply` and `pandas.Series.map_apply` with `tqdm`\n",
    "# (can use `tqdm.gui.tqdm`, `tqdm.notebook.tqdm`, optional kwargs, etc.)\n",
    "tqdm.pandas(desc=\"my bar!\", leave=False)\n",
    "\n",
    "# Now you can use `progress_apply` instead of `apply`\n",
    "# and `progress_map` instead of `map`\n",
    "df.progress_apply(lambda x: x**2)"
   ]
  },
  {
   "cell_type": "code",
   "execution_count": null,
   "metadata": {},
   "outputs": [],
   "source": []
  }
 ],
 "metadata": {
  "interpreter": {
   "hash": "9652531e86fbc99dfe7fc5092eb81081a97fad237de3d1fd3b3a0d1c69c61538"
  },
  "kernelspec": {
   "display_name": "Python 3.9.7 64-bit ('ox': conda)",
   "name": "python3"
  },
  "language_info": {
   "codemirror_mode": {
    "name": "ipython",
    "version": 3
   },
   "file_extension": ".py",
   "mimetype": "text/x-python",
   "name": "python",
   "nbconvert_exporter": "python",
   "pygments_lexer": "ipython3",
   "version": "3.9.7"
  },
  "orig_nbformat": 4
 },
 "nbformat": 4,
 "nbformat_minor": 2
}
