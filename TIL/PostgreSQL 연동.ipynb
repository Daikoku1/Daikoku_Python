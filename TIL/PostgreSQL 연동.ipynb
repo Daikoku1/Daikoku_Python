{
 "cells": [
  {
   "cell_type": "code",
   "execution_count": 1,
   "id": "20617b4f",
   "metadata": {},
   "outputs": [],
   "source": [
    "import psycopg2\n",
    "# postgresql 접속\n",
    "conn = psycopg2.connect(host = 'localhost', \n",
    "                        database = 'Koroad',\n",
    "                        user = 'postgres',\n",
    "                        password = '1234',\n",
    "                        port = '5433')   "
   ]
  },
  {
   "cell_type": "code",
   "execution_count": 2,
   "id": "bb6b93b1",
   "metadata": {},
   "outputs": [],
   "source": [
    "# 커서 생성\n",
    "cur = conn.cursor()"
   ]
  },
  {
   "cell_type": "code",
   "execution_count": null,
   "id": "3c15222f",
   "metadata": {},
   "outputs": [],
   "source": [
    "# table 생성\n",
    "cur.execute(\"\"\"CREATE TABLE test_table (\n",
    "Id INTEGER PRIMARY KEY NOT NULL,\n",
    "Name VARCHAR(128),\n",
    "total INTEGER,\n",
    "Ta1 INTEGER,\n",
    "Ta2 INTEGER,\n",
    "Ta3 INTEGER,\n",
    "Ta4 INTEGER,\n",
    "Ta5 INTEGER,\n",
    "Ta6 INTEGER,\n",
    "Ta7 INTEGER,\n",
    "Ta8 INTEGER,\n",
    "Ta9 INTEGER,\n",
    "Ta10 INTEGER);\"\"\")"
   ]
  },
  {
   "cell_type": "code",
   "execution_count": null,
   "id": "85e40ce1",
   "metadata": {},
   "outputs": [],
   "source": [
    "import random\n",
    "datas = []\n",
    "names = ['전체', 'A', 'B', 'C', 'D', 'E', 'F', 'G', 'H', 'I']\n",
    "for idx, v in enumerate(names):\n",
    "    temp = [idx, v, 100] \n",
    "    for i in range(10):\n",
    "        num = random.randint(1,10)\n",
    "        temp.append(num)\n",
    "    datas.append(temp)"
   ]
  },
  {
   "cell_type": "code",
   "execution_count": null,
   "id": "7789c968",
   "metadata": {},
   "outputs": [],
   "source": [
    "# 다중 삽입문을 위한 빈 텍스트 생성\n",
    "insert_text = ''\n",
    "\n",
    "# 튜플형태로 변경하고 ','로 나누어 데이터 삽입하기 위해 for문으로 삽입문 정의\n",
    "for i,text in enumerate(datas):\n",
    "    insert_text += str(tuple(text)) # 튜플로 변경하여 저장\n",
    "    insert_text += ',' # ','로 데이터 나눔\n",
    "insert_text = insert_text[:-1]"
   ]
  },
  {
   "cell_type": "code",
   "execution_count": null,
   "id": "647cb99e",
   "metadata": {},
   "outputs": [],
   "source": [
    "cur.execute(\"INSERT INTO test_table (Id, Name, total, Ta1, Ta2, Ta3, Ta4, Ta5, Ta6, Ta7, Ta8, Ta9, Ta10) VALUES {};\".\n",
    "            format(insert_text))"
   ]
  },
  {
   "cell_type": "code",
   "execution_count": null,
   "id": "6adec205",
   "metadata": {},
   "outputs": [],
   "source": [
    "# 데이터 베이스에 내용 전송\n",
    "conn.commit()\n",
    "\n",
    "# 데이터 베이스에 제대로 저장되었는지 확인\n",
    "cur.execute(\"SELECT * FROM test_table\")\n",
    "result = cur.fetchall()\n",
    "result"
   ]
  },
  {
   "cell_type": "code",
   "execution_count": null,
   "id": "ea9561df",
   "metadata": {},
   "outputs": [],
   "source": [
    "cur.close()"
   ]
  }
 ],
 "metadata": {
  "kernelspec": {
   "display_name": "Python 3",
   "language": "python",
   "name": "python3"
  },
  "language_info": {
   "codemirror_mode": {
    "name": "ipython",
    "version": 3
   },
   "file_extension": ".py",
   "mimetype": "text/x-python",
   "name": "python",
   "nbconvert_exporter": "python",
   "pygments_lexer": "ipython3",
   "version": "3.8.8"
  }
 },
 "nbformat": 4,
 "nbformat_minor": 5
}
