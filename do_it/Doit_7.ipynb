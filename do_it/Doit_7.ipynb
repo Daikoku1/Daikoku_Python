{
 "cells": [
  {
   "cell_type": "markdown",
   "metadata": {
    "colab_type": "text",
    "id": "Nd50XFS_jeU6"
   },
   "source": [
    "# 7장. 여러 개를 분류합니다"
   ]
  },
  {
   "cell_type": "markdown",
   "metadata": {
    "colab_type": "text",
    "id": "MXmE6mZbjeU9"
   },
   "source": [
    "7-1\n",
    "==="
   ]
  },
  {
   "cell_type": "code",
   "execution_count": 1,
   "metadata": {
    "colab": {},
    "colab_type": "code",
    "id": "lE2OOvHNjeU-"
   },
   "outputs": [],
   "source": [
    "import numpy as np"
   ]
  },
  {
   "cell_type": "code",
   "execution_count": 2,
   "metadata": {
    "colab": {},
    "colab_type": "code",
    "id": "BOkfEwQvjeVC"
   },
   "outputs": [],
   "source": [
    "class MultiClassNetwork:\n",
    "    \n",
    "    def __init__(self, units=10, batch_size=32, learning_rate=0.1, l1=0, l2=0):\n",
    "        self.units = units         # 은닉층의 뉴런 개수\n",
    "        self.batch_size = batch_size     # 배치 크기\n",
    "        self.w1 = None             # 은닉층의 가중치\n",
    "        self.b1 = None             # 은닉층의 절편\n",
    "        self.w2 = None             # 출력층의 가중치\n",
    "        self.b2 = None             # 출력층의 절편\n",
    "        self.a1 = None             # 은닉층의 활성화 출력\n",
    "        self.losses = []           # 훈련 손실\n",
    "        self.val_losses = []       # 검증 손실\n",
    "        self.lr = learning_rate    # 학습률\n",
    "        self.l1 = l1               # L1 손실 하이퍼파라미터\n",
    "        self.l2 = l2               # L2 손실 하이퍼파라미터\n",
    "\n",
    "    def forpass(self, x):\n",
    "        z1 = np.dot(x, self.w1) + self.b1        # 첫 번째 층의 선형 식을 계산합니다\n",
    "        self.a1 = self.sigmoid(z1)               # 활성화 함수를 적용합니다\n",
    "        z2 = np.dot(self.a1, self.w2) + self.b2  # 두 번째 층의 선형 식을 계산합니다.\n",
    "        return z2\n",
    "\n",
    "    def backprop(self, x, err):\n",
    "        m = len(x)       # 샘플 개수\n",
    "        # 출력층의 가중치와 절편에 대한 그래디언트를 계산합니다.\n",
    "        w2_grad = np.dot(self.a1.T, err) / m\n",
    "        b2_grad = np.sum(err) / m\n",
    "        # 시그모이드 함수까지 그래디언트를 계산합니다.\n",
    "        err_to_hidden = np.dot(err, self.w2.T) * self.a1 * (1 - self.a1)\n",
    "        # 은닉층의 가중치와 절편에 대한 그래디언트를 계산합니다.\n",
    "        w1_grad = np.dot(x.T, err_to_hidden) / m\n",
    "        b1_grad = np.sum(err_to_hidden, axis=0) / m\n",
    "        return w1_grad, b1_grad, w2_grad, b2_grad\n",
    "    \n",
    "    def sigmoid(self, z):\n",
    "        z = np.clip(z, -100, None)            # 안전한 np.exp() 계산을 위해\n",
    "        a = 1 / (1 + np.exp(-z))              # 시그모이드 계산\n",
    "        return a\n",
    "    \n",
    "    def softmax(self, z):\n",
    "        # 소프트맥스 함수\n",
    "        z = np.clip(z, -100, None)            # 안전한 np.exp() 계산을 위해\n",
    "        exp_z = np.exp(z)\n",
    "        return exp_z / np.sum(exp_z, axis=1).reshape(-1, 1)\n",
    "\n",
    "    def init_weights(self, n_features, n_classes):\n",
    "        self.w1 = np.random.normal(0, 1, \n",
    "                                   (n_features, self.units))  # (특성 개수, 은닉층의 크기)\n",
    "        self.b1 = np.zeros(self.units)                        # 은닉층의 크기\n",
    "        self.w2 = np.random.normal(0, 1, \n",
    "                                   (self.units, n_classes))   # (은닉층의 크기, 클래스 개수)\n",
    "        self.b2 = np.zeros(n_classes)\n",
    "        \n",
    "    def fit(self, x, y, epochs=100, x_val=None, y_val=None):\n",
    "        np.random.seed(42)\n",
    "        self.init_weights(x.shape[1], y.shape[1])    # 은닉층과 출력층의 가중치를 초기화합니다.\n",
    "        # epochs만큼 반복합니다.\n",
    "        for i in range(epochs):\n",
    "            loss = 0\n",
    "            print('.', end='')\n",
    "            # 제너레이터 함수에서 반환한 미니배치를 순환합니다.\n",
    "            for x_batch, y_batch in self.gen_batch(x, y):\n",
    "                a = self.training(x_batch, y_batch)\n",
    "                # 안전한 로그 계산을 위해 클리핑합니다.\n",
    "                a = np.clip(a, 1e-10, 1-1e-10)\n",
    "                # 로그 손실과 규제 손실을 더하여 리스트에 추가합니다.\n",
    "                loss += np.sum(-y_batch*np.log(a))\n",
    "            self.losses.append((loss + self.reg_loss()) / len(x))\n",
    "            # 검증 세트에 대한 손실을 계산합니다.\n",
    "            self.update_val_loss(x_val, y_val)\n",
    "\n",
    "    # 미니배치 제너레이터 함수\n",
    "    def gen_batch(self, x, y):\n",
    "        length = len(x)\n",
    "        bins = length // self.batch_size # 미니배치 횟수\n",
    "        if length % self.batch_size:\n",
    "            bins += 1                    # 나누어 떨어지지 않을 때\n",
    "        indexes = np.random.permutation(np.arange(len(x))) # 인덱스를 섞습니다.\n",
    "        x = x[indexes]\n",
    "        y = y[indexes]\n",
    "        for i in range(bins):\n",
    "            start = self.batch_size * i\n",
    "            end = self.batch_size * (i + 1)\n",
    "            yield x[start:end], y[start:end]   # batch_size만큼 슬라이싱하여 반환합니다.\n",
    "            \n",
    "    def training(self, x, y):\n",
    "        m = len(x)                # 샘플 개수를 저장합니다.\n",
    "        z = self.forpass(x)       # 정방향 계산을 수행합니다.\n",
    "        a = self.softmax(z)       # 활성화 함수를 적용합니다.\n",
    "        err = -(y - a)            # 오차를 계산합니다.\n",
    "        # 오차를 역전파하여 그래디언트를 계산합니다.\n",
    "        w1_grad, b1_grad, w2_grad, b2_grad = self.backprop(x, err)\n",
    "        # 그래디언트에서 페널티 항의 미분 값을 뺍니다\n",
    "        w1_grad += (self.l1 * np.sign(self.w1) + self.l2 * self.w1) / m\n",
    "        w2_grad += (self.l1 * np.sign(self.w2) + self.l2 * self.w2) / m\n",
    "        # 은닉층의 가중치와 절편을 업데이트합니다.\n",
    "        self.w1 -= self.lr * w1_grad\n",
    "        self.b1 -= self.lr * b1_grad\n",
    "        # 출력층의 가중치와 절편을 업데이트합니다.\n",
    "        self.w2 -= self.lr * w2_grad\n",
    "        self.b2 -= self.lr * b2_grad\n",
    "        return a\n",
    "\n",
    "    def predict(self, x):\n",
    "        z = self.forpass(x)          # 정방향 계산을 수행합니다.\n",
    "        return np.argmax(z, axis=1)  # 가장 큰 값의 인덱스를 반환합니다.\n",
    "    \n",
    "    def score(self, x, y):\n",
    "        # 예측과 타깃 열 벡터를 비교하여 True의 비율을 반환합니다.\n",
    "        return np.mean(self.predict(x) == np.argmax(y, axis=1))\n",
    "\n",
    "    def reg_loss(self):\n",
    "        # 은닉층과 출력층의 가중치에 규제를 적용합니다.\n",
    "        return self.l1 * (np.sum(np.abs(self.w1)) + np.sum(np.abs(self.w2))) + \\\n",
    "               self.l2 / 2 * (np.sum(self.w1**2) + np.sum(self.w2**2))\n",
    "\n",
    "    def update_val_loss(self, x_val, y_val):\n",
    "        z = self.forpass(x_val)            # 정방향 계산을 수행합니다.\n",
    "        a = self.softmax(z)                # 활성화 함수를 적용합니다.\n",
    "        a = np.clip(a, 1e-10, 1-1e-10)     # 출력 값을 클리핑합니다.\n",
    "        # 크로스 엔트로피 손실과 규제 손실을 더하여 리스트에 추가합니다.\n",
    "        val_loss = np.sum(-y_val*np.log(a))\n",
    "        self.val_losses.append((val_loss + self.reg_loss()) / len(y_val))"
   ]
  },
  {
   "cell_type": "code",
   "execution_count": 3,
   "metadata": {
    "colab": {},
    "colab_type": "code",
    "id": "iT5_ZI3ojeVG"
   },
   "outputs": [],
   "source": [
    "import tensorflow as tf"
   ]
  },
  {
   "cell_type": "code",
   "execution_count": 4,
   "metadata": {
    "colab": {},
    "colab_type": "code",
    "id": "C94bbNafjeVJ",
    "outputId": "a3e4335b-43e7-47a3-cce1-ff842ce8035d"
   },
   "outputs": [
    {
     "data": {
      "text/plain": [
       "'2.3.0'"
      ]
     },
     "execution_count": 4,
     "metadata": {},
     "output_type": "execute_result"
    }
   ],
   "source": [
    "tf.__version__"
   ]
  },
  {
   "cell_type": "code",
   "execution_count": 5,
   "metadata": {
    "colab": {},
    "colab_type": "code",
    "id": "FRhDUuNpjeVM"
   },
   "outputs": [
    {
     "name": "stdout",
     "output_type": "stream",
     "text": [
      "Downloading data from https://storage.googleapis.com/tensorflow/tf-keras-datasets/train-labels-idx1-ubyte.gz\n",
      "32768/29515 [=================================] - 0s 0us/step\n",
      "Downloading data from https://storage.googleapis.com/tensorflow/tf-keras-datasets/train-images-idx3-ubyte.gz\n",
      "26427392/26421880 [==============================] - 1s 0us/step\n",
      "Downloading data from https://storage.googleapis.com/tensorflow/tf-keras-datasets/t10k-labels-idx1-ubyte.gz\n",
      "8192/5148 [===============================================] - 0s 0us/step\n",
      "Downloading data from https://storage.googleapis.com/tensorflow/tf-keras-datasets/t10k-images-idx3-ubyte.gz\n",
      "4423680/4422102 [==============================] - 0s 0us/step\n"
     ]
    }
   ],
   "source": [
    "(x_train_all, y_train_all), (x_test, y_test) = tf.keras.datasets.fashion_mnist.load_data()"
   ]
  },
  {
   "cell_type": "code",
   "execution_count": 6,
   "metadata": {
    "colab": {},
    "colab_type": "code",
    "id": "Jw7OdxPljeVP",
    "outputId": "8adbaae7-4948-40eb-9cea-4c8c1389fdaa",
    "scrolled": true
   },
   "outputs": [
    {
     "name": "stdout",
     "output_type": "stream",
     "text": [
      "(60000, 28, 28) (60000,)\n"
     ]
    }
   ],
   "source": [
    "print(x_train_all.shape, y_train_all.shape)"
   ]
  },
  {
   "cell_type": "code",
   "execution_count": 7,
   "metadata": {
    "colab": {},
    "colab_type": "code",
    "id": "VP0zmYchjeVR"
   },
   "outputs": [],
   "source": [
    "import matplotlib.pyplot as plt"
   ]
  },
  {
   "cell_type": "code",
   "execution_count": 8,
   "metadata": {
    "colab": {},
    "colab_type": "code",
    "id": "1eiWEgTXjeVT",
    "outputId": "10700a2b-702b-46e0-b864-de59483f4582"
   },
   "outputs": [
    {
     "data": {
      "image/png": "[encoded data removed]",
      "text/plain": [
       "<Figure size 432x288 with 1 Axes>"
      ]
     },
     "metadata": {
      "needs_background": "light"
     },
     "output_type": "display_data"
    }
   ],
   "source": [
    "plt.imshow(x_train_all[0], cmap='gray')\n",
    "plt.show()"
   ]
  },
  {
   "cell_type": "code",
   "execution_count": 9,
   "metadata": {
    "colab": {},
    "colab_type": "code",
    "id": "lL6QsnocjeVV",
    "outputId": "c06fa9c2-1d32-4dd1-b9f6-08e2f80b775f"
   },
   "outputs": [
    {
     "name": "stdout",
     "output_type": "stream",
     "text": [
      "[9 0 0 3 0 2 7 2 5 5]\n"
     ]
    }
   ],
   "source": [
    "print(y_train_all[:10])"
   ]
  },
  {
   "cell_type": "code",
   "execution_count": 10,
   "metadata": {
    "colab": {},
    "colab_type": "code",
    "id": "YBy10zcFjeVX"
   },
   "outputs": [],
   "source": [
    "class_names = ['티셔츠/윗도리', '바지', '스웨터', '드레스', '코트', \n",
    "               '샌들', '셔츠', '스니커즈', '가방', '앵클부츠']"
   ]
  },
  {
   "cell_type": "code",
   "execution_count": 11,
   "metadata": {
    "colab": {},
    "colab_type": "code",
    "id": "9gTYe5ZEjeVa",
    "outputId": "6a9e617f-1dd2-4898-d99c-9e04d8d8b000"
   },
   "outputs": [
    {
     "name": "stdout",
     "output_type": "stream",
     "text": [
      "앵클부츠\n"
     ]
    }
   ],
   "source": [
    "print(class_names[y_train_all[0]])"
   ]
  },
  {
   "cell_type": "code",
   "execution_count": 12,
   "metadata": {
    "colab": {},
    "colab_type": "code",
    "id": "ruaacC5MjeVd",
    "outputId": "0834878b-9f2a-421a-c786-6a0fd0e11e76"
   },
   "outputs": [
    {
     "data": {
      "text/plain": [
       "array([6000, 6000, 6000, 6000, 6000, 6000, 6000, 6000, 6000, 6000])"
      ]
     },
     "execution_count": 12,
     "metadata": {},
     "output_type": "execute_result"
    }
   ],
   "source": [
    "np.bincount(y_train_all)"
   ]
  },
  {
   "cell_type": "code",
   "execution_count": 13,
   "metadata": {
    "colab": {},
    "colab_type": "code",
    "id": "O8PRx0qJjeVf"
   },
   "outputs": [],
   "source": [
    "from sklearn.model_selection import train_test_split"
   ]
  },
  {
   "cell_type": "code",
   "execution_count": 14,
   "metadata": {
    "colab": {},
    "colab_type": "code",
    "id": "tXk_EJZ5jeVh"
   },
   "outputs": [],
   "source": [
    "x_train, x_val, y_train, y_val = train_test_split(x_train_all, y_train_all, stratify=y_train_all, \n",
    "                                                  test_size=0.2, random_state=42)"
   ]
  },
  {
   "cell_type": "code",
   "execution_count": 15,
   "metadata": {
    "colab": {},
    "colab_type": "code",
    "id": "SOoovE53jeVj",
    "outputId": "0495ade7-0bbf-4ab0-be15-cc50038a62ad"
   },
   "outputs": [
    {
     "data": {
      "text/plain": [
       "array([4800, 4800, 4800, 4800, 4800, 4800, 4800, 4800, 4800, 4800])"
      ]
     },
     "execution_count": 15,
     "metadata": {},
     "output_type": "execute_result"
    }
   ],
   "source": [
    "np.bincount(y_train)"
   ]
  },
  {
   "cell_type": "code",
   "execution_count": 16,
   "metadata": {
    "colab": {},
    "colab_type": "code",
    "id": "jtvzZLYJjeVl",
    "outputId": "7fcd6d16-1d96-4585-db93-544b041b0fb9",
    "scrolled": true
   },
   "outputs": [
    {
     "data": {
      "text/plain": [
       "array([1200, 1200, 1200, 1200, 1200, 1200, 1200, 1200, 1200, 1200])"
      ]
     },
     "execution_count": 16,
     "metadata": {},
     "output_type": "execute_result"
    }
   ],
   "source": [
    "np.bincount(y_val)"
   ]
  },
  {
   "cell_type": "code",
   "execution_count": 17,
   "metadata": {
    "colab": {},
    "colab_type": "code",
    "id": "77QjPWeRjeVn"
   },
   "outputs": [],
   "source": [
    "x_train = x_train / 255\n",
    "x_val = x_val / 255"
   ]
  },
  {
   "cell_type": "code",
   "execution_count": 18,
   "metadata": {
    "colab": {},
    "colab_type": "code",
    "id": "RpKRuP2sjeVp"
   },
   "outputs": [],
   "source": [
    "x_train = x_train.reshape(-1, 784)\n",
    "x_val = x_val.reshape(-1, 784)"
   ]
  },
  {
   "cell_type": "code",
   "execution_count": 19,
   "metadata": {
    "colab": {},
    "colab_type": "code",
    "id": "o7BI5F4YjeVs",
    "outputId": "e0726801-c51c-45a0-863c-3dcdd2453d64",
    "scrolled": true
   },
   "outputs": [
    {
     "name": "stdout",
     "output_type": "stream",
     "text": [
      "(48000, 784) (12000, 784)\n"
     ]
    }
   ],
   "source": [
    "print(x_train.shape, x_val.shape)"
   ]
  },
  {
   "cell_type": "code",
   "execution_count": 20,
   "metadata": {
    "colab": {},
    "colab_type": "code",
    "id": "tMPrl54fjeVx",
    "outputId": "d63b422c-0173-4762-a001-5f8b63da75b3"
   },
   "outputs": [
    {
     "data": {
      "text/plain": [
       "array([[1, 0, 0],\n",
       "       [0, 1, 0],\n",
       "       [0, 0, 1],\n",
       "       [0, 1, 0]])"
      ]
     },
     "execution_count": 20,
     "metadata": {},
     "output_type": "execute_result"
    }
   ],
   "source": [
    "from sklearn.preprocessing import LabelBinarizer\n",
    "lb = LabelBinarizer()\n",
    "lb.fit_transform([0, 1, 3, 1])"
   ]
  },
  {
   "cell_type": "code",
   "execution_count": 21,
   "metadata": {
    "colab": {},
    "colab_type": "code",
    "id": "VQgBxn8ijeV0",
    "outputId": "8185b349-3ff6-4c1e-c139-8dfcc59d7eba",
    "scrolled": true
   },
   "outputs": [
    {
     "data": {
      "text/plain": [
       "array([[1., 0., 0., 0.],\n",
       "       [0., 1., 0., 0.],\n",
       "       [0., 0., 0., 1.]], dtype=float32)"
      ]
     },
     "execution_count": 21,
     "metadata": {},
     "output_type": "execute_result"
    }
   ],
   "source": [
    "tf.keras.utils.to_categorical([0, 1, 3])"
   ]
  },
  {
   "cell_type": "code",
   "execution_count": 22,
   "metadata": {
    "colab": {},
    "colab_type": "code",
    "id": "f1ag8F6ojeV3"
   },
   "outputs": [],
   "source": [
    "y_train_encoded = tf.keras.utils.to_categorical(y_train)\n",
    "y_val_encoded = tf.keras.utils.to_categorical(y_val)"
   ]
  },
  {
   "cell_type": "code",
   "execution_count": 23,
   "metadata": {
    "colab": {},
    "colab_type": "code",
    "id": "p2kGXcyAjeV6",
    "outputId": "357dc67b-15b9-433f-e27f-273459b935e4",
    "scrolled": true
   },
   "outputs": [
    {
     "name": "stdout",
     "output_type": "stream",
     "text": [
      "(48000, 10) (12000, 10)\n"
     ]
    }
   ],
   "source": [
    "print(y_train_encoded.shape, y_val_encoded.shape)"
   ]
  },
  {
   "cell_type": "code",
   "execution_count": 24,
   "metadata": {
    "colab": {},
    "colab_type": "code",
    "id": "73rMEstajeV9",
    "outputId": "7e4d150c-c7bc-410c-cc12-9520bfcbb09e"
   },
   "outputs": [
    {
     "name": "stdout",
     "output_type": "stream",
     "text": [
      "6 [0. 0. 0. 0. 0. 0. 1. 0. 0. 0.]\n"
     ]
    }
   ],
   "source": [
    "print(y_train[0], y_train_encoded[0])"
   ]
  },
  {
   "cell_type": "code",
   "execution_count": 25,
   "metadata": {
    "colab": {},
    "colab_type": "code",
    "id": "Q7q__7KtjeWA",
    "outputId": "bfafc27f-0c78-402a-e227-d0d18730e642"
   },
   "outputs": [
    {
     "name": "stdout",
     "output_type": "stream",
     "text": [
      "........................................"
     ]
    }
   ],
   "source": [
    "fc = MultiClassNetwork(units=100, batch_size=256)\n",
    "fc.fit(x_train, y_train_encoded, \n",
    "       x_val=x_val, y_val=y_val_encoded, epochs=40)"
   ]
  },
  {
   "cell_type": "code",
   "execution_count": 26,
   "metadata": {
    "colab": {},
    "colab_type": "code",
    "id": "CuysKjcMjeWC",
    "outputId": "cf6d0d70-f091-43c2-929d-d78a0918f4ea",
    "scrolled": true
   },
   "outputs": [
    {
     "data": {
      "image/png": "[encoded data removed]",
      "text/plain": [
       "<Figure size 432x288 with 1 Axes>"
      ]
     },
     "metadata": {
      "needs_background": "light"
     },
     "output_type": "display_data"
    }
   ],
   "source": [
    "plt.plot(fc.losses)\n",
    "plt.plot(fc.val_losses)\n",
    "plt.ylabel('loss')\n",
    "plt.xlabel('iteration')\n",
    "plt.legend(['train_loss', 'val_loss'])\n",
    "plt.show()"
   ]
  },
  {
   "cell_type": "code",
   "execution_count": 27,
   "metadata": {
    "colab": {},
    "colab_type": "code",
    "id": "eZQXMiVijeWF",
    "outputId": "faf3e312-e79a-45d2-8553-f04f73f09960",
    "scrolled": false
   },
   "outputs": [
    {
     "data": {
      "text/plain": [
       "0.8150833333333334"
      ]
     },
     "execution_count": 27,
     "metadata": {},
     "output_type": "execute_result"
    }
   ],
   "source": [
    "fc.score(x_val, y_val_encoded)"
   ]
  },
  {
   "cell_type": "code",
   "execution_count": 28,
   "metadata": {
    "colab": {},
    "colab_type": "code",
    "id": "MtkB-cVrjeWH",
    "outputId": "b5684019-3711-4617-94e5-a6ba091e82c0"
   },
   "outputs": [
    {
     "data": {
      "text/plain": [
       "array([4, 6, 3, ..., 0, 6, 6])"
      ]
     },
     "execution_count": 28,
     "metadata": {},
     "output_type": "execute_result"
    }
   ],
   "source": [
    "np.random.permutation(np.arange(12000)%10)"
   ]
  },
  {
   "cell_type": "code",
   "execution_count": 29,
   "metadata": {
    "colab": {},
    "colab_type": "code",
    "id": "_-UqgXjujeWJ",
    "outputId": "a836b05c-777c-4afd-b0b2-94b488a6043e",
    "scrolled": true
   },
   "outputs": [
    {
     "data": {
      "text/plain": [
       "0.10325"
      ]
     },
     "execution_count": 29,
     "metadata": {},
     "output_type": "execute_result"
    }
   ],
   "source": [
    "np.sum(y_val == np.random.permutation(np.arange(12000)%10)) / 12000"
   ]
  },
  {
   "cell_type": "markdown",
   "metadata": {
    "colab_type": "text",
    "id": "ju3hkneNjeWK"
   },
   "source": [
    "7.2 텐서플로와 케라스\n",
    "==="
   ]
  },
  {
   "cell_type": "code",
   "execution_count": 30,
   "metadata": {
    "colab": {},
    "colab_type": "code",
    "id": "hnFcQ0jbjeWL"
   },
   "outputs": [],
   "source": [
    "from tensorflow.keras import Sequential\n",
    "from tensorflow.keras.layers import Dense"
   ]
  },
  {
   "cell_type": "code",
   "execution_count": 31,
   "metadata": {
    "colab": {},
    "colab_type": "code",
    "id": "QpbJEll9jeWO"
   },
   "outputs": [],
   "source": [
    "model = Sequential()\n",
    "model.add(Dense(100, activation='sigmoid', input_shape=(784,)))\n",
    "model.add(Dense(10, activation='softmax'))"
   ]
  },
  {
   "cell_type": "code",
   "execution_count": 32,
   "metadata": {
    "colab": {},
    "colab_type": "code",
    "id": "R1vSCfP6jeWR"
   },
   "outputs": [],
   "source": [
    "model.compile(optimizer='sgd', loss='categorical_crossentropy',\n",
    "              metrics=['accuracy'])"
   ]
  },
  {
   "cell_type": "code",
   "execution_count": 33,
   "metadata": {
    "colab": {},
    "colab_type": "code",
    "id": "zx-7BGswjeWT",
    "outputId": "3bd44e84-8939-439c-963f-7a83cf1c5f02"
   },
   "outputs": [
    {
     "name": "stdout",
     "output_type": "stream",
     "text": [
      "Epoch 1/40\n",
      "1500/1500 [==============================] - 1s 969us/step - loss: 1.3859 - accuracy: 0.6553 - val_loss: 0.9573 - val_accuracy: 0.7354\n",
      "Epoch 2/40\n",
      "1500/1500 [==============================] - 1s 888us/step - loss: 0.8362 - accuracy: 0.7503 - val_loss: 0.7450 - val_accuracy: 0.7706\n",
      "Epoch 3/40\n",
      "1500/1500 [==============================] - 1s 919us/step - loss: 0.7028 - accuracy: 0.7692 - val_loss: 0.6550 - val_accuracy: 0.7843\n",
      "Epoch 4/40\n",
      "1500/1500 [==============================] - 2s 1ms/step - loss: 0.6379 - accuracy: 0.7846 - val_loss: 0.6046 - val_accuracy: 0.7955\n",
      "Epoch 5/40\n",
      "1500/1500 [==============================] - 2s 1ms/step - loss: 0.5970 - accuracy: 0.7968 - val_loss: 0.5710 - val_accuracy: 0.8039\n",
      "Epoch 6/40\n",
      "1500/1500 [==============================] - 2s 1ms/step - loss: 0.5679 - accuracy: 0.8049 - val_loss: 0.5451 - val_accuracy: 0.8123\n",
      "Epoch 7/40\n",
      "1500/1500 [==============================] - 2s 1ms/step - loss: 0.5459 - accuracy: 0.8123 - val_loss: 0.5262 - val_accuracy: 0.8173\n",
      "Epoch 8/40\n",
      "1500/1500 [==============================] - 2s 1ms/step - loss: 0.5286 - accuracy: 0.8177 - val_loss: 0.5115 - val_accuracy: 0.8214\n",
      "Epoch 9/40\n",
      "1500/1500 [==============================] - 2s 1ms/step - loss: 0.5146 - accuracy: 0.8232 - val_loss: 0.4962 - val_accuracy: 0.8275\n",
      "Epoch 10/40\n",
      "1500/1500 [==============================] - 2s 1ms/step - loss: 0.5032 - accuracy: 0.8260 - val_loss: 0.4864 - val_accuracy: 0.8289\n",
      "Epoch 11/40\n",
      "1500/1500 [==============================] - 2s 1ms/step - loss: 0.4933 - accuracy: 0.8296 - val_loss: 0.4789 - val_accuracy: 0.8342\n",
      "Epoch 12/40\n",
      "1500/1500 [==============================] - 2s 1ms/step - loss: 0.4848 - accuracy: 0.8315 - val_loss: 0.4689 - val_accuracy: 0.8363\n",
      "Epoch 13/40\n",
      "1500/1500 [==============================] - 2s 1ms/step - loss: 0.4774 - accuracy: 0.8332 - val_loss: 0.4623 - val_accuracy: 0.8394\n",
      "Epoch 14/40\n",
      "1500/1500 [==============================] - 2s 1ms/step - loss: 0.4705 - accuracy: 0.8358 - val_loss: 0.4565 - val_accuracy: 0.8402\n",
      "Epoch 15/40\n",
      "1500/1500 [==============================] - 2s 1ms/step - loss: 0.4647 - accuracy: 0.8375 - val_loss: 0.4501 - val_accuracy: 0.8428\n",
      "Epoch 16/40\n",
      "1500/1500 [==============================] - 2s 1ms/step - loss: 0.4592 - accuracy: 0.8392 - val_loss: 0.4457 - val_accuracy: 0.8435\n",
      "Epoch 17/40\n",
      "1500/1500 [==============================] - 2s 1ms/step - loss: 0.4541 - accuracy: 0.8416 - val_loss: 0.4409 - val_accuracy: 0.8464\n",
      "Epoch 18/40\n",
      "1500/1500 [==============================] - 2s 1ms/step - loss: 0.4493 - accuracy: 0.8436 - val_loss: 0.4366 - val_accuracy: 0.8460\n",
      "Epoch 19/40\n",
      "1500/1500 [==============================] - 2s 1ms/step - loss: 0.4451 - accuracy: 0.8446 - val_loss: 0.4343 - val_accuracy: 0.8462\n",
      "Epoch 20/40\n",
      "1500/1500 [==============================] - 2s 1ms/step - loss: 0.4410 - accuracy: 0.8456 - val_loss: 0.4300 - val_accuracy: 0.8477\n",
      "Epoch 21/40\n",
      "1500/1500 [==============================] - 2s 1ms/step - loss: 0.4374 - accuracy: 0.8474 - val_loss: 0.4257 - val_accuracy: 0.8520\n",
      "Epoch 22/40\n",
      "1500/1500 [==============================] - 2s 1ms/step - loss: 0.4336 - accuracy: 0.8484 - val_loss: 0.4249 - val_accuracy: 0.8501\n",
      "Epoch 23/40\n",
      "1500/1500 [==============================] - 2s 1ms/step - loss: 0.4305 - accuracy: 0.8491 - val_loss: 0.4210 - val_accuracy: 0.8524\n",
      "Epoch 24/40\n",
      "1500/1500 [==============================] - 2s 1ms/step - loss: 0.4271 - accuracy: 0.8501 - val_loss: 0.4178 - val_accuracy: 0.8528\n",
      "Epoch 25/40\n",
      "1500/1500 [==============================] - 2s 1ms/step - loss: 0.4243 - accuracy: 0.8512 - val_loss: 0.4154 - val_accuracy: 0.8557\n",
      "Epoch 26/40\n",
      "1500/1500 [==============================] - 2s 1ms/step - loss: 0.4212 - accuracy: 0.8526 - val_loss: 0.4141 - val_accuracy: 0.8558\n",
      "Epoch 27/40\n",
      "1500/1500 [==============================] - 2s 1ms/step - loss: 0.4185 - accuracy: 0.8530 - val_loss: 0.4135 - val_accuracy: 0.8552\n",
      "Epoch 28/40\n",
      "1500/1500 [==============================] - 2s 1ms/step - loss: 0.4160 - accuracy: 0.8539 - val_loss: 0.4095 - val_accuracy: 0.8563\n",
      "Epoch 29/40\n",
      "1500/1500 [==============================] - 2s 1ms/step - loss: 0.4135 - accuracy: 0.8543 - val_loss: 0.4062 - val_accuracy: 0.8577\n",
      "Epoch 30/40\n",
      "1500/1500 [==============================] - 2s 1ms/step - loss: 0.4109 - accuracy: 0.8558 - val_loss: 0.4042 - val_accuracy: 0.8597\n",
      "Epoch 31/40\n",
      "1500/1500 [==============================] - 2s 1ms/step - loss: 0.4084 - accuracy: 0.8569 - val_loss: 0.4023 - val_accuracy: 0.8602\n",
      "Epoch 32/40\n",
      "1500/1500 [==============================] - 2s 1ms/step - loss: 0.4064 - accuracy: 0.8569 - val_loss: 0.4006 - val_accuracy: 0.8599\n",
      "Epoch 33/40\n",
      "1500/1500 [==============================] - 2s 1ms/step - loss: 0.4041 - accuracy: 0.8573 - val_loss: 0.3990 - val_accuracy: 0.8594\n",
      "Epoch 34/40\n",
      "1500/1500 [==============================] - 2s 1ms/step - loss: 0.4020 - accuracy: 0.8591 - val_loss: 0.3973 - val_accuracy: 0.8602\n",
      "Epoch 35/40\n",
      "1500/1500 [==============================] - 2s 1ms/step - loss: 0.3998 - accuracy: 0.8588 - val_loss: 0.3953 - val_accuracy: 0.8612\n",
      "Epoch 36/40\n",
      "1500/1500 [==============================] - 2s 1ms/step - loss: 0.3978 - accuracy: 0.8594 - val_loss: 0.3933 - val_accuracy: 0.8622\n",
      "Epoch 37/40\n",
      "1500/1500 [==============================] - 2s 1ms/step - loss: 0.3958 - accuracy: 0.8601 - val_loss: 0.3924 - val_accuracy: 0.8631\n",
      "Epoch 38/40\n",
      "1500/1500 [==============================] - 2s 1ms/step - loss: 0.3940 - accuracy: 0.8610 - val_loss: 0.3911 - val_accuracy: 0.8627\n",
      "Epoch 39/40\n",
      "1500/1500 [==============================] - 2s 1ms/step - loss: 0.3921 - accuracy: 0.8619 - val_loss: 0.3897 - val_accuracy: 0.8622\n",
      "Epoch 40/40\n",
      "1500/1500 [==============================] - 2s 1ms/step - loss: 0.3901 - accuracy: 0.8627 - val_loss: 0.3873 - val_accuracy: 0.8637\n"
     ]
    }
   ],
   "source": [
    "history = model.fit(x_train, y_train_encoded, epochs=40, \n",
    "                    validation_data=(x_val, y_val_encoded))"
   ]
  },
  {
   "cell_type": "code",
   "execution_count": 34,
   "metadata": {
    "colab": {},
    "colab_type": "code",
    "id": "ubBGMuOKjeWV",
    "outputId": "87ec1d4e-492e-438a-89ce-bb6e8cfe695c"
   },
   "outputs": [
    {
     "name": "stdout",
     "output_type": "stream",
     "text": [
      "dict_keys(['loss', 'accuracy', 'val_loss', 'val_accuracy'])\n"
     ]
    }
   ],
   "source": [
    "print(history.history.keys())"
   ]
  },
  {
   "cell_type": "code",
   "execution_count": 35,
   "metadata": {
    "colab": {},
    "colab_type": "code",
    "id": "k5qa2f4kjeWX",
    "outputId": "ea82f231-8157-43c9-d026-9403b935549c",
    "scrolled": true
   },
   "outputs": [
    {
     "data": {
      "image/png": "[encoded data removed]",
      "text/plain": [
       "<Figure size 432x288 with 1 Axes>"
      ]
     },
     "metadata": {
      "needs_background": "light"
     },
     "output_type": "display_data"
    }
   ],
   "source": [
    "plt.plot(history.history['loss'])\n",
    "plt.plot(history.history['val_loss'])\n",
    "plt.ylabel('loss')\n",
    "plt.xlabel('epoch')\n",
    "plt.legend(['train_loss', 'val_loss'])\n",
    "plt.show()"
   ]
  },
  {
   "cell_type": "code",
   "execution_count": 36,
   "metadata": {
    "colab": {},
    "colab_type": "code",
    "id": "rUJxP6JajeWa",
    "outputId": "039dc93a-18fd-40cd-a02e-756f4c6bf959",
    "scrolled": false
   },
   "outputs": [
    {
     "data": {
      "image/png": "[encoded data removed]",
      "text/plain": [
       "<Figure size 432x288 with 1 Axes>"
      ]
     },
     "metadata": {
      "needs_background": "light"
     },
     "output_type": "display_data"
    }
   ],
   "source": [
    "plt.plot(history.history['accuracy'])\n",
    "plt.plot(history.history['val_accuracy'])\n",
    "plt.ylabel('accuracy')\n",
    "plt.xlabel('epoch')\n",
    "plt.legend(['train_accuracy', 'val_accuracy'])\n",
    "plt.show()"
   ]
  },
  {
   "cell_type": "code",
   "execution_count": 37,
   "metadata": {
    "colab": {},
    "colab_type": "code",
    "id": "WZrGzPnBjeWc"
   },
   "outputs": [],
   "source": [
    "loss, accuracy = model.evaluate(x_val, y_val_encoded, verbose=0)"
   ]
  },
  {
   "cell_type": "code",
   "execution_count": 38,
   "metadata": {
    "colab": {},
    "colab_type": "code",
    "id": "AG8z9OeEjeWf",
    "outputId": "40d6a17d-a570-48f7-9d67-cf1285af3aa0"
   },
   "outputs": [
    {
     "name": "stdout",
     "output_type": "stream",
     "text": [
      "0.8636666536331177\n"
     ]
    }
   ],
   "source": [
    "print(accuracy)"
   ]
  },
  {
   "cell_type": "code",
   "execution_count": null,
   "metadata": {},
   "outputs": [],
   "source": []
  }
 ],
 "metadata": {
  "colab": {
   "name": "Ch07.ipynb",
   "provenance": []
  },
  "kernelspec": {
   "display_name": "Python 3",
   "language": "python",
   "name": "python3"
  },
  "language_info": {
   "codemirror_mode": {
    "name": "ipython",
    "version": 3
   },
   "file_extension": ".py",
   "mimetype": "text/x-python",
   "name": "python",
   "nbconvert_exporter": "python",
   "pygments_lexer": "ipython3",
   "version": "3.8.5"
  }
 },
 "nbformat": 4,
 "nbformat_minor": 1
}
