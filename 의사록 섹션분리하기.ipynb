{
 "cells": [
  {
   "cell_type": "code",
   "execution_count": 1,
   "metadata": {},
   "outputs": [],
   "source": [
    "import re\n",
    "from tika import parser #https://github.com/chrismattmann/tika-python\n",
    "import shutil\n",
    "from os import listdir\n",
    "from os.path import isfile, join\n",
    "import os\n",
    "from datetime import date\n",
    "import pandas as pd"
   ]
  },
  {
   "cell_type": "code",
   "execution_count": 2,
   "metadata": {},
   "outputs": [],
   "source": [
    "base = os.getcwd()\n",
    "source = os.path.join(base, 'tika\\\\')\n",
    "output = os.path.join(base, 'gold\\\\')"
   ]
  },
  {
   "cell_type": "code",
   "execution_count": 3,
   "metadata": {},
   "outputs": [],
   "source": [
    "# 폴더내 pdf파일을 txt 파일로 변경\n",
    "def txt2data (source_folder) :\n",
    "    # 지정 폴더 내 파일 목록 조회 (파일만)\n",
    "    txt_files = [f for f in listdir(source_folder) if isfile(join(source_folder, f))]\n",
    "    result_list = []\n",
    "    for txt in txt_files:\n",
    "        a = str(txt).split('(')[2][:-5]\n",
    "        date_li = a.split('.')\n",
    "        time = date(int(date_li[0]), int(date_li[1]), int(date_li[2]))\n",
    "        \n",
    "        # 파일에서 텍스트 가져오기\n",
    "        filepath = (source_folder + txt)\n",
    "        with open(filepath, 'r', encoding='utf-8') as f :\n",
    "            text = f.read()\n",
    "            text_list = text.split('회의경과')\n",
    "            text_t = text_list[1]\n",
    "        new_dict = {\n",
    "            'date' : time,\n",
    "            'text' : text_t\n",
    "        }\n",
    "        result_list.append(new_dict)\n",
    "    \n",
    "    BASE_DIR = os.getcwd()\n",
    "    SAVE_DB_DIR = os.path.join(BASE_DIR, '금통위data')\n",
    "\n",
    "    if not os.path.exists(SAVE_DB_DIR):\n",
    "        os.makedirs(SAVE_DB_DIR)\n",
    "\n",
    "    #텍스트 파일 만들기\n",
    "    temp_name = \"금통위 의사록2.xlsx\"\n",
    "    txt_name = os.path.join(SAVE_DB_DIR, temp_name)\n",
    "    excel_writer = pd.ExcelWriter(txt_name, engine = 'xlsxwriter')\n",
    "\n",
    "    df = pd.DataFrame(result_list, columns = ['date', 'text'])\n",
    "    df.to_excel(excel_writer)\n",
    "\n",
    "    excel_writer.save()"
   ]
  },
  {
   "cell_type": "markdown",
   "metadata": {},
   "source": [
    "# 텍스트 파일에서 특ㅅ정 섹션만 분리하기"
   ]
  },
  {
   "cell_type": "code",
   "execution_count": 4,
   "metadata": {},
   "outputs": [],
   "source": [
    "def tidy_sentences(section):\n",
    "    sentence_enders = re.compile(r'((?<=[함음됨임봄짐움])(\\s*\\n|\\.|;)|(?<=다)\\.)\\s*')\n",
    "    splits = list((m.start(), m.end()) for m in re.finditer(sentence_enders, section))\n",
    "    starts = [0] + [i[1] for i in splits]\n",
    "    ends = [i[0] for i in splits]\n",
    "    sentences = [section[start:end] for start, end in zip(starts[:-1], ends)]\n",
    "    for i, s in enumerate(sentences):\n",
    "        sentences[i] = (s.replace('\\n', ' ').replace(' ', ' ')) + '.'\n",
    "\n",
    "    text = '\\n'.join(sentences) if len(sentences) > 0 else ''\n",
    "    return sentences, text\n",
    "\n",
    "\n",
    "import re \n",
    "\n",
    "def preprocess_minutes(minutes):\n",
    "\n",
    "    pos = re.search('(.?국내외\\s?경제\\s?동향.?과 관련하여,?|\\(가\\).+경제전망.*|\\(가\\) 국내외 경제동향 및 평가)\\n?\\s*일부 위원은', minutes, re.MULTILINE)\n",
    "    s1 = pos.start() if pos else -1\n",
    "    pos = re.search('(.?외환.?국제금융\\s?동향.?과 관련하여.*|\\(나\\) 외환.국제금융\\s?(및 금융시장)?\\s?동향)\\n?\\s*(일부 위원은|대부분의 위원들은)|｢?.?외환.?국제금융\\s?동향.?｣?과 관련하여.*', minutes,re.MULTILINE)\n",
    "    s2 = pos.start() if pos else -1\n",
    "    pos = re.search('(.?금융시장\\s?동향.?과 관련하여,?|\\(다\\) 금융시장\\s?동향)\\n?\\s*일부 위원은|｢?.?금융시장\\s?동향.?｣?과 관련하여,?', minutes, re.MULTILINE)\n",
    "    s3 = pos.start() if pos else -1\n",
    "    pos = re.search('((\\((다|라)\\) )?.?통화정책\\s?방향.?에 관한 토론,?|이상과 같은 의견\\s?교환을 바탕으로.*통화정책\\s?방향.*에.*토론.*)\\n?', minutes,re.MULTILINE)\n",
    "    s4 = pos.start() if pos else -1\n",
    "    pos = re.search('(\\(4\\) 정부측 열석자 발언.*)\\n?', minutes, re.MULTILINE)\n",
    "    s5 = pos.start() if pos else -1\n",
    "    pos = re.search('(\\(.*\\) 한국은행 기준금리 결정에 관한 위원별 의견\\s?개진|이상과 같은 토론에 이어 .* 관한 위원별 의견개진이 있었음.*)\\n?', minutes,re.MULTILINE)\n",
    "    s6 = pos.start() if pos else -1\n",
    "    positer = re.finditer('(\\(\\s?.*\\s?\\) ()(심의결과|토의결론))\\n?', minutes, re.MULTILINE)\n",
    "    s7 = [pos.start() for pos in positer if pos.start() > s6]\n",
    "    s7 = s7[0] if s7 else -1\n",
    "\n",
    "    # 국내외 경제동향\n",
    "    bos = s1\n",
    "    eos = s2\n",
    "    section = minutes[bos:eos] if bos >= 0 or eos >= 0 else ''\n",
    "    pos = re.search('(일부|대부분의) 위원들?은', section, re.MULTILINE)\n",
    "    bos = pos.start() if pos else -1\n",
    "    section = section[bos:] if bos >= 0 else section\n",
    "    section1, section1_txt = tidy_sentences(section)\n",
    "\n",
    "    # 외환․국제금융 동향\n",
    "    bos = s2\n",
    "    eos = s3 if s3 >= 0 else s4\n",
    "    section = minutes[bos:eos] if bos >= 0 or eos >= 0 else ''\n",
    "    pos = re.search('(일부|대부분의) 위원들?은', section, re.MULTILINE)\n",
    "    bos = pos.start() if pos else -1\n",
    "    section = section[bos:] if bos >= 0 else section\n",
    "    section2, section2_txt = tidy_sentences(section)\n",
    "    #print(section)\n",
    "\n",
    "    # 금융시장 동향\n",
    "    bos = s3\n",
    "    eos = s4\n",
    "    section = minutes[bos:eos] if bos >= 0 or eos >= 0 else ''\n",
    "    pos = re.search('(일부|대부분의) 위원들?은', section, re.MULTILINE)\n",
    "    bos = pos.start() if pos else -1\n",
    "    section = section[bos:] if bos >= 0 else section\n",
    "    section3, section3_txt = tidy_sentences(section)\n",
    "\n",
    "    # 통화정책방향\n",
    "    bos = s4\n",
    "    eos = s5 if s5 >= 0 else s6 if s6 >= 0 else s7\n",
    "    section = minutes[bos:eos] if bos >= 0 or eos >= 0 else ''\n",
    "    pos = re.search('(일부|대부분의) 위원들?은', section, re.MULTILINE)\n",
    "    bos = pos.start() if pos else -1\n",
    "    section = section[bos:] if bos >= 0 else section\n",
    "    section4, section4_txt = tidy_sentences(section)\n",
    "\n",
    "    # 위원별 의견 개진\n",
    "    bos = s6\n",
    "    eos = s7\n",
    "    section = minutes[bos:eos] if bos >= 0 or eos >= 0 else ''\n",
    "    pos = re.search('(일부|대부분의) 위원들?은', section, re.MULTILINE)\n",
    "    bos = pos.start() if pos else -1\n",
    "    section = section[bos:] if bos >= 0 else section\n",
    "    section5, section5_txt = tidy_sentences(section)\n",
    "\n",
    "    # 정부측 열석자 발언\n",
    "    bos = s5\n",
    "    eos = s6\n",
    "    section = minutes[bos:eos] if bos >= 0 or eos >= 0 else ''\n",
    "    pos = re.search('정부측 열석자 발언', section, re.MULTILINE)\n",
    "    bos = pos.end() + 1 if pos else -1\n",
    "    section = section[bos:] if bos >= 0 else section\n",
    "    section6, section6_txt = tidy_sentences(section)\n",
    "\n",
    "    sections = ['Economic Situation', 'Foreign Currency', 'Financial Markets',\n",
    "                'Monetary Policy', 'Participants’ Views', 'Government’s View']\n",
    "    section_texts = (section1, section2, section3, section4, section5, section6)\n",
    "\n",
    "\n",
    "    return sections, section_texts\n"
   ]
  },
  {
   "cell_type": "code",
   "execution_count": 5,
   "metadata": {},
   "outputs": [
    {
     "data": {
      "text/plain": [
       "'C:\\\\Users\\\\student\\\\Documents\\\\Daikoku_Python'"
      ]
     },
     "execution_count": 5,
     "metadata": {},
     "output_type": "execute_result"
    }
   ],
   "source": [
    "base"
   ]
  },
  {
   "cell_type": "code",
   "execution_count": 6,
   "metadata": {},
   "outputs": [],
   "source": [
    "base = os.getcwd()\n",
    "source = os.path.join(base, 'tika\\\\')\n",
    "output = os.path.join(base, 'gold\\\\')"
   ]
  },
  {
   "cell_type": "code",
   "execution_count": 7,
   "metadata": {},
   "outputs": [],
   "source": [
    "def txt_split(source_folder):\n",
    "    result_list = []\n",
    "    # 지정 폴더 내 파일 목록 조회 (파일만)\n",
    "    txt_files = [f for f in listdir(source_folder) if isfile(join(source_folder, f))]\n",
    "    for txt in txt_files:\n",
    "        # 날자 데이터 가져오기\n",
    "        a = str(txt).split('(')[2][:-5]\n",
    "        date_li = a.split('.')\n",
    "        time = date(int(date_li[0]), int(date_li[1]), int(date_li[2]))\n",
    "        \n",
    "        # 파일에서 텍스트 가져오기\n",
    "        filepath = (source_folder + txt)\n",
    "        with open(filepath, 'r', encoding='utf-8') as f :\n",
    "            text = f.read()\n",
    "\n",
    "        sections, section_texts = preprocess_minutes(text)\n",
    "        section_2 = section_texts[1]\n",
    "        section_3 = section_texts[2]\n",
    "        new_dict = {\n",
    "            'date' : time,\n",
    "            's2' : section_2,\n",
    "            's3' : section_3\n",
    "        }\n",
    "        result_list.append(new_dict)\n",
    "    \n",
    "    df = pd.DataFrame(result_list)\n",
    "    return df"
   ]
  },
  {
   "cell_type": "code",
   "execution_count": 8,
   "metadata": {},
   "outputs": [],
   "source": [
    "df = txt_split(source)"
   ]
  },
  {
   "cell_type": "code",
   "execution_count": 9,
   "metadata": {},
   "outputs": [
    {
     "data": {
      "text/html": [
       "<div>\n",
       "<style scoped>\n",
       "    .dataframe tbody tr th:only-of-type {\n",
       "        vertical-align: middle;\n",
       "    }\n",
       "\n",
       "    .dataframe tbody tr th {\n",
       "        vertical-align: top;\n",
       "    }\n",
       "\n",
       "    .dataframe thead th {\n",
       "        text-align: right;\n",
       "    }\n",
       "</style>\n",
       "<table border=\"1\" class=\"dataframe\">\n",
       "  <thead>\n",
       "    <tr style=\"text-align: right;\">\n",
       "      <th></th>\n",
       "      <th>date</th>\n",
       "      <th>s2</th>\n",
       "      <th>s3</th>\n",
       "    </tr>\n",
       "  </thead>\n",
       "  <tbody>\n",
       "    <tr>\n",
       "      <th>0</th>\n",
       "      <td>2005-06-09</td>\n",
       "      <td>[]</td>\n",
       "      <td>[]</td>\n",
       "    </tr>\n",
       "    <tr>\n",
       "      <th>1</th>\n",
       "      <td>2005-06-23</td>\n",
       "      <td>[]</td>\n",
       "      <td>[]</td>\n",
       "    </tr>\n",
       "    <tr>\n",
       "      <th>2</th>\n",
       "      <td>2005-07-07</td>\n",
       "      <td>[]</td>\n",
       "      <td>[]</td>\n",
       "    </tr>\n",
       "    <tr>\n",
       "      <th>3</th>\n",
       "      <td>2005-08-11</td>\n",
       "      <td>[]</td>\n",
       "      <td>[]</td>\n",
       "    </tr>\n",
       "    <tr>\n",
       "      <th>4</th>\n",
       "      <td>2005-09-08</td>\n",
       "      <td>[]</td>\n",
       "      <td>[]</td>\n",
       "    </tr>\n",
       "  </tbody>\n",
       "</table>\n",
       "</div>"
      ],
      "text/plain": [
       "         date  s2  s3\n",
       "0  2005-06-09  []  []\n",
       "1  2005-06-23  []  []\n",
       "2  2005-07-07  []  []\n",
       "3  2005-08-11  []  []\n",
       "4  2005-09-08  []  []"
      ]
     },
     "execution_count": 9,
     "metadata": {},
     "output_type": "execute_result"
    }
   ],
   "source": [
    "df.head()"
   ]
  },
  {
   "cell_type": "code",
   "execution_count": 10,
   "metadata": {},
   "outputs": [],
   "source": [
    "import numpy as np\n",
    "np_df = np.array(df)"
   ]
  },
  {
   "cell_type": "code",
   "execution_count": 11,
   "metadata": {},
   "outputs": [
    {
     "name": "stdout",
     "output_type": "stream",
     "text": [
      "144\n"
     ]
    }
   ],
   "source": [
    "count = 0\n",
    "for a, b, c in np_df:\n",
    "    if b != []:\n",
    "        count +=1\n",
    "    if c != []:\n",
    "        count +=1\n",
    "print(count)"
   ]
  },
  {
   "cell_type": "markdown",
   "metadata": {},
   "source": []
  },
  {
   "cell_type": "code",
   "execution_count": 12,
   "metadata": {},
   "outputs": [],
   "source": [
    "def make_txtlist(file):\n",
    "    result_list = []\n",
    "    for a, b, c in file:\n",
    "        if b != []:\n",
    "            new_dict = {\n",
    "                'date' : a,\n",
    "                'text' : ','.join(b)\n",
    "            }\n",
    "            result_list.append(new_dict)\n",
    "        if c != []:\n",
    "            new_dict = {\n",
    "                'date' : a,\n",
    "                'text' : ','.join(c)\n",
    "            }\n",
    "            result_list.append(new_dict)\n",
    "    return result_list"
   ]
  },
  {
   "cell_type": "code",
   "execution_count": 13,
   "metadata": {},
   "outputs": [],
   "source": [
    "text_li = make_txtlist(np_df)"
   ]
  },
  {
   "cell_type": "code",
   "execution_count": 28,
   "metadata": {},
   "outputs": [
    {
     "data": {
      "text/html": [
       "<div>\n",
       "<style scoped>\n",
       "    .dataframe tbody tr th:only-of-type {\n",
       "        vertical-align: middle;\n",
       "    }\n",
       "\n",
       "    .dataframe tbody tr th {\n",
       "        vertical-align: top;\n",
       "    }\n",
       "\n",
       "    .dataframe thead th {\n",
       "        text-align: right;\n",
       "    }\n",
       "</style>\n",
       "<table border=\"1\" class=\"dataframe\">\n",
       "  <thead>\n",
       "    <tr style=\"text-align: right;\">\n",
       "      <th></th>\n",
       "      <th>date</th>\n",
       "      <th>text</th>\n",
       "    </tr>\n",
       "  </thead>\n",
       "  <tbody>\n",
       "    <tr>\n",
       "      <th>0</th>\n",
       "      <td>2006-06-08</td>\n",
       "      <td>일부 위원은 세계적인 긴축기조의 영향으로 신흥시장(emerging market)에 ...</td>\n",
       "    </tr>\n",
       "    <tr>\n",
       "      <th>1</th>\n",
       "      <td>2006-09-07</td>\n",
       "      <td>일부 위원은 최근 원화선물옵션의 시카고상업거래소(CME: Chicago Mercan...</td>\n",
       "    </tr>\n",
       "    <tr>\n",
       "      <th>2</th>\n",
       "      <td>2008-07-10</td>\n",
       "      <td>일부 위원은 최근 통화량 증가에 대한 우려가 많이 제기되고 있다면서 M2의 경우 개...</td>\n",
       "    </tr>\n",
       "    <tr>\n",
       "      <th>3</th>\n",
       "      <td>2008-09-11</td>\n",
       "      <td>일부 위원은 지난달에 기업들이 순발행, CP｢ ｣을 줄이고 조달금리가 상대적으로 높...</td>\n",
       "    </tr>\n",
       "    <tr>\n",
       "      <th>4</th>\n",
       "      <td>2010-05-12</td>\n",
       "      <td>일부 위원은 남유럽사태 이후 각국이·｢ ｣금융기관에 대한 미시 거시 건전성감독의 중...</td>\n",
       "    </tr>\n",
       "  </tbody>\n",
       "</table>\n",
       "</div>"
      ],
      "text/plain": [
       "         date                                               text\n",
       "0  2006-06-08  일부 위원은 세계적인 긴축기조의 영향으로 신흥시장(emerging market)에 ...\n",
       "1  2006-09-07  일부 위원은 최근 원화선물옵션의 시카고상업거래소(CME: Chicago Mercan...\n",
       "2  2008-07-10  일부 위원은 최근 통화량 증가에 대한 우려가 많이 제기되고 있다면서 M2의 경우 개...\n",
       "3  2008-09-11  일부 위원은 지난달에 기업들이 순발행, CP｢ ｣을 줄이고 조달금리가 상대적으로 높...\n",
       "4  2010-05-12  일부 위원은 남유럽사태 이후 각국이·｢ ｣금융기관에 대한 미시 거시 건전성감독의 중..."
      ]
     },
     "execution_count": 28,
     "metadata": {},
     "output_type": "execute_result"
    }
   ],
   "source": [
    "df_txt = pd.DataFrame(text_li)\n",
    "df_txt.head()"
   ]
  },
  {
   "cell_type": "code",
   "execution_count": 29,
   "metadata": {},
   "outputs": [
    {
     "data": {
      "text/html": [
       "<div>\n",
       "<style scoped>\n",
       "    .dataframe tbody tr th:only-of-type {\n",
       "        vertical-align: middle;\n",
       "    }\n",
       "\n",
       "    .dataframe tbody tr th {\n",
       "        vertical-align: top;\n",
       "    }\n",
       "\n",
       "    .dataframe thead th {\n",
       "        text-align: right;\n",
       "    }\n",
       "</style>\n",
       "<table border=\"1\" class=\"dataframe\">\n",
       "  <thead>\n",
       "    <tr style=\"text-align: right;\">\n",
       "      <th></th>\n",
       "      <th>date</th>\n",
       "      <th>text</th>\n",
       "      <th>token</th>\n",
       "      <th>ngram</th>\n",
       "    </tr>\n",
       "  </thead>\n",
       "  <tbody>\n",
       "    <tr>\n",
       "      <th>0</th>\n",
       "      <td>2006-06-08</td>\n",
       "      <td>일부 위원은 세계적인 긴축기조의 영향으로 신흥시장(emerging market)에 ...</td>\n",
       "      <td>0</td>\n",
       "      <td>0</td>\n",
       "    </tr>\n",
       "    <tr>\n",
       "      <th>1</th>\n",
       "      <td>2006-09-07</td>\n",
       "      <td>일부 위원은 최근 원화선물옵션의 시카고상업거래소(CME: Chicago Mercan...</td>\n",
       "      <td>0</td>\n",
       "      <td>0</td>\n",
       "    </tr>\n",
       "    <tr>\n",
       "      <th>2</th>\n",
       "      <td>2008-07-10</td>\n",
       "      <td>일부 위원은 최근 통화량 증가에 대한 우려가 많이 제기되고 있다면서 M2의 경우 개...</td>\n",
       "      <td>0</td>\n",
       "      <td>0</td>\n",
       "    </tr>\n",
       "    <tr>\n",
       "      <th>3</th>\n",
       "      <td>2008-09-11</td>\n",
       "      <td>일부 위원은 지난달에 기업들이 순발행, CP｢ ｣을 줄이고 조달금리가 상대적으로 높...</td>\n",
       "      <td>0</td>\n",
       "      <td>0</td>\n",
       "    </tr>\n",
       "    <tr>\n",
       "      <th>4</th>\n",
       "      <td>2010-05-12</td>\n",
       "      <td>일부 위원은 남유럽사태 이후 각국이·｢ ｣금융기관에 대한 미시 거시 건전성감독의 중...</td>\n",
       "      <td>0</td>\n",
       "      <td>0</td>\n",
       "    </tr>\n",
       "  </tbody>\n",
       "</table>\n",
       "</div>"
      ],
      "text/plain": [
       "         date                                               text  token  ngram\n",
       "0  2006-06-08  일부 위원은 세계적인 긴축기조의 영향으로 신흥시장(emerging market)에 ...      0      0\n",
       "1  2006-09-07  일부 위원은 최근 원화선물옵션의 시카고상업거래소(CME: Chicago Mercan...      0      0\n",
       "2  2008-07-10  일부 위원은 최근 통화량 증가에 대한 우려가 많이 제기되고 있다면서 M2의 경우 개...      0      0\n",
       "3  2008-09-11  일부 위원은 지난달에 기업들이 순발행, CP｢ ｣을 줄이고 조달금리가 상대적으로 높...      0      0\n",
       "4  2010-05-12  일부 위원은 남유럽사태 이후 각국이·｢ ｣금융기관에 대한 미시 거시 건전성감독의 중...      0      0"
      ]
     },
     "execution_count": 29,
     "metadata": {},
     "output_type": "execute_result"
    }
   ],
   "source": [
    "df_txt['token'] = 0\n",
    "df_txt['ngram'] = 0\n",
    "df_txt.head()"
   ]
  },
  {
   "cell_type": "markdown",
   "metadata": {},
   "source": [
    "# n- gram"
   ]
  },
  {
   "cell_type": "code",
   "execution_count": 20,
   "metadata": {},
   "outputs": [],
   "source": [
    "import pandas as pd\n",
    "from ekonlpy.sentiment import MPCK\n",
    "\n",
    "def text2ngram(text):\n",
    "    mpck = MPCK()\n",
    "    bef_tokens = mpck.tokenize(text)\n",
    "    ngrams = mpck.ngramize(bef_tokens)\n",
    "    return ngrams"
   ]
  },
  {
   "cell_type": "code",
   "execution_count": 30,
   "metadata": {},
   "outputs": [
    {
     "name": "stderr",
     "output_type": "stream",
     "text": [
      "C:\\ProgramData\\Anaconda3\\lib\\site-packages\\ipykernel_launcher.py:7: SettingWithCopyWarning: \n",
      "A value is trying to be set on a copy of a slice from a DataFrame\n",
      "\n",
      "See the caveats in the documentation: http://pandas.pydata.org/pandas-docs/stable/indexing.html#indexing-view-versus-copy\n",
      "  import sys\n",
      "C:\\ProgramData\\Anaconda3\\lib\\site-packages\\pandas\\core\\indexing.py:190: SettingWithCopyWarning: \n",
      "A value is trying to be set on a copy of a slice from a DataFrame\n",
      "\n",
      "See the caveats in the documentation: http://pandas.pydata.org/pandas-docs/stable/indexing.html#indexing-view-versus-copy\n",
      "  self._setitem_with_indexer(indexer, value)\n"
     ]
    }
   ],
   "source": [
    "for i in range(len(df_txt)):\n",
    "    txt = df_txt.text[i]\n",
    "\n",
    "    ngrams = text2ngram(txt)\n",
    "    ngram_text = ','.join(ngrams)\n",
    "\n",
    "    df_txt.ngram[i] = ngram_text"
   ]
  },
  {
   "cell_type": "code",
   "execution_count": 31,
   "metadata": {},
   "outputs": [
    {
     "data": {
      "text/html": [
       "<div>\n",
       "<style scoped>\n",
       "    .dataframe tbody tr th:only-of-type {\n",
       "        vertical-align: middle;\n",
       "    }\n",
       "\n",
       "    .dataframe tbody tr th {\n",
       "        vertical-align: top;\n",
       "    }\n",
       "\n",
       "    .dataframe thead th {\n",
       "        text-align: right;\n",
       "    }\n",
       "</style>\n",
       "<table border=\"1\" class=\"dataframe\">\n",
       "  <thead>\n",
       "    <tr style=\"text-align: right;\">\n",
       "      <th></th>\n",
       "      <th>date</th>\n",
       "      <th>text</th>\n",
       "      <th>token</th>\n",
       "      <th>ngram</th>\n",
       "    </tr>\n",
       "  </thead>\n",
       "  <tbody>\n",
       "    <tr>\n",
       "      <th>0</th>\n",
       "      <td>2006-06-08</td>\n",
       "      <td>일부 위원은 세계적인 긴축기조의 영향으로 신흥시장(emerging market)에 ...</td>\n",
       "      <td>0</td>\n",
       "      <td>경상/NNG;수지/NNG;자본/NNG;수지/NNG;흑자/NNG,수출기업/NNG;환율...</td>\n",
       "    </tr>\n",
       "    <tr>\n",
       "      <th>1</th>\n",
       "      <td>2006-09-07</td>\n",
       "      <td>일부 위원은 최근 원화선물옵션의 시카고상업거래소(CME: Chicago Mercan...</td>\n",
       "      <td>0</td>\n",
       "      <td></td>\n",
       "    </tr>\n",
       "    <tr>\n",
       "      <th>2</th>\n",
       "      <td>2008-07-10</td>\n",
       "      <td>일부 위원은 최근 통화량 증가에 대한 우려가 많이 제기되고 있다면서 M2의 경우 개...</td>\n",
       "      <td>0</td>\n",
       "      <td>통화/NNG;증가/NNG,투자/NNG;늘/VV</td>\n",
       "    </tr>\n",
       "    <tr>\n",
       "      <th>3</th>\n",
       "      <td>2008-09-11</td>\n",
       "      <td>일부 위원은 지난달에 기업들이 순발행, CP｢ ｣을 줄이고 조달금리가 상대적으로 높...</td>\n",
       "      <td>0</td>\n",
       "      <td>민간/NNG;신용/NNG;증가/NNG;둔화/NNG,주택담보대출/NNG;연체율/NNG...</td>\n",
       "    </tr>\n",
       "    <tr>\n",
       "      <th>4</th>\n",
       "      <td>2010-05-12</td>\n",
       "      <td>일부 위원은 남유럽사태 이후 각국이·｢ ｣금융기관에 대한 미시 거시 건전성감독의 중...</td>\n",
       "      <td>0</td>\n",
       "      <td>외환보유액/NNG;경상/NNG;수지/NNG;흑자/NNG,둔화/NNG;물가/NNG;하...</td>\n",
       "    </tr>\n",
       "  </tbody>\n",
       "</table>\n",
       "</div>"
      ],
      "text/plain": [
       "         date                                               text  token  \\\n",
       "0  2006-06-08  일부 위원은 세계적인 긴축기조의 영향으로 신흥시장(emerging market)에 ...      0   \n",
       "1  2006-09-07  일부 위원은 최근 원화선물옵션의 시카고상업거래소(CME: Chicago Mercan...      0   \n",
       "2  2008-07-10  일부 위원은 최근 통화량 증가에 대한 우려가 많이 제기되고 있다면서 M2의 경우 개...      0   \n",
       "3  2008-09-11  일부 위원은 지난달에 기업들이 순발행, CP｢ ｣을 줄이고 조달금리가 상대적으로 높...      0   \n",
       "4  2010-05-12  일부 위원은 남유럽사태 이후 각국이·｢ ｣금융기관에 대한 미시 거시 건전성감독의 중...      0   \n",
       "\n",
       "                                               ngram  \n",
       "0  경상/NNG;수지/NNG;자본/NNG;수지/NNG;흑자/NNG,수출기업/NNG;환율...  \n",
       "1                                                     \n",
       "2                          통화/NNG;증가/NNG,투자/NNG;늘/VV  \n",
       "3  민간/NNG;신용/NNG;증가/NNG;둔화/NNG,주택담보대출/NNG;연체율/NNG...  \n",
       "4  외환보유액/NNG;경상/NNG;수지/NNG;흑자/NNG,둔화/NNG;물가/NNG;하...  "
      ]
     },
     "execution_count": 31,
     "metadata": {},
     "output_type": "execute_result"
    }
   ],
   "source": [
    "df_txt.head()"
   ]
  },
  {
   "cell_type": "code",
   "execution_count": 32,
   "metadata": {},
   "outputs": [],
   "source": [
    "df_txt.to_excel('금통위회의록.xlsx')"
   ]
  },
  {
   "cell_type": "code",
   "execution_count": null,
   "metadata": {},
   "outputs": [],
   "source": []
  }
 ],
 "metadata": {
  "kernelspec": {
   "display_name": "Python 3",
   "language": "python",
   "name": "python3"
  },
  "language_info": {
   "codemirror_mode": {
    "name": "ipython",
    "version": 3
   },
   "file_extension": ".py",
   "mimetype": "text/x-python",
   "name": "python",
   "nbconvert_exporter": "python",
   "pygments_lexer": "ipython3",
   "version": "3.7.3"
  }
 },
 "nbformat": 4,
 "nbformat_minor": 2
}
