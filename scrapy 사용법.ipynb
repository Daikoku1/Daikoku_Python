{
 "cells": [
  {
   "cell_type": "markdown",
   "metadata": {},
   "source": [
    "# scrapy 사용  \n",
    "1. !pip install scrapy\n",
    "2. 아나콘다에서 VS code 설치 / 실행\n",
    "3. 새로운 폴더 생성(윈도우탐색기) - 작업폴더로 설정하기 위함\n",
    "4. VS - start 하위 open folder - 3번 폴더를 지정\n",
    "5. VS _ Terminal - new Terminal\n",
    "6. scrapy startproject tutorial - 지정된 폴더 안에 tutorial 폴더 생성함.\n",
    "7. seting.py  \n",
    "    - ROBOTSTXT_OBEY : 허용범위 # 국내사이트는 다 막아놓기 때문에 국내사이트 크롤링하는 경우 False 입력해야함\n",
    "8. 만들어진 폴더로 접근\n",
    "    - cd tutorial(폴더명)\n",
    "9. 스파이더 생성\n",
    "    - scrapy genspider testspider(스파이더이름) naver.com(접속주소)\n",
    "10. 저장위치 지정\n",
    "    - scrapy crawl testspider -o test.csv (-o 뒤에 파일 확장자를 json으로 하면 json으로 저장)"
   ]
  },
  {
   "cell_type": "code",
   "execution_count": null,
   "metadata": {},
   "outputs": [],
   "source": []
  },
  {
   "cell_type": "markdown",
   "metadata": {},
   "source": [
    "# scrapy item 사용법  \n",
    "1. 좌측 item 메뉴\n",
    "2. 클래스 안에 '이름' = scrapy.Field() 형식으로 지정\n",
    "3. item['이름'] = content 형식으로 스파이더에서 지정\n",
    "4. 우리가 지정한 형식으로 입력된다. "
   ]
  },
  {
   "cell_type": "code",
   "execution_count": null,
   "metadata": {},
   "outputs": [],
   "source": []
  },
  {
   "cell_type": "code",
   "execution_count": null,
   "metadata": {},
   "outputs": [],
   "source": []
  }
 ],
 "metadata": {
  "kernelspec": {
   "display_name": "Python 3",
   "language": "python",
   "name": "python3"
  },
  "language_info": {
   "codemirror_mode": {
    "name": "ipython",
    "version": 3
   },
   "file_extension": ".py",
   "mimetype": "text/x-python",
   "name": "python",
   "nbconvert_exporter": "python",
   "pygments_lexer": "ipython3",
   "version": "3.7.3"
  }
 },
 "nbformat": 4,
 "nbformat_minor": 2
}
