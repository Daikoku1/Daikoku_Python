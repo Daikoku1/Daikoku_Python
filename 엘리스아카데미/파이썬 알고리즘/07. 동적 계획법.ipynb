{
 "cells": [
  {
   "cell_type": "markdown",
   "id": "4e0699e3",
   "metadata": {},
   "source": [
    "# 피보나치 수열(메모이제이션 이용)"
   ]
  },
  {
   "cell_type": "code",
   "execution_count": 2,
   "id": "90421ec8",
   "metadata": {},
   "outputs": [
    {
     "name": "stdout",
     "output_type": "stream",
     "text": [
      "8\n",
      "Fibonacci(8) =  21\n"
     ]
    }
   ],
   "source": [
    "# 1번을 해보세요!\n",
    "def fib_dp_mem(n):\n",
    "    global mem\n",
    "    if n <= 1: return n\n",
    "    elif mem[n]: return mem[n]\n",
    "\n",
    "    \n",
    "    mem[n] = fib_dp_mem(n-1) + fib_dp_mem(n-2)\n",
    "    return mem[n]\n",
    "    \n",
    "# 2번을 해보세요!\n",
    "n = int(input())\n",
    "\n",
    "# 출력합니다!\n",
    "mem = [None] * (n+1)\n",
    "print('Fibonacci(%d) = '%n, fib_dp_mem(n))"
   ]
  },
  {
   "cell_type": "markdown",
   "id": "735a1082",
   "metadata": {},
   "source": [
    "# 피보나치 수열(테이블화 이용)"
   ]
  },
  {
   "cell_type": "code",
   "execution_count": 1,
   "id": "27bfc77a",
   "metadata": {},
   "outputs": [
    {
     "name": "stdout",
     "output_type": "stream",
     "text": [
      "8\n",
      "Fibonacci(8) =  21\n"
     ]
    }
   ],
   "source": [
    "# 1번을 해보세요!\n",
    "def fib_dp_tab(n) :\n",
    "    f = [None] * (n+1)\n",
    "    f[0], f[1] = 0, 1\n",
    "    idx = 2\n",
    "    while idx <= n:\n",
    "        f[idx] = f[idx-1] + f[idx-2]\n",
    "        idx += 1\n",
    "    return f[n]\t\n",
    "\n",
    "\n",
    "# 2번을 해보세요!\n",
    "n = int(input())\n",
    "\n",
    "\n",
    "# 출력합니다!\n",
    "print('Fibonacci(%d) = '%n, fib_dp_tab(n))\n"
   ]
  },
  {
   "cell_type": "markdown",
   "id": "5bb32682",
   "metadata": {},
   "source": [
    "# 이항계수 C(n, k) 계산 함수(분할 정복 기법)"
   ]
  },
  {
   "cell_type": "code",
   "execution_count": 3,
   "id": "59a1cd90",
   "metadata": {},
   "outputs": [
    {
     "name": "stdout",
     "output_type": "stream",
     "text": [
      "6\n",
      "3\n",
      "C(6,3) = 20\n"
     ]
    }
   ],
   "source": [
    "# 1번을 해보세요!\n",
    "def bino_coef_dc(n, k):\n",
    "    if n == k : return 1\n",
    "    elif k == 0: return 1\n",
    "    \n",
    "    return bino_coef_dc(n-1, k) + bino_coef_dc(n-1, k-1)\n",
    "\n",
    "\n",
    "# 2번을 해보세요!\n",
    "n = int(input())\n",
    "k = int(input())\n",
    " \n",
    "\n",
    "# 출력합니다!\n",
    "print(\"C(%d,%d) =\" %(n, k), bino_coef_dc(n, k))"
   ]
  },
  {
   "cell_type": "markdown",
   "id": "c040690d",
   "metadata": {},
   "source": [
    "# 이항계수 C(n, k) 계산 함수(동적 계획법)"
   ]
  },
  {
   "cell_type": "code",
   "execution_count": 8,
   "id": "413111cf",
   "metadata": {},
   "outputs": [
    {
     "name": "stdout",
     "output_type": "stream",
     "text": [
      "6\n",
      "3\n",
      "C(6,3) = 20\n"
     ]
    }
   ],
   "source": [
    "# 1번을 해보세요!\n",
    "def bino_coef_dp(n, k):\n",
    "    C = [[-1 for _ in range(k+1)] for _ in range(n+1)] \n",
    "    for i in range(n+1):\n",
    "        C[i][0] = 1\n",
    "    for j in range(k+1):\n",
    "        C[j][j] = 1\n",
    "    for x in range(2, n+1):\n",
    "        for y in range(1, min(x, k+1)):\n",
    "            C[x][y] = C[x-1][y-1] + C[x-1][y]\n",
    "    return C[n][k]\n",
    "\n",
    "# 2번을 해보세요!\n",
    "n = int(input())\n",
    "k = int(input())\n",
    "\n",
    "\n",
    "# 출력합니다!\n",
    "print(\"C(%d,%d) =\" %(n, k), bino_coef_dp(n, k))"
   ]
  },
  {
   "cell_type": "markdown",
   "id": "7f4c74a6",
   "metadata": {},
   "source": [
    "# 배낭 채우기 알고리즘(분할 정복 기법)"
   ]
  },
  {
   "cell_type": "code",
   "execution_count": null,
   "id": "61f87133",
   "metadata": {},
   "outputs": [],
   "source": [
    "# 1번을 해보세요!\n",
    "def knapSack_dc(W, wt, val, n): \n",
    "    if not W or not wt: return 0\n",
    "    if wt[-1] > W : return knapSack_dc(W, wt[:-1], val[:-1], n-1)\n",
    "    \n",
    "    return max(val[-1] + knapSack_dc(W - wt[-1], wt[:-1], val[:-1], n-1), knapSack_dc(W, wt[:-1], val[:-1], n-1))\n",
    "\n",
    "\n",
    "# 2번을 해보세요!\n",
    "n = int(input())\n",
    "val = list(map(int, input().split()))\n",
    "wt = list(map(int, input().split()))\n",
    "W = int(input())\n",
    "\n",
    "\n",
    "# 출력합니다!\n",
    "print(\"최대 가치:\", knapSack_dc(W, wt, val, n)) "
   ]
  }
 ],
 "metadata": {
  "kernelspec": {
   "display_name": "Python 3",
   "language": "python",
   "name": "python3"
  },
  "language_info": {
   "codemirror_mode": {
    "name": "ipython",
    "version": 3
   },
   "file_extension": ".py",
   "mimetype": "text/x-python",
   "name": "python",
   "nbconvert_exporter": "python",
   "pygments_lexer": "ipython3",
   "version": "3.8.8"
  }
 },
 "nbformat": 4,
 "nbformat_minor": 5
}
