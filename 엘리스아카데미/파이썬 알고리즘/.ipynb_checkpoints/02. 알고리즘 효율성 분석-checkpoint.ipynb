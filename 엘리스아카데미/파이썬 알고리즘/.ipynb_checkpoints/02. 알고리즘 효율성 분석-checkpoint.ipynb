{
 "cells": [
  {
   "cell_type": "markdown",
   "id": "7fe3c61f",
   "metadata": {},
   "source": [
    "## 순차탐색"
   ]
  },
  {
   "cell_type": "code",
   "execution_count": 2,
   "id": "e1c4a57a",
   "metadata": {},
   "outputs": [
    {
     "name": "stdout",
     "output_type": "stream",
     "text": [
      "32 14 5 17 23 9 11 4 26 29\n",
      "32\n",
      "32찾기: 0\n"
     ]
    }
   ],
   "source": [
    "# 1번을 해보세요!\n",
    "def sequential_search(A, key):\n",
    "    for i, v in enumerate(A):\n",
    "        if v == key: return i\n",
    "    return -1\t\t\n",
    "\n",
    "# 2번을 해보세요!\n",
    "A = list(map(int, input().split()))\n",
    "key = int(input())\n",
    "\n",
    "# 출력합니다!\n",
    "print(\"%d찾기:\" %(key), sequential_search(A, key))"
   ]
  },
  {
   "cell_type": "markdown",
   "id": "0447d52c",
   "metadata": {},
   "source": [
    "## 자연수의 제곱 계산 문제 O(1)"
   ]
  },
  {
   "cell_type": "code",
   "execution_count": 3,
   "id": "1fd2f863",
   "metadata": {},
   "outputs": [
    {
     "name": "stdout",
     "output_type": "stream",
     "text": [
      "1000000\n",
      "1000000000000\n"
     ]
    }
   ],
   "source": [
    "# 1번을 해보세요!\n",
    "def compute_square_A(n):\n",
    "    return n**2\n",
    "    \n",
    "# 2번을 해보세요!\n",
    "n = int(input())\n",
    "\n",
    "# 출력합니다!\n",
    "print(compute_square_A(n))"
   ]
  },
  {
   "cell_type": "markdown",
   "id": "541d5d8c",
   "metadata": {},
   "source": [
    "## 자연수의 제곱 계산 문제 O(n)"
   ]
  },
  {
   "cell_type": "code",
   "execution_count": 5,
   "id": "f4892216",
   "metadata": {},
   "outputs": [
    {
     "name": "stdout",
     "output_type": "stream",
     "text": [
      "1000000\n",
      "1000000000000\n"
     ]
    }
   ],
   "source": [
    "# 1번을 해보세요!\n",
    "def compute_square_B(n):\n",
    "    sum = 0\n",
    "    for _ in range(n):\n",
    "        sum += n\n",
    "    return sum\n",
    "    \n",
    "# 2번을 해보세요!>\n",
    "n = int(input())\n",
    "\n",
    "# 출력합니다!\n",
    "print(compute_square_B(n))"
   ]
  },
  {
   "cell_type": "markdown",
   "id": "8470d14b",
   "metadata": {},
   "source": [
    "## 자연수의 제곱 계산 문제 O(n²)"
   ]
  },
  {
   "cell_type": "code",
   "execution_count": 6,
   "id": "79c3d615",
   "metadata": {},
   "outputs": [
    {
     "name": "stdout",
     "output_type": "stream",
     "text": [
      "123\n",
      "15129\n"
     ]
    }
   ],
   "source": [
    "# 1번을 해보세요!\n",
    "def compute_square_C(n):\n",
    "    sum = 0\n",
    "    for _ in range(n):\n",
    "        for _ in range(n):\n",
    "            sum += 1\n",
    "    return sum\n",
    "    \n",
    "# 2번을 해보세요!\n",
    "n = int(input())\n",
    "\n",
    "# 출력합니다!\n",
    "print(compute_square_C(n))"
   ]
  },
  {
   "cell_type": "markdown",
   "id": "c5c6e0b3",
   "metadata": {},
   "source": [
    "## 리스트의 중복 항목 탐색 문제"
   ]
  },
  {
   "cell_type": "code",
   "execution_count": 7,
   "id": "f35e601b",
   "metadata": {},
   "outputs": [
    {
     "name": "stdout",
     "output_type": "stream",
     "text": [
      "32 14 5 17 23 9 11 14 26 29\n",
      "False\n"
     ]
    }
   ],
   "source": [
    "# 1번을 해보세요!\n",
    "A = list(map(int, input().split()))\n",
    "\n",
    "# 2번을 해보세요!\n",
    "def unique_elements(A):\n",
    "    return len(set(A)) == len(A)\n",
    "\n",
    "# 출력합니다!\n",
    "print(unique_elements(A))"
   ]
  },
  {
   "cell_type": "markdown",
   "id": "ddd26a0f",
   "metadata": {},
   "source": [
    "## 자연수의 이진수 변환에서 총 비트 수 계산 (반복 구조)"
   ]
  },
  {
   "cell_type": "code",
   "execution_count": 10,
   "id": "2017941d",
   "metadata": {},
   "outputs": [
    {
     "name": "stdout",
     "output_type": "stream",
     "text": [
      "13\n",
      "4\n"
     ]
    }
   ],
   "source": [
    "# 1번을 해보세요!\n",
    "def binary_digits(n):\n",
    "    return len(bin(n)) - 2\n",
    "\n",
    "# 2번을 해보세요!\n",
    "n = int(input())\n",
    "    \n",
    "# 출력합니다!\n",
    "print(binary_digits(n))"
   ]
  },
  {
   "cell_type": "markdown",
   "id": "44f33afa",
   "metadata": {},
   "source": [
    "## 순환적인 팩토리얼 알고리즘"
   ]
  },
  {
   "cell_type": "code",
   "execution_count": 11,
   "id": "72dfd3f5",
   "metadata": {
    "scrolled": true
   },
   "outputs": [
    {
     "name": "stdout",
     "output_type": "stream",
     "text": [
      "10\n",
      "3628800\n"
     ]
    }
   ],
   "source": [
    "# 1번을 해보세요!\n",
    "def factorial(n):\n",
    "    if n == 1: return n\n",
    "    else: return n * factorial(n-1)\n",
    "\n",
    "\n",
    "# 2번을 해보세요!\n",
    "n = int(input())\n",
    "\n",
    "\n",
    "# 출력합니다!\n",
    "print(factorial(n))"
   ]
  },
  {
   "cell_type": "markdown",
   "id": "4b1c1b79",
   "metadata": {},
   "source": [
    "## 반복 구조의 팩토리얼 알고리즘"
   ]
  },
  {
   "cell_type": "code",
   "execution_count": 12,
   "id": "35f7ebf3",
   "metadata": {},
   "outputs": [
    {
     "name": "stdout",
     "output_type": "stream",
     "text": [
      "10\n",
      "3628800\n"
     ]
    }
   ],
   "source": [
    "# 1번을 해보세요!\n",
    "def factorial(n):\n",
    "    # None이라고 되어있는 부분을 수정해보세요\n",
    "    result = 1\n",
    "    for k in range(n, 0, -1):\n",
    "        result *= k\n",
    "    return result\n",
    "\n",
    "# 2번을 해보세요!\n",
    "n = int(input())\n",
    "    \n",
    "# 출력합니다!\n",
    "print(factorial(n))"
   ]
  },
  {
   "cell_type": "markdown",
   "id": "81e55bfe",
   "metadata": {},
   "source": [
    "## 자연수의 이진수 변환에서 총 비트 수 계산 (순환 구조)"
   ]
  },
  {
   "cell_type": "code",
   "execution_count": 13,
   "id": "d939dbb3",
   "metadata": {},
   "outputs": [
    {
     "name": "stdout",
     "output_type": "stream",
     "text": [
      "13\n",
      "1101\n"
     ]
    }
   ],
   "source": [
    "# 1번을 해보세요!\n",
    "def binary_digits(n):\n",
    "    def make(n):\n",
    "        q, r = divmod(n, 2)\n",
    "        if q:\n",
    "            if r: return make(q) + '1'\n",
    "            else: return make(q) + '0'\n",
    "        else: return str(r)\n",
    "    return len(make(n))\n",
    "# 2번을 해보세요!\n",
    "n = int(input())\n",
    "\n",
    "\n",
    "# 출력합니다!\n",
    "print(binary_digits(n))"
   ]
  }
 ],
 "metadata": {
  "kernelspec": {
   "display_name": "Python 3",
   "language": "python",
   "name": "python3"
  },
  "language_info": {
   "codemirror_mode": {
    "name": "ipython",
    "version": 3
   },
   "file_extension": ".py",
   "mimetype": "text/x-python",
   "name": "python",
   "nbconvert_exporter": "python",
   "pygments_lexer": "ipython3",
   "version": "3.8.8"
  }
 },
 "nbformat": 4,
 "nbformat_minor": 5
}
