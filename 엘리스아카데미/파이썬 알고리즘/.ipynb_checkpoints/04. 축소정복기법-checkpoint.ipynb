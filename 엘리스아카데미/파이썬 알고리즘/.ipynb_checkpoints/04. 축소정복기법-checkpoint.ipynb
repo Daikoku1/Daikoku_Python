{
 "cells": [
  {
   "cell_type": "markdown",
   "id": "2ac7c714",
   "metadata": {},
   "source": [
    "# 삽입정렬"
   ]
  },
  {
   "cell_type": "code",
   "execution_count": null,
   "id": "a936c967",
   "metadata": {},
   "outputs": [],
   "source": [
    "# 1번을 해보세요!\n",
    "def insertion_sort(A) :\n",
    "    if len(A) == 1: return\n",
    "    \n",
    "    idx = 1\n",
    "    while idx < len(A):\n",
    "        for x in range(idx):\n",
    "            if A[idx-x] < A[idx-x-1]:\n",
    "                A[idx-x], A[idx-x-1] = A[idx-x-1], A[idx-x]\n",
    "        printStep(A, idx)\n",
    "        idx += 1\n",
    "\n",
    "\n",
    "# 중간 과정을 출력하는 함수에요!\n",
    "def printStep(arr, val) :\n",
    "    print(\"  Step %2d = \" % val, end='')\n",
    "    print(arr)\n",
    "\n",
    "# 2번을 해보세요!\n",
    "data = list(map(int, input().split()))\n",
    "\n",
    "# 출력합니다!\n",
    "print(\"Original  :\", data)\n",
    "insertion_sort(data)\n",
    "print(\"Insertion :\", data)"
   ]
  },
  {
   "cell_type": "markdown",
   "id": "e303e503",
   "metadata": {},
   "source": [
    "# 이진 탐색(순환구조)"
   ]
  },
  {
   "cell_type": "code",
   "execution_count": null,
   "id": "0695363f",
   "metadata": {},
   "outputs": [],
   "source": [
    "# 1번을 해보세요1\n",
    "def binary_search(A, key, low, high) :\n",
    "    if low > high : return -1\n",
    "    \n",
    "    mid = (low + high) // 2\n",
    "    if A[mid] == key: return mid\n",
    "    elif A[mid] < key : return binary_search(A, key, mid+1, high)\n",
    "    else : return binary_search(A, key, low, mid -1)\n",
    "\n",
    "# 2번을 해보세요!\n",
    "listA = list(map(int, input().split()))\n",
    "key = int(input())\n",
    "\n",
    "# 출력합니다!\n",
    "print(\"입력 리스트 =\", listA)\n",
    "print(\"%d 탐색(순환) -->\" %(key), binary_search(listA, key, 0, len(listA)-1) )"
   ]
  },
  {
   "cell_type": "markdown",
   "id": "bc66a155",
   "metadata": {},
   "source": [
    "# 이진 탐색(반복구조)"
   ]
  },
  {
   "cell_type": "code",
   "execution_count": null,
   "id": "3fbd93a2",
   "metadata": {},
   "outputs": [],
   "source": [
    "# 1번을 해보세요!\n",
    "def binary_search_iter(A, key, low, high) :\n",
    "    while low <= high:\n",
    "        mid = (low + high) // 2\n",
    "        if A[mid] == key: return mid\n",
    "        elif A[mid] < key : low = mid + 1\n",
    "        else : high = mid -1\n",
    "    return -1\n",
    "\n",
    "# 2번을 해보세요!\n",
    "listA = list(map(int, input().split()))\n",
    "key = int(input())\n",
    "\n",
    "# 출력합니다!\n",
    "print(\"입력 리스트 =\", listA)\n",
    "print(\"%d 탐색(반복) -->\" %(key), binary_search_iter(listA, key, 0, len(listA)-1) )"
   ]
  },
  {
   "cell_type": "markdown",
   "id": "7703bba8",
   "metadata": {},
   "source": [
    "# 거듭제곱(억지 기법)"
   ]
  },
  {
   "cell_type": "code",
   "execution_count": null,
   "id": "e4b10dfa",
   "metadata": {},
   "outputs": [],
   "source": [
    "# 1번을 해보세요!\n",
    "def slow_power(x, n) :\n",
    "    ans = 1\n",
    "    for _ in range(n): ans *= x\n",
    "    return ans\n",
    "\n",
    "\n",
    "# 2번을 해보세요!\n",
    "x = int(input())\n",
    "n = int(input())\n",
    "\n",
    "# 출력합니다!\n",
    "print(\"억지기법(%d**%d) =\" %(x, n), slow_power(x, n))"
   ]
  },
  {
   "cell_type": "markdown",
   "id": "0aa899da",
   "metadata": {},
   "source": [
    "# 거듭제곱(축소 정복 기법)"
   ]
  },
  {
   "cell_type": "code",
   "execution_count": null,
   "id": "cd2cf90a",
   "metadata": {},
   "outputs": [],
   "source": [
    "# 1번을 해보세요!\n",
    "def power(x, n) :\n",
    "    q, r = divmod(n, 2)\n",
    "    if q == 0: return x\n",
    "    elif r: return power(x*x, q) * x\n",
    "    else: return power(x*x, q)\n",
    "\n",
    "# 2번을 해보세요!\n",
    "x = int(input())\n",
    "n = int(input())\n",
    "\n",
    "# 출력합니다!\n",
    "print(\"축소정복기법(%d**%d) =\" %(x, n), power(x, n))\n"
   ]
  },
  {
   "cell_type": "markdown",
   "id": "acd4bdb4",
   "metadata": {},
   "source": [
    "# 행렬의 거듭제곱(축소 정복 기법)"
   ]
  },
  {
   "cell_type": "code",
   "execution_count": null,
   "id": "0c961b95",
   "metadata": {},
   "outputs": [],
   "source": [
    "# 1번을 해보세요!\n",
    "def powerMat(x, n) :\n",
    "    q, r = divmod(n, 2)\n",
    "    if q == 0: return x\n",
    "    elif r : return multMat(powerMat(multMat(x,x), q), x)\n",
    "    else: return powerMat(multMat(x,x), q)\n",
    "\n",
    "\n",
    "# 행렬을 곱하는 multMat(M1, M2) 함수에요!\n",
    "def multMat(M1, M2):\n",
    "    result = [[0 for _ in range(len(M2[0]))] for __ in range(len(M1))]\n",
    "    for i in range(len(M1)):\n",
    "        for j in range(len(M2[0])):\n",
    "            for k in range(len(M1[0])):\n",
    "                result[i][j] += M1[i][k] * M2[k][j]\n",
    "    return result\n",
    "\n",
    "# 2번을 해보세요!\n",
    "n = int(input())\n",
    "m = int(input())\n",
    "x = [list(map(int, input().split())) for _ in range(m)]\n",
    "\n",
    "# 출력합니다!\n",
    "result = powerMat(x, n)\n",
    "print()\n",
    "for row in result:\n",
    "    for num in row:\n",
    "        print(num, end=' ')\n",
    "    print()"
   ]
  },
  {
   "cell_type": "markdown",
   "id": "d1d7c9cb",
   "metadata": {},
   "source": [
    "# 정렬을 이용한 k번째 작은 수 찾기"
   ]
  },
  {
   "cell_type": "code",
   "execution_count": null,
   "id": "45d320f0",
   "metadata": {},
   "outputs": [],
   "source": [
    "# 1번을 해보세요!\n",
    "def kth_smallest_sort(A, k): \n",
    "    A.sort()\n",
    "    return A[k-1]\n",
    "\n",
    "# 2번을 해보세요!\n",
    "array = list(map(int, input().split()))\n",
    "k = int(input())\n",
    "\n",
    "\n",
    "# 출력합니다!\n",
    "print(\"입력 리스트 =\", array) \n",
    "print(\"[정렬기법] %d번째 작은 수: \" %(k), kth_smallest_sort(array, k)) "
   ]
  },
  {
   "cell_type": "markdown",
   "id": "72eaa350",
   "metadata": {},
   "source": [
    "# 축소 정복 기법을 이용한 k번째 작은 수 찾기"
   ]
  },
  {
   "cell_type": "code",
   "execution_count": 12,
   "id": "e3010e7f",
   "metadata": {},
   "outputs": [
    {
     "name": "stdout",
     "output_type": "stream",
     "text": [
      "12 3 5 7 4 19 26 23 15\n",
      "3\n",
      "입력 리스트 = [12, 3, 5, 7, 4, 19, 26, 23, 15]\n",
      "[축소정복] 3번째 작은 수:  5\n"
     ]
    }
   ],
   "source": [
    "# 1번을 해보세요!\n",
    "def quick_select(A, left, right, k):\n",
    "    if left == right : return A[left]\n",
    "    \n",
    "    pos = partition(A, left, right)\n",
    "    if pos == k: return A[pos]\n",
    "    # 찾고자 하는 원소는 피벗 오른쪽\n",
    "    elif pos < k : return quick_select(A, pos + 1, right, k)\n",
    "    # 찾고자 하는 원소는 피벗 왼쪽에 있다.\n",
    "    else : return quick_select(A, left, pos - 1, k)\n",
    "\n",
    "# 2번을 해보세요!\n",
    "def partition(A, left, right) :\n",
    "    pivot = A[right]\n",
    "    s_idx = left\n",
    "    for i in range(left, right + 1):\n",
    "        if A[i] <= pivot:\n",
    "            A[i], A[s_idx] = A[s_idx], A[i]\n",
    "            s_idx += 1\n",
    "    return s_idx - 1\n",
    "\n",
    "# 3번을 해보세요!\n",
    "array = list(map(int, input().split()))\n",
    "k = int(input())\n",
    "\n",
    "# 출력합니다!\n",
    "n = len(array)\n",
    "print(\"입력 리스트 =\", array) \n",
    "print(\"[축소정복] %d번째 작은 수: \" %(k), quick_select(array, 0, n-1, k-1))"
   ]
  },
  {
   "cell_type": "code",
   "execution_count": null,
   "id": "92ab5c52",
   "metadata": {},
   "outputs": [],
   "source": []
  }
 ],
 "metadata": {
  "kernelspec": {
   "display_name": "Python 3",
   "language": "python",
   "name": "python3"
  },
  "language_info": {
   "codemirror_mode": {
    "name": "ipython",
    "version": 3
   },
   "file_extension": ".py",
   "mimetype": "text/x-python",
   "name": "python",
   "nbconvert_exporter": "python",
   "pygments_lexer": "ipython3",
   "version": "3.8.8"
  }
 },
 "nbformat": 4,
 "nbformat_minor": 5
}
