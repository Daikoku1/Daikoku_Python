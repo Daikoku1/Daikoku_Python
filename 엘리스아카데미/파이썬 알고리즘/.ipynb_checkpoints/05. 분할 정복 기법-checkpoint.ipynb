{
 "cells": [
  {
   "cell_type": "markdown",
   "id": "52ff6ac7",
   "metadata": {},
   "source": [
    "# 병합정렬"
   ]
  },
  {
   "cell_type": "code",
   "execution_count": 11,
   "id": "2bfea72d",
   "metadata": {},
   "outputs": [
    {
     "name": "stdout",
     "output_type": "stream",
     "text": [
      "5 3 8 4 9 1 6 2 7\n",
      "Original  :  [5, 3, 8, 4, 9, 1, 6, 2, 7]\n",
      "MergeSort :  [1, 2, 3, 4, 5, 6, 7, 8, 9]\n"
     ]
    }
   ],
   "source": [
    "# 1번을 해보세요!\n",
    "def merge_sort(A, left, right) :\n",
    "    if right - left <  2 : return None\n",
    "    mid = (right + left) // 2\n",
    "    merge_sort(A,left, mid)\n",
    "    merge_sort(A,mid, right)\n",
    "    merge(A, left, mid, right)\n",
    "    return None\n",
    "\n",
    "def merge(A, left, mid, right) :\n",
    "    temp = []\n",
    "    s1, s2 = left, mid\n",
    "    while True:\n",
    "        if A[s1] < A[s2] : \n",
    "            temp.append(A[s1])\n",
    "            s1 += 1\n",
    "            if s1 == mid:\n",
    "                temp.extend(A[s2:right])\n",
    "                break\n",
    "        else:\n",
    "            temp.append(A[s2])\n",
    "            s2 += 1\n",
    "            if s2 == right:\n",
    "                temp.extend(A[s1:mid])\n",
    "                break\n",
    "    A[left:right] = temp\n",
    "    return None\n",
    "\n",
    "    \n",
    "# 3번을 해보세요!\n",
    "data = list(map(int, input().split()))\n",
    "\n",
    "# 출력합니다!\n",
    "sorted = [0] * len(data) # 길이가 len(data)인 임시 리스트를\n",
    "print(\"Original  : \", data) # 만들고 모든 항목을 0으로 초기화\n",
    "merge_sort(data, 0, len(data)) # 병합 정렬\n",
    "print(\"MergeSort : \", data)"
   ]
  },
  {
   "cell_type": "code",
   "execution_count": 72,
   "id": "59643e5d",
   "metadata": {},
   "outputs": [],
   "source": [
    "A = [4,2,6,8,1,3,5,7,9]\n",
    "merge_sort(A, 0, len(A))"
   ]
  },
  {
   "cell_type": "markdown",
   "id": "7f5706ae",
   "metadata": {},
   "source": [
    "# 퀵정렬"
   ]
  },
  {
   "cell_type": "code",
   "execution_count": 7,
   "id": "ebf89c5e",
   "metadata": {},
   "outputs": [
    {
     "name": "stdout",
     "output_type": "stream",
     "text": [
      "5 3 8 4 9 1 6 2 7\n",
      "Original  :  [5, 3, 8, 4, 9, 1, 6, 2, 7]\n",
      "QuickSort :  [1, 2, 3, 4, 5, 6, 7, 8, 9]\n"
     ]
    }
   ],
   "source": [
    "# 1번을 해보세요!\n",
    "def quick_sort(A, left, right) :\n",
    "    if left < right:\n",
    "        pivot = partition(A, left, right)\n",
    "        quick_sort(A, left, pivot - 1)\n",
    "        quick_sort(A, pivot + 1, right)\n",
    "    return \n",
    "\n",
    "# 2번을 해보세요!\n",
    "def partition(A, left, right) :\n",
    "    low = left + 1\n",
    "    high = right\n",
    "    pivot = A[left]\n",
    "    while True:\n",
    "        while low <= high and A[low] <= pivot:\n",
    "            low += 1\n",
    "        while low <= high and A[high] >= pivot:\n",
    "            high -= 1\n",
    "        if low > high : break\n",
    "        A[low] , A[high] = A[high], A[low]\n",
    "        low, high = low + 1, high - 1\n",
    "    A[left], A[high] = A[high], A[left]\n",
    "    return high\n",
    "\n",
    "# 3번을 해보세요!\n",
    "data = list(map(int, input().split()))\n",
    "\n",
    "# 출력합니다!\n",
    "print(\"Original  : \", data)\n",
    "quick_sort(data, 0, len(data)-1)\n",
    "print(\"QuickSort : \", data)"
   ]
  },
  {
   "cell_type": "code",
   "execution_count": null,
   "id": "ecf6cb20",
   "metadata": {},
   "outputs": [],
   "source": []
  }
 ],
 "metadata": {
  "kernelspec": {
   "display_name": "Python 3",
   "language": "python",
   "name": "python3"
  },
  "language_info": {
   "codemirror_mode": {
    "name": "ipython",
    "version": 3
   },
   "file_extension": ".py",
   "mimetype": "text/x-python",
   "name": "python",
   "nbconvert_exporter": "python",
   "pygments_lexer": "ipython3",
   "version": "3.8.8"
  }
 },
 "nbformat": 4,
 "nbformat_minor": 5
}
