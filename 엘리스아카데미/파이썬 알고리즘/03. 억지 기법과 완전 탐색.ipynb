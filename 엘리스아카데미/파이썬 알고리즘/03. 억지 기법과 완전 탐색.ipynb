{
 "cells": [
  {
   "cell_type": "markdown",
   "id": "c74e8a3d",
   "metadata": {},
   "source": [
    "## 선택정렬"
   ]
  },
  {
   "cell_type": "code",
   "execution_count": null,
   "id": "26f83fdf",
   "metadata": {},
   "outputs": [],
   "source": [
    "# 1번을 해보세요!\n",
    "def selection_sort(A):\n",
    "    s_idx = 0\n",
    "    while s_idx < len(A) -1:\n",
    "        min_idx, min_n = s_idx, A[s_idx]\n",
    "        for idx, val in enumerate(A[s_idx+1:], s_idx+1):\n",
    "            if val < min_n :\n",
    "                min_idx, min_n = idx, val\n",
    "                \n",
    "        A[s_idx], A[min_idx] = A[min_idx], A[s_idx]\n",
    "        s_idx += 1\n",
    "        printStep(A, s_idx)\n",
    "\n",
    "def printStep(arr, val):\n",
    "    print(\"  Step %2d = \" %val, end='')\n",
    "    print(arr)\n",
    "    return None\n",
    "# 2번을 해보세요!\n",
    "A = list(map(int, input().split()))\n",
    "\n",
    "# 출력합니다!\n",
    "print(\"Original  :\", A)\n",
    "selection_sort(A)\n",
    "print(\"Selection :\", A)"
   ]
  },
  {
   "cell_type": "markdown",
   "id": "6c40f2bc",
   "metadata": {},
   "source": [
    "## 정렬되지 않은 리스트의 탐색 문제"
   ]
  },
  {
   "cell_type": "code",
   "execution_count": null,
   "id": "7f019d33",
   "metadata": {},
   "outputs": [],
   "source": [
    "# 1번을 해보세요!\n",
    "def sequential_search(A, key):\n",
    "    for idx, val in enumerate(A):\n",
    "        if val == key: return idx\n",
    "    return -1\n",
    "# 2번을 해보세요!\n",
    "A = list(map(int, input().split()))\n",
    "# 3번을 해보세요!\n",
    "key = int(input())\n",
    "\n",
    "# 출력합니다!\n",
    "print(sequential_search(A, key))"
   ]
  },
  {
   "cell_type": "markdown",
   "id": "acc408d7",
   "metadata": {},
   "source": [
    "## 문자열 매칭"
   ]
  },
  {
   "cell_type": "code",
   "execution_count": null,
   "id": "f43779fa",
   "metadata": {},
   "outputs": [],
   "source": [
    "# 1번을 해보세요!\n",
    "def string_matching(T, P):\n",
    "    for idx, val in enumerate(T[:-len(P)+1]):\n",
    "        if val == P[0]:\n",
    "            if T[idx:idx + len(P)] == P: return idx\n",
    "    return -1\n",
    "    \n",
    "# 2번을 해보세요!\n",
    "T = input().strip()\n",
    "P = input().strip()\n",
    "\n",
    "# 출력합니다!\n",
    "print(string_matching(T, P))"
   ]
  },
  {
   "cell_type": "markdown",
   "id": "8ed6353c",
   "metadata": {},
   "source": [
    "## 최근접 쌍의 거리"
   ]
  },
  {
   "cell_type": "code",
   "execution_count": null,
   "id": "7a3de1fa",
   "metadata": {},
   "outputs": [],
   "source": [
    "# 필요한 모듈을 추가해 보세요!\n",
    "from math import sqrt\n",
    "# 1번을 해보세요!\n",
    "def closest_pair(p):\n",
    "    def count(x_a, y_a, x_b, y_b):\n",
    "        return sqrt((x_a - x_b)**2 + (y_a - y_b)**2)\n",
    "    min_distance = float('Inf')\n",
    "    for idx, (x_a, y_a) in enumerate(p):\n",
    "        for x_b, y_b in p[idx+1:]:\n",
    "            min_distance = min(min_distance, count(x_a, y_a, x_b, y_b))\n",
    "    return min_distance\n",
    "\n",
    "# 2번을 해보세요!\n",
    "n = int(input())\n",
    "p = [tuple(map(int, input().split())) for _ in range(n)]\n",
    "\n",
    "# 출력합니다!\n",
    "print(\"최근점 거리:\", closest_pair(p))"
   ]
  },
  {
   "cell_type": "markdown",
   "id": "9c4ccb4e",
   "metadata": {},
   "source": [
    "## 깊이 우선 탐색"
   ]
  },
  {
   "cell_type": "code",
   "execution_count": 3,
   "id": "c118c8e6",
   "metadata": {},
   "outputs": [
    {
     "name": "stdout",
     "output_type": "stream",
     "text": [
      "9\n",
      "A B\n",
      "A C\n",
      "B D\n",
      "C D\n",
      "C E\n",
      "D F\n",
      "E G\n",
      "E H\n",
      "G H\n"
     ]
    }
   ],
   "source": [
    "# 1번을 해보세요!\n",
    "def dfs(graph, start, visited ):\n",
    "    to_visit = [start]\n",
    "    while to_visit:\n",
    "        x = to_visit.pop()\n",
    "        length = len(visited)\n",
    "        visited.add(x)\n",
    "        if len(visited) > length:\n",
    "            print(x, end = ' ')\n",
    "            to_visit.extend(graph[x])\n",
    "    return visited    \n",
    "    \n",
    "# 2번을 해보세요!\n",
    "mygraph = dict()\n",
    "n = int(input())\n",
    "for _ in range(n):\n",
    "    s, e = input().split()\n",
    "    if s not in mygraph : mygraph[s] = set()\n",
    "    if e not in mygraph : mygraph[e] = set()\n",
    "\n",
    "    mygraph[s].add(e)\n",
    "    mygraph[e].add(s)\n",
    "\n",
    "# 출력합니다!\n",
    "print('DFS : ', end='')\n",
    "dfs(mygraph, \"A\", set() )\n",
    "print()"
   ]
  },
  {
   "cell_type": "markdown",
   "id": "580395e7",
   "metadata": {},
   "source": [
    "## 너비 우선 탐색"
   ]
  },
  {
   "cell_type": "code",
   "execution_count": 14,
   "id": "2c768a22",
   "metadata": {},
   "outputs": [
    {
     "ename": "ModuleNotFoundError",
     "evalue": "No module named 'deque'",
     "output_type": "error",
     "traceback": [
      "\u001b[1;31m---------------------------------------------------------------------------\u001b[0m",
      "\u001b[1;31mModuleNotFoundError\u001b[0m                       Traceback (most recent call last)",
      "\u001b[1;32m<ipython-input-14-0d1cda0d7ea7>\u001b[0m in \u001b[0;36m<module>\u001b[1;34m\u001b[0m\n\u001b[1;32m----> 1\u001b[1;33m \u001b[1;32mimport\u001b[0m \u001b[0mdeque\u001b[0m\u001b[1;33m\u001b[0m\u001b[1;33m\u001b[0m\u001b[0m\n\u001b[0m\u001b[0;32m      2\u001b[0m \u001b[1;31m# 1번을 해보세요!\u001b[0m\u001b[1;33m\u001b[0m\u001b[1;33m\u001b[0m\u001b[1;33m\u001b[0m\u001b[0m\n\u001b[0;32m      3\u001b[0m \u001b[1;32mdef\u001b[0m \u001b[0mdfs\u001b[0m\u001b[1;33m(\u001b[0m\u001b[0mgraph\u001b[0m\u001b[1;33m,\u001b[0m \u001b[0mstart\u001b[0m\u001b[1;33m,\u001b[0m \u001b[0mvisited\u001b[0m \u001b[1;33m)\u001b[0m\u001b[1;33m:\u001b[0m\u001b[1;33m\u001b[0m\u001b[1;33m\u001b[0m\u001b[0m\n\u001b[0;32m      4\u001b[0m     \u001b[0mto_visit\u001b[0m \u001b[1;33m=\u001b[0m \u001b[0mheapq\u001b[0m\u001b[1;33m[\u001b[0m\u001b[0mstart\u001b[0m\u001b[1;33m]\u001b[0m\u001b[1;33m\u001b[0m\u001b[1;33m\u001b[0m\u001b[0m\n\u001b[0;32m      5\u001b[0m     \u001b[1;32mwhile\u001b[0m \u001b[0mto_visit\u001b[0m\u001b[1;33m:\u001b[0m\u001b[1;33m\u001b[0m\u001b[1;33m\u001b[0m\u001b[0m\n",
      "\u001b[1;31mModuleNotFoundError\u001b[0m: No module named 'deque'"
     ]
    }
   ],
   "source": [
    "# 필요한 모듈을 추가해 보세요!\n",
    "from collections import deque\n",
    "\n",
    "# 1번을 해보세요!\n",
    "def bfs(graph, start):\n",
    "    to_visit = deque([start])\n",
    "    visited = set()\n",
    "    while to_visit:\n",
    "        x = to_visit.popleft()\n",
    "        length = len(visited)\n",
    "        visited.add(x)\n",
    "        if len(visited) > length:\n",
    "            print(x, end = ' ')\n",
    "            to_visit.extend(graph[x])\n",
    "    return visited    \n",
    "    \n",
    "# 2번을 해보세요!\n",
    "mygraph = dict()\n",
    "n = int(input())\n",
    "for _ in range(n):\n",
    "    s, e = input().split()\n",
    "    if s not in mygraph : mygraph[s] = set()\n",
    "    if e not in mygraph : mygraph[e] = set()\n",
    "\n",
    "    mygraph[s].add(e)\n",
    "    mygraph[e].add(s)\n",
    "\n",
    "\n",
    "# 출력합니다!\n",
    "print('BFS : ', end='')\n",
    "bfs(mygraph, \"A\")\n",
    "print()"
   ]
  },
  {
   "cell_type": "code",
   "execution_count": null,
   "id": "d030ce0b",
   "metadata": {},
   "outputs": [],
   "source": []
  }
 ],
 "metadata": {
  "kernelspec": {
   "display_name": "Python 3",
   "language": "python",
   "name": "python3"
  }
 },
 "nbformat": 4,
 "nbformat_minor": 5
}
