{
 "cells": [
  {
   "cell_type": "markdown",
   "id": "46ecfbb3",
   "metadata": {},
   "source": [
    "- / == 나누기\n",
    "- // == 몫\n"
   ]
  },
  {
   "cell_type": "code",
   "execution_count": 1,
   "id": "09c28452",
   "metadata": {},
   "outputs": [
    {
     "name": "stdout",
     "output_type": "stream",
     "text": [
      "2.3333333333333335\n"
     ]
    }
   ],
   "source": [
    "a = 7\n",
    "b = 3\n",
    "c = a/b\n",
    "# 틀린 코드 : c = a// b\n",
    "\n",
    "print(c)"
   ]
  },
  {
   "cell_type": "markdown",
   "id": "e0415fae",
   "metadata": {},
   "source": [
    "# 덧셈과 뺄셈 테스트하기"
   ]
  },
  {
   "cell_type": "markdown",
   "id": "ada0ca0b",
   "metadata": {},
   "source": [
    "### 틀린 코드"
   ]
  },
  {
   "cell_type": "code",
   "execution_count": 2,
   "id": "25c0d0b4",
   "metadata": {},
   "outputs": [
    {
     "name": "stdout",
     "output_type": "stream",
     "text": [
      "add함수가 잘 동작하지 않음!\n",
      "subtract함수가 잘 동작하지 않음!\n"
     ]
    }
   ],
   "source": [
    "def add(n1, n2):\n",
    "    return n1 + n2\n",
    "    \n",
    "def subtract(n1, n2):\n",
    "    return n1 - n2\n",
    "    \n",
    "if add(0.7, 0.2) == 0.9:\n",
    "    print(\"add함수가 잘 동작함!\")\n",
    "else:\n",
    "    print(\"add함수가 잘 동작하지 않음!\")\n",
    "    \n",
    "if subtract(1.2, 0.1) == 1.1:\n",
    "    print(\"subtract함수가 잘 동작함!\")\n",
    "else:\n",
    "    print(\"subtract함수가 잘 동작하지 않음!\")"
   ]
  },
  {
   "cell_type": "markdown",
   "id": "50b87f58",
   "metadata": {},
   "source": [
    "### 문제 해결\n",
    "- 부동소수점 문제"
   ]
  },
  {
   "cell_type": "code",
   "execution_count": 3,
   "id": "b4e38371",
   "metadata": {},
   "outputs": [
    {
     "name": "stdout",
     "output_type": "stream",
     "text": [
      "add함수가 잘 동작함!\n",
      "subtract함수가 잘 동작함!\n"
     ]
    }
   ],
   "source": [
    "def add(n1, n2):\n",
    "    return n1+n2\n",
    "    \n",
    "def subtract(n1, n2):\n",
    "    return n1 - n2\n",
    "    \n",
    "if add(0.7, 0.2) == 0.7 + 0.2:\n",
    "    print(\"add함수가 잘 동작함!\")\n",
    "else:\n",
    "    print(\"add함수가 잘 동작하지 않음!\")\n",
    "    \n",
    "if subtract(1.2, 0.1) == 1.2 - 0.1:\n",
    "    print(\"subtract함수가 잘 동작함!\")\n",
    "else:\n",
    "    print(\"subtract함수가 잘 동작하지 않음!\")"
   ]
  },
  {
   "cell_type": "code",
   "execution_count": null,
   "id": "1574d2b8",
   "metadata": {},
   "outputs": [],
   "source": []
  },
  {
   "cell_type": "markdown",
   "id": "a6222720",
   "metadata": {},
   "source": [
    "# 문자열 덧셈"
   ]
  },
  {
   "cell_type": "markdown",
   "id": "2e2e51cd",
   "metadata": {},
   "source": [
    "- 문자열 덧셈은 문자열 끼리만 가능"
   ]
  },
  {
   "cell_type": "code",
   "execution_count": 6,
   "id": "33e474a5",
   "metadata": {},
   "outputs": [
    {
     "name": "stdout",
     "output_type": "stream",
     "text": [
      "5\n",
      "결과1.txt\n",
      "결과2.txt\n",
      "결과3.txt\n",
      "결과4.txt\n",
      "결과5.txt\n"
     ]
    }
   ],
   "source": [
    "n = int(input())\n",
    "result = []\n",
    "\n",
    "for i in range(1, n+1) :\n",
    "    result.append(\"결과\" + str(i) + \".txt\");\n",
    "    # 틀린 코드 : result.append(\"결과\" + i + \".txt\");\n",
    "\n",
    "for r in result :\n",
    "    print(r)"
   ]
  },
  {
   "cell_type": "code",
   "execution_count": null,
   "id": "03ee73c6",
   "metadata": {},
   "outputs": [],
   "source": []
  },
  {
   "cell_type": "markdown",
   "id": "e5b5a745",
   "metadata": {},
   "source": [
    "# 중앙값 찾기"
   ]
  },
  {
   "cell_type": "code",
   "execution_count": null,
   "id": "ee1586f8",
   "metadata": {},
   "outputs": [],
   "source": [
    "def getMedian(data) :\n",
    "    data = sorted(data)\n",
    "    median_value = data[len(data)//2 + (len(data)%2 == 1) - 1]\n",
    "    # median_value = data[len(data)/2]\n",
    "    return median_value\n",
    "\n",
    "data = [int(v) for v in input().split()]\n",
    "\n",
    "print(getMedian(data))"
   ]
  },
  {
   "cell_type": "code",
   "execution_count": null,
   "id": "521b4225",
   "metadata": {},
   "outputs": [],
   "source": []
  },
  {
   "cell_type": "markdown",
   "id": "9a3fd241",
   "metadata": {},
   "source": [
    "# 합집합 구하기"
   ]
  },
  {
   "cell_type": "markdown",
   "id": "0c5f99a8",
   "metadata": {},
   "source": [
    "- 합집합\n",
    "    - '|'\n",
    "    - 'union'\n",
    "- 차집합\n",
    "    - '-'\n",
    "    - 'difference'"
   ]
  },
  {
   "cell_type": "code",
   "execution_count": null,
   "id": "71da79ab",
   "metadata": {},
   "outputs": [],
   "source": [
    "oneLine = [int(v) for v in input().split()]\n",
    "A = set(oneLine)\n",
    "\n",
    "oneLine = [int(v) for v in input().split()]\n",
    "B = set(oneLine)\n",
    "\n",
    "Total = A | B\n",
    "# 틀린 코드 : Total = A + B\n",
    "\n",
    "print(*Total)"
   ]
  },
  {
   "cell_type": "code",
   "execution_count": null,
   "id": "d14877d7",
   "metadata": {},
   "outputs": [],
   "source": []
  },
  {
   "cell_type": "markdown",
   "id": "8090eaaf",
   "metadata": {},
   "source": [
    "# 정렬한 후 데이터 처리하기"
   ]
  },
  {
   "cell_type": "markdown",
   "id": "eaa5e715",
   "metadata": {},
   "source": [
    "- sort()는 기존함수를 정렬시킴\n",
    "- 인덱스와 학번이 다른 문제"
   ]
  },
  {
   "cell_type": "code",
   "execution_count": null,
   "id": "15208351",
   "metadata": {},
   "outputs": [],
   "source": [
    "def process(data) :\n",
    "    data.sort(key  = lambda x : x[1], reverse = True)\n",
    "#     틀린 코드 : data = data.sort()\n",
    "    return [data[0][0], data[1][0], data[2][0]]\n",
    "    \n",
    "def main() :\n",
    "    data = []\n",
    "    \n",
    "    scores = [int(v) for v in input().split()]\n",
    "    \n",
    "    for i in range(len(scores)) :\n",
    "        data.append((i+1, scores[i]))\n",
    "#     틀린 코드 : data.append((i, scores[i]))\n",
    "    print(*process(data))\n",
    "    \n",
    "\n",
    "if __name__ == \"__main__\" :\n",
    "    main()"
   ]
  },
  {
   "cell_type": "code",
   "execution_count": null,
   "id": "7aaeb444",
   "metadata": {},
   "outputs": [],
   "source": []
  },
  {
   "cell_type": "markdown",
   "id": "ca974a59",
   "metadata": {},
   "source": [
    "# 자릿수의 합 구하기"
   ]
  },
  {
   "cell_type": "markdown",
   "id": "7f3d0887",
   "metadata": {},
   "source": [
    "- return 과 print의 차이 이해 필요\n",
    "- 비교연산자의 이해"
   ]
  },
  {
   "cell_type": "code",
   "execution_count": 7,
   "id": "9afcce3f",
   "metadata": {},
   "outputs": [
    {
     "name": "stdout",
     "output_type": "stream",
     "text": [
      "95\n",
      "5\n"
     ]
    }
   ],
   "source": [
    "def solve(n) :\n",
    "    result = 0\n",
    "    \n",
    "    while n > 0 :\n",
    "#     틀린 코드 : while n >= 0 :\n",
    "        result += n%10\n",
    "        n //= 10\n",
    "    \n",
    "    if result >= 10 :\n",
    "        return solve(result)\n",
    "#         틀린 코드 : solve(result)\n",
    "    \n",
    "    return result\n",
    "    \n",
    "def main() :\n",
    "    n = int(input())\n",
    "    \n",
    "    print(solve(n))\n",
    "    \n",
    "if __name__ == \"__main__\" :\n",
    "    main()"
   ]
  },
  {
   "cell_type": "code",
   "execution_count": null,
   "id": "0d8c4b5b",
   "metadata": {},
   "outputs": [],
   "source": []
  },
  {
   "cell_type": "markdown",
   "id": "a6c0c31a",
   "metadata": {},
   "source": [
    "# 데이터 안전하게 수정하기"
   ]
  },
  {
   "cell_type": "markdown",
   "id": "dd96d8fa",
   "metadata": {},
   "source": [
    "- 리스트는 주소를 복사\n",
    "- 값을 복사하기 위해서는 copy()함수 필요"
   ]
  },
  {
   "cell_type": "code",
   "execution_count": null,
   "id": "d45c9cbd",
   "metadata": {},
   "outputs": [],
   "source": [
    "def main() :\n",
    "    array = [int(v) for v in input().split()]\n",
    "    new_array = array.copy()\n",
    "#     틀린 코드 : new_array = array\n",
    "    temp = [int(v) for v in input().split()]\n",
    "    \n",
    "    for t in temp :\n",
    "        new_array.append(t)\n",
    "\n",
    "    print(*array)\n",
    "    print(*new_array)\n",
    "    \n",
    "if __name__ == \"__main__\" :\n",
    "    main()"
   ]
  },
  {
   "cell_type": "code",
   "execution_count": null,
   "id": "a4698006",
   "metadata": {},
   "outputs": [],
   "source": []
  },
  {
   "cell_type": "markdown",
   "id": "ba87971b",
   "metadata": {},
   "source": [
    "# 약수 구하기"
   ]
  },
  {
   "cell_type": "code",
   "execution_count": 15,
   "id": "ac89600e",
   "metadata": {},
   "outputs": [
    {
     "name": "stdout",
     "output_type": "stream",
     "text": [
      "12\n",
      "1 2 3 4 6 12\n"
     ]
    }
   ],
   "source": [
    "def solve(n) :\n",
    "    result = []\n",
    "    for i in range(1, n+1) :\n",
    "#     틀린 코드 : for i in range(0, n) :\n",
    "        mod = n % i\n",
    "        if mod == 0 :\n",
    "#         if mod = 0 :\n",
    "            result.append(i) \n",
    "    return result\n",
    "\n",
    "def main():\n",
    "    n = int(input())\n",
    "    \n",
    "    print(*solve(n))\n",
    "\n",
    "if __name__ == \"__main__\":\n",
    "    main()\n"
   ]
  },
  {
   "cell_type": "code",
   "execution_count": null,
   "id": "7074040a",
   "metadata": {},
   "outputs": [],
   "source": []
  }
 ],
 "metadata": {
  "kernelspec": {
   "display_name": "Python 3",
   "language": "python",
   "name": "python3"
  },
  "language_info": {
   "codemirror_mode": {
    "name": "ipython",
    "version": 3
   },
   "file_extension": ".py",
   "mimetype": "text/x-python",
   "name": "python",
   "nbconvert_exporter": "python",
   "pygments_lexer": "ipython3",
   "version": "3.8.8"
  }
 },
 "nbformat": 4,
 "nbformat_minor": 5
}
