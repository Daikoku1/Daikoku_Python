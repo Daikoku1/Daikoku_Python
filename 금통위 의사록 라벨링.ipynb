{
 "cells": [
  {
   "cell_type": "code",
   "execution_count": 43,
   "metadata": {},
   "outputs": [],
   "source": [
    "import pandas as pd"
   ]
  },
  {
   "cell_type": "code",
   "execution_count": 46,
   "metadata": {
    "scrolled": true
   },
   "outputs": [
    {
     "data": {
      "text/html": [
       "<div>\n",
       "<style scoped>\n",
       "    .dataframe tbody tr th:only-of-type {\n",
       "        vertical-align: middle;\n",
       "    }\n",
       "\n",
       "    .dataframe tbody tr th {\n",
       "        vertical-align: top;\n",
       "    }\n",
       "\n",
       "    .dataframe thead th {\n",
       "        text-align: right;\n",
       "    }\n",
       "</style>\n",
       "<table border=\"1\" class=\"dataframe\">\n",
       "  <thead>\n",
       "    <tr style=\"text-align: right;\">\n",
       "      <th></th>\n",
       "      <th>Unnamed: 0</th>\n",
       "      <th>date</th>\n",
       "      <th>s2</th>\n",
       "      <th>s3</th>\n",
       "      <th>call</th>\n",
       "      <th>ngram_s2</th>\n",
       "      <th>ngram_s3</th>\n",
       "    </tr>\n",
       "  </thead>\n",
       "  <tbody>\n",
       "    <tr>\n",
       "      <th>0</th>\n",
       "      <td>0</td>\n",
       "      <td>2005-06-09</td>\n",
       "      <td>외환국제금융 동향과 관련하여, 일부 위원은 우리나라 경제가 일본경제에 비해 더 나...</td>\n",
       "      <td>금융시장 동향과 관련하여, 일부 위원은 M1이 실물경제와 어느 정도의 시차를 두고...</td>\n",
       "      <td>0</td>\n",
       "      <td>엔달러/NNG;환율/NNG;상승/NNG,유로존/NNG;경제/NNG;성장/NNG,기대...</td>\n",
       "      <td>금융시장/NNG;경기/NNG;회복/NNG,가계/NNG;대출/NNG;증가/NNG,주택...</td>\n",
       "    </tr>\n",
       "    <tr>\n",
       "      <th>1</th>\n",
       "      <td>1</td>\n",
       "      <td>2005-06-23</td>\n",
       "      <td>NaN</td>\n",
       "      <td>NaN</td>\n",
       "      <td>0</td>\n",
       "      <td>NaN</td>\n",
       "      <td>NaN</td>\n",
       "    </tr>\n",
       "    <tr>\n",
       "      <th>2</th>\n",
       "      <td>2</td>\n",
       "      <td>2005-07-07</td>\n",
       "      <td>외환국제금융 동향과 관련하여, 일부 위원은 6월 들어 국제유가가 크게 오르고 원화...</td>\n",
       "      <td>금융시장 동향과 관련하여, 일부 위원은 단기적으로 대출이 급격히 증가한 후에는 반...</td>\n",
       "      <td>0</td>\n",
       "      <td>해외/NNG;증권/NNG;투자/NNG;증가/NNG,해외/NNG;증권/NNG;투자/N...</td>\n",
       "      <td>민간/NNG;소비/NNG;부진/NNG</td>\n",
       "    </tr>\n",
       "    <tr>\n",
       "      <th>3</th>\n",
       "      <td>3</td>\n",
       "      <td>2005-08-11</td>\n",
       "      <td>외환국제금융 동향과 관련하여, 일부 위원은 위안화 절상 이후 아시아 통화중 우리나...</td>\n",
       "      <td>금융시장 동향과 관련하여, 일부 위원은 최근 장기시장금리 상승에도 불구하고 기업 ...</td>\n",
       "      <td>0</td>\n",
       "      <td>자본/NNG;유출/NNG;가능성/NNG;낮/VA,금융시장/NNG;위안/NNG;절상/...</td>\n",
       "      <td>부동산/NNG;가격/NNG;상승/NNG;금리/NNG;인상/NNG,은행/NNG;중소기...</td>\n",
       "    </tr>\n",
       "    <tr>\n",
       "      <th>4</th>\n",
       "      <td>4</td>\n",
       "      <td>2005-09-08</td>\n",
       "      <td>외환국제금융 동향과 관련하여, 일부 위원은 최근 인도네시아 금융불안 사태가 발생한...</td>\n",
       "      <td>금융시장 동향과 관련하여, 일부 위원은 시장이 제대로 작동한다면 비우 5 량등급의...</td>\n",
       "      <td>0</td>\n",
       "      <td>금리/NNG;인상/NNG;장기/NNG;금리/NNG;상승/NNG,fed/NNG;단기/...</td>\n",
       "      <td>자금/NNG;단기/NNG;부동/NNG;우려/NNG,gdp/NNG;갭/NNG;마이너스...</td>\n",
       "    </tr>\n",
       "  </tbody>\n",
       "</table>\n",
       "</div>"
      ],
      "text/plain": [
       "   Unnamed: 0       date                                                 s2  \\\n",
       "0           0 2005-06-09   외환국제금융 동향과 관련하여, 일부 위원은 우리나라 경제가 일본경제에 비해 더 나...   \n",
       "1           1 2005-06-23                                                NaN   \n",
       "2           2 2005-07-07   외환국제금융 동향과 관련하여, 일부 위원은 6월 들어 국제유가가 크게 오르고 원화...   \n",
       "3           3 2005-08-11   외환국제금융 동향과 관련하여, 일부 위원은 위안화 절상 이후 아시아 통화중 우리나...   \n",
       "4           4 2005-09-08   외환국제금융 동향과 관련하여, 일부 위원은 최근 인도네시아 금융불안 사태가 발생한...   \n",
       "\n",
       "                                                  s3  call  \\\n",
       "0   금융시장 동향과 관련하여, 일부 위원은 M1이 실물경제와 어느 정도의 시차를 두고...     0   \n",
       "1                                                NaN     0   \n",
       "2   금융시장 동향과 관련하여, 일부 위원은 단기적으로 대출이 급격히 증가한 후에는 반...     0   \n",
       "3   금융시장 동향과 관련하여, 일부 위원은 최근 장기시장금리 상승에도 불구하고 기업 ...     0   \n",
       "4   금융시장 동향과 관련하여, 일부 위원은 시장이 제대로 작동한다면 비우 5 량등급의...     0   \n",
       "\n",
       "                                            ngram_s2  \\\n",
       "0  엔달러/NNG;환율/NNG;상승/NNG,유로존/NNG;경제/NNG;성장/NNG,기대...   \n",
       "1                                                NaN   \n",
       "2  해외/NNG;증권/NNG;투자/NNG;증가/NNG,해외/NNG;증권/NNG;투자/N...   \n",
       "3  자본/NNG;유출/NNG;가능성/NNG;낮/VA,금융시장/NNG;위안/NNG;절상/...   \n",
       "4  금리/NNG;인상/NNG;장기/NNG;금리/NNG;상승/NNG,fed/NNG;단기/...   \n",
       "\n",
       "                                            ngram_s3  \n",
       "0  금융시장/NNG;경기/NNG;회복/NNG,가계/NNG;대출/NNG;증가/NNG,주택...  \n",
       "1                                                NaN  \n",
       "2                               민간/NNG;소비/NNG;부진/NNG  \n",
       "3  부동산/NNG;가격/NNG;상승/NNG;금리/NNG;인상/NNG,은행/NNG;중소기...  \n",
       "4  자금/NNG;단기/NNG;부동/NNG;우려/NNG,gdp/NNG;갭/NNG;마이너스...  "
      ]
     },
     "execution_count": 46,
     "metadata": {},
     "output_type": "execute_result"
    }
   ],
   "source": [
    "data = pd.read_excel('금통위 의사록_M.xlsx')\n",
    "data.head()"
   ]
  },
  {
   "cell_type": "code",
   "execution_count": 47,
   "metadata": {},
   "outputs": [
    {
     "data": {
      "text/html": [
       "<div>\n",
       "<style scoped>\n",
       "    .dataframe tbody tr th:only-of-type {\n",
       "        vertical-align: middle;\n",
       "    }\n",
       "\n",
       "    .dataframe tbody tr th {\n",
       "        vertical-align: top;\n",
       "    }\n",
       "\n",
       "    .dataframe thead th {\n",
       "        text-align: right;\n",
       "    }\n",
       "</style>\n",
       "<table border=\"1\" class=\"dataframe\">\n",
       "  <thead>\n",
       "    <tr style=\"text-align: right;\">\n",
       "      <th></th>\n",
       "      <th>date</th>\n",
       "      <th>s2</th>\n",
       "      <th>s3</th>\n",
       "      <th>call</th>\n",
       "      <th>ngram_s2</th>\n",
       "      <th>ngram_s3</th>\n",
       "    </tr>\n",
       "  </thead>\n",
       "  <tbody>\n",
       "    <tr>\n",
       "      <th>0</th>\n",
       "      <td>2005-06-09</td>\n",
       "      <td>외환국제금융 동향과 관련하여, 일부 위원은 우리나라 경제가 일본경제에 비해 더 나...</td>\n",
       "      <td>금융시장 동향과 관련하여, 일부 위원은 M1이 실물경제와 어느 정도의 시차를 두고...</td>\n",
       "      <td>0</td>\n",
       "      <td>엔달러/NNG;환율/NNG;상승/NNG,유로존/NNG;경제/NNG;성장/NNG,기대...</td>\n",
       "      <td>금융시장/NNG;경기/NNG;회복/NNG,가계/NNG;대출/NNG;증가/NNG,주택...</td>\n",
       "    </tr>\n",
       "    <tr>\n",
       "      <th>1</th>\n",
       "      <td>2005-06-23</td>\n",
       "      <td>NaN</td>\n",
       "      <td>NaN</td>\n",
       "      <td>0</td>\n",
       "      <td>NaN</td>\n",
       "      <td>NaN</td>\n",
       "    </tr>\n",
       "    <tr>\n",
       "      <th>2</th>\n",
       "      <td>2005-07-07</td>\n",
       "      <td>외환국제금융 동향과 관련하여, 일부 위원은 6월 들어 국제유가가 크게 오르고 원화...</td>\n",
       "      <td>금융시장 동향과 관련하여, 일부 위원은 단기적으로 대출이 급격히 증가한 후에는 반...</td>\n",
       "      <td>0</td>\n",
       "      <td>해외/NNG;증권/NNG;투자/NNG;증가/NNG,해외/NNG;증권/NNG;투자/N...</td>\n",
       "      <td>민간/NNG;소비/NNG;부진/NNG</td>\n",
       "    </tr>\n",
       "    <tr>\n",
       "      <th>3</th>\n",
       "      <td>2005-08-11</td>\n",
       "      <td>외환국제금융 동향과 관련하여, 일부 위원은 위안화 절상 이후 아시아 통화중 우리나...</td>\n",
       "      <td>금융시장 동향과 관련하여, 일부 위원은 최근 장기시장금리 상승에도 불구하고 기업 ...</td>\n",
       "      <td>0</td>\n",
       "      <td>자본/NNG;유출/NNG;가능성/NNG;낮/VA,금융시장/NNG;위안/NNG;절상/...</td>\n",
       "      <td>부동산/NNG;가격/NNG;상승/NNG;금리/NNG;인상/NNG,은행/NNG;중소기...</td>\n",
       "    </tr>\n",
       "    <tr>\n",
       "      <th>4</th>\n",
       "      <td>2005-09-08</td>\n",
       "      <td>외환국제금융 동향과 관련하여, 일부 위원은 최근 인도네시아 금융불안 사태가 발생한...</td>\n",
       "      <td>금융시장 동향과 관련하여, 일부 위원은 시장이 제대로 작동한다면 비우 5 량등급의...</td>\n",
       "      <td>0</td>\n",
       "      <td>금리/NNG;인상/NNG;장기/NNG;금리/NNG;상승/NNG,fed/NNG;단기/...</td>\n",
       "      <td>자금/NNG;단기/NNG;부동/NNG;우려/NNG,gdp/NNG;갭/NNG;마이너스...</td>\n",
       "    </tr>\n",
       "  </tbody>\n",
       "</table>\n",
       "</div>"
      ],
      "text/plain": [
       "        date                                                 s2  \\\n",
       "0 2005-06-09   외환국제금융 동향과 관련하여, 일부 위원은 우리나라 경제가 일본경제에 비해 더 나...   \n",
       "1 2005-06-23                                                NaN   \n",
       "2 2005-07-07   외환국제금융 동향과 관련하여, 일부 위원은 6월 들어 국제유가가 크게 오르고 원화...   \n",
       "3 2005-08-11   외환국제금융 동향과 관련하여, 일부 위원은 위안화 절상 이후 아시아 통화중 우리나...   \n",
       "4 2005-09-08   외환국제금융 동향과 관련하여, 일부 위원은 최근 인도네시아 금융불안 사태가 발생한...   \n",
       "\n",
       "                                                  s3  call  \\\n",
       "0   금융시장 동향과 관련하여, 일부 위원은 M1이 실물경제와 어느 정도의 시차를 두고...     0   \n",
       "1                                                NaN     0   \n",
       "2   금융시장 동향과 관련하여, 일부 위원은 단기적으로 대출이 급격히 증가한 후에는 반...     0   \n",
       "3   금융시장 동향과 관련하여, 일부 위원은 최근 장기시장금리 상승에도 불구하고 기업 ...     0   \n",
       "4   금융시장 동향과 관련하여, 일부 위원은 시장이 제대로 작동한다면 비우 5 량등급의...     0   \n",
       "\n",
       "                                            ngram_s2  \\\n",
       "0  엔달러/NNG;환율/NNG;상승/NNG,유로존/NNG;경제/NNG;성장/NNG,기대...   \n",
       "1                                                NaN   \n",
       "2  해외/NNG;증권/NNG;투자/NNG;증가/NNG,해외/NNG;증권/NNG;투자/N...   \n",
       "3  자본/NNG;유출/NNG;가능성/NNG;낮/VA,금융시장/NNG;위안/NNG;절상/...   \n",
       "4  금리/NNG;인상/NNG;장기/NNG;금리/NNG;상승/NNG,fed/NNG;단기/...   \n",
       "\n",
       "                                            ngram_s3  \n",
       "0  금융시장/NNG;경기/NNG;회복/NNG,가계/NNG;대출/NNG;증가/NNG,주택...  \n",
       "1                                                NaN  \n",
       "2                               민간/NNG;소비/NNG;부진/NNG  \n",
       "3  부동산/NNG;가격/NNG;상승/NNG;금리/NNG;인상/NNG,은행/NNG;중소기...  \n",
       "4  자금/NNG;단기/NNG;부동/NNG;우려/NNG,gdp/NNG;갭/NNG;마이너스...  "
      ]
     },
     "execution_count": 47,
     "metadata": {},
     "output_type": "execute_result"
    }
   ],
   "source": [
    "data = data.drop(data.columns[[0]], axis = 'columns')\n",
    "data.head()"
   ]
  },
  {
   "cell_type": "code",
   "execution_count": 48,
   "metadata": {},
   "outputs": [],
   "source": [
    "import os"
   ]
  },
  {
   "cell_type": "code",
   "execution_count": 49,
   "metadata": {},
   "outputs": [
    {
     "name": "stdout",
     "output_type": "stream",
     "text": [
      "[WinError 2] 지정된 파일을 찾을 수 없습니다: 'call'\n",
      "C:\\Users\\student\\Documents\\Daikoku_Python\\call\n"
     ]
    }
   ],
   "source": [
    "cd call"
   ]
  },
  {
   "cell_type": "code",
   "execution_count": 50,
   "metadata": {},
   "outputs": [
    {
     "data": {
      "text/html": [
       "<div>\n",
       "<style scoped>\n",
       "    .dataframe tbody tr th:only-of-type {\n",
       "        vertical-align: middle;\n",
       "    }\n",
       "\n",
       "    .dataframe tbody tr th {\n",
       "        vertical-align: top;\n",
       "    }\n",
       "\n",
       "    .dataframe thead th {\n",
       "        text-align: right;\n",
       "    }\n",
       "</style>\n",
       "<table border=\"1\" class=\"dataframe\">\n",
       "  <thead>\n",
       "    <tr style=\"text-align: right;\">\n",
       "      <th></th>\n",
       "      <th>date</th>\n",
       "      <th>price</th>\n",
       "      <th>up_down</th>\n",
       "    </tr>\n",
       "  </thead>\n",
       "  <tbody>\n",
       "    <tr>\n",
       "      <th>0</th>\n",
       "      <td>2019-07-15</td>\n",
       "      <td>1.73</td>\n",
       "      <td>하락</td>\n",
       "    </tr>\n",
       "    <tr>\n",
       "      <th>1</th>\n",
       "      <td>2019-07-12</td>\n",
       "      <td>1.74</td>\n",
       "      <td>하락</td>\n",
       "    </tr>\n",
       "    <tr>\n",
       "      <th>2</th>\n",
       "      <td>2019-07-11</td>\n",
       "      <td>1.75</td>\n",
       "      <td>0</td>\n",
       "    </tr>\n",
       "    <tr>\n",
       "      <th>3</th>\n",
       "      <td>2019-07-10</td>\n",
       "      <td>1.74</td>\n",
       "      <td>하락</td>\n",
       "    </tr>\n",
       "    <tr>\n",
       "      <th>4</th>\n",
       "      <td>2019-07-09</td>\n",
       "      <td>1.69</td>\n",
       "      <td>하락</td>\n",
       "    </tr>\n",
       "  </tbody>\n",
       "</table>\n",
       "</div>"
      ],
      "text/plain": [
       "        date  price up_down\n",
       "0 2019-07-15   1.73      하락\n",
       "1 2019-07-12   1.74      하락\n",
       "2 2019-07-11   1.75       0\n",
       "3 2019-07-10   1.74      하락\n",
       "4 2019-07-09   1.69      하락"
      ]
     },
     "execution_count": 50,
     "metadata": {},
     "output_type": "execute_result"
    }
   ],
   "source": [
    "data_c = pd.read_excel('call_M.xlsx')\n",
    "data_c.head()"
   ]
  },
  {
   "cell_type": "code",
   "execution_count": 51,
   "metadata": {},
   "outputs": [
    {
     "data": {
      "text/plain": [
       "Timestamp('2019-07-15 00:00:00')"
      ]
     },
     "execution_count": 51,
     "metadata": {},
     "output_type": "execute_result"
    }
   ],
   "source": [
    "data_c.loc[0, 'date']"
   ]
  },
  {
   "cell_type": "code",
   "execution_count": 52,
   "metadata": {},
   "outputs": [
    {
     "data": {
      "text/plain": [
       "Timestamp('2005-06-09 00:00:00')"
      ]
     },
     "execution_count": 52,
     "metadata": {},
     "output_type": "execute_result"
    }
   ],
   "source": [
    "data.loc[0, 'date']"
   ]
  },
  {
   "cell_type": "code",
   "execution_count": 53,
   "metadata": {},
   "outputs": [
    {
     "data": {
      "text/plain": [
       "'하락'"
      ]
     },
     "execution_count": 53,
     "metadata": {},
     "output_type": "execute_result"
    }
   ],
   "source": [
    "data_c[data_c['date'] == data.loc[0, 'date']]['up_down'].values[0]"
   ]
  },
  {
   "cell_type": "code",
   "execution_count": 54,
   "metadata": {},
   "outputs": [
    {
     "name": "stdout",
     "output_type": "stream",
     "text": [
      "196\n"
     ]
    }
   ],
   "source": [
    "# call 금리 집어넣기\n",
    "for i in range(len(data)):\n",
    "    try:\n",
    "        data.loc[i, 'call'] = data_c[data_c['date'] == data.loc[i, 'date']]['up_down'].values[0]\n",
    "    except:\n",
    "        print(i)"
   ]
  },
  {
   "cell_type": "code",
   "execution_count": 55,
   "metadata": {},
   "outputs": [
    {
     "data": {
      "text/plain": [
       "Timestamp('2014-03-13 00:00:00')"
      ]
     },
     "execution_count": 55,
     "metadata": {},
     "output_type": "execute_result"
    }
   ],
   "source": [
    "data.loc[196].date"
   ]
  },
  {
   "cell_type": "code",
   "execution_count": 56,
   "metadata": {},
   "outputs": [],
   "source": [
    "data.to_excel('금통위 통합본.xlsx')"
   ]
  },
  {
   "cell_type": "code",
   "execution_count": 62,
   "metadata": {},
   "outputs": [
    {
     "data": {
      "text/plain": [
       "Timestamp('2014-03-13 00:00:00')"
      ]
     },
     "execution_count": 62,
     "metadata": {},
     "output_type": "execute_result"
    }
   ],
   "source": [
    "data.loc[196, 'date']"
   ]
  },
  {
   "cell_type": "code",
   "execution_count": null,
   "metadata": {},
   "outputs": [],
   "source": []
  },
  {
   "cell_type": "code",
   "execution_count": null,
   "metadata": {},
   "outputs": [],
   "source": []
  },
  {
   "cell_type": "code",
   "execution_count": null,
   "metadata": {},
   "outputs": [],
   "source": []
  },
  {
   "cell_type": "code",
   "execution_count": null,
   "metadata": {},
   "outputs": [],
   "source": []
  }
 ],
 "metadata": {
  "kernelspec": {
   "display_name": "Python 3",
   "language": "python",
   "name": "python3"
  },
  "language_info": {
   "codemirror_mode": {
    "name": "ipython",
    "version": 3
   },
   "file_extension": ".py",
   "mimetype": "text/x-python",
   "name": "python",
   "nbconvert_exporter": "python",
   "pygments_lexer": "ipython3",
   "version": "3.7.3"
  }
 },
 "nbformat": 4,
 "nbformat_minor": 2
}
