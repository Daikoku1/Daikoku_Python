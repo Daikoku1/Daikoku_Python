{
 "cells": [
  {
   "cell_type": "markdown",
   "metadata": {
    "colab_type": "text",
    "id": "view-in-github"
   },
   "source": [
    "<a href=\"https://colab.research.google.com/github/fininsight/text-mining-tutorial/blob/master/99_%EA%B8%B0%ED%83%80%EC%BD%94%EB%93%9C.ipynb\" target=\"_parent\"><img src=\"https://colab.research.google.com/assets/colab-badge.svg\" alt=\"Open In Colab\"/></a>"
   ]
  },
  {
   "cell_type": "markdown",
   "metadata": {
    "colab_type": "text",
    "id": "fg7A_EDKw8dG"
   },
   "source": [
    "# 국내 주식 수정주가 조회"
   ]
  },
  {
   "cell_type": "markdown",
   "metadata": {
    "colab_type": "text",
    "id": "S1FvxJG5xjvl"
   },
   "source": [
    "## 1) 네이버 차트를 활용한 수정주가 수집"
   ]
  },
  {
   "cell_type": "code",
   "execution_count": 151,
   "metadata": {
    "colab": {},
    "colab_type": "code",
    "id": "WPJ7-VruwwJa"
   },
   "outputs": [],
   "source": [
    "import requests\n",
    "from bs4 import BeautifulSoup\n",
    "import pandas as pd\n",
    "import xml.etree.ElementTree as ET\n",
    "import numpy as np"
   ]
  },
  {
   "cell_type": "code",
   "execution_count": 3,
   "metadata": {
    "colab": {},
    "colab_type": "code",
    "id": "SXvpORNcw5IY"
   },
   "outputs": [],
   "source": [
    "def getStockPrice(StockCode, Count = 252) :\n",
    "    ret = pd.DataFrame(columns=['date', 'open', 'high', 'low', 'close','volumn'])\n",
    "    \n",
    "    url = \"https://fchart.stock.naver.com/sise.nhn?symbol={}&timeframe=day&count={}&requestType=0\"\n",
    "    url = url.format(StockCode, Count)\n",
    "    response = requests.get(url)\n",
    "    \n",
    "    e = ET.fromstring(response.text.replace('\\n','').replace('\\t',''))\n",
    "    stock_history = []\n",
    "    for item in e.find('chartdata').findall('item') :\n",
    "        data = item.get('data').split('|')\n",
    "        ret.loc[len(ret)] = data\n",
    "        \n",
    "    return ret"
   ]
  },
  {
   "cell_type": "code",
   "execution_count": 4,
   "metadata": {},
   "outputs": [
    {
     "data": {
      "text/html": [
       "<div>\n",
       "<style scoped>\n",
       "    .dataframe tbody tr th:only-of-type {\n",
       "        vertical-align: middle;\n",
       "    }\n",
       "\n",
       "    .dataframe tbody tr th {\n",
       "        vertical-align: top;\n",
       "    }\n",
       "\n",
       "    .dataframe thead th {\n",
       "        text-align: right;\n",
       "    }\n",
       "</style>\n",
       "<table border=\"1\" class=\"dataframe\">\n",
       "  <thead>\n",
       "    <tr style=\"text-align: right;\">\n",
       "      <th></th>\n",
       "      <th>date</th>\n",
       "      <th>open</th>\n",
       "      <th>high</th>\n",
       "      <th>low</th>\n",
       "      <th>close</th>\n",
       "      <th>volumn</th>\n",
       "    </tr>\n",
       "  </thead>\n",
       "  <tbody>\n",
       "    <tr>\n",
       "      <th>0</th>\n",
       "      <td>20180627</td>\n",
       "      <td>47450</td>\n",
       "      <td>48500</td>\n",
       "      <td>47000</td>\n",
       "      <td>47950</td>\n",
       "      <td>15274752</td>\n",
       "    </tr>\n",
       "    <tr>\n",
       "      <th>1</th>\n",
       "      <td>20180628</td>\n",
       "      <td>46850</td>\n",
       "      <td>47150</td>\n",
       "      <td>46600</td>\n",
       "      <td>46800</td>\n",
       "      <td>12784800</td>\n",
       "    </tr>\n",
       "    <tr>\n",
       "      <th>2</th>\n",
       "      <td>20180629</td>\n",
       "      <td>46250</td>\n",
       "      <td>47150</td>\n",
       "      <td>46200</td>\n",
       "      <td>46650</td>\n",
       "      <td>14099635</td>\n",
       "    </tr>\n",
       "    <tr>\n",
       "      <th>3</th>\n",
       "      <td>20180702</td>\n",
       "      <td>46500</td>\n",
       "      <td>47150</td>\n",
       "      <td>45500</td>\n",
       "      <td>45550</td>\n",
       "      <td>13112253</td>\n",
       "    </tr>\n",
       "    <tr>\n",
       "      <th>4</th>\n",
       "      <td>20180703</td>\n",
       "      <td>45750</td>\n",
       "      <td>46450</td>\n",
       "      <td>45750</td>\n",
       "      <td>46150</td>\n",
       "      <td>10959655</td>\n",
       "    </tr>\n",
       "  </tbody>\n",
       "</table>\n",
       "</div>"
      ],
      "text/plain": [
       "       date   open   high    low  close    volumn\n",
       "0  20180627  47450  48500  47000  47950  15274752\n",
       "1  20180628  46850  47150  46600  46800  12784800\n",
       "2  20180629  46250  47150  46200  46650  14099635\n",
       "3  20180702  46500  47150  45500  45550  13112253\n",
       "4  20180703  45750  46450  45750  46150  10959655"
      ]
     },
     "execution_count": 4,
     "metadata": {},
     "output_type": "execute_result"
    }
   ],
   "source": [
    "data = getStockPrice('005930')\n",
    "data.head()"
   ]
  },
  {
   "cell_type": "code",
   "execution_count": null,
   "metadata": {},
   "outputs": [],
   "source": [
    "# 로그 수익율  = ln(당일종가 / 전일종가)"
   ]
  },
  {
   "cell_type": "code",
   "execution_count": 41,
   "metadata": {},
   "outputs": [
    {
     "data": {
      "text/plain": [
       "0.0"
      ]
     },
     "execution_count": 41,
     "metadata": {},
     "output_type": "execute_result"
    }
   ],
   "source": [
    "# log 함수 사용하기 위해 math 임포트\n",
    "import math\n",
    "math.log(1)"
   ]
  },
  {
   "cell_type": "markdown",
   "metadata": {},
   "source": [
    "# 로그 수익률 구하기"
   ]
  },
  {
   "cell_type": "code",
   "execution_count": 96,
   "metadata": {},
   "outputs": [],
   "source": [
    "def money(df):\n",
    "    df_ = pd.DataFrame(columns = ['ln_price'], index = data.index)\n",
    "    df_['ln_price'][0] = 0\n",
    "    c_price = pd.to_numeric(df['close'])\n",
    "    for i in range(1, len(df)):\n",
    "        df_['ln_price'][i] = math.log(c_price[i] / c_price[i-1])\n",
    "    \n",
    "    return df_"
   ]
  },
  {
   "cell_type": "code",
   "execution_count": 97,
   "metadata": {},
   "outputs": [
    {
     "data": {
      "text/html": [
       "<div>\n",
       "<style scoped>\n",
       "    .dataframe tbody tr th:only-of-type {\n",
       "        vertical-align: middle;\n",
       "    }\n",
       "\n",
       "    .dataframe tbody tr th {\n",
       "        vertical-align: top;\n",
       "    }\n",
       "\n",
       "    .dataframe thead th {\n",
       "        text-align: right;\n",
       "    }\n",
       "</style>\n",
       "<table border=\"1\" class=\"dataframe\">\n",
       "  <thead>\n",
       "    <tr style=\"text-align: right;\">\n",
       "      <th></th>\n",
       "      <th>ln_price</th>\n",
       "    </tr>\n",
       "  </thead>\n",
       "  <tbody>\n",
       "    <tr>\n",
       "      <th>0</th>\n",
       "      <td>0</td>\n",
       "    </tr>\n",
       "    <tr>\n",
       "      <th>1</th>\n",
       "      <td>-0.0242756</td>\n",
       "    </tr>\n",
       "    <tr>\n",
       "      <th>2</th>\n",
       "      <td>-0.00321028</td>\n",
       "    </tr>\n",
       "    <tr>\n",
       "      <th>3</th>\n",
       "      <td>-0.0238623</td>\n",
       "    </tr>\n",
       "    <tr>\n",
       "      <th>4</th>\n",
       "      <td>0.0130863</td>\n",
       "    </tr>\n",
       "  </tbody>\n",
       "</table>\n",
       "</div>"
      ],
      "text/plain": [
       "     ln_price\n",
       "0           0\n",
       "1  -0.0242756\n",
       "2 -0.00321028\n",
       "3  -0.0238623\n",
       "4   0.0130863"
      ]
     },
     "execution_count": 97,
     "metadata": {},
     "output_type": "execute_result"
    }
   ],
   "source": [
    "df_ln = money(data)\n",
    "df_ln.head()"
   ]
  },
  {
   "cell_type": "code",
   "execution_count": 98,
   "metadata": {},
   "outputs": [],
   "source": [
    "df_sum = df_ln.sum(axis = 0)\n"
   ]
  },
  {
   "cell_type": "markdown",
   "metadata": {},
   "source": [
    "# 평균 수익률 구하기"
   ]
  },
  {
   "cell_type": "code",
   "execution_count": 99,
   "metadata": {},
   "outputs": [],
   "source": [
    "def avg_price(df):\n",
    "    sum_p = df.sum(axis = 0)\n",
    "    \n",
    "    return (sum_p / len(df))[0]"
   ]
  },
  {
   "cell_type": "code",
   "execution_count": 100,
   "metadata": {},
   "outputs": [
    {
     "data": {
      "text/plain": [
       "-0.00020812093401802339"
      ]
     },
     "execution_count": 100,
     "metadata": {},
     "output_type": "execute_result"
    }
   ],
   "source": [
    "avg_price(df_ln)"
   ]
  },
  {
   "cell_type": "markdown",
   "metadata": {},
   "source": [
    "# 표준편차 구하기"
   ]
  },
  {
   "cell_type": "code",
   "execution_count": 101,
   "metadata": {},
   "outputs": [],
   "source": [
    "def std_price(df):\n",
    "    avg = avg_price(df)\n",
    "    c_price = pd.to_numeric(df['ln_price'])\n",
    "    sum_a = 0\n",
    "    for i in range(len(df)):\n",
    "        sum_a += (c_price[i] - avg)**2\n",
    "    \n",
    "    return (sum_a / len(df))**(1/2)"
   ]
  },
  {
   "cell_type": "code",
   "execution_count": 102,
   "metadata": {},
   "outputs": [
    {
     "data": {
      "text/plain": [
       "0.01539639183499893"
      ]
     },
     "execution_count": 102,
     "metadata": {},
     "output_type": "execute_result"
    }
   ],
   "source": [
    "std_price(df_ln)"
   ]
  },
  {
   "cell_type": "code",
   "execution_count": 182,
   "metadata": {},
   "outputs": [
    {
     "data": {
      "text/plain": [
       "ln_price    0.015396\n",
       "dtype: float64"
      ]
     },
     "execution_count": 182,
     "metadata": {},
     "output_type": "execute_result"
    }
   ],
   "source": [
    "np.std(df_ln)"
   ]
  },
  {
   "cell_type": "markdown",
   "metadata": {},
   "source": [
    "# 변동성구하기"
   ]
  },
  {
   "cell_type": "code",
   "execution_count": 147,
   "metadata": {},
   "outputs": [],
   "source": [
    "def std_price2(df):\n",
    "    avg = avg_price(df)\n",
    "    c_price = pd.to_numeric(df['ln_price'])\n",
    "    sum_a = 0\n",
    "    print(type(c_price))\n",
    "    print(type(c_price[0]))\n",
    "    print(type(avg))\n",
    "    for i in range(len(df)):\n",
    "        sum_a += (c_price[i] - avg)**2\n",
    "    \n",
    "    return (sum_a / len(df))**(1/2) * (252)**(1/2)"
   ]
  },
  {
   "cell_type": "code",
   "execution_count": 148,
   "metadata": {},
   "outputs": [
    {
     "name": "stdout",
     "output_type": "stream",
     "text": [
      "<class 'pandas.core.series.Series'>\n",
      "<class 'numpy.float64'>\n",
      "<class 'numpy.float64'>\n"
     ]
    },
    {
     "data": {
      "text/plain": [
       "0.24441014329867547"
      ]
     },
     "execution_count": 148,
     "metadata": {},
     "output_type": "execute_result"
    }
   ],
   "source": [
    "std_price2(df_ln)"
   ]
  },
  {
   "cell_type": "code",
   "execution_count": null,
   "metadata": {},
   "outputs": [],
   "source": []
  },
  {
   "cell_type": "markdown",
   "metadata": {},
   "source": [
    "# 종목별 변동성 구하기"
   ]
  },
  {
   "cell_type": "code",
   "execution_count": 105,
   "metadata": {},
   "outputs": [],
   "source": [
    "def std_by_code(code):\n",
    "    data = getStockPrice(code)\n",
    "    df_ln = money(data)\n",
    "    std_c = std_price2(df_ln)\n",
    "    \n",
    "    return std_c"
   ]
  },
  {
   "cell_type": "code",
   "execution_count": 106,
   "metadata": {},
   "outputs": [
    {
     "data": {
      "text/plain": [
       "0.2443644205461667"
      ]
     },
     "execution_count": 106,
     "metadata": {},
     "output_type": "execute_result"
    }
   ],
   "source": [
    "std_by_code('005930')"
   ]
  },
  {
   "cell_type": "markdown",
   "metadata": {},
   "source": [
    "# 공분산 구하기"
   ]
  },
  {
   "cell_type": "code",
   "execution_count": 183,
   "metadata": {},
   "outputs": [],
   "source": [
    "def twin_std(df1, df2):\n",
    "    df_f = money(df1)\n",
    "    df_s = money(df2)\n",
    "    \n",
    "    avg1 = avg_price(df_f)\n",
    "    avg2 = avg_price(df_s)\n",
    "    \n",
    "    f_price = pd.to_numeric(df_f['ln_price'])\n",
    "    s_price = pd.to_numeric(df_s['ln_price'])\n",
    "    \n",
    "    sum_a = 0\n",
    "    for i in range(len(df_f)):\n",
    "        sum_a += (f_price[i] - avg1)*(s_price[i] - avg2)\n",
    "    \n",
    "    return (sum_a / (len(df_f)-1) )"
   ]
  },
  {
   "cell_type": "code",
   "execution_count": null,
   "metadata": {},
   "outputs": [],
   "source": []
  },
  {
   "cell_type": "code",
   "execution_count": 138,
   "metadata": {},
   "outputs": [],
   "source": [
    "def kospi():\n",
    "    base_url = 'https://finance.naver.com'\n",
    "    src=\"/sise/sise_index_day.nhn?code=KPI200\"\n",
    "    url = base_url + src\n",
    "    \n",
    "    result_list = []\n",
    "    for num in range(1, 100):\n",
    "        params = {\n",
    "            'page' : num\n",
    "        }\n",
    "        resp = requests.get(url, params)\n",
    "        soup = BeautifulSoup(resp.content, 'html.parser')\n",
    "        tr_list = soup.find('table').find_all('tr')\n",
    "        tr_list2 = tr_list[2:5] + tr_list[9:]\n",
    "        for tr in tr_list2:\n",
    "\n",
    "            if not tr.text.strip():\n",
    "                continue\n",
    "\n",
    "            date = tr.find('td', class_='date').text\n",
    "            date = pd.to_datetime(date).date()\n",
    "            price = tr.find('td', class_='number_1').text\n",
    "\n",
    "            new_dict = {\n",
    "                'date' : date,\n",
    "                'price' : price\n",
    "            }\n",
    "            result_list.append(new_dict)\n",
    "        df1 = pd.DataFrame(result_list)\n",
    "        \n",
    "    return df1"
   ]
  },
  {
   "cell_type": "code",
   "execution_count": 139,
   "metadata": {},
   "outputs": [],
   "source": [
    "df2 = kospi()"
   ]
  },
  {
   "cell_type": "code",
   "execution_count": 169,
   "metadata": {},
   "outputs": [
    {
     "data": {
      "text/plain": [
       "0      274.24\n",
       "1      274.54\n",
       "2      272.37\n",
       "3      275.97\n",
       "4      277.27\n",
       "5      277.50\n",
       "6      277.75\n",
       "7      275.53\n",
       "8      275.28\n",
       "9      275.58\n",
       "10     275.48\n",
       "11     276.01\n",
       "12     275.31\n",
       "13     271.36\n",
       "14     270.09\n",
       "15     270.48\n",
       "16     271.13\n",
       "17     272.74\n",
       "18     273.21\n",
       "19     272.10\n",
       "20     268.27\n",
       "21     267.99\n",
       "22     267.66\n",
       "23     268.16\n",
       "24     263.89\n",
       "25     263.93\n",
       "26     261.37\n",
       "27     264.70\n",
       "28     264.40\n",
       "29     264.42\n",
       "        ...  \n",
       "222    297.18\n",
       "223    295.24\n",
       "224    295.61\n",
       "225    293.55\n",
       "226    298.69\n",
       "227    297.45\n",
       "228    297.29\n",
       "229    297.78\n",
       "230    296.95\n",
       "231    294.85\n",
       "232    295.49\n",
       "233    294.56\n",
       "234    296.95\n",
       "235    295.90\n",
       "236    296.47\n",
       "237    296.88\n",
       "238    297.37\n",
       "239    298.65\n",
       "240    294.41\n",
       "241    294.43\n",
       "242    296.19\n",
       "243    295.20\n",
       "244    293.11\n",
       "245    291.63\n",
       "246    292.26\n",
       "247    293.35\n",
       "248    292.93\n",
       "249    299.66\n",
       "250    298.26\n",
       "251    302.25\n",
       "Name: close, Length: 252, dtype: float64"
      ]
     },
     "execution_count": 169,
     "metadata": {},
     "output_type": "execute_result"
    }
   ],
   "source": [
    "df2.columns = ['Date', 'close']\n",
    "df2 = df2[:252]\n",
    "df2['close'] = pd.to_numeric(df2['close'])\n",
    "df2['close']"
   ]
  },
  {
   "cell_type": "code",
   "execution_count": 173,
   "metadata": {},
   "outputs": [
    {
     "data": {
      "text/plain": [
       "0      47950\n",
       "1      46800\n",
       "2      46650\n",
       "3      45550\n",
       "4      46150\n",
       "5      46250\n",
       "6      45950\n",
       "7      44900\n",
       "8      45600\n",
       "9      46300\n",
       "10     46000\n",
       "11     45500\n",
       "12     46500\n",
       "13     46050\n",
       "14     45850\n",
       "15     46550\n",
       "16     46900\n",
       "17     47450\n",
       "18     46500\n",
       "19     46150\n",
       "20     46150\n",
       "21     46900\n",
       "22     46900\n",
       "23     46500\n",
       "24     46250\n",
       "25     46550\n",
       "26     45550\n",
       "27     45750\n",
       "28     45800\n",
       "29     46700\n",
       "       ...  \n",
       "222    42700\n",
       "223    42650\n",
       "224    42550\n",
       "225    41800\n",
       "226    42550\n",
       "227    42500\n",
       "228    43800\n",
       "229    43450\n",
       "230    43900\n",
       "231    44200\n",
       "232    44800\n",
       "233    44850\n",
       "234    44600\n",
       "235    43750\n",
       "236    44000\n",
       "237    43900\n",
       "238    44350\n",
       "239    45350\n",
       "240    45500\n",
       "241    45700\n",
       "242    45500\n",
       "243    45600\n",
       "244    45700\n",
       "245    46500\n",
       "246    47000\n",
       "247    46600\n",
       "248    46250\n",
       "249    45400\n",
       "250    46000\n",
       "251    45450\n",
       "Name: close, Length: 252, dtype: int64"
      ]
     },
     "execution_count": 173,
     "metadata": {},
     "output_type": "execute_result"
    }
   ],
   "source": [
    "df1 = getStockPrice('005930')\n",
    "df1['close'] = pd.to_numeric(df1['close'])\n",
    "df1['close']"
   ]
  },
  {
   "cell_type": "code",
   "execution_count": 177,
   "metadata": {},
   "outputs": [
    {
     "data": {
      "text/plain": [
       "array([[5.46122937e+06, 7.88748748e+03],\n",
       "       [7.88748748e+03, 1.38653247e+02]])"
      ]
     },
     "execution_count": 177,
     "metadata": {},
     "output_type": "execute_result"
    }
   ],
   "source": [
    "np.cov(df1['close'], df2['close'])"
   ]
  },
  {
   "cell_type": "code",
   "execution_count": 184,
   "metadata": {},
   "outputs": [
    {
     "data": {
      "text/plain": [
       "2.3581027000156343e-05"
      ]
     },
     "execution_count": 184,
     "metadata": {},
     "output_type": "execute_result"
    }
   ],
   "source": [
    "df_twin = twin_std(df1, df2)\n",
    "df_twin"
   ]
  },
  {
   "cell_type": "markdown",
   "metadata": {},
   "source": [
    "# 상관계수 구하기  \n",
    "공분산 / 표준편차(a)* 표준편차(b)"
   ]
  },
  {
   "cell_type": "code",
   "execution_count": null,
   "metadata": {},
   "outputs": [],
   "source": [
    "# 표준편차\n",
    "def std_price(df): \n",
    "    avg = avg_price(df)\n",
    "    c_price = pd.to_numeric(df['ln_price'])\n",
    "    sum_a = 0\n",
    "    for i in range(len(df)):\n",
    "        sum_a += (c_price[i] - avg)**2\n",
    "    \n",
    "    return (sum_a / len(df))**(1/2)"
   ]
  },
  {
   "cell_type": "code",
   "execution_count": 157,
   "metadata": {},
   "outputs": [
    {
     "data": {
      "text/plain": [
       "'\\ntwin_std(df1, df2): # 공분산\\ndf_f = money(df1)\\ndf_s = money(df2)\\n'"
      ]
     },
     "execution_count": 157,
     "metadata": {},
     "output_type": "execute_result"
    }
   ],
   "source": [
    "\"\"\"\n",
    "twin_std(df1, df2): # 공분산\n",
    "df_f = money(df1)\n",
    "df_s = money(df2)\n",
    "\"\"\""
   ]
  },
  {
   "cell_type": "code",
   "execution_count": 180,
   "metadata": {},
   "outputs": [],
   "source": [
    "def corr_price(df1, df2):\n",
    "    twin = twin_std(df1, df2)\n",
    "    std1 = std_price(money(df1))\n",
    "    std2 = std_price(money(df2))\n",
    "    \n",
    "    return twin / (std1*std2)"
   ]
  },
  {
   "cell_type": "code",
   "execution_count": 181,
   "metadata": {},
   "outputs": [
    {
     "name": "stdout",
     "output_type": "stream",
     "text": [
      "<class 'numpy.float64'>\n",
      "<class 'numpy.float64'>\n",
      "<class 'numpy.float64'>\n",
      "<class 'numpy.float64'>\n"
     ]
    },
    {
     "data": {
      "text/plain": [
       "0.16890818306296737"
      ]
     },
     "execution_count": 181,
     "metadata": {},
     "output_type": "execute_result"
    }
   ],
   "source": [
    "corr_price(df1, df2)"
   ]
  },
  {
   "cell_type": "code",
   "execution_count": 174,
   "metadata": {},
   "outputs": [
    {
     "data": {
      "text/plain": [
       "array([[1.        , 0.28663449],\n",
       "       [0.28663449, 1.        ]])"
      ]
     },
     "execution_count": 174,
     "metadata": {},
     "output_type": "execute_result"
    }
   ],
   "source": [
    "np.corrcoef(df1['close'], df2['close'])"
   ]
  },
  {
   "cell_type": "code",
   "execution_count": 162,
   "metadata": {},
   "outputs": [
    {
     "name": "stdout",
     "output_type": "stream",
     "text": [
      "Help on function corrcoef in module numpy:\n",
      "\n",
      "corrcoef(x, y=None, rowvar=True, bias=<no value>, ddof=<no value>)\n",
      "    Return Pearson product-moment correlation coefficients.\n",
      "    \n",
      "    Please refer to the documentation for `cov` for more detail.  The\n",
      "    relationship between the correlation coefficient matrix, `R`, and the\n",
      "    covariance matrix, `C`, is\n",
      "    \n",
      "    .. math:: R_{ij} = \\frac{ C_{ij} } { \\sqrt{ C_{ii} * C_{jj} } }\n",
      "    \n",
      "    The values of `R` are between -1 and 1, inclusive.\n",
      "    \n",
      "    Parameters\n",
      "    ----------\n",
      "    x : array_like\n",
      "        A 1-D or 2-D array containing multiple variables and observations.\n",
      "        Each row of `x` represents a variable, and each column a single\n",
      "        observation of all those variables. Also see `rowvar` below.\n",
      "    y : array_like, optional\n",
      "        An additional set of variables and observations. `y` has the same\n",
      "        shape as `x`.\n",
      "    rowvar : bool, optional\n",
      "        If `rowvar` is True (default), then each row represents a\n",
      "        variable, with observations in the columns. Otherwise, the relationship\n",
      "        is transposed: each column represents a variable, while the rows\n",
      "        contain observations.\n",
      "    bias : _NoValue, optional\n",
      "        Has no effect, do not use.\n",
      "    \n",
      "        .. deprecated:: 1.10.0\n",
      "    ddof : _NoValue, optional\n",
      "        Has no effect, do not use.\n",
      "    \n",
      "        .. deprecated:: 1.10.0\n",
      "    \n",
      "    Returns\n",
      "    -------\n",
      "    R : ndarray\n",
      "        The correlation coefficient matrix of the variables.\n",
      "    \n",
      "    See Also\n",
      "    --------\n",
      "    cov : Covariance matrix\n",
      "    \n",
      "    Notes\n",
      "    -----\n",
      "    Due to floating point rounding the resulting array may not be Hermitian,\n",
      "    the diagonal elements may not be 1, and the elements may not satisfy the\n",
      "    inequality abs(a) <= 1. The real and imaginary parts are clipped to the\n",
      "    interval [-1,  1] in an attempt to improve on that situation but is not\n",
      "    much help in the complex case.\n",
      "    \n",
      "    This function accepts but discards arguments `bias` and `ddof`.  This is\n",
      "    for backwards compatibility with previous versions of this function.  These\n",
      "    arguments had no effect on the return values of the function and can be\n",
      "    safely ignored in this and previous versions of numpy.\n",
      "\n"
     ]
    }
   ],
   "source": [
    "help(np.corrcoef)"
   ]
  },
  {
   "cell_type": "code",
   "execution_count": 94,
   "metadata": {},
   "outputs": [
    {
     "name": "stdout",
     "output_type": "stream",
     "text": [
      "Collecting scrapy\n",
      "  Downloading https://files.pythonhosted.org/packages/3e/45/414e87ac8209d537c91575538c5307c20217a6943f555e0ee39f6db4bb0f/Scrapy-1.6.0-py2.py3-none-any.whl (231kB)\n",
      "Collecting parsel>=1.5 (from scrapy)\n",
      "  Downloading https://files.pythonhosted.org/packages/96/69/d1d5dba5e4fecd41ffd71345863ed36a45975812c06ba77798fc15db6a64/parsel-1.5.1-py2.py3-none-any.whl\n",
      "Requirement already satisfied: six>=1.5.2 in c:\\programdata\\anaconda3\\lib\\site-packages (from scrapy) (1.12.0)\n",
      "Collecting Twisted>=13.1.0 (from scrapy)\n",
      "  Downloading https://files.pythonhosted.org/packages/79/59/035de19362320e632301ed7bbde23e4c8cd6fc5e2f1cf8d354cdba857854/Twisted-19.2.1.tar.bz2 (3.1MB)\n",
      "Collecting cssselect>=0.9 (from scrapy)\n",
      "  Downloading https://files.pythonhosted.org/packages/7b/44/25b7283e50585f0b4156960691d951b05d061abf4a714078393e51929b30/cssselect-1.0.3-py2.py3-none-any.whl\n",
      "Requirement already satisfied: lxml in c:\\programdata\\anaconda3\\lib\\site-packages (from scrapy) (4.3.2)\n",
      "Collecting PyDispatcher>=2.0.5 (from scrapy)\n",
      "  Downloading https://files.pythonhosted.org/packages/cd/37/39aca520918ce1935bea9c356bcbb7ed7e52ad4e31bff9b943dfc8e7115b/PyDispatcher-2.0.5.tar.gz\n",
      "Collecting queuelib (from scrapy)\n",
      "  Downloading https://files.pythonhosted.org/packages/4c/85/ae64e9145f39dd6d14f8af3fa809a270ef3729f3b90b3c0cf5aa242ab0d4/queuelib-1.5.0-py2.py3-none-any.whl\n",
      "Collecting w3lib>=1.17.0 (from scrapy)\n",
      "  Downloading https://files.pythonhosted.org/packages/81/43/9dcf92a77f5f0afe4f4df2407d7289eea01368a08b64bda00dd318ca62a6/w3lib-1.20.0-py2.py3-none-any.whl\n",
      "Requirement already satisfied: pyOpenSSL in c:\\programdata\\anaconda3\\lib\\site-packages (from scrapy) (19.0.0)\n",
      "Collecting service-identity (from scrapy)\n",
      "  Downloading https://files.pythonhosted.org/packages/e9/7c/2195b890023e098f9618d43ebc337d83c8b38d414326685339eb024db2f6/service_identity-18.1.0-py2.py3-none-any.whl\n",
      "Collecting zope.interface>=4.4.2 (from Twisted>=13.1.0->scrapy)\n",
      "  Downloading https://files.pythonhosted.org/packages/a8/d2/e2fb1052cdf1c1d05a23c5f7a192a8dc104d5afda0539f86b9839264e1cc/zope.interface-4.6.0-cp37-cp37m-win_amd64.whl (133kB)\n",
      "Collecting constantly>=15.1 (from Twisted>=13.1.0->scrapy)\n",
      "  Downloading https://files.pythonhosted.org/packages/b9/65/48c1909d0c0aeae6c10213340ce682db01b48ea900a7d9fce7a7910ff318/constantly-15.1.0-py2.py3-none-any.whl\n",
      "Collecting incremental>=16.10.1 (from Twisted>=13.1.0->scrapy)\n",
      "  Downloading https://files.pythonhosted.org/packages/f5/1d/c98a587dc06e107115cf4a58b49de20b19222c83d75335a192052af4c4b7/incremental-17.5.0-py2.py3-none-any.whl\n",
      "Collecting Automat>=0.3.0 (from Twisted>=13.1.0->scrapy)\n",
      "  Downloading https://files.pythonhosted.org/packages/a3/86/14c16bb98a5a3542ed8fed5d74fb064a902de3bdd98d6584b34553353c45/Automat-0.7.0-py2.py3-none-any.whl\n",
      "Collecting hyperlink>=17.1.1 (from Twisted>=13.1.0->scrapy)\n",
      "  Downloading https://files.pythonhosted.org/packages/7f/91/e916ca10a2de1cb7101a9b24da546fb90ee14629e23160086cf3361c4fb8/hyperlink-19.0.0-py2.py3-none-any.whl\n",
      "Collecting PyHamcrest>=1.9.0 (from Twisted>=13.1.0->scrapy)\n",
      "  Downloading https://files.pythonhosted.org/packages/9a/d5/d37fd731b7d0e91afcc84577edeccf4638b4f9b82f5ffe2f8b62e2ddc609/PyHamcrest-1.9.0-py2.py3-none-any.whl (52kB)\n",
      "Requirement already satisfied: attrs>=17.4.0 in c:\\programdata\\anaconda3\\lib\\site-packages (from Twisted>=13.1.0->scrapy) (19.1.0)\n",
      "Requirement already satisfied: cryptography>=2.3 in c:\\programdata\\anaconda3\\lib\\site-packages (from pyOpenSSL->scrapy) (2.6.1)\n",
      "Collecting pyasn1 (from service-identity->scrapy)\n",
      "  Downloading https://files.pythonhosted.org/packages/7b/7c/c9386b82a25115cccf1903441bba3cbadcfae7b678a20167347fa8ded34c/pyasn1-0.4.5-py2.py3-none-any.whl (73kB)\n",
      "Collecting pyasn1-modules (from service-identity->scrapy)\n",
      "  Downloading https://files.pythonhosted.org/packages/91/f0/b03e00ce9fddf4827c42df1c3ce10c74eadebfb706231e8d6d1c356a4062/pyasn1_modules-0.2.5-py2.py3-none-any.whl (74kB)\n",
      "Requirement already satisfied: setuptools in c:\\programdata\\anaconda3\\lib\\site-packages (from zope.interface>=4.4.2->Twisted>=13.1.0->scrapy) (40.8.0)\n",
      "Requirement already satisfied: idna>=2.5 in c:\\programdata\\anaconda3\\lib\\site-packages (from hyperlink>=17.1.1->Twisted>=13.1.0->scrapy) (2.8)\n",
      "Requirement already satisfied: asn1crypto>=0.21.0 in c:\\programdata\\anaconda3\\lib\\site-packages (from cryptography>=2.3->pyOpenSSL->scrapy) (0.24.0)\n",
      "Requirement already satisfied: cffi!=1.11.3,>=1.8 in c:\\programdata\\anaconda3\\lib\\site-packages (from cryptography>=2.3->pyOpenSSL->scrapy) (1.12.2)\n",
      "Requirement already satisfied: pycparser in c:\\programdata\\anaconda3\\lib\\site-packages (from cffi!=1.11.3,>=1.8->cryptography>=2.3->pyOpenSSL->scrapy) (2.19)\n",
      "Building wheels for collected packages: Twisted, PyDispatcher\n",
      "  Building wheel for Twisted (setup.py): started\n",
      "  Building wheel for Twisted (setup.py): finished with status 'done'\n",
      "  Stored in directory: C:\\Users\\student\\AppData\\Local\\pip\\Cache\\wheels\\19\\4c\\a1\\0bef832134076abab3461815e92cf41f2518dffe1a5337203b\n",
      "  Building wheel for PyDispatcher (setup.py): started\n",
      "  Building wheel for PyDispatcher (setup.py): finished with status 'done'\n",
      "  Stored in directory: C:\\Users\\student\\AppData\\Local\\pip\\Cache\\wheels\\88\\99\\96\\cfef6665f9cb1522ee6757ae5955feedf2fe25f1737f91fa7f\n",
      "Successfully built Twisted PyDispatcher\n",
      "Installing collected packages: cssselect, w3lib, parsel, zope.interface, constantly, incremental, Automat, hyperlink, PyHamcrest, Twisted, PyDispatcher, queuelib, pyasn1, pyasn1-modules, service-identity, scrapy\n",
      "Successfully installed Automat-0.7.0 PyDispatcher-2.0.5 PyHamcrest-1.9.0 Twisted-19.2.1 constantly-15.1.0 cssselect-1.0.3 hyperlink-19.0.0 incremental-17.5.0 parsel-1.5.1 pyasn1-0.4.5 pyasn1-modules-0.2.5 queuelib-1.5.0 scrapy-1.6.0 service-identity-18.1.0 w3lib-1.20.0 zope.interface-4.6.0\n"
     ]
    }
   ],
   "source": [
    "!pip install scrapy"
   ]
  },
  {
   "cell_type": "code",
   "execution_count": null,
   "metadata": {},
   "outputs": [],
   "source": []
  }
 ],
 "metadata": {
  "colab": {
   "collapsed_sections": [],
   "include_colab_link": true,
   "name": "99 기타코드.ipynb",
   "provenance": [],
   "version": "0.3.2"
  },
  "kernelspec": {
   "display_name": "Python 3",
   "language": "python",
   "name": "python3"
  },
  "language_info": {
   "codemirror_mode": {
    "name": "ipython",
    "version": 3
   },
   "file_extension": ".py",
   "mimetype": "text/x-python",
   "name": "python",
   "nbconvert_exporter": "python",
   "pygments_lexer": "ipython3",
   "version": "3.7.3"
  }
 },
 "nbformat": 4,
 "nbformat_minor": 1
}
