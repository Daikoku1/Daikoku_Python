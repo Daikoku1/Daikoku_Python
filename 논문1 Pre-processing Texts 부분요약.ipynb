{
 "cells": [
  {
   "cell_type": "markdown",
   "metadata": {},
   "source": [
    "# Pre-processing Texts  \n",
    "1. pre processing\n",
    "    - tokenization\n",
    "        글 혹은 문장을 작은 단위의 문자열로 구분하는 것(보통 단어)\n",
    "        tag를 부착하여 문자열의 품사 구분가능\n",
    "    - normalization\n",
    "        같은 의미를 가진 다양한 단어를 하나의 정규단어로 바꾸는 것\n",
    "        구두점 제거, 단어제거, 형태소 분석 등 포함"
   ]
  },
  {
   "cell_type": "markdown",
   "metadata": {},
   "source": [
    "2. 한국어 pre processing  \n",
    "    - 한글 -> 숫자형태 변환에 관한 이슈\n",
    "        - 1. 공란\n",
    "           띄어쓰기가 엄격하지 못하고, 의미 단위로 띄어쓰기 X\n",
    "        - 2. 외래어가 외래어 표준문법을 지키지 않는 경우 다수이며, 그 중 대다수는 현장에서 사용\n",
    "        - 3. 동의어가 다양하게 쓰임\n",
    "            ex) 인플레이션, 인플레, 물가\n",
    "            n-gram 사용시 문제 발생\n",
    "                - 문자 조합 갯수는 증가시키고, 반복횟수를 희석시킴\n",
    "        - 4. 동사와 형용사가 불규칙적으로 결합하는 경우가 다수\n",
    "        \n",
    "        - 1번 이슈는 현재 사용가능한 분석기로 해결이 가능하나, 나머지 이슈는 해결 X\n",
    "        - 이러한 문제를 해결하고자 KoNLPy 만들었다.\n",
    "        \n",
    "            "
   ]
  },
  {
   "cell_type": "markdown",
   "metadata": {},
   "source": [
    "3. KoNLPy\n",
    "    - 2번째 이슈관련\n",
    "        - 2번째 이슈 해결을 위해 분야특정 항목 4202개를 포함\n",
    "        - 추가적으로 새로운 용어를 추가하기 쉽게 설계함\n",
    "    - 3번째 이슈관련\n",
    "        - 1324개의 동의어 쌍을 포함\n",
    "    - 4번째 이슈관련\n",
    "        - stemming(형태소 분석), lemmatization(분류화) 등 데이터 전처리 작업을 통해 핸들링 가능\n",
    "        - 한국어는 lemmatization이 stemming보다 효과적임\n",
    "    - 결과적으로 원래 사용하던 사전에서는 거르지 못했던 단어들을 효과적으로 분류할 수 있게 \n",
    "        - 금융통화위원회, 금통위, 일드 커브, 스티프닝 등"
   ]
  },
  {
   "cell_type": "code",
   "execution_count": null,
   "metadata": {},
   "outputs": [],
   "source": []
  }
 ],
 "metadata": {
  "kernelspec": {
   "display_name": "Python 3",
   "language": "python",
   "name": "python3"
  },
  "language_info": {
   "codemirror_mode": {
    "name": "ipython",
    "version": 3
   },
   "file_extension": ".py",
   "mimetype": "text/x-python",
   "name": "python",
   "nbconvert_exporter": "python",
   "pygments_lexer": "ipython3",
   "version": "3.7.3"
  }
 },
 "nbformat": 4,
 "nbformat_minor": 2
}
