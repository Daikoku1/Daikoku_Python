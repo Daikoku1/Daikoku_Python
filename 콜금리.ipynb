{
 "cells": [
  {
   "cell_type": "code",
   "execution_count": 1,
   "metadata": {},
   "outputs": [],
   "source": [
    "import requests\n",
    "from bs4 import BeautifulSoup\n",
    "import pandas as pd"
   ]
  },
  {
   "cell_type": "code",
   "execution_count": 12,
   "metadata": {},
   "outputs": [],
   "source": [
    "result_list = []\n",
    "for num in range(1, 516):\n",
    "    url = 'https://finance.naver.com/marketindex/interestDailyQuote.nhn?marketindexCd=IRR_CALL'\n",
    "    params = {\n",
    "        'page' : num\n",
    "    }\n",
    "    resp = requests.get(url, params = params)\n",
    "    soup = BeautifulSoup(resp.content)\n",
    "    tr_list = soup.find_all('tr')[1:]\n",
    "    for tr in tr_list:\n",
    "        date = tr.find_all('td')[0].text.strip()\n",
    "        price = tr.find_all('td')[1].text\n",
    "        \n",
    "        new_dict = {\n",
    "            'date' : date,\n",
    "            'price' : price\n",
    "        }\n",
    "        result_list.append(new_dict)"
   ]
  },
  {
   "cell_type": "code",
   "execution_count": 13,
   "metadata": {},
   "outputs": [
    {
     "data": {
      "text/html": [
       "<div>\n",
       "<style scoped>\n",
       "    .dataframe tbody tr th:only-of-type {\n",
       "        vertical-align: middle;\n",
       "    }\n",
       "\n",
       "    .dataframe tbody tr th {\n",
       "        vertical-align: top;\n",
       "    }\n",
       "\n",
       "    .dataframe thead th {\n",
       "        text-align: right;\n",
       "    }\n",
       "</style>\n",
       "<table border=\"1\" class=\"dataframe\">\n",
       "  <thead>\n",
       "    <tr style=\"text-align: right;\">\n",
       "      <th></th>\n",
       "      <th>date</th>\n",
       "      <th>price</th>\n",
       "    </tr>\n",
       "  </thead>\n",
       "  <tbody>\n",
       "    <tr>\n",
       "      <th>0</th>\n",
       "      <td>2019.07.12</td>\n",
       "      <td>1.74</td>\n",
       "    </tr>\n",
       "    <tr>\n",
       "      <th>1</th>\n",
       "      <td>2019.07.11</td>\n",
       "      <td>1.75</td>\n",
       "    </tr>\n",
       "    <tr>\n",
       "      <th>2</th>\n",
       "      <td>2019.07.10</td>\n",
       "      <td>1.74</td>\n",
       "    </tr>\n",
       "    <tr>\n",
       "      <th>3</th>\n",
       "      <td>2019.07.09</td>\n",
       "      <td>1.69</td>\n",
       "    </tr>\n",
       "    <tr>\n",
       "      <th>4</th>\n",
       "      <td>2019.07.08</td>\n",
       "      <td>1.73</td>\n",
       "    </tr>\n",
       "  </tbody>\n",
       "</table>\n",
       "</div>"
      ],
      "text/plain": [
       "         date price\n",
       "0  2019.07.12  1.74\n",
       "1  2019.07.11  1.75\n",
       "2  2019.07.10  1.74\n",
       "3  2019.07.09  1.69\n",
       "4  2019.07.08  1.73"
      ]
     },
     "execution_count": 13,
     "metadata": {},
     "output_type": "execute_result"
    }
   ],
   "source": [
    "df = pd.DataFrame(result_list)\n",
    "df.head()"
   ]
  },
  {
   "cell_type": "code",
   "execution_count": 15,
   "metadata": {},
   "outputs": [],
   "source": [
    "import os"
   ]
  },
  {
   "cell_type": "code",
   "execution_count": 16,
   "metadata": {},
   "outputs": [],
   "source": [
    "BASE_DIR = os.getcwd()\n",
    "SAVE_DB_DIR = os.path.join(BASE_DIR, 'call')\n",
    "\n",
    "if not os.path.exists(SAVE_DB_DIR):\n",
    "    os.makedirs(SAVE_DB_DIR)\n",
    "\n",
    "#텍스트 파일 만들기\n",
    "temp_name = f\"call.xlsx\"\n",
    "txt_name = os.path.join(SAVE_DB_DIR, temp_name)\n",
    "excel_writer = pd.ExcelWriter(txt_name, engine = 'xlsxwriter')\n",
    "#     df_report.to_excel(excel_writer, sheet_name='report')\n",
    "df.to_excel(excel_writer)\n",
    "\n",
    "excel_writer.save()"
   ]
  },
  {
   "cell_type": "code",
   "execution_count": null,
   "metadata": {},
   "outputs": [],
   "source": []
  }
 ],
 "metadata": {
  "kernelspec": {
   "display_name": "Python 3",
   "language": "python",
   "name": "python3"
  },
  "language_info": {
   "codemirror_mode": {
    "name": "ipython",
    "version": 3
   },
   "file_extension": ".py",
   "mimetype": "text/x-python",
   "name": "python",
   "nbconvert_exporter": "python",
   "pygments_lexer": "ipython3",
   "version": "3.7.3"
  }
 },
 "nbformat": 4,
 "nbformat_minor": 2
}
