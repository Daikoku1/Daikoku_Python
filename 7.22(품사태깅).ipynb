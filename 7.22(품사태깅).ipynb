{
 "cells": [
  {
   "cell_type": "code",
   "execution_count": 1,
   "metadata": {},
   "outputs": [],
   "source": [
    "import nltk"
   ]
  },
  {
   "cell_type": "code",
   "execution_count": 2,
   "metadata": {},
   "outputs": [
    {
     "name": "stdout",
     "output_type": "stream",
     "text": [
      "['Seoul', 'is', 'the', 'capital', 'of', 'Korea', '.']\n"
     ]
    }
   ],
   "source": [
    "simpleSentence = 'Seoul is the capital of Korea.'\n",
    "wordsInSentence = nltk.word_tokenize(simpleSentence)\n",
    "print(wordsInSentence)"
   ]
  },
  {
   "cell_type": "code",
   "execution_count": 3,
   "metadata": {},
   "outputs": [
    {
     "name": "stdout",
     "output_type": "stream",
     "text": [
      "[('Seoul', 'NNP'), ('is', 'VBZ'), ('the', 'DT'), ('capital', 'NN'), ('of', 'IN'), ('Korea', 'NNP'), ('.', '.')]\n"
     ]
    }
   ],
   "source": [
    "partsOfSpeechTags = nltk.pos_tag(wordsInSentence)\n",
    "print(partsOfSpeechTags)"
   ]
  },
  {
   "cell_type": "code",
   "execution_count": null,
   "metadata": {},
   "outputs": [],
   "source": []
  },
  {
   "cell_type": "code",
   "execution_count": null,
   "metadata": {},
   "outputs": [],
   "source": []
  },
  {
   "cell_type": "code",
   "execution_count": 4,
   "metadata": {},
   "outputs": [],
   "source": [
    "import nltk\n",
    "def learnDefaultTagger(simpleSentence):\n",
    "    wordsInSentence = nltk.word_tokenize(simpleSentence)\n",
    "    tagger = nltk.DefaultTagger(\"NN\")\n",
    "    posEnabledTags = tagger.tag(wordsInSentence)\n",
    "    print(posEnabledTags)\n",
    "    \n",
    "def learnRETagger(simpleSentence):\n",
    "    customPatterns = [\n",
    "    (r'.*ing$', 'ADJECTIVE'), # running\n",
    "    (r'.*ly$', 'ADVERB'), # willingly\n",
    "    (r'.*ion$', 'NOUN'), # intimation\n",
    "    (r'(.*ate|.*en|is)$', 'VERB'), # terminate, darken, lighten\n",
    "    (r'^an$', 'INDEFINITE-ARTICLE'), # terminate\n",
    "    (r'^(with|on|at)$', 'PREPOSITION'), # on\n",
    "    (r'^\\-?[0-9]+(\\.[0-9]+)$', 'NUMBER'), # -1.0, 12345.123\n",
    "    (r'.*$', None),\n",
    "    ]\n",
    "    tagger = nltk.RegexpTagger(customPatterns)\n",
    "    wordsInSentence = nltk.word_tokenize(simpleSentence)\n",
    "    posEnabledTags = tagger.tag(wordsInSentence)\n",
    "    print(posEnabledTags)\n",
    "    \n",
    "def learnLookupTagger(simpleSentence):\n",
    "    mapping = {\n",
    "    '.': '.', 'place': 'NN', 'on': 'IN',\n",
    "    'earth': 'NN', 'Reykjavik' : 'NNP', 'is': 'VBZ',\n",
    "    'an': 'DT', 'amazing': 'JJ'\n",
    "    }\n",
    "    tagger = nltk.UnigramTagger(model=mapping)\n",
    "    wordsInSentence = nltk.word_tokenize(simpleSentence)\n",
    "    posEnabledTags = tagger.tag(wordsInSentence)\n",
    "    print(posEnabledTags)"
   ]
  },
  {
   "cell_type": "code",
   "execution_count": 5,
   "metadata": {},
   "outputs": [],
   "source": [
    "testSentence = 'Reykjavik is an amazing place on earth. I have visited Reykjavik 10 times'"
   ]
  },
  {
   "cell_type": "code",
   "execution_count": 6,
   "metadata": {},
   "outputs": [
    {
     "name": "stdout",
     "output_type": "stream",
     "text": [
      "[('Reykjavik', 'NN'), ('is', 'NN'), ('an', 'NN'), ('amazing', 'NN'), ('place', 'NN'), ('on', 'NN'), ('earth', 'NN'), ('.', 'NN'), ('I', 'NN'), ('have', 'NN'), ('visited', 'NN'), ('Reykjavik', 'NN'), ('10', 'NN'), ('times', 'NN')]\n"
     ]
    }
   ],
   "source": [
    "learnDefaultTagger(testSentence)"
   ]
  },
  {
   "cell_type": "code",
   "execution_count": 7,
   "metadata": {},
   "outputs": [
    {
     "name": "stdout",
     "output_type": "stream",
     "text": [
      "[('Reykjavik', None), ('is', 'VERB'), ('an', 'INDEFINITE-ARTICLE'), ('amazing', 'ADJECTIVE'), ('place', None), ('on', 'PREPOSITION'), ('earth', None), ('.', None), ('I', None), ('have', None), ('visited', None), ('Reykjavik', None), ('10', None), ('times', None)]\n"
     ]
    }
   ],
   "source": [
    "learnRETagger(testSentence)"
   ]
  },
  {
   "cell_type": "code",
   "execution_count": 8,
   "metadata": {},
   "outputs": [
    {
     "name": "stdout",
     "output_type": "stream",
     "text": [
      "[('Reykjavik', 'NNP'), ('is', 'VBZ'), ('an', 'DT'), ('amazing', 'JJ'), ('place', 'NN'), ('on', 'IN'), ('earth', 'NN'), ('.', '.'), ('I', None), ('have', None), ('visited', None), ('Reykjavik', 'NNP'), ('10', None), ('times', None)]\n"
     ]
    }
   ],
   "source": [
    "learnLookupTagger(testSentence)"
   ]
  },
  {
   "cell_type": "code",
   "execution_count": null,
   "metadata": {},
   "outputs": [],
   "source": []
  },
  {
   "cell_type": "code",
   "execution_count": null,
   "metadata": {},
   "outputs": [],
   "source": []
  },
  {
   "cell_type": "markdown",
   "metadata": {},
   "source": [
    "# 피클로 저장하기  \n",
    " - 데이터의 클래스 형태를 그대로 보존한다"
   ]
  },
  {
   "cell_type": "code",
   "execution_count": 9,
   "metadata": {},
   "outputs": [
    {
     "name": "stdout",
     "output_type": "stream",
     "text": [
      "[('Iphone', None), ('is', None), ('purchased', 'VBN'), ('by', None), ('Steve', None), ('Jobs', None), ('in', 'IN'), ('Bangalore', None), ('Market', 'NNP')]\n"
     ]
    }
   ],
   "source": [
    "import nltk\n",
    "import pickle\n",
    "def sampleData():\n",
    "    return [\n",
    "    \"Bangalore is the capital of Karnataka.\",\n",
    "    \"Steve Jobs was the CEO of Apple.\",\n",
    "    \"iPhone was Invented by Apple.\",\n",
    "    \"Books can be purchased in Market.\",\n",
    "    ]\n",
    "\n",
    "def buildDictionary():\n",
    "    dictionary = {}\n",
    "    for sent in sampleData():\n",
    "        partsOfSpeechTags = nltk.pos_tag(nltk.word_tokenize(sent))\n",
    "    for tag in partsOfSpeechTags:\n",
    "        value = tag[0]\n",
    "        pos = tag[1]\n",
    "        dictionary[value] = pos\n",
    "    return dictionary\n",
    "\n",
    "def saveMyTagger(tagger, fileName):\n",
    "    fileHandle = open(fileName, \"wb\")\n",
    "    pickle.dump(tagger, fileHandle)\n",
    "    fileHandle.close()\n",
    "\n",
    "def saveMyTraining(fileName):\n",
    "    tagger = nltk.UnigramTagger(model=buildDictionary())\n",
    "    saveMyTagger(tagger, fileName)\n",
    "\n",
    "def loadMyTagger(fileName):\n",
    "    return pickle.load(open(fileName, \"rb\"))\n",
    "\n",
    "sentence = 'Iphone is purchased by Steve Jobs in Bangalore Market'\n",
    "fileName = \"myTagger.pickle\"\n",
    "saveMyTraining(fileName)\n",
    "myTagger = loadMyTagger(fileName)\n",
    "print(myTagger.tag(nltk.word_tokenize(sentence)))"
   ]
  },
  {
   "cell_type": "code",
   "execution_count": null,
   "metadata": {},
   "outputs": [],
   "source": []
  },
  {
   "cell_type": "code",
   "execution_count": null,
   "metadata": {},
   "outputs": [],
   "source": []
  },
  {
   "cell_type": "markdown",
   "metadata": {},
   "source": [
    "# 자체 문법 작성(CFG)"
   ]
  },
  {
   "cell_type": "code",
   "execution_count": 12,
   "metadata": {},
   "outputs": [],
   "source": [
    "import nltk\n",
    "import string\n",
    "from nltk.parse.generate import generate"
   ]
  },
  {
   "cell_type": "code",
   "execution_count": 21,
   "metadata": {},
   "outputs": [
    {
     "name": "stdout",
     "output_type": "stream",
     "text": [
      "Grammar with 12 productions (start state = ROOT)\n",
      "    ROOT -> WORD\n",
      "    WORD -> ' '\n",
      "    WORD -> NUMBER LETTER\n",
      "    WORD -> LETTER NUMBER\n",
      "    NUMBER -> '0'\n",
      "    NUMBER -> '1'\n",
      "    NUMBER -> '2'\n",
      "    NUMBER -> '3'\n",
      "    LETTER -> 'a'\n",
      "    LETTER -> 'b'\n",
      "    LETTER -> 'c'\n",
      "    LETTER -> 'd'\n",
      "생성된 단어: , 크기: 0\n",
      "생성된 단어: 0a, 크기: 2\n",
      "생성된 단어: 0b, 크기: 2\n",
      "생성된 단어: 0c, 크기: 2\n",
      "생성된 단어: 0d, 크기: 2\n",
      "생성된 단어: 1a, 크기: 2\n",
      "생성된 단어: 1b, 크기: 2\n",
      "생성된 단어: 1c, 크기: 2\n",
      "생성된 단어: 1d, 크기: 2\n",
      "생성된 단어: 2a, 크기: 2\n",
      "생성된 단어: 2b, 크기: 2\n",
      "생성된 단어: 2c, 크기: 2\n",
      "생성된 단어: 2d, 크기: 2\n",
      "생성된 단어: 3a, 크기: 2\n",
      "생성된 단어: 3b, 크기: 2\n",
      "생성된 단어: 3c, 크기: 2\n",
      "생성된 단어: 3d, 크기: 2\n",
      "생성된 단어: a0, 크기: 2\n",
      "생성된 단어: a1, 크기: 2\n",
      "생성된 단어: a2, 크기: 2\n"
     ]
    }
   ],
   "source": [
    "import nltk\n",
    "import string\n",
    "from nltk.parse.generate import generate\n",
    "productions = [\n",
    "\"ROOT -> WORD\",\n",
    "\"WORD -> ' '\",\n",
    "\"WORD -> NUMBER LETTER\",\n",
    "\"WORD -> LETTER NUMBER\",\n",
    "]\n",
    "digits = list(string.digits)\n",
    "for digit in digits[:4]:\n",
    "    productions.append(\"NUMBER -> '{w}'\".format(w=digit))\n",
    "    \n",
    "letters = \"' | '\".join(list(string.ascii_lowercase)[:4])\n",
    "productions.append(\"LETTER -> '{w}'\".format(w=letters))\n",
    "grammarString = \"\\n\".join(productions)\n",
    "grammar = nltk.CFG.fromstring(grammarString)\n",
    "print(grammar)\n",
    "\n",
    "# generate : 생성, depth는 탐색하는 층 개수\n",
    "for sentence in generate(grammar, n=20, depth=5):\n",
    "    palindrome = \"\".join(sentence).replace(\" \", \"\")\n",
    "    print(\"생성된 단어: {}, 크기: {}\".format(palindrome, len(palindrome)))"
   ]
  },
  {
   "cell_type": "code",
   "execution_count": 22,
   "metadata": {},
   "outputs": [
    {
     "data": {
      "text/plain": [
       "'0123456789'"
      ]
     },
     "execution_count": 22,
     "metadata": {},
     "output_type": "execute_result"
    }
   ],
   "source": [
    "string.digits"
   ]
  },
  {
   "cell_type": "code",
   "execution_count": 13,
   "metadata": {},
   "outputs": [
    {
     "data": {
      "text/plain": [
       "'abcdefghijklmnopqrstuvwxyz'"
      ]
     },
     "execution_count": 13,
     "metadata": {},
     "output_type": "execute_result"
    }
   ],
   "source": [
    "string.ascii_lowercase"
   ]
  },
  {
   "cell_type": "code",
   "execution_count": 14,
   "metadata": {},
   "outputs": [
    {
     "data": {
      "text/plain": [
       "\"a' | 'b' | 'c' | 'd\""
      ]
     },
     "execution_count": 14,
     "metadata": {},
     "output_type": "execute_result"
    }
   ],
   "source": [
    "letters =\"' | '\".join(list(string.ascii_lowercase)[:4])\n",
    "letters"
   ]
  },
  {
   "cell_type": "code",
   "execution_count": 16,
   "metadata": {},
   "outputs": [],
   "source": [
    "productions = [\n",
    "\"ROOT -> WORD\",\n",
    "\"WORD -> ' '\",\n",
    "\"WORD -> NUMBER LETTER\",\n",
    "\"WORD -> LETTER NUMBER\",\n",
    "]"
   ]
  },
  {
   "cell_type": "code",
   "execution_count": 17,
   "metadata": {},
   "outputs": [
    {
     "data": {
      "text/plain": [
       "['ROOT -> WORD',\n",
       " \"WORD -> ' '\",\n",
       " 'WORD -> NUMBER LETTER',\n",
       " 'WORD -> LETTER NUMBER',\n",
       " \"LETTER -> 'a' | 'b' | 'c' | 'd'\"]"
      ]
     },
     "execution_count": 17,
     "metadata": {},
     "output_type": "execute_result"
    }
   ],
   "source": [
    "productions.append(\"LETTER -> '{w}'\".format(w=letters))\n",
    "productions"
   ]
  },
  {
   "cell_type": "code",
   "execution_count": 18,
   "metadata": {},
   "outputs": [
    {
     "data": {
      "text/plain": [
       "\"ROOT -> WORD\\nWORD -> ' '\\nWORD -> NUMBER LETTER\\nWORD -> LETTER NUMBER\\nLETTER -> 'a' | 'b' | 'c' | 'd'\""
      ]
     },
     "execution_count": 18,
     "metadata": {},
     "output_type": "execute_result"
    }
   ],
   "source": [
    "grammarString = \"\\n\".join(productions)\n",
    "grammarString"
   ]
  },
  {
   "cell_type": "code",
   "execution_count": 19,
   "metadata": {},
   "outputs": [
    {
     "name": "stdout",
     "output_type": "stream",
     "text": [
      "Grammar with 8 productions (start state = ROOT)\n",
      "    ROOT -> WORD\n",
      "    WORD -> ' '\n",
      "    WORD -> NUMBER LETTER\n",
      "    WORD -> LETTER NUMBER\n",
      "    LETTER -> 'a'\n",
      "    LETTER -> 'b'\n",
      "    LETTER -> 'c'\n",
      "    LETTER -> 'd'\n"
     ]
    }
   ],
   "source": [
    "grammar = nltk.CFG.fromstring(grammarString)\n",
    "print(grammar)"
   ]
  },
  {
   "cell_type": "code",
   "execution_count": null,
   "metadata": {},
   "outputs": [],
   "source": []
  },
  {
   "cell_type": "code",
   "execution_count": null,
   "metadata": {},
   "outputs": [],
   "source": []
  },
  {
   "cell_type": "markdown",
   "metadata": {},
   "source": [
    "# 확률적 문맥 문법(CFG)  \n",
    " - 확률을 0으로 해도 나타난다.(generate함수의 작동원리가 다름)"
   ]
  },
  {
   "cell_type": "code",
   "execution_count": 25,
   "metadata": {},
   "outputs": [
    {
     "name": "stdout",
     "output_type": "stream",
     "text": [
      "Grammar with 13 productions (start state = ROOT)\n",
      "    ROOT -> WORD [1.0]\n",
      "    WORD -> P1 [0.25]\n",
      "    WORD -> P1 P2 [0.25]\n",
      "    WORD -> P1 P2 P3 [0.25]\n",
      "    WORD -> P1 P2 P3 P4 [0.25]\n",
      "    P1 -> 'A' [1.0]\n",
      "    P2 -> 'B' [0.5]\n",
      "    P2 -> 'C' [0.5]\n",
      "    P3 -> 'D' [0.3]\n",
      "    P3 -> 'E' [0.3]\n",
      "    P3 -> 'F' [0.4]\n",
      "    P4 -> 'G' [0.9]\n",
      "    P4 -> 'H' [0.1]\n",
      "문자열 : A, 크기 : 1\n",
      "문자열 : AB, 크기 : 2\n",
      "문자열 : AC, 크기 : 2\n",
      "문자열 : ABD, 크기 : 3\n",
      "문자열 : ABE, 크기 : 3\n",
      "문자열 : ABF, 크기 : 3\n",
      "문자열 : ACD, 크기 : 3\n",
      "문자열 : ACE, 크기 : 3\n",
      "문자열 : ACF, 크기 : 3\n",
      "문자열 : ABDG, 크기 : 4\n"
     ]
    }
   ],
   "source": [
    "import nltk\n",
    "from nltk.parse.generate import generate\n",
    "productions = [\n",
    "\"ROOT -> WORD [1.0]\",\n",
    "\"WORD -> P1 [0.25]\",\n",
    "\"WORD -> P1 P2 [0.25]\",\n",
    "\"WORD -> P1 P2 P3 [0.25]\",\n",
    "\"WORD -> P1 P2 P3 P4 [0.25]\",\n",
    "\"P1 -> 'A' [1.0]\",\n",
    "\"P2 -> 'B' [0.5]\",\n",
    "\"P2 -> 'C' [0.5]\",\n",
    "\"P3 -> 'D' [0.3]\",\n",
    "\"P3 -> 'E' [0.3]\",\n",
    "\"P3 -> 'F' [0.4]\",\n",
    "\"P4 -> 'G' [0.9]\",\n",
    "\"P4 -> 'H' [0.1]\",\n",
    "]\n",
    "\n",
    "grammarString = \"\\n\".join(productions)\n",
    "grammar = nltk.PCFG.fromstring(grammarString)\n",
    "print(grammar)\n",
    "\n",
    "for sentence in generate(grammar, n=10, depth=5):\n",
    "    palindrome = \"\".join(sentence).replace(\" \", \"\")\n",
    "    print(\"문자열 : {}, 크기 : {}\".format(palindrome, len(palindrome)))"
   ]
  },
  {
   "cell_type": "code",
   "execution_count": null,
   "metadata": {},
   "outputs": [],
   "source": []
  },
  {
   "cell_type": "markdown",
   "metadata": {},
   "source": [
    "# 재귀 CFG 작성"
   ]
  },
  {
   "cell_type": "code",
   "execution_count": 33,
   "metadata": {},
   "outputs": [
    {
     "name": "stdout",
     "output_type": "stream",
     "text": [
      "Grammar with 3 productions (start state = ROOT)\n",
      "    ROOT -> WORD\n",
      "    WORD -> ' '\n",
      "    WORD -> '0' WORD '0'\n",
      "Palindrome : , Size : 0\n",
      "Palindrome : 00, Size : 2\n",
      "Palindrome : 0000, Size : 4\n",
      "Palindrome : 000000, Size : 6\n",
      "Palindrome : 00000000, Size : 8\n",
      "Palindrome : 0000000000, Size : 10\n",
      "Palindrome : 000000000000, Size : 12\n",
      "Palindrome : 00000000000000, Size : 14\n",
      "Palindrome : 0000000000000000, Size : 16\n",
      "Palindrome : 000000000000000000, Size : 18\n"
     ]
    }
   ],
   "source": [
    "import nltk\n",
    "import string\n",
    "from nltk.parse.generate import generate\n",
    "productions = [\n",
    "\"ROOT -> WORD\",\n",
    "\"WORD -> ' '\"\n",
    "]\n",
    "alphabets = list(string.digits)\n",
    "\n",
    "for alphabet in alphabets[:1]:\n",
    "    productions.append(\"WORD -> '{w}' WORD '{w}'\".format(w=alphabet))\n",
    "\n",
    "grammarString = \"\\n\".join(productions)\n",
    "grammar = nltk.CFG.fromstring(grammarString)\n",
    "print(grammar)\n",
    "\n",
    "for sentence in generate(grammar, n=10, depth=20):\n",
    "    palindrome = \"\".join(sentence).replace(\" \", \"\")\n",
    "    print(\"Palindrome : {}, Size : {}\".format(palindrome, len(palindrome)))"
   ]
  },
  {
   "cell_type": "code",
   "execution_count": null,
   "metadata": {},
   "outputs": [],
   "source": []
  }
 ],
 "metadata": {
  "kernelspec": {
   "display_name": "Python 3",
   "language": "python",
   "name": "python3"
  },
  "language_info": {
   "codemirror_mode": {
    "name": "ipython",
    "version": 3
   },
   "file_extension": ".py",
   "mimetype": "text/x-python",
   "name": "python",
   "nbconvert_exporter": "python",
   "pygments_lexer": "ipython3",
   "version": "3.7.3"
  }
 },
 "nbformat": 4,
 "nbformat_minor": 2
}
