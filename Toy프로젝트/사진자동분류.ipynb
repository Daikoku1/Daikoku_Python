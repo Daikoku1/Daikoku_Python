{
 "cells": [
  {
   "cell_type": "code",
   "execution_count": 2,
   "metadata": {},
   "outputs": [
    {
     "name": "stdout",
     "output_type": "stream",
     "text": [
      "Note: you may need to restart the kernel to use updated packages.\n"
     ]
    },
    {
     "name": "stderr",
     "output_type": "stream",
     "text": [
      "ERROR: Could not find a version that satisfies the requirement python (from versions: none)\n",
      "ERROR: No matching distribution found for python\n"
     ]
    }
   ],
   "source": [
    "%pip install python 3.8.0"
   ]
  },
  {
   "cell_type": "code",
   "execution_count": 1,
   "metadata": {},
   "outputs": [],
   "source": [
    "import os, datetime\n",
    "from PIL import Image\n",
    "from PIL.ExifTags import TAGS\n",
    "class classification_image:\n",
    "    def __init__(self, t_dir): # 원하는 디렉토리\n",
    "        self.t_dir = t_dir\n",
    "        self.dt_format = '%Y:%m:%d_%H:%M:%S'\n",
    "\n",
    "    def cal_gps(self, x):\n",
    "        # print(x)\n",
    "        latData = x[2]\n",
    "        lonData = x[4]\n",
    "        print(latData, lonData)\n",
    "        # 도, 분, 초 계산\n",
    "        latDeg = latData[0][0] / float(latData[0][1])\n",
    "        latMin = latData[1][0] / float(latData[1][1])\n",
    "        latSec = latData[2][0] / float(latData[2][1])\n",
    "\n",
    "        lonDeg = lonData[0][0] / float(lonData[0][1])\n",
    "        lonMin = lonData[1][0] / float(lonData[1][1])\n",
    "        lonSec = lonData[2][0] / float(lonData[2][1])\n",
    "\n",
    "        # 도, 분, 초로 나타내기\n",
    "        Lat = str(int(latDeg)) + \"°\" + str(int(latMin)) + \"'\" + str(latSec) + \"\\\"\" + x[1]\n",
    "        Lon = str(int(lonDeg)) + \"°\" + str(int(lonMin)) + \"'\" + str(lonSec) + \"\\\"\" + x[3]\n",
    "\n",
    "        # 도 decimal로 나타내기\n",
    "        # 위도 계산\n",
    "        Lat = (latDeg + (latMin + latSec / 60.0) / 60.0)\n",
    "        # 북위, 남위인지를 판단, 남위일 경우 -로 변경\n",
    "        if x[1] == 'S': Lat *= -1\n",
    "\n",
    "        # 경도 계산\n",
    "        Lon = (lonDeg + (lonMin + lonSec / 60.0) / 60.0)\n",
    "        # 동경, 서경인지를 판단, 서경일 경우 -로 변경\n",
    "        if x[3] == 'W': Lon *= -1\n",
    "\n",
    "        return Lat, Lon\n",
    "\n",
    "    def change_name(self, old_path, y, m, d, isGPSinfo):\n",
    "        new_path = os.path.join(self.t_dir, f'result\\{m}')\n",
    "        os.makedirs(new_path, exist_ok=True)\n",
    "        if not isGPSinfo: \n",
    "            extension = old_path.split('.')[-1]\n",
    "            new_file_path = os.path.join(new_path, f'{d}_.{extension}')\n",
    "            return new_file_path\n",
    "            \n",
    "    def classification(self):\n",
    "        for f_path in os.listdir(self.t_dir):\n",
    "            file = os.path.join(self.t_dir, f_path)\n",
    "            with Image.open(file) as image_info:\n",
    "                info = image_info._getexif()\n",
    "            taglabel = {}\n",
    "            print(file)\n",
    "            if not info: continue\n",
    "            taglabel = {}\n",
    "            for tag, value in info.items():\n",
    "                decoded = TAGS.get(tag, tag)\n",
    "                taglabel[decoded] = value\n",
    "\n",
    "            y, m, d = taglabel['DateTime'].split(' ')[0].split(':')\n",
    "            print(y,m,d)\n",
    "            if 'GPSInfo' not in taglabel:\n",
    "                new_file_path = self.change_name(file, y, m, d, False)\n",
    "                os.rename(file, new_file_path)\n",
    "\n",
    "            lat, lon = self.cal_gps(taglabel['GPSInfo'])\n",
    "            print('a')\n",
    "            print(lat)\n",
    "            print('b')\n",
    "            gps.append([lat, lon])\n",
    "        return gps"
   ]
  },
  {
   "cell_type": "code",
   "execution_count": 2,
   "metadata": {},
   "outputs": [
    {
     "name": "stdout",
     "output_type": "stream",
     "text": [
      "C:\\Users\\user\\Desktop\\data\\test\\1634359593352-13.jpg\n",
      "C:\\Users\\user\\Desktop\\data\\test\\1634359593352-3.jpg\n",
      "C:\\Users\\user\\Desktop\\data\\test\\20211021_224141.jpg\n",
      "2021 10 21\n"
     ]
    },
    {
     "ename": "KeyError",
     "evalue": "'GPSInfo'",
     "output_type": "error",
     "traceback": [
      "\u001b[1;31m---------------------------------------------------------------------------\u001b[0m",
      "\u001b[1;31mKeyError\u001b[0m                                  Traceback (most recent call last)",
      "\u001b[1;32m~\\AppData\\Local\\Temp/ipykernel_10004/4104152983.py\u001b[0m in \u001b[0;36m<module>\u001b[1;34m\u001b[0m\n\u001b[0;32m      1\u001b[0m \u001b[0mt_dir\u001b[0m \u001b[1;33m=\u001b[0m \u001b[1;34mr'C:\\Users\\user\\Desktop\\data\\test'\u001b[0m\u001b[1;33m\u001b[0m\u001b[1;33m\u001b[0m\u001b[0m\n\u001b[0;32m      2\u001b[0m \u001b[0msol\u001b[0m \u001b[1;33m=\u001b[0m \u001b[0mclassification_image\u001b[0m\u001b[1;33m(\u001b[0m\u001b[0mt_dir\u001b[0m\u001b[1;33m)\u001b[0m\u001b[1;33m\u001b[0m\u001b[1;33m\u001b[0m\u001b[0m\n\u001b[1;32m----> 3\u001b[1;33m \u001b[0msol\u001b[0m\u001b[1;33m.\u001b[0m\u001b[0mclassification\u001b[0m\u001b[1;33m(\u001b[0m\u001b[1;33m)\u001b[0m\u001b[1;33m\u001b[0m\u001b[1;33m\u001b[0m\u001b[0m\n\u001b[0m",
      "\u001b[1;32m~\\AppData\\Local\\Temp/ipykernel_10004/816207721.py\u001b[0m in \u001b[0;36mclassification\u001b[1;34m(self)\u001b[0m\n\u001b[0;32m     65\u001b[0m                 \u001b[0mos\u001b[0m\u001b[1;33m.\u001b[0m\u001b[0mrename\u001b[0m\u001b[1;33m(\u001b[0m\u001b[0mfile\u001b[0m\u001b[1;33m,\u001b[0m \u001b[0mnew_file_path\u001b[0m\u001b[1;33m)\u001b[0m\u001b[1;33m\u001b[0m\u001b[1;33m\u001b[0m\u001b[0m\n\u001b[0;32m     66\u001b[0m \u001b[1;33m\u001b[0m\u001b[0m\n\u001b[1;32m---> 67\u001b[1;33m             \u001b[0mlat\u001b[0m\u001b[1;33m,\u001b[0m \u001b[0mlon\u001b[0m \u001b[1;33m=\u001b[0m \u001b[0mself\u001b[0m\u001b[1;33m.\u001b[0m\u001b[0mcal_gps\u001b[0m\u001b[1;33m(\u001b[0m\u001b[0mtaglabel\u001b[0m\u001b[1;33m[\u001b[0m\u001b[1;34m'GPSInfo'\u001b[0m\u001b[1;33m]\u001b[0m\u001b[1;33m)\u001b[0m\u001b[1;33m\u001b[0m\u001b[1;33m\u001b[0m\u001b[0m\n\u001b[0m\u001b[0;32m     68\u001b[0m             \u001b[0mprint\u001b[0m\u001b[1;33m(\u001b[0m\u001b[1;34m'a'\u001b[0m\u001b[1;33m)\u001b[0m\u001b[1;33m\u001b[0m\u001b[1;33m\u001b[0m\u001b[0m\n\u001b[0;32m     69\u001b[0m             \u001b[0mprint\u001b[0m\u001b[1;33m(\u001b[0m\u001b[0mlat\u001b[0m\u001b[1;33m)\u001b[0m\u001b[1;33m\u001b[0m\u001b[1;33m\u001b[0m\u001b[0m\n",
      "\u001b[1;31mKeyError\u001b[0m: 'GPSInfo'"
     ]
    }
   ],
   "source": [
    "t_dir = r'C:\\Users\\user\\Desktop\\data\\test'\n",
    "sol = classification_image(t_dir)\n",
    "sol.classification()"
   ]
  },
  {
   "cell_type": "code",
   "execution_count": 72,
   "metadata": {},
   "outputs": [
    {
     "data": {
      "text/plain": [
       "['1634359593352-13.jpg',\n",
       " '1634359593352-3.jpg',\n",
       " '20211021_224141.jpg',\n",
       " '20211029_120940.jpg',\n",
       " '20211029_134023.jpg',\n",
       " '20211104_130032.jpg',\n",
       " '20211104_131731.jpg',\n",
       " '20211218_094404.jpg',\n",
       " '20211219_151232.jpg',\n",
       " 'result']"
      ]
     },
     "execution_count": 72,
     "metadata": {},
     "output_type": "execute_result"
    }
   ],
   "source": [
    "os.listdir(t_dir)"
   ]
  },
  {
   "cell_type": "code",
   "execution_count": 21,
   "metadata": {},
   "outputs": [
    {
     "data": {
      "text/plain": [
       "<__main__.classification_image at 0x2a685e3e370>"
      ]
     },
     "execution_count": 21,
     "metadata": {},
     "output_type": "execute_result"
    }
   ],
   "source": [
    "sol"
   ]
  },
  {
   "cell_type": "code",
   "execution_count": 71,
   "metadata": {},
   "outputs": [
    {
     "name": "stdout",
     "output_type": "stream",
     "text": [
      "C:\\Users\\user\\Desktop\\data\\test\\1634359593352-13.jpg\n",
      "a\n",
      "C:\\Users\\user\\Desktop\\data\\test\\1634359593352-3.jpg\n",
      "a\n",
      "C:\\Users\\user\\Desktop\\data\\test\\20211021_224141.jpg\n",
      "2021 10 21\n",
      "{'ImageWidth': 4032, 'ImageLength': 3024, 'ResolutionUnit': 2, 'ExifOffset': 225, 'Make': 'samsung', 'Model': 'SM-G960N', 'Software': 'G960NKSU5FUG4', 'Orientation': 6, 'YCbCrPositioning': 1, 'DateTime': '2021:10:21 22:41:41', 'XResolution': 72.0, 'YResolution': 72.0, 'ExifVersion': b'0220', 'ShutterSpeedValue': 5.91, 'ApertureValue': 2.52, 'DateTimeOriginal': '2021:10:21 22:41:41', 'DateTimeDigitized': '2021:10:21 22:41:41', 'BrightnessValue': 1.73, 'ExposureBiasValue': 0.0, 'MaxApertureValue': 1.16, 'MeteringMode': 3, 'Flash': 0, 'FlashPixVersion': b'0100', 'FocalLength': 4.3, 'UserComment': b'\\x00\\x00\\x00\\x00\\x00\\x00\\x00\\x00\\x00\\x00\\x00\\x00\\x00', 'ColorSpace': 1, 'ComponentsConfiguration': b'\\x01\\x02\\x03\\x00', 'ExifImageWidth': 4032, 'SubsecTime': '0360', 'SubsecTimeOriginal': '0360', 'SubsecTimeDigitized': '0360', 'ExifImageHeight': 3024, 'ExposureTime': 0.016666666666666666, 'ExifInteroperabilityOffset': 815, 'FNumber': 2.4, 'SceneType': b'\\x01\\x00\\x00\\x00', 'ImageUniqueID': 'H12LLKF00SM', 'ExposureProgram': 2, 'CustomRendered': 0, 'ISOSpeedRatings': 250, 'ExposureMode': 0, 'WhiteBalance': 0, 'DigitalZoomRatio': nan, 'FocalLengthIn35mmFilm': 26, 'SceneCaptureType': 0, 'Contrast': 0, 'Saturation': 0, 'Sharpness': 0}\n",
      "a\n",
      "C:\\Users\\user\\Desktop\\data\\test\\20211029_120940.jpg\n",
      "2021 10 29\n",
      "{'ImageWidth': 4032, 'ImageLength': 3024, 'ResolutionUnit': 2, 'ExifOffset': 225, 'Make': 'samsung', 'Model': 'SM-G960N', 'Software': 'G960NKSU5FUG4', 'Orientation': 3, 'YCbCrPositioning': 1, 'DateTime': '2021:10:29 12:09:40', 'XResolution': 72.0, 'YResolution': 72.0, 'ExifVersion': b'0220', 'ShutterSpeedValue': 5.91, 'ApertureValue': 2.52, 'DateTimeOriginal': '2021:10:29 12:09:40', 'DateTimeDigitized': '2021:10:29 12:09:40', 'BrightnessValue': 2.38, 'ExposureBiasValue': 0.0, 'MaxApertureValue': 1.16, 'MeteringMode': 2, 'Flash': 0, 'FlashPixVersion': b'0100', 'FocalLength': 4.3, 'UserComment': b'\\x00\\x00\\x00\\x00\\x00\\x00\\x00\\x00\\x00\\x00\\x00\\x00\\x00', 'ColorSpace': 1, 'ComponentsConfiguration': b'\\x01\\x02\\x03\\x00', 'ExifImageWidth': 4032, 'SubsecTime': '0525', 'SubsecTimeOriginal': '0525', 'SubsecTimeDigitized': '0525', 'ExifImageHeight': 3024, 'ExposureTime': 0.016666666666666666, 'ExifInteroperabilityOffset': 815, 'FNumber': 2.4, 'SceneType': b'\\x01\\x00\\x00\\x00', 'ImageUniqueID': 'H12LLKF00SM', 'ExposureProgram': 2, 'CustomRendered': 0, 'ISOSpeedRatings': 160, 'ExposureMode': 0, 'WhiteBalance': 0, 'DigitalZoomRatio': nan, 'FocalLengthIn35mmFilm': 26, 'SceneCaptureType': 0, 'Contrast': 0, 'Saturation': 0, 'Sharpness': 0}\n",
      "a\n",
      "C:\\Users\\user\\Desktop\\data\\test\\20211029_134023.jpg\n",
      "2021 10 29\n",
      "{'ImageWidth': 4032, 'ImageLength': 3024, 'ResolutionUnit': 2, 'ExifOffset': 225, 'Make': 'samsung', 'Model': 'SM-G960N', 'Software': 'G960NKSU5FUG4', 'Orientation': 6, 'YCbCrPositioning': 1, 'DateTime': '2021:10:29 13:40:23', 'XResolution': 72.0, 'YResolution': 72.0, 'ExifVersion': b'0220', 'ShutterSpeedValue': 5.91, 'ApertureValue': 2.52, 'DateTimeOriginal': '2021:10:29 13:40:23', 'DateTimeDigitized': '2021:10:29 13:40:23', 'BrightnessValue': 3.83, 'ExposureBiasValue': 0.0, 'MaxApertureValue': 1.16, 'MeteringMode': 3, 'Flash': 0, 'FlashPixVersion': b'0100', 'FocalLength': 4.3, 'UserComment': b'\\x00\\x00\\x00\\x00\\x00\\x00\\x00\\x00\\x00\\x00\\x00\\x00\\x00', 'ColorSpace': 1, 'ComponentsConfiguration': b'\\x01\\x02\\x03\\x00', 'ExifImageWidth': 4032, 'SubsecTime': '0485', 'SubsecTimeOriginal': '0485', 'SubsecTimeDigitized': '0485', 'ExifImageHeight': 3024, 'ExposureTime': 0.016666666666666666, 'ExifInteroperabilityOffset': 815, 'FNumber': 2.4, 'SceneType': b'\\x01\\x00\\x00\\x00', 'ImageUniqueID': 'H12LLKF00SM', 'ExposureProgram': 2, 'CustomRendered': 0, 'ISOSpeedRatings': 64, 'ExposureMode': 0, 'WhiteBalance': 0, 'DigitalZoomRatio': nan, 'FocalLengthIn35mmFilm': 26, 'SceneCaptureType': 0, 'Contrast': 0, 'Saturation': 0, 'Sharpness': 0}\n",
      "a\n",
      "C:\\Users\\user\\Desktop\\data\\test\\20211104_130032.jpg\n",
      "2021 11 04\n",
      "{'ImageWidth': 4032, 'ImageLength': 2268, 'ResolutionUnit': 2, 'ExifOffset': 225, 'Make': 'samsung', 'Model': 'SM-G960N', 'Software': 'G960NKSU5FUG4', 'Orientation': 3, 'YCbCrPositioning': 1, 'DateTime': '2021:11:04 13:00:32', 'XResolution': 72.0, 'YResolution': 72.0, 'ExifVersion': b'0220', 'ShutterSpeedValue': 6.91, 'ApertureValue': 2.52, 'DateTimeOriginal': '2021:11:04 13:00:32', 'DateTimeDigitized': '2021:11:04 13:00:32', 'BrightnessValue': 4.86, 'ExposureBiasValue': 0.0, 'MaxApertureValue': 1.16, 'MeteringMode': 3, 'Flash': 0, 'FlashPixVersion': b'0100', 'FocalLength': 4.3, 'UserComment': b'\\x00\\x00\\x00\\x00\\x00\\x00\\x00\\x00\\x00\\x00\\x00\\x00\\x00', 'ColorSpace': 1, 'ComponentsConfiguration': b'\\x01\\x02\\x03\\x00', 'ExifImageWidth': 4032, 'SubsecTime': '0320', 'SubsecTimeOriginal': '0320', 'SubsecTimeDigitized': '0320', 'ExifImageHeight': 2268, 'ExposureTime': 0.008333333333333333, 'ExifInteroperabilityOffset': 815, 'FNumber': 2.4, 'SceneType': b'\\x01\\x00\\x00\\x00', 'ImageUniqueID': 'H12LLKF00SM', 'ExposureProgram': 2, 'CustomRendered': 0, 'ISOSpeedRatings': 64, 'ExposureMode': 0, 'WhiteBalance': 0, 'DigitalZoomRatio': nan, 'FocalLengthIn35mmFilm': 26, 'SceneCaptureType': 0, 'Contrast': 0, 'Saturation': 0, 'Sharpness': 0}\n",
      "a\n",
      "C:\\Users\\user\\Desktop\\data\\test\\20211104_131731.jpg\n",
      "2021 11 04\n",
      "{'ImageWidth': 4032, 'ImageLength': 2268, 'ResolutionUnit': 2, 'ExifOffset': 225, 'Make': 'samsung', 'Model': 'SM-G960N', 'Software': 'G960NKSU5FUG4', 'Orientation': 6, 'YCbCrPositioning': 1, 'DateTime': '2021:11:04 13:17:31', 'XResolution': 72.0, 'YResolution': 72.0, 'ExifVersion': b'0220', 'ShutterSpeedValue': 5.91, 'ApertureValue': 2.52, 'DateTimeOriginal': '2021:11:04 13:17:31', 'DateTimeDigitized': '2021:11:04 13:17:31', 'BrightnessValue': 2.27, 'ExposureBiasValue': 0.0, 'MaxApertureValue': 1.16, 'MeteringMode': 2, 'Flash': 0, 'FlashPixVersion': b'0100', 'FocalLength': 4.3, 'UserComment': b'\\x00\\x00\\x00\\x00\\x00\\x00\\x00\\x00\\x00\\x00\\x00\\x00\\x00', 'ColorSpace': 1, 'ComponentsConfiguration': b'\\x01\\x02\\x03\\x00', 'ExifImageWidth': 4032, 'SubsecTime': '0699', 'SubsecTimeOriginal': '0699', 'SubsecTimeDigitized': '0699', 'ExifImageHeight': 2268, 'ExposureTime': 0.016666666666666666, 'ExifInteroperabilityOffset': 815, 'FNumber': 2.4, 'SceneType': b'\\x01\\x00\\x00\\x00', 'ImageUniqueID': 'H12LLKF00SM', 'ExposureProgram': 2, 'CustomRendered': 0, 'ISOSpeedRatings': 160, 'ExposureMode': 0, 'WhiteBalance': 0, 'DigitalZoomRatio': nan, 'FocalLengthIn35mmFilm': 26, 'SceneCaptureType': 0, 'Contrast': 0, 'Saturation': 0, 'Sharpness': 0}\n",
      "a\n"
     ]
    }
   ],
   "source": [
    "t_dir = r'C:\\Users\\user\\Desktop\\data\\test'\n",
    "for f_path in os.listdir(t_dir):\n",
    "    file = os.path.join(t_dir, f_path)\n",
    "    print(file)\n",
    "    image = Image.open(file)\n",
    "    info = image._getexif()\n",
    "    try:\n",
    "        taglabel = {}\n",
    "        for tag, value in info.items():\n",
    "            decoded = TAGS.get(tag, tag)\n",
    "            taglabel[decoded] = value\n",
    "            # print(tag)\n",
    "        y, m, d = taglabel['DateTime'].split(' ')[0].split(':')\n",
    "        print(y,m,d)\n",
    "        print(taglabel)\n",
    "        print(taglabel['GPSInfo'])\n",
    "        lat, lon = cal_gps(taglabel['GPSInfo'])\n",
    "    except:\n",
    "        print('a')"
   ]
  },
  {
   "cell_type": "code",
   "execution_count": 28,
   "metadata": {},
   "outputs": [
    {
     "data": {
      "text/plain": [
       "22"
      ]
     },
     "execution_count": 28,
     "metadata": {},
     "output_type": "execute_result"
    }
   ],
   "source": [
    "dt_datetime.hour"
   ]
  },
  {
   "cell_type": "code",
   "execution_count": null,
   "metadata": {},
   "outputs": [],
   "source": []
  }
 ],
 "metadata": {
  "interpreter": {
   "hash": "38d51dd8e8d25c2b4859ddf5fde4d8615b38902fd48d30a19bf46ddb81d406a6"
  },
  "kernelspec": {
   "display_name": "Python 3.9.7 64-bit (windows store)",
   "language": "python",
   "name": "python3"
  },
  "language_info": {
   "codemirror_mode": {
    "name": "ipython",
    "version": 3
   },
   "file_extension": ".py",
   "mimetype": "text/x-python",
   "name": "python",
   "nbconvert_exporter": "python",
   "pygments_lexer": "ipython3",
   "version": "3.9.7"
  },
  "orig_nbformat": 4
 },
 "nbformat": 4,
 "nbformat_minor": 2
}
