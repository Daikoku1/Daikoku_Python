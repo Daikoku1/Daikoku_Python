{
 "cells": [
  {
   "cell_type": "code",
   "execution_count": 43,
   "metadata": {},
   "outputs": [],
   "source": [
    "import os\n",
    "import glob\n",
    "\n",
    "class detect_file:\n",
    "    def __init__(self, *args): # 원하는 파일 타입\n",
    "        self.answer = {}\n",
    "        self.file_li = []\n",
    "        self.end = [*args]\n",
    "        \n",
    "    def search_file(self, path):  # 서칭하는 디렉토리명\n",
    "        to_do = [path]\n",
    "        while to_do:\n",
    "            path = to_do.pop()\n",
    "            if os.path.isfile(path):\n",
    "                for end_type in self.end:\n",
    "                    if path.endswith(end_type):\n",
    "                        self.file_li.append(path)\n",
    "            else:\n",
    "                for f_path in os.listdir(path):\n",
    "                    file = os.path.join(path, f_path)\n",
    "                    to_do.append(file)\n",
    "        return self.file_li\n",
    "    \n",
    "    def search_text(self, *args):# 찾고자 하는 문자열\n",
    "        df = pd.DataFrame(columns = ['name','index','sentence'])\n",
    "        string_li = list(args)\n",
    "        for path in self.file_li:\n",
    "            name = path.split('/')[-1]\n",
    "            f = open(path)\n",
    "            for idx, l in enumerate(f.readlines()):\n",
    "                for s in string_li:\n",
    "                    if s in l:\n",
    "                        now = {}\n",
    "                        now['name'] = name\n",
    "                        now['index'] = idx\n",
    "                        now['sentence'] = l\n",
    "                        df = df.append(now, ignore_index = True)\n",
    "        return df"
   ]
  },
  {
   "cell_type": "code",
   "execution_count": 44,
   "metadata": {},
   "outputs": [],
   "source": [
    "sol = detect_file('.txt', '.c', '.cpp', '.cs', '.py', '.html')"
   ]
  },
  {
   "cell_type": "code",
   "execution_count": 45,
   "metadata": {},
   "outputs": [
    {
     "data": {
      "text/plain": [
       "['/home/aiffel42/바탕화면/test/pavement.py',\n",
       " '/home/aiffel42/바탕화면/test/doc_requirements.txt',\n",
       " '/home/aiffel42/바탕화면/test/setup.py',\n",
       " '/home/aiffel42/바탕화면/test/index.html']"
      ]
     },
     "execution_count": 45,
     "metadata": {},
     "output_type": "execute_result"
    }
   ],
   "source": [
    "sol.search_file('/home/aiffel42/바탕화면/test')"
   ]
  },
  {
   "cell_type": "code",
   "execution_count": 46,
   "metadata": {},
   "outputs": [
    {
     "data": {
      "text/html": [
       "<div>\n",
       "<style scoped>\n",
       "    .dataframe tbody tr th:only-of-type {\n",
       "        vertical-align: middle;\n",
       "    }\n",
       "\n",
       "    .dataframe tbody tr th {\n",
       "        vertical-align: top;\n",
       "    }\n",
       "\n",
       "    .dataframe thead th {\n",
       "        text-align: right;\n",
       "    }\n",
       "</style>\n",
       "<table border=\"1\" class=\"dataframe\">\n",
       "  <thead>\n",
       "    <tr style=\"text-align: right;\">\n",
       "      <th></th>\n",
       "      <th>name</th>\n",
       "      <th>index</th>\n",
       "      <th>sentence</th>\n",
       "    </tr>\n",
       "  </thead>\n",
       "  <tbody>\n",
       "    <tr>\n",
       "      <th>0</th>\n",
       "      <td>pavement.py</td>\n",
       "      <td>260</td>\n",
       "      <td>https://google.com\\n</td>\n",
       "    </tr>\n",
       "    <tr>\n",
       "      <th>1</th>\n",
       "      <td>pavement.py</td>\n",
       "      <td>261</td>\n",
       "      <td>asdasdasdkljasdlkj/https://google2.com\\n</td>\n",
       "    </tr>\n",
       "    <tr>\n",
       "      <th>2</th>\n",
       "      <td>pavement.py</td>\n",
       "      <td>262</td>\n",
       "      <td>sadflksdjflksdjf = lkj, https://google3.com\\n</td>\n",
       "    </tr>\n",
       "    <tr>\n",
       "      <th>3</th>\n",
       "      <td>setup.py</td>\n",
       "      <td>351</td>\n",
       "      <td>into a bug, please report it at ht...</td>\n",
       "    </tr>\n",
       "    <tr>\n",
       "      <th>4</th>\n",
       "      <td>setup.py</td>\n",
       "      <td>423</td>\n",
       "      <td>return \"https://numpy.org/devdocs\"\\n</td>\n",
       "    </tr>\n",
       "    <tr>\n",
       "      <th>5</th>\n",
       "      <td>setup.py</td>\n",
       "      <td>428</td>\n",
       "      <td>return \"https://numpy.org/doc/{}.{}\".f...</td>\n",
       "    </tr>\n",
       "    <tr>\n",
       "      <th>6</th>\n",
       "      <td>setup.py</td>\n",
       "      <td>459</td>\n",
       "      <td>url=\"https://www.numpy.org\",\\n</td>\n",
       "    </tr>\n",
       "    <tr>\n",
       "      <th>7</th>\n",
       "      <td>setup.py</td>\n",
       "      <td>461</td>\n",
       "      <td>download_url=\"https://pypi.python.org/...</td>\n",
       "    </tr>\n",
       "    <tr>\n",
       "      <th>8</th>\n",
       "      <td>setup.py</td>\n",
       "      <td>463</td>\n",
       "      <td>\"Bug Tracker\": \"https://github.com...</td>\n",
       "    </tr>\n",
       "    <tr>\n",
       "      <th>9</th>\n",
       "      <td>setup.py</td>\n",
       "      <td>465</td>\n",
       "      <td>\"Source Code\": \"https://github.com...</td>\n",
       "    </tr>\n",
       "    <tr>\n",
       "      <th>10</th>\n",
       "      <td>index.html</td>\n",
       "      <td>5</td>\n",
       "      <td>&lt;script src=\"https://cdn.jsdelivr.net/npm/...</td>\n",
       "    </tr>\n",
       "  </tbody>\n",
       "</table>\n",
       "</div>"
      ],
      "text/plain": [
       "           name index                                           sentence\n",
       "0   pavement.py   260                               https://google.com\\n\n",
       "1   pavement.py   261           asdasdasdkljasdlkj/https://google2.com\\n\n",
       "2   pavement.py   262      sadflksdjflksdjf = lkj, https://google3.com\\n\n",
       "3      setup.py   351              into a bug, please report it at ht...\n",
       "4      setup.py   423               return \"https://numpy.org/devdocs\"\\n\n",
       "5      setup.py   428          return \"https://numpy.org/doc/{}.{}\".f...\n",
       "6      setup.py   459                     url=\"https://www.numpy.org\",\\n\n",
       "7      setup.py   461          download_url=\"https://pypi.python.org/...\n",
       "8      setup.py   463              \"Bug Tracker\": \"https://github.com...\n",
       "9      setup.py   465              \"Source Code\": \"https://github.com...\n",
       "10   index.html     5      <script src=\"https://cdn.jsdelivr.net/npm/..."
      ]
     },
     "execution_count": 46,
     "metadata": {},
     "output_type": "execute_result"
    }
   ],
   "source": [
    "sol.search_text('http', 'youtube')"
   ]
  }
 ],
 "metadata": {
  "kernelspec": {
   "display_name": "Python 3",
   "language": "python",
   "name": "python3"
  },
  "language_info": {
   "codemirror_mode": {
    "name": "ipython",
    "version": 3
   },
   "file_extension": ".py",
   "mimetype": "text/x-python",
   "name": "python",
   "nbconvert_exporter": "python",
   "pygments_lexer": "ipython3",
   "version": "3.8.5"
  }
 },
 "nbformat": 4,
 "nbformat_minor": 4
}
