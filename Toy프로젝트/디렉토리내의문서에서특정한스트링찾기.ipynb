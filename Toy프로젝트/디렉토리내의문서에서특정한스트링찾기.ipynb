{
 "cells": [
  {
   "cell_type": "code",
   "execution_count": 5,
   "metadata": {},
   "outputs": [],
   "source": [
    "import os, xlsxwriter\n",
    "import pandas as pd\n",
    "class detect_file:\n",
    "    def __init__(self, *args): # 원하는 파일 타입\n",
    "        self.file_li = []\n",
    "        self.end = tuple(list(args))\n",
    "        \n",
    "    def search_file(self, p):  # 서칭하는 디렉토리명\n",
    "        self.file_li = []\n",
    "        to_do = [p]\n",
    "        while to_do:\n",
    "            p = to_do.pop()\n",
    "            if os.path.isfile(p):\n",
    "                if p.endswith(self.end):\n",
    "                    self.file_li.append(p)\n",
    "            else:\n",
    "                for f_path in os.listdir(p):\n",
    "                    file = os.path.join(p, f_path)\n",
    "                    to_do.append(file)\n",
    "        return self.file_li\n",
    "            \n",
    "    def search_text(self, *args):# 찾고자 하는 문자열\n",
    "        workbook = xlsxwriter.Workbook('file_string.xlsx')\n",
    "        worksheet = workbook.add_worksheet()\n",
    "        bold = workbook.add_format({'bold': True, 'color': 'red'})\n",
    "        worksheet.write(0, 0, 'name')\n",
    "        worksheet.write(0, 1, 'line')\n",
    "        worksheet.write(0, 2, 'sentence')\n",
    "        \n",
    "        string_li = list(args)\n",
    "        cnt = 1\n",
    "        for path in self.file_li:\n",
    "            name = path.split('/')[-1]\n",
    "            f = open(path)\n",
    "            for idx, line in enumerate(f.readlines()):\n",
    "                line = line.strip()\n",
    "                for string in string_li:\n",
    "                    start = line.find(string)\n",
    "                    if start != -1:\n",
    "                        end = start + len(string)\n",
    "                        new_line = [line[:start], bold, line[start:end], line[end:]]\n",
    "\n",
    "                        # del zero string\n",
    "                        if len(new_line[-1]) == 0: new_line.pop()\n",
    "                        if len(new_line[0]) == 0: new_line.pop(0)\n",
    "                        print(new_line)                        \n",
    "                        # write excel one line\n",
    "                        worksheet.write(cnt, 0, name)\n",
    "                        worksheet.write(cnt, 1, str(idx))\n",
    "                        worksheet.write_rich_string(cnt, 2, *new_line)\n",
    "                        # for select line\n",
    "                        cnt += 1\n",
    "        workbook.close()\n",
    "        "
   ]
  },
  {
   "cell_type": "code",
   "execution_count": 6,
   "metadata": {},
   "outputs": [],
   "source": [
    "sol = detect_file('.txt', '.c', '.cpp', '.cs', '.py', '.html')"
   ]
  },
  {
   "cell_type": "code",
   "execution_count": 7,
   "metadata": {},
   "outputs": [
    {
     "data": {
      "text/plain": [
       "['/home/aiffel42/바탕화면/test/pavement.py',\n",
       " '/home/aiffel42/바탕화면/test/doc_requirements.txt',\n",
       " '/home/aiffel42/바탕화면/test/setup.py',\n",
       " '/home/aiffel42/바탕화면/test/index.html']"
      ]
     },
     "execution_count": 7,
     "metadata": {},
     "output_type": "execute_result"
    }
   ],
   "source": [
    "sol.search_file('/home/aiffel42/바탕화면/test')"
   ]
  },
  {
   "cell_type": "code",
   "execution_count": 8,
   "metadata": {},
   "outputs": [
    {
     "name": "stdout",
     "output_type": "stream",
     "text": [
      "[<xlsxwriter.format.Format object at 0x7fdde028ed60>, 'http', 's://google.com']\n",
      "['asdasdasdkljasdlkj/', <xlsxwriter.format.Format object at 0x7fdde028ed60>, 'http', 's://google2.com']\n",
      "['sadflksdjflksdjf = lkj, ', <xlsxwriter.format.Format object at 0x7fdde028ed60>, 'http', 's://google3.com']\n",
      "['into a bug, please report it at ', <xlsxwriter.format.Format object at 0x7fdde028ed60>, 'http', 's://github.com/numpy/numpy/issues.']\n",
      "['return \"', <xlsxwriter.format.Format object at 0x7fdde028ed60>, 'http', 's://numpy.org/devdocs\"']\n",
      "['return \"', <xlsxwriter.format.Format object at 0x7fdde028ed60>, 'http', 's://numpy.org/doc/{}.{}\".format(MAJOR, MINOR)']\n",
      "['url=\"', <xlsxwriter.format.Format object at 0x7fdde028ed60>, 'http', 's://www.numpy.org\",']\n",
      "['download_url=\"', <xlsxwriter.format.Format object at 0x7fdde028ed60>, 'http', 's://pypi.python.org/pypi/numpy\",']\n",
      "['\"Bug Tracker\": \"', <xlsxwriter.format.Format object at 0x7fdde028ed60>, 'http', 's://github.com/numpy/numpy/issues\",']\n",
      "['\"Source Code\": \"', <xlsxwriter.format.Format object at 0x7fdde028ed60>, 'http', 's://github.com/numpy/numpy\",']\n",
      "['<script src=\"', <xlsxwriter.format.Format object at 0x7fdde028ed60>, 'http', 's://cdn.jsdelivr.net/npm/@tensorflow/tfjs/dist/tf.min.js\"></script>']\n"
     ]
    }
   ],
   "source": [
    "sol.search_text('http', 'youtube')"
   ]
  },
  {
   "cell_type": "code",
   "execution_count": 5,
   "metadata": {},
   "outputs": [
    {
     "ename": "TypeError",
     "evalue": "endswith first arg must be str or a tuple of str, not list",
     "output_type": "error",
     "traceback": [
      "\u001b[0;31m---------------------------------------------------------------------------\u001b[0m",
      "\u001b[0;31mTypeError\u001b[0m                                 Traceback (most recent call last)",
      "\u001b[0;32m<ipython-input-5-1ee23dcb8df0>\u001b[0m in \u001b[0;36m<module>\u001b[0;34m\u001b[0m\n\u001b[1;32m      1\u001b[0m \u001b[0ms\u001b[0m \u001b[0;34m=\u001b[0m \u001b[0;34m'abcdefghijklmn'\u001b[0m\u001b[0;34m\u001b[0m\u001b[0;34m\u001b[0m\u001b[0m\n\u001b[1;32m      2\u001b[0m \u001b[0mpattern\u001b[0m \u001b[0;34m=\u001b[0m \u001b[0;34m[\u001b[0m\u001b[0;34m'lmn'\u001b[0m\u001b[0;34m,\u001b[0m \u001b[0;34m'k'\u001b[0m\u001b[0;34m]\u001b[0m\u001b[0;34m\u001b[0m\u001b[0;34m\u001b[0m\u001b[0m\n\u001b[0;32m----> 3\u001b[0;31m \u001b[0ms\u001b[0m\u001b[0;34m.\u001b[0m\u001b[0mendswith\u001b[0m\u001b[0;34m(\u001b[0m\u001b[0mpattern\u001b[0m\u001b[0;34m)\u001b[0m\u001b[0;34m\u001b[0m\u001b[0;34m\u001b[0m\u001b[0m\n\u001b[0m",
      "\u001b[0;31mTypeError\u001b[0m: endswith first arg must be str or a tuple of str, not list"
     ]
    }
   ],
   "source": [
    "s = 'abcdefghijklmn'\n",
    "pattern = ['lmn', 'k']\n",
    "s.endswith(pattern)"
   ]
  },
  {
   "cell_type": "code",
   "execution_count": null,
   "metadata": {},
   "outputs": [],
   "source": []
  }
 ],
 "metadata": {
  "kernelspec": {
   "display_name": "Python 3",
   "language": "python",
   "name": "python3"
  },
  "language_info": {
   "codemirror_mode": {
    "name": "ipython",
    "version": 3
   },
   "file_extension": ".py",
   "mimetype": "text/x-python",
   "name": "python",
   "nbconvert_exporter": "python",
   "pygments_lexer": "ipython3",
   "version": "3.8.5"
  }
 },
 "nbformat": 4,
 "nbformat_minor": 4
}
