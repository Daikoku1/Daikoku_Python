{
 "cells": [
  {
   "cell_type": "code",
   "execution_count": 10,
   "metadata": {},
   "outputs": [],
   "source": [
    "import os\n",
    "import glob\n",
    "\n",
    "class detect_file:\n",
    "    def __init__(self, *args): # 원하는 파일 타입\n",
    "        self.answer = {}\n",
    "        self.file_li = []\n",
    "        self.end = [*args]\n",
    "        \n",
    "    def search_file(self, path):  # 서칭하는 디렉토리명\n",
    "        to_do = [path]\n",
    "        while to_do:\n",
    "            p = to_do.pop()\n",
    "            if os.path.isfile(p):\n",
    "                for end_type in self.end:\n",
    "                    if p.endswith(end_type):\n",
    "                        self.file_li.append(p)\n",
    "            else:\n",
    "                for f in os.listdir(p):\n",
    "                    file_path = os.path.join(p, f)\n",
    "                    to_do.append(file_path)\n",
    "        return \n",
    "    \n",
    "    def search_text(self, *args): # 찾고자 하는 문자열\n",
    "        string_li = list(*args)\n",
    "        for path in self.file_li:\n",
    "            f = open(path)\n",
    "            for l in f.readlines():\n",
    "                if"
   ]
  },
  {
   "cell_type": "code",
   "execution_count": null,
   "metadata": {},
   "outputs": [],
   "source": [
    "search_text(*args):"
   ]
  },
  {
   "cell_type": "code",
   "execution_count": 11,
   "metadata": {},
   "outputs": [],
   "source": [
    "sol = detect_file('.txt', '.c', '.cpp', '.cs', '.py', '.html')"
   ]
  },
  {
   "cell_type": "code",
   "execution_count": 12,
   "metadata": {},
   "outputs": [
    {
     "name": "stdout",
     "output_type": "stream",
     "text": [
      "<_io.TextIOWrapper name='/home/aiffel42/바탕화면/test/pavement.py' mode='r' encoding='UTF-8'>\n",
      "r\"\"\"\n",
      "\n",
      "-------------\n",
      "<_io.TextIOWrapper name='/home/aiffel42/바탕화면/test/setup.py' mode='r' encoding='UTF-8'>\n",
      "#!/usr/bin/env python3\n",
      "\n",
      "-------------\n"
     ]
    },
    {
     "data": {
      "text/plain": [
       "['/home/aiffel42/바탕화면/test/setup.py', '/home/aiffel42/바탕화면/test/pavement.py']"
      ]
     },
     "execution_count": 12,
     "metadata": {},
     "output_type": "execute_result"
    }
   ],
   "source": [
    "sol.search_file('/home/aiffel42/바탕화면/test')"
   ]
  },
  {
   "cell_type": "code",
   "execution_count": 14,
   "metadata": {},
   "outputs": [
    {
     "data": {
      "text/plain": [
       "True"
      ]
     },
     "execution_count": 14,
     "metadata": {},
     "output_type": "execute_result"
    }
   ],
   "source": [
    "os.path.isfile('in1.txt')"
   ]
  },
  {
   "cell_type": "code",
   "execution_count": 15,
   "metadata": {},
   "outputs": [],
   "source": [
    "def search_text(*args):\n",
    "    string_li = list(args)\n",
    "    return string_li"
   ]
  },
  {
   "cell_type": "code",
   "execution_count": 16,
   "metadata": {},
   "outputs": [
    {
     "data": {
      "text/plain": [
       "['https://', 'google']"
      ]
     },
     "execution_count": 16,
     "metadata": {},
     "output_type": "execute_result"
    }
   ],
   "source": [
    "search_text('https://', 'google')"
   ]
  },
  {
   "cell_type": "code",
   "execution_count": null,
   "metadata": {},
   "outputs": [],
   "source": []
  }
 ],
 "metadata": {
  "kernelspec": {
   "display_name": "Python 3",
   "language": "python",
   "name": "python3"
  },
  "language_info": {
   "codemirror_mode": {
    "name": "ipython",
    "version": 3
   },
   "file_extension": ".py",
   "mimetype": "text/x-python",
   "name": "python",
   "nbconvert_exporter": "python",
   "pygments_lexer": "ipython3",
   "version": "3.8.5"
  }
 },
 "nbformat": 4,
 "nbformat_minor": 4
}
