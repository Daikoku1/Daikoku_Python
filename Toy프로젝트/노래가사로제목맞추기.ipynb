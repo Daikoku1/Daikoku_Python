{
  "nbformat": 4,
  "nbformat_minor": 0,
  "metadata": {
    "colab": {
      "name": "박승_프로젝트.ipynb",
      "provenance": [],
      "collapsed_sections": []
    },
    "kernelspec": {
      "name": "python3",
      "display_name": "Python 3"
    }
  },
  "cells": [
    {
      "cell_type": "code",
      "metadata": {
        "id": "5IbfPJDkZnmC",
        "outputId": "9b29828f-8fd1-42b4-88ca-ea4b64f695a3",
        "colab": {
          "base_uri": "https://localhost:8080/",
          "height": 127
        }
      },
      "source": [
        "from google.colab import drive\n",
        "drive.mount('/content/drive')"
      ],
      "execution_count": null,
      "outputs": [
        {
          "output_type": "stream",
          "text": [
            "Go to this URL in a browser: https://accounts.google.com/o/oauth2/auth?client_id=947318989803-6bn6qk8qdgf4n4g3pfee6491hc0brc4i.apps.googleusercontent.com&redirect_uri=urn%3aietf%3awg%3aoauth%3a2.0%3aoob&response_type=code&scope=email%20https%3a%2f%2fwww.googleapis.com%2fauth%2fdocs.test%20https%3a%2f%2fwww.googleapis.com%2fauth%2fdrive%20https%3a%2f%2fwww.googleapis.com%2fauth%2fdrive.photos.readonly%20https%3a%2f%2fwww.googleapis.com%2fauth%2fpeopleapi.readonly\n",
            "\n",
            "Enter your authorization code:\n",
            "··········\n",
            "Mounted at /content/drive\n"
          ],
          "name": "stdout"
        }
      ]
    },
    {
      "cell_type": "code",
      "metadata": {
        "id": "BPNrxFNBan-n",
        "outputId": "6bebf7f8-e307-4c6e-beee-0ae8e4739d0b",
        "colab": {
          "base_uri": "https://localhost:8080/",
          "height": 107
        }
      },
      "source": [
        "pip install mutagen"
      ],
      "execution_count": null,
      "outputs": [
        {
          "output_type": "stream",
          "text": [
            "Collecting mutagen\n",
            "\u001b[?25l  Downloading https://files.pythonhosted.org/packages/08/34/e68d377ab1375af21feef9226d778ed3e6618b2f572538a85fc7c8ae9a4b/mutagen-1.43.0-py2.py3-none-any.whl (212kB)\n",
            "\r\u001b[K     |█▌                              | 10kB 20.3MB/s eta 0:00:01\r\u001b[K     |███                             | 20kB 6.2MB/s eta 0:00:01\r\u001b[K     |████▋                           | 30kB 8.8MB/s eta 0:00:01\r\u001b[K     |██████▏                         | 40kB 5.6MB/s eta 0:00:01\r\u001b[K     |███████▊                        | 51kB 6.8MB/s eta 0:00:01\r\u001b[K     |█████████▎                      | 61kB 8.1MB/s eta 0:00:01\r\u001b[K     |██████████▉                     | 71kB 9.2MB/s eta 0:00:01\r\u001b[K     |████████████▎                   | 81kB 10.3MB/s eta 0:00:01\r\u001b[K     |█████████████▉                  | 92kB 11.4MB/s eta 0:00:01\r\u001b[K     |███████████████▍                | 102kB 8.9MB/s eta 0:00:01\r\u001b[K     |█████████████████               | 112kB 8.9MB/s eta 0:00:01\r\u001b[K     |██████████████████▌             | 122kB 8.9MB/s eta 0:00:01\r\u001b[K     |████████████████████            | 133kB 8.9MB/s eta 0:00:01\r\u001b[K     |█████████████████████▋          | 143kB 8.9MB/s eta 0:00:01\r\u001b[K     |███████████████████████         | 153kB 8.9MB/s eta 0:00:01\r\u001b[K     |████████████████████████▋       | 163kB 8.9MB/s eta 0:00:01\r\u001b[K     |██████████████████████████▏     | 174kB 8.9MB/s eta 0:00:01\r\u001b[K     |███████████████████████████▊    | 184kB 8.9MB/s eta 0:00:01\r\u001b[K     |█████████████████████████████▎  | 194kB 8.9MB/s eta 0:00:01\r\u001b[K     |██████████████████████████████▉ | 204kB 8.9MB/s eta 0:00:01\r\u001b[K     |████████████████████████████████| 215kB 8.9MB/s \n",
            "\u001b[?25hInstalling collected packages: mutagen\n",
            "Successfully installed mutagen-1.43.0\n"
          ],
          "name": "stdout"
        }
      ]
    },
    {
      "cell_type": "code",
      "metadata": {
        "id": "tBxoBVOBduVq"
      },
      "source": [
        "from os import listdir\n",
        "from mutagen.mp3 import MP3\n",
        "from os.path import join\n",
        "import random\n",
        "import re\n",
        "class random_song():\n",
        "\n",
        "  def __init__(self, source_folder):\n",
        "    self.source_folder = source_folder\n",
        "    self.song_list = [f for f in listdir(source_folder)]\n",
        "    self.Q_list = []\n",
        "  \n",
        "  def nlp(self, a_list):\n",
        "    for i in a_list:\n",
        "      if i == '':\n",
        "        a_list.remove(i)\n",
        "      elif re.match(' ', i):\n",
        "        a_list.remove(i)\n",
        "    return a_list\n",
        "\n",
        "  def random_list(self):\n",
        "    length = len(self.song_list)\n",
        "    num = random.randint(0, length-1)\n",
        "    song_name = self.song_list.pop(num)\n",
        "    filepath = join(self.source_folder, song_name)\n",
        "    mp3 = MP3(filepath)\n",
        "    try:\n",
        "      lylic = mp3['USLT::kor']\n",
        "    except:\n",
        "      lylic = mp3['USLT::eng']\n",
        "    if str(lylic.encoding) == 'Encoding.LATIN1':\n",
        "      lylic = bytes(lylic.text,'iso-8859-1').decode('euc-kr')\n",
        "    else:\n",
        "      lylic = lylic.text\n",
        "\n",
        "    lylic = re.sub('(\\r\\n)+|(\\n)+|(\\r)+', '@', lylic)\n",
        "    lylic_list = lylic.split('@')\n",
        "    lylic_list = self.nlp(lylic_list)\n",
        "    try:\n",
        "      lylic_list[0] = re.sub('\\ufeff', '', lylic_list[0])\n",
        "    except:\n",
        "      pass\n",
        "\n",
        "    self.Q_list = [lylic_list, song_name]\n",
        "    return [lylic_list, song_name]\n",
        "\n",
        "  def make_q(self, num):\n",
        "    if self.Q_list:\n",
        "      Q_A = self.Q_list.pop(0)\n",
        "      if type(Q_A) == list:\n",
        "        random_number = random.randint(0, len(Q_A) - (num+1))\n",
        "        question = []\n",
        "        for i in range(num):\n",
        "          question.append(Q_A[i + random_number])\n",
        "        return question\n",
        "      else:\n",
        "        return Q_A\n",
        "    else:\n",
        "      self.random_list()\n",
        "      return self.make_q(num)"
      ],
      "execution_count": null,
      "outputs": []
    },
    {
      "cell_type": "code",
      "metadata": {
        "id": "mwuMb6AHejKT"
      },
      "source": [
        "aaa = '/content/drive/My Drive/Data/park'\n",
        "bbb = random_song(aaa)"
      ],
      "execution_count": null,
      "outputs": []
    },
    {
      "cell_type": "code",
      "metadata": {
        "id": "6odeC46PfKIi",
        "outputId": "0232280d-dd3c-47c7-a61d-f5c9fa44c26d",
        "colab": {
          "base_uri": "https://localhost:8080/",
          "height": 35
        }
      },
      "source": [
        "bbb.make_q(2)"
      ],
      "execution_count": null,
      "outputs": [
        {
          "output_type": "execute_result",
          "data": {
            "text/plain": [
              "['철없던 사람아', '그대는 나의 모든 것을 앗으려']"
            ]
          },
          "metadata": {
            "tags": []
          },
          "execution_count": 80
        }
      ]
    },
    {
      "cell_type": "code",
      "metadata": {
        "id": "Q1naIg2X7DJl",
        "outputId": "4fde6443-11e4-4958-a464-e0fed79d206f",
        "colab": {
          "base_uri": "https://localhost:8080/",
          "height": 35
        }
      },
      "source": [
        "bbb.make_q(2)"
      ],
      "execution_count": null,
      "outputs": [
        {
          "output_type": "execute_result",
          "data": {
            "text/plain": [
              "'아이유-01-나의 옛날이야기.mp3'"
            ]
          },
          "metadata": {
            "tags": []
          },
          "execution_count": 81
        }
      ]
    },
    {
      "cell_type": "code",
      "metadata": {
        "id": "Z6LE1JKx7DNd",
        "outputId": "8fb40723-9a3e-4272-ffa0-d30ad7ef952d",
        "colab": {
          "base_uri": "https://localhost:8080/",
          "height": 35
        }
      },
      "source": [
        "bbb.make_q(3)"
      ],
      "execution_count": null,
      "outputs": [
        {
          "output_type": "execute_result",
          "data": {
            "text/plain": [
              "['쿵 내려앉으면은 그건 너', '축 머금고 있다면 그건 너', '둥 울림이 생긴다면 그건 너']"
            ]
          },
          "metadata": {
            "tags": []
          },
          "execution_count": 82
        }
      ]
    },
    {
      "cell_type": "code",
      "metadata": {
        "id": "R992N9Ce7DQM",
        "outputId": "9adc8fc6-0b76-40e3-a59d-f70f1f3be621",
        "colab": {
          "base_uri": "https://localhost:8080/",
          "height": 35
        }
      },
      "source": [
        "bbb.make_q(3)"
      ],
      "execution_count": null,
      "outputs": [
        {
          "output_type": "execute_result",
          "data": {
            "text/plain": [
              "'아이유-01-마음-128.mp3'"
            ]
          },
          "metadata": {
            "tags": []
          },
          "execution_count": 83
        }
      ]
    },
    {
      "cell_type": "code",
      "metadata": {
        "id": "QmMe7Xtn7Dfg",
        "outputId": "34a95850-4843-4a95-e3f4-22817eed3548",
        "colab": {
          "base_uri": "https://localhost:8080/",
          "height": 35
        }
      },
      "source": [
        "bbb.make_q(2)"
      ],
      "execution_count": null,
      "outputs": [
        {
          "output_type": "execute_result",
          "data": {
            "text/plain": [
              "['어떤가요 그댄 어떤가요 그댄', '당신도 나와 같나요 어떤가요 그댄']"
            ]
          },
          "metadata": {
            "tags": []
          },
          "execution_count": 68
        }
      ]
    },
    {
      "cell_type": "code",
      "metadata": {
        "id": "fPd_1x7m7DoZ",
        "outputId": "a0e2f66e-943d-4250-8e01-6612567fc64b",
        "colab": {
          "base_uri": "https://localhost:8080/",
          "height": 35
        }
      },
      "source": [
        "bbb.make_q(2)"
      ],
      "execution_count": null,
      "outputs": [
        {
          "output_type": "execute_result",
          "data": {
            "text/plain": [
              "'넬-03-기억을 걷는 시간-320k.mp3'"
            ]
          },
          "metadata": {
            "tags": []
          },
          "execution_count": 69
        }
      ]
    },
    {
      "cell_type": "code",
      "metadata": {
        "id": "PdO0p7vd7DrR",
        "outputId": "b72a54b4-4875-4ae7-c811-40f95293421c",
        "colab": {
          "base_uri": "https://localhost:8080/",
          "height": 35
        }
      },
      "source": [
        "bbb.make_q(2)"
      ],
      "execution_count": null,
      "outputs": [
        {
          "output_type": "execute_result",
          "data": {
            "text/plain": [
              "['I get ', 'Without giving anything to me ']"
            ]
          },
          "metadata": {
            "tags": []
          },
          "execution_count": 70
        }
      ]
    },
    {
      "cell_type": "code",
      "metadata": {
        "id": "u4ItIurC7DwH",
        "outputId": "205bf762-74e7-4e43-8443-2bbb3039049a",
        "colab": {
          "base_uri": "https://localhost:8080/",
          "height": 35
        }
      },
      "source": [
        "bbb.make_q(2)"
      ],
      "execution_count": null,
      "outputs": [
        {
          "output_type": "execute_result",
          "data": {
            "text/plain": [
              "'Damien Rice-05-Dogs-9-128.mp3'"
            ]
          },
          "metadata": {
            "tags": []
          },
          "execution_count": 71
        }
      ]
    },
    {
      "cell_type": "code",
      "metadata": {
        "id": "I0Qct-OO7O37",
        "outputId": "cda550aa-9462-47a7-a829-06004d7f5c8b",
        "colab": {
          "base_uri": "https://localhost:8080/",
          "height": 35
        }
      },
      "source": [
        "bbb.make_q(2)"
      ],
      "execution_count": null,
      "outputs": [
        {
          "output_type": "execute_result",
          "data": {
            "text/plain": [
              "['제게 대답하지 않으셔도 돼요', '달래주지 않으셔도']"
            ]
          },
          "metadata": {
            "tags": []
          },
          "execution_count": 72
        }
      ]
    },
    {
      "cell_type": "code",
      "metadata": {
        "id": "L17xx_1r7Uhk",
        "outputId": "9a508f51-05a3-46c2-87d0-e6cee23e64d8",
        "colab": {
          "base_uri": "https://localhost:8080/",
          "height": 35
        }
      },
      "source": [
        "bbb.make_q(2)"
      ],
      "execution_count": null,
      "outputs": [
        {
          "output_type": "execute_result",
          "data": {
            "text/plain": [
              "'아이유-01-마음-128.mp3'"
            ]
          },
          "metadata": {
            "tags": []
          },
          "execution_count": 73
        }
      ]
    },
    {
      "cell_type": "code",
      "metadata": {
        "id": "0PHFTRBT7Uyq",
        "outputId": "75196605-51fc-49a0-ddd6-04a357b580c0",
        "colab": {
          "base_uri": "https://localhost:8080/",
          "height": 35
        }
      },
      "source": [
        "bbb.make_q(2)"
      ],
      "execution_count": null,
      "outputs": [
        {
          "output_type": "execute_result",
          "data": {
            "text/plain": [
              "['하나 무정한 사람아', '수줍어서 말 못했나 내가 싫어 말']"
            ]
          },
          "metadata": {
            "tags": []
          },
          "execution_count": 74
        }
      ]
    },
    {
      "cell_type": "code",
      "metadata": {
        "id": "dOP30yrZ7VCS",
        "outputId": "a50cc8ae-49d7-4be7-f6fa-6568b116aa21",
        "colab": {
          "base_uri": "https://localhost:8080/",
          "height": 35
        }
      },
      "source": [
        "bbb.make_q(2)"
      ],
      "execution_count": null,
      "outputs": [
        {
          "output_type": "execute_result",
          "data": {
            "text/plain": [
              "'Above Envy-01-The One (엔제리너스커피 CF 배경음악).mp3'"
            ]
          },
          "metadata": {
            "tags": []
          },
          "execution_count": 61
        }
      ]
    },
    {
      "cell_type": "code",
      "metadata": {
        "id": "swdF7UjV7VL6",
        "outputId": "6a5fc8ab-f916-4c41-8b3e-79c0dafe1d2e",
        "colab": {
          "base_uri": "https://localhost:8080/",
          "height": 53
        }
      },
      "source": [
        "bbb.make_q(2)"
      ],
      "execution_count": null,
      "outputs": [
        {
          "output_type": "stream",
          "text": [
            "a\n"
          ],
          "name": "stdout"
        },
        {
          "output_type": "execute_result",
          "data": {
            "text/plain": [
              "['Staying up playing back', 'myself pleading']"
            ]
          },
          "metadata": {
            "tags": []
          },
          "execution_count": 46
        }
      ]
    },
    {
      "cell_type": "code",
      "metadata": {
        "id": "Q3rTcJxZ7WGK",
        "outputId": "c03f534e-8de1-408c-fc04-2090672d494b",
        "colab": {
          "base_uri": "https://localhost:8080/",
          "height": 35
        }
      },
      "source": [
        "bbb.make_q(2)"
      ],
      "execution_count": null,
      "outputs": [
        {
          "output_type": "execute_result",
          "data": {
            "text/plain": [
              "'Taylor Swift-03-Back To December.mp3'"
            ]
          },
          "metadata": {
            "tags": []
          },
          "execution_count": 47
        }
      ]
    },
    {
      "cell_type": "code",
      "metadata": {
        "id": "gSG3j8s47WPt",
        "outputId": "63fe1492-4c19-4b24-9197-c59188cdfdc6",
        "colab": {
          "base_uri": "https://localhost:8080/",
          "height": 35
        }
      },
      "source": [
        "bbb.make_q(2)"
      ],
      "execution_count": null,
      "outputs": [
        {
          "output_type": "execute_result",
          "data": {
            "text/plain": [
              "['자꾸만 가슴이 미어져', '랄라라라라라라라 랄라라라랄라라라 랄라라라랄라라라 라']"
            ]
          },
          "metadata": {
            "tags": []
          },
          "execution_count": 27
        }
      ]
    },
    {
      "cell_type": "code",
      "metadata": {
        "id": "4aFDTau87W8S",
        "outputId": "4ae19858-24af-4e03-f5b6-7c3b421b8376",
        "colab": {
          "base_uri": "https://localhost:8080/",
          "height": 35
        }
      },
      "source": [
        "bbb.make_q(2)\n"
      ],
      "execution_count": null,
      "outputs": [
        {
          "output_type": "execute_result",
          "data": {
            "text/plain": [
              "'넬-03-기억을 걷는 시간-320k.mp3'"
            ]
          },
          "metadata": {
            "tags": []
          },
          "execution_count": 28
        }
      ]
    },
    {
      "cell_type": "code",
      "metadata": {
        "id": "WSvgDntT7X-S",
        "outputId": "73d007a5-4126-481d-d7a2-dd3f23f08d0e",
        "colab": {
          "base_uri": "https://localhost:8080/",
          "height": 35
        }
      },
      "source": [
        "bbb.make_q(2)\n"
      ],
      "execution_count": null,
      "outputs": [
        {
          "output_type": "execute_result",
          "data": {
            "text/plain": [
              "['아픈 기분이 드는 건', '그 때문이겠죠']"
            ]
          },
          "metadata": {
            "tags": []
          },
          "execution_count": 29
        }
      ]
    },
    {
      "cell_type": "code",
      "metadata": {
        "id": "hHQ9Me357YRi",
        "outputId": "b07f75a0-36ed-47de-8415-c2e6481a75b3",
        "colab": {
          "base_uri": "https://localhost:8080/",
          "height": 35
        }
      },
      "source": [
        "bbb.make_q(2)"
      ],
      "execution_count": null,
      "outputs": [
        {
          "output_type": "execute_result",
          "data": {
            "text/plain": [
              "'아이유-01-마음-128.mp3'"
            ]
          },
          "metadata": {
            "tags": []
          },
          "execution_count": 30
        }
      ]
    }
  ]
}