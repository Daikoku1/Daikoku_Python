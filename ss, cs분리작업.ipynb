{
 "cells": [
  {
   "cell_type": "code",
   "execution_count": 8,
   "metadata": {},
   "outputs": [
    {
     "data": {
      "text/html": [
       "<div>\n",
       "<style scoped>\n",
       "    .dataframe tbody tr th:only-of-type {\n",
       "        vertical-align: middle;\n",
       "    }\n",
       "\n",
       "    .dataframe tbody tr th {\n",
       "        vertical-align: top;\n",
       "    }\n",
       "\n",
       "    .dataframe thead th {\n",
       "        text-align: right;\n",
       "    }\n",
       "</style>\n",
       "<table border=\"1\" class=\"dataframe\">\n",
       "  <thead>\n",
       "    <tr style=\"text-align: right;\">\n",
       "      <th></th>\n",
       "      <th>product_name</th>\n",
       "      <th>review</th>\n",
       "      <th>review_date</th>\n",
       "      <th>score</th>\n",
       "      <th>user</th>\n",
       "    </tr>\n",
       "  </thead>\n",
       "  <tbody>\n",
       "    <tr>\n",
       "      <th>0</th>\n",
       "      <td>Canon EOS Rebel T6 DSLR Camera with 18-55mm IS...</td>\n",
       "      <td>I love this camera. I've been a longtime fan o...</td>\n",
       "      <td>July 23, 2018</td>\n",
       "      <td>5.0 out of 5 stars</td>\n",
       "      <td>Elizabeth Bonecher-Brenaman</td>\n",
       "    </tr>\n",
       "    <tr>\n",
       "      <th>1</th>\n",
       "      <td>Canon EOS Rebel T6 DSLR Camera with 18-55mm IS...</td>\n",
       "      <td>I absolutely love this camera! I was extremely...</td>\n",
       "      <td>May 6, 2018</td>\n",
       "      <td>5.0 out of 5 stars</td>\n",
       "      <td>Lisa F.</td>\n",
       "    </tr>\n",
       "    <tr>\n",
       "      <th>2</th>\n",
       "      <td>Canon EOS Rebel T6 DSLR Camera with 18-55mm IS...</td>\n",
       "      <td>This is an amazing deal. I've been shopping ar...</td>\n",
       "      <td>June 7, 2018</td>\n",
       "      <td>5.0 out of 5 stars</td>\n",
       "      <td>michs</td>\n",
       "    </tr>\n",
       "    <tr>\n",
       "      <th>3</th>\n",
       "      <td>Canon EOS Rebel T6 DSLR Camera with 18-55mm IS...</td>\n",
       "      <td>I recently wrote a review and gave this item 4...</td>\n",
       "      <td>June 16, 2018</td>\n",
       "      <td>5.0 out of 5 stars</td>\n",
       "      <td>Richard Pe챰a</td>\n",
       "    </tr>\n",
       "    <tr>\n",
       "      <th>4</th>\n",
       "      <td>Canon EOS Rebel T6 DSLR Camera with 18-55mm IS...</td>\n",
       "      <td>This is my first DSLR camera.  I bought this t...</td>\n",
       "      <td>August 19, 2018</td>\n",
       "      <td>5.0 out of 5 stars</td>\n",
       "      <td>Hammikin Skywalker</td>\n",
       "    </tr>\n",
       "  </tbody>\n",
       "</table>\n",
       "</div>"
      ],
      "text/plain": [
       "                                        product_name  \\\n",
       "0  Canon EOS Rebel T6 DSLR Camera with 18-55mm IS...   \n",
       "1  Canon EOS Rebel T6 DSLR Camera with 18-55mm IS...   \n",
       "2  Canon EOS Rebel T6 DSLR Camera with 18-55mm IS...   \n",
       "3  Canon EOS Rebel T6 DSLR Camera with 18-55mm IS...   \n",
       "4  Canon EOS Rebel T6 DSLR Camera with 18-55mm IS...   \n",
       "\n",
       "                                              review      review_date  \\\n",
       "0  I love this camera. I've been a longtime fan o...    July 23, 2018   \n",
       "1  I absolutely love this camera! I was extremely...      May 6, 2018   \n",
       "2  This is an amazing deal. I've been shopping ar...     June 7, 2018   \n",
       "3  I recently wrote a review and gave this item 4...    June 16, 2018   \n",
       "4  This is my first DSLR camera.  I bought this t...  August 19, 2018   \n",
       "\n",
       "                score                         user  \n",
       "0  5.0 out of 5 stars  Elizabeth Bonecher-Brenaman  \n",
       "1  5.0 out of 5 stars                      Lisa F.  \n",
       "2  5.0 out of 5 stars                        michs  \n",
       "3  5.0 out of 5 stars                 Richard Pe챰a  \n",
       "4  5.0 out of 5 stars           Hammikin Skywalker  "
      ]
     },
     "execution_count": 8,
     "metadata": {},
     "output_type": "execute_result"
    }
   ],
   "source": [
    "import pandas as pd\n",
    "from nltk import sent_tokenize\n",
    "# encoding 문제시, engine = 'python' 입력할 것\n",
    "data = pd.read_csv('amazon_test.csv', engine = 'python')\n",
    "data.head()"
   ]
  },
  {
   "cell_type": "code",
   "execution_count": 14,
   "metadata": {},
   "outputs": [],
   "source": [
    "# score 정리\n",
    "test_data = data.copy()\n",
    "test_data['score'] = test_data['score'].apply(lambda x : x.split(' ')[0])"
   ]
  },
  {
   "cell_type": "code",
   "execution_count": 15,
   "metadata": {},
   "outputs": [
    {
     "data": {
      "text/html": [
       "<div>\n",
       "<style scoped>\n",
       "    .dataframe tbody tr th:only-of-type {\n",
       "        vertical-align: middle;\n",
       "    }\n",
       "\n",
       "    .dataframe tbody tr th {\n",
       "        vertical-align: top;\n",
       "    }\n",
       "\n",
       "    .dataframe thead th {\n",
       "        text-align: right;\n",
       "    }\n",
       "</style>\n",
       "<table border=\"1\" class=\"dataframe\">\n",
       "  <thead>\n",
       "    <tr style=\"text-align: right;\">\n",
       "      <th></th>\n",
       "      <th>product_name</th>\n",
       "      <th>review</th>\n",
       "      <th>review_date</th>\n",
       "      <th>score</th>\n",
       "      <th>user</th>\n",
       "    </tr>\n",
       "  </thead>\n",
       "  <tbody>\n",
       "    <tr>\n",
       "      <th>0</th>\n",
       "      <td>Canon EOS Rebel T6 DSLR Camera with 18-55mm IS...</td>\n",
       "      <td>I love this camera. I've been a longtime fan o...</td>\n",
       "      <td>July 23, 2018</td>\n",
       "      <td>5.0</td>\n",
       "      <td>Elizabeth Bonecher-Brenaman</td>\n",
       "    </tr>\n",
       "    <tr>\n",
       "      <th>1</th>\n",
       "      <td>Canon EOS Rebel T6 DSLR Camera with 18-55mm IS...</td>\n",
       "      <td>I absolutely love this camera! I was extremely...</td>\n",
       "      <td>May 6, 2018</td>\n",
       "      <td>5.0</td>\n",
       "      <td>Lisa F.</td>\n",
       "    </tr>\n",
       "    <tr>\n",
       "      <th>2</th>\n",
       "      <td>Canon EOS Rebel T6 DSLR Camera with 18-55mm IS...</td>\n",
       "      <td>This is an amazing deal. I've been shopping ar...</td>\n",
       "      <td>June 7, 2018</td>\n",
       "      <td>5.0</td>\n",
       "      <td>michs</td>\n",
       "    </tr>\n",
       "    <tr>\n",
       "      <th>3</th>\n",
       "      <td>Canon EOS Rebel T6 DSLR Camera with 18-55mm IS...</td>\n",
       "      <td>I recently wrote a review and gave this item 4...</td>\n",
       "      <td>June 16, 2018</td>\n",
       "      <td>5.0</td>\n",
       "      <td>Richard Pe챰a</td>\n",
       "    </tr>\n",
       "    <tr>\n",
       "      <th>4</th>\n",
       "      <td>Canon EOS Rebel T6 DSLR Camera with 18-55mm IS...</td>\n",
       "      <td>This is my first DSLR camera.  I bought this t...</td>\n",
       "      <td>August 19, 2018</td>\n",
       "      <td>5.0</td>\n",
       "      <td>Hammikin Skywalker</td>\n",
       "    </tr>\n",
       "  </tbody>\n",
       "</table>\n",
       "</div>"
      ],
      "text/plain": [
       "                                        product_name  \\\n",
       "0  Canon EOS Rebel T6 DSLR Camera with 18-55mm IS...   \n",
       "1  Canon EOS Rebel T6 DSLR Camera with 18-55mm IS...   \n",
       "2  Canon EOS Rebel T6 DSLR Camera with 18-55mm IS...   \n",
       "3  Canon EOS Rebel T6 DSLR Camera with 18-55mm IS...   \n",
       "4  Canon EOS Rebel T6 DSLR Camera with 18-55mm IS...   \n",
       "\n",
       "                                              review      review_date score  \\\n",
       "0  I love this camera. I've been a longtime fan o...    July 23, 2018   5.0   \n",
       "1  I absolutely love this camera! I was extremely...      May 6, 2018   5.0   \n",
       "2  This is an amazing deal. I've been shopping ar...     June 7, 2018   5.0   \n",
       "3  I recently wrote a review and gave this item 4...    June 16, 2018   5.0   \n",
       "4  This is my first DSLR camera.  I bought this t...  August 19, 2018   5.0   \n",
       "\n",
       "                          user  \n",
       "0  Elizabeth Bonecher-Brenaman  \n",
       "1                      Lisa F.  \n",
       "2                        michs  \n",
       "3                 Richard Pe챰a  \n",
       "4           Hammikin Skywalker  "
      ]
     },
     "execution_count": 15,
     "metadata": {},
     "output_type": "execute_result"
    }
   ],
   "source": [
    "test_data.head()"
   ]
  },
  {
   "cell_type": "code",
   "execution_count": 16,
   "metadata": {},
   "outputs": [
    {
     "data": {
      "text/plain": [
       "\"I love this camera. I've been a longtime fan of canon rebel SLR. I was worried the digital model wouldn't live up to its predecessor. My worries were unfounded. Everything about this camera is wonderful. Easy to figure out (even for an old lady like me). I recommend spending several days with the camera just trying out all the features and functions before using it for an important event, because there are so many enhancements and possibilities. You COULD just put it on auto and get fantastic pictures, but then what would be the point of buying a camera with so many great features? The lenses included in this bundle are all great. The 500mm, I didn't think I'd use, but it's been so fun taking pics of the moon. It takes time to get used to the light balance if you are used to film cameras, so practice with it if that's how you started. If you started on digital cameras, you won't have any problems. The camera bag is too small to hold everything that comes with it, so if you want to take everything with you, get a bigger bag. The bag isn't waterproof, either. Just water resistant. So a good, large, waterproof camera bag is a good additional purchase. You can't go wrong with this bundle. I was so nervous buying something this expensive online, but I'm so happy I bought it.Included a few photos I've taken with it since buying it in June. The moon is with 500mm lens, manual setting w/250 shutter speed (on tripod using the included shutter cord/button). The other pics are in Colorado.\""
      ]
     },
     "execution_count": 16,
     "metadata": {},
     "output_type": "execute_result"
    }
   ],
   "source": [
    "# test용 코드\n",
    "text = test_data.loc[0, 'review']\n",
    "text"
   ]
  },
  {
   "cell_type": "code",
   "execution_count": 21,
   "metadata": {
    "scrolled": true
   },
   "outputs": [],
   "source": [
    "def pre_processing(data):\n",
    "    data['score'] = data['score'].apply(lambda x : x.split(' ')[0])\n",
    "    result = []\n",
    "    for i in range(len(data)):\n",
    "        product = data.loc[i, 'product_name']\n",
    "        date = data.loc[i, 'review_date']\n",
    "        score = data.loc[i, 'score']\n",
    "        user = data.loc[i, 'user']\n",
    "        text = data.loc[i, 'review']\n",
    "\n",
    "        Sentences_list = sent_tokenize(text)\n",
    "        for txt in Sentences_list:\n",
    "            dict_n = {\n",
    "                'product' : product,\n",
    "                'date' : date,\n",
    "                'score' : score,\n",
    "                'user' : user,\n",
    "                'review' : txt\n",
    "            }\n",
    "            result.append(dict_n)\n",
    "\n",
    "    df = pd.DataFrame(result)\n",
    "    return df"
   ]
  },
  {
   "cell_type": "code",
   "execution_count": null,
   "metadata": {},
   "outputs": [],
   "source": [
    "b = [' AimieeDawn 5.0 out of 5 stars Best gift ever July 18, 2019 Verified Purchase Bought for my little sister for her birthday, completely obsessed with it.', 'Easy to use for beginners.', 'Read more Helpful Comment Report abuse', ' Jamie Dears 5.0 out of 5 stars Easy to use.', 'June 3, 2019 Verified Purchase I bought this camera for my grandson to take to camp.', 'It was easy for home to use and the battery lasted a long time.', 'Read more Helpful Comment Report abuse']\n"
   ]
  },
  {
   "cell_type": "code",
   "execution_count": null,
   "metadata": {},
   "outputs": [],
   "source": [
    "result = []\n",
    "for i in range(len(data)):\n",
    "    product = test_data.loc[i, 'product_name']\n",
    "    date = test_data.loc[i, 'review_date']\n",
    "    score = test_data.loc[i, 'score']\n",
    "    user = test_data.loc[i, 'user']\n",
    "\n",
    "    text = test_data.loc[i, 'review']\n",
    "\n",
    "    Sentences_list = sent_tokenize(text)\n",
    "    for txt in Sentences_list:\n",
    "        dict_n = {\n",
    "            'product' : product,\n",
    "            'date' : date,\n",
    "            'score' : score,\n",
    "            'user' : user,\n",
    "            'review' : txt\n",
    "        }\n",
    "        result.append(dict_n)\n",
    "\n",
    "df = pd.DataFrame(result)\n",
    "df.head()"
   ]
  },
  {
   "cell_type": "code",
   "execution_count": null,
   "metadata": {},
   "outputs": [],
   "source": []
  },
  {
   "cell_type": "markdown",
   "metadata": {},
   "source": [
    "# feature list"
   ]
  },
  {
   "cell_type": "code",
   "execution_count": 22,
   "metadata": {},
   "outputs": [],
   "source": [
    "import re\n",
    "def make_same_feature(text):\n",
    "    re.sub('resolution|pixel|megapixel', 'pixel', text)\n",
    "    re.sub('lens|wide\\sangle|normal\\srange', 'lens', text)\n",
    "    re.sub('optical|zoom|optical\\szoom|digital\\szoom', 'optical', text)\n",
    "    re.sub('memory|megabytes|MB', 'memory', text)\n",
    "    re.sub('burst|continuous|shutter|recovery|motion|sport', 'burst', text)\n",
    "    re.sub('battery|batteries|power', 'battery', text)\n",
    "    re.sub('focus|exposure|manual|iso', 'focus', text)\n",
    "    re.sub('LCD|screen', 'LCD', text)\n",
    "    re.sub('compression|compress|jpeg', 'compression', text)\n",
    "    re.sub('flash|light', 'flash', text)\n",
    "    return text"
   ]
  },
  {
   "cell_type": "code",
   "execution_count": null,
   "metadata": {},
   "outputs": [],
   "source": []
  }
 ],
 "metadata": {
  "kernelspec": {
   "display_name": "Python 3",
   "language": "python",
   "name": "python3"
  },
  "language_info": {
   "codemirror_mode": {
    "name": "ipython",
    "version": 3
   },
   "file_extension": ".py",
   "mimetype": "text/x-python",
   "name": "python",
   "nbconvert_exporter": "python",
   "pygments_lexer": "ipython3",
   "version": "3.7.3"
  }
 },
 "nbformat": 4,
 "nbformat_minor": 2
}
