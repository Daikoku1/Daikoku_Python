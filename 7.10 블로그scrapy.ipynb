{
 "cells": [
  {
   "cell_type": "code",
   "execution_count": 4,
   "metadata": {},
   "outputs": [],
   "source": [
    "import re\n",
    "import scrapy\n",
    "from datetime import timedelta, date\n",
    "from urllib import parse\n",
    "import time\n",
    "import random\n",
    "from time import sleep"
   ]
  },
  {
   "cell_type": "code",
   "execution_count": 11,
   "metadata": {},
   "outputs": [],
   "source": [
    "start_date = date(2018, 1, 1)\n",
    "end_date = date(2019, 6, 20)\n",
    "cnt_per_page = 10\n",
    "keyword = \"마라탕\"\n",
    "\n",
    "url_format = \"https://search.naver.com/search.naver?date_from={0}&date_option=8&date_to={0}&dup_remove=1&nso=so%3Add%2Cp%3Afrom{0}to{0}&post_blogurl=&post_blogurl_without=&query={1}&sm=tab_pge&srchby=all&st=date&where=post&start={2}\"\n",
    "\n",
    "class NaverblogSpider(scrapy.Spider):\n",
    "    def daterange(start_date, end_date):\n",
    "        for n in range(int ((end_date - start_date).days)):\n",
    "            yield start_date + timedelta(n)\n",
    "\n",
    "    name = 'naverblog'\n",
    "    allowed_domains = ['naver.com'] \n",
    "    start_urls = []\n",
    "    \n",
    "    for single_date in daterange(start_date, end_date):\n",
    "        start_urls.append(url_format.format(single_date.strftime(\"%Y%m%d\"), keyword, 1))\n",
    "\n",
    "    def parse(self, response):\n",
    "        for href in response.xpath(\"//ul[@class='type01']/li/dl/dt/a/@href\").extract() :\n",
    "            yield response.follow(href, self.parse_iframe)\n",
    "        \n",
    "        total_cnt = int(re.sub('[()전체건,]', '', response.xpath(\"//div[@class='section_head']/span/text()\").get().split('/')[1]))\n",
    "        query_str = parse.parse_qs(parse.urlsplit(response.url).query)\n",
    "        currpage = int(query_str['start'][0]) \n",
    "\n",
    "        startdate = query_str['date_from'][0]\n",
    "        print(\"=================== [\" + startdate + '] ' + str(currpage) + '/' + str(total_cnt) + \"===================\") \n",
    "        if currpage  < total_cnt : \n",
    "            yield response.follow(url_format.format(startdate, keyword, currpage+10)   , self.parse)\n",
    "\n",
    "    def parse_iframe(self, response):    \n",
    "        href = 'https://blog.naver.com' + response.xpath(\"//iframe/@src\").get()\n",
    "        yield response.follow(href, self.parse_details)\n",
    "\n",
    "    def parse_details(self, response):    \n",
    "        item = NewscrawlItem()\n",
    "        item['url'] = response.url\n",
    "        query_str = parse.parse_qs(parse.urlsplit(response.url).query)\n",
    "        item['author'] = query_str['blogId'][0]\n",
    "\n",
    "        \n",
    "        titlecontent = \"\"\n",
    "        title = \"\"\n",
    "\n",
    "        if 'blog.naver.com' in response.url :\n",
    "            title = str(response.xpath(\"//div[@class='se-module se-module-text se-title-text']/p/span/text()\").get())\n",
    "            item['date'] = response.xpath(\"//span[contains(@class, 'se_publishDate')]/text()\").get()\n",
    "            content = str(response.xpath(\"//div[@class='se-main-container']\").get())\n",
    "\n",
    "        if content == 'None' :\n",
    "            title = str(response.xpath(\"//div[contains(@class,'se_title')]//h3\").get())\n",
    "            item['date'] = response.xpath(\"//span[contains(@class, 'se_publishDate')]/text()\").get()\n",
    "            content = str(response.xpath(\"//div[contains(@class, 'sect_dsc')]\").get())\n",
    "\n",
    "        if content == 'None' :\n",
    "            title = str(response.xpath(\"//div[@class='htitle']/span/text()\").get())\n",
    "            item['date'] = response.xpath(\"//p[contains(@class,'_postAddDate')]/text()\").get()\n",
    "            content = str(response.xpath(\"//div[@id='postViewArea']/div\").get())\n",
    "\n",
    "        title = re.sub(' +', ' ', str(re.sub(re.compile('<.*?>'), ' ', title.replace('\"','')).replace('\\r\\n','').replace('\\n','').replace('\\t','').replace('\\u200b','').strip()))\n",
    "        content = re.sub(' +', ' ', str(re.sub(re.compile('<.*?>'), ' ', content.replace('\"','')).replace('\\r\\n','').replace('\\n','').replace('\\t','').replace('\\u200b','').strip()))\n",
    "        item['title'] = title \n",
    "        item['content'] = content  \n",
    "        yield item"
   ]
  },
  {
   "cell_type": "code",
   "execution_count": 9,
   "metadata": {},
   "outputs": [],
   "source": [
    "url = 'https://search.naver.com/search.naver?date_from=20190701&date_option=8&date_to=20190701&dup_remove=1&nso=p%3Afrom20190701to20190701&post_blogurl=&post_blogurl_without=&query=%ED%8A%B8%EB%9D%BC%EC%9B%83&sm=tab_pge&srchby=all&st=sim&where=post&start=11'\n",
    "query_str = parse.parse_qs(parse.urlsplit(url).query)"
   ]
  },
  {
   "cell_type": "code",
   "execution_count": 10,
   "metadata": {
    "scrolled": true
   },
   "outputs": [
    {
     "data": {
      "text/plain": [
       "{'date_from': ['20190701'],\n",
       " 'date_option': ['8'],\n",
       " 'date_to': ['20190701'],\n",
       " 'dup_remove': ['1'],\n",
       " 'nso': ['p:from20190701to20190701'],\n",
       " 'query': ['트라웃'],\n",
       " 'sm': ['tab_pge'],\n",
       " 'srchby': ['all'],\n",
       " 'st': ['sim'],\n",
       " 'where': ['post'],\n",
       " 'start': ['11']}"
      ]
     },
     "execution_count": 10,
     "metadata": {},
     "output_type": "execute_result"
    }
   ],
   "source": [
    "query_str"
   ]
  },
  {
   "cell_type": "code",
   "execution_count": 8,
   "metadata": {},
   "outputs": [
    {
     "name": "stdout",
     "output_type": "stream",
     "text": [
      "Help on function parse_qs in module urllib.parse:\n",
      "\n",
      "parse_qs(qs, keep_blank_values=False, strict_parsing=False, encoding='utf-8', errors='replace', max_num_fields=None)\n",
      "    Parse a query given as a string argument.\n",
      "    \n",
      "    Arguments:\n",
      "    \n",
      "    qs: percent-encoded query string to be parsed\n",
      "    \n",
      "    keep_blank_values: flag indicating whether blank values in\n",
      "        percent-encoded queries should be treated as blank strings.\n",
      "        A true value indicates that blanks should be retained as\n",
      "        blank strings.  The default false value indicates that\n",
      "        blank values are to be ignored and treated as if they were\n",
      "        not included.\n",
      "    \n",
      "    strict_parsing: flag indicating what to do with parsing errors.\n",
      "        If false (the default), errors are silently ignored.\n",
      "        If true, errors raise a ValueError exception.\n",
      "    \n",
      "    encoding and errors: specify how to decode percent-encoded sequences\n",
      "        into Unicode characters, as accepted by the bytes.decode() method.\n",
      "    \n",
      "    max_num_fields: int. If set, then throws a ValueError if there\n",
      "        are more than n fields read by parse_qsl().\n",
      "    \n",
      "    Returns a dictionary.\n",
      "\n"
     ]
    }
   ],
   "source": [
    "help(parse.parse_qs)"
   ]
  },
  {
   "cell_type": "code",
   "execution_count": 13,
   "metadata": {},
   "outputs": [
    {
     "name": "stdout",
     "output_type": "stream",
     "text": [
      "Help on function sub in module re:\n",
      "\n",
      "sub(pattern, repl, string, count=0, flags=0)\n",
      "    Return the string obtained by replacing the leftmost\n",
      "    non-overlapping occurrences of the pattern in string by the\n",
      "    replacement repl.  repl can be either a string or a callable;\n",
      "    if a string, backslash escapes in it are processed.  If it is\n",
      "    a callable, it's passed the Match object and must return\n",
      "    a replacement string to be used.\n",
      "\n"
     ]
    }
   ],
   "source": [
    "help(re.sub)"
   ]
  },
  {
   "cell_type": "code",
   "execution_count": null,
   "metadata": {},
   "outputs": [],
   "source": []
  }
 ],
 "metadata": {
  "kernelspec": {
   "display_name": "Python 3",
   "language": "python",
   "name": "python3"
  },
  "language_info": {
   "codemirror_mode": {
    "name": "ipython",
    "version": 3
   },
   "file_extension": ".py",
   "mimetype": "text/x-python",
   "name": "python",
   "nbconvert_exporter": "python",
   "pygments_lexer": "ipython3",
   "version": "3.7.3"
  }
 },
 "nbformat": 4,
 "nbformat_minor": 2
}
